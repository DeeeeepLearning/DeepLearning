{
 "cells": [
  {
   "cell_type": "code",
   "execution_count": 1,
   "id": "d3156ce7",
   "metadata": {},
   "outputs": [],
   "source": [
    "import pandas as pd\n",
    "import numpy as np\n",
    "import importlib\n",
    "import sys\n",
    "import matplotlib.pyplot as plt\n",
    "import tensorflow as tf\n",
    "from sklearn.model_selection import train_test_split\n",
    "\n",
    "importlib.import_module(\"data_load\")\n",
    "importlib.import_module(\"quat\")\n",
    "\n",
    "from data_load import make_quadruples"
   ]
  },
  {
   "cell_type": "code",
   "execution_count": 2,
   "id": "c200ff81",
   "metadata": {},
   "outputs": [],
   "source": [
    "def get_data(file_path):\n",
    "    \n",
    "    file = open(file_path, \"r\")\n",
    "\n",
    "    allText = file.read()\n",
    "\n",
    "    words = list(map(str, allText.split()))\n",
    "\n",
    "    matrice_height = int(len(words) / 30)\n",
    "    matrice = np.ones((matrice_height, 24))\n",
    "\n",
    "    emplacement = 20\n",
    "    iter1 = 0\n",
    "    for i in range(emplacement, int(len(words) / 30) + emplacement):\n",
    "        iter2 = 0\n",
    "        for j in range(emplacement + 6, emplacement + 30):\n",
    "            matrice[(iter1, iter2)] = words[j]\n",
    "            iter2 += 1\n",
    "        iter1 += 1\n",
    "        emplacement += 30\n",
    "    X_2 = np.delete(matrice, 1, 1)\n",
    "    X_final = np.delete(X_2, 10, 1)\n",
    "    \n",
    "    file.close()\n",
    "    \n",
    "    return X_final, matrice_height"
   ]
  },
  {
   "cell_type": "code",
   "execution_count": 3,
   "id": "d4914382",
   "metadata": {},
   "outputs": [],
   "source": [
    "def read_ctf(file_path):\n",
    "    \n",
    "    file2 = open(file_path, \"r\")\n",
    "    \n",
    "    allText2 = file2.read()\n",
    "    words2 = list(map(str, allText2.split()))\n",
    "    \n",
    "    nb_debut_donnees = 88\n",
    "    nb_mots = len(words2) - nb_debut_donnees\n",
    "    print(\"nb_mots = \" + str(nb_mots))\n",
    "    nb_mots_par_ligne = 11\n",
    "    \n",
    "    nb_ligne_matrice = int(nb_mots / nb_mots_par_ligne)\n",
    "    print(\"nb_ligne_matrice = \" + str(nb_ligne_matrice))\n",
    "    nb_colonne_matrice = 3\n",
    "    matrice = np.empty((nb_ligne_matrice, nb_colonne_matrice))\n",
    "    emplacement = 0\n",
    "    \n",
    "    print(\"Extraction des données à partir du fichier ....\")\n",
    "    for i in range(nb_debut_donnees, nb_mots + nb_debut_donnees, nb_mots_par_ligne):\n",
    "        matrice[(emplacement, 0)] = words2[i + 5]\n",
    "        matrice[(emplacement, 1)] = words2[i + 6]\n",
    "        matrice[(emplacement, 2)] = words2[i + 7]\n",
    "        emplacement += 1\n",
    "    print(\"ok !\")    \n",
    "    file2.close()\n",
    "    \n",
    "    return matrice, nb_ligne_matrice"
   ]
  },
  {
   "cell_type": "code",
   "execution_count": 4,
   "id": "4c2b959c",
   "metadata": {},
   "outputs": [],
   "source": [
    "file_in_path = r\"C_maps.txt\"\n",
    "\n",
    "X, height_in = get_data(file_in_path)"
   ]
  },
  {
   "cell_type": "code",
   "execution_count": 5,
   "id": "c2ca8b2a",
   "metadata": {},
   "outputs": [
    {
     "data": {
      "text/plain": [
       "(250000, 22)"
      ]
     },
     "execution_count": 5,
     "metadata": {},
     "output_type": "execute_result"
    }
   ],
   "source": [
    "X.shape"
   ]
  },
  {
   "cell_type": "code",
   "execution_count": 6,
   "id": "da81c414",
   "metadata": {},
   "outputs": [],
   "source": [
    "# X_t = X.T\n",
    "# X_t.shape"
   ]
  },
  {
   "cell_type": "code",
   "execution_count": 7,
   "id": "ac950687",
   "metadata": {},
   "outputs": [
    {
     "name": "stdout",
     "output_type": "stream",
     "text": [
      "nb_mots = 2750000\n",
      "nb_ligne_matrice = 250000\n",
      "Extraction des données à partir du fichier ....\n",
      "ok !\n"
     ]
    }
   ],
   "source": [
    "file_out_path = r\"exercise.ctf\"\n",
    "\n",
    "y, height_out = read_ctf(file_out_path)"
   ]
  },
  {
   "cell_type": "code",
   "execution_count": 8,
   "id": "cc563f2b",
   "metadata": {},
   "outputs": [],
   "source": [
    "def normalise(matrice):\n",
    "    \"\"\"\n",
    "    normalise les matrice de 3\n",
    "    \"\"\"\n",
    "    for x in matrice:\n",
    "        x[0] = (x[0] - 180) / 104\n",
    "        x[1] = (x[1] - 57.17) / 22\n",
    "        x[2] = (x[2] - 180) / 104\n",
    "        # print(x)\n",
    "    return matrice"
   ]
  },
  {
   "cell_type": "code",
   "execution_count": 9,
   "id": "af652199",
   "metadata": {},
   "outputs": [
    {
     "data": {
      "text/plain": [
       "array([[-0.21038462, -0.89231818,  0.68006731],\n",
       "       [ 1.32135577, -0.31286364, -0.141875  ],\n",
       "       [-0.993625  ,  0.90536364, -0.29908654],\n",
       "       ...,\n",
       "       [-1.54265385, -0.80277273,  0.53752885],\n",
       "       [-1.39299038, -0.96763636, -1.07438462],\n",
       "       [ 0.85533654,  1.27972727, -1.03386538]])"
      ]
     },
     "execution_count": 9,
     "metadata": {},
     "output_type": "execute_result"
    }
   ],
   "source": [
    "y_n = normalise(y)\n",
    "y_n"
   ]
  },
  {
   "cell_type": "code",
   "execution_count": 10,
   "id": "48f8697f",
   "metadata": {},
   "outputs": [
    {
     "data": {
      "text/plain": [
       "(250000, 3)"
      ]
     },
     "execution_count": 10,
     "metadata": {},
     "output_type": "execute_result"
    }
   ],
   "source": [
    "# y_n_t = y_n.T\n",
    "# y_n_t.shape\n",
    "y_n.shape"
   ]
  },
  {
   "cell_type": "code",
   "execution_count": 11,
   "id": "ebc76f8a",
   "metadata": {},
   "outputs": [],
   "source": [
    "X_final = X\n",
    "y_final = y_n"
   ]
  },
  {
   "cell_type": "code",
   "execution_count": 12,
   "id": "e61eec72",
   "metadata": {},
   "outputs": [
    {
     "data": {
      "image/png": "[encoded data removed]",
      "text/plain": [
       "<Figure size 432x288 with 1 Axes>"
      ]
     },
     "metadata": {
      "needs_background": "light"
     },
     "output_type": "display_data"
    }
   ],
   "source": [
    "# n = 100000\n",
    "# sym = 3\n",
    "# data, miso = make_quadruples(n, sym)\n",
    "plt.hist(y_final)\n",
    "plt.show()"
   ]
  },
  {
   "cell_type": "raw",
   "id": "69fa5dd2",
   "metadata": {},
   "source": [
    "data.shape"
   ]
  },
  {
   "cell_type": "raw",
   "id": "dd8f01a4",
   "metadata": {},
   "source": [
    "miso"
   ]
  },
  {
   "cell_type": "code",
   "execution_count": 13,
   "id": "1bda942c",
   "metadata": {},
   "outputs": [],
   "source": [
    "X_train, X_test, y_train, y_test = train_test_split(X_final, y_final, test_size=0.2, random_state=1)\n",
    "# X_train = reshape_set(X_train)\n",
    "# X_test = reshape_set(X_test)"
   ]
  },
  {
   "cell_type": "code",
   "execution_count": 56,
   "id": "064d5fd7",
   "metadata": {},
   "outputs": [],
   "source": [
    "model = tf.keras.Sequential()\n",
    "model.add(tf.keras.layers.Dense(32, input_shape=(22,)))\n",
    "model.add(tf.keras.layers.Activation(\"relu\"))\n",
    "model.add(tf.keras.layers.Dense(14))\n",
    "model.add(tf.keras.layers.Activation(\"relu\"))\n",
    "model.add(tf.keras.layers.Dense(7))\n",
    "model.add(tf.keras.layers.Activation(\"relu\"))\n",
    "model.add(tf.keras.layers.Dense(3))\n",
    "# model.add(tf.keras.layers.Activation(\"sigmoid\"))"
   ]
  },
  {
   "cell_type": "markdown",
   "id": "61811b69",
   "metadata": {},
   "source": [
    "model = tf.keras.Sequential([\n",
    "    tf.keras.layers.Dense(32, input_shape=(22,),\n",
    "    tf.keras.layers.Activation(\"relu\"),\n",
    "    tf.keras.layers.Dense(16),\n",
    "    tf.keras.layers.Activation(\"relu\"),\n",
    "    tf.keras.layers.Dense(8),\n",
    "    tf.keras.layers.Activation(\"relu\"),\n",
    "    tf.keras.layers.Dense(4),\n",
    "    tf.keras.layers.Activation(\"relu\"),\n",
    "    tf.keras.layers.Dense(3),\n",
    "    tf.keras.layers.Activation(\"sigmoid\")])"
   ]
  },
  {
   "cell_type": "code",
   "execution_count": 57,
   "id": "e8a8b091",
   "metadata": {},
   "outputs": [],
   "source": [
    "opti = tf.keras.optimizers.Adam(learning_rate=0.05)  # sgd(0.01, momentum=0.9)"
   ]
  },
  {
   "cell_type": "code",
   "execution_count": 58,
   "id": "33fbcbe3",
   "metadata": {},
   "outputs": [],
   "source": [
    "model.compile(\n",
    "    optimizer=opti,\n",
    "    loss=\"mse\", # mse\n",
    "    metrics=[tf.keras.metrics.MeanAbsoluteError()]\n",
    ")"
   ]
  },
  {
   "cell_type": "code",
   "execution_count": null,
   "id": "d5906257",
   "metadata": {},
   "outputs": [
    {
     "name": "stdout",
     "output_type": "stream",
     "text": [
      "Epoch 1/20\n",
      "6250/6250 [==============================] - 6s 924us/step - loss: 0.9891 - mean_absolute_error: 0.8530 - val_loss: 0.9889 - val_mean_absolute_error: 0.8506\n",
      "Epoch 2/20\n",
      "6250/6250 [==============================] - 6s 921us/step - loss: 0.9889 - mean_absolute_error: 0.8530 - val_loss: 0.9868 - val_mean_absolute_error: 0.8529\n",
      "Epoch 3/20\n",
      "6250/6250 [==============================] - 6s 923us/step - loss: 0.9890 - mean_absolute_error: 0.8530 - val_loss: 0.9932 - val_mean_absolute_error: 0.8523\n",
      "Epoch 4/20\n",
      "6250/6250 [==============================] - 6s 922us/step - loss: 0.9891 - mean_absolute_error: 0.8529 - val_loss: 0.9869 - val_mean_absolute_error: 0.8521\n",
      "Epoch 5/20\n",
      "6250/6250 [==============================] - 6s 926us/step - loss: 0.9889 - mean_absolute_error: 0.8529 - val_loss: 0.9868 - val_mean_absolute_error: 0.8533\n",
      "Epoch 6/20\n",
      "6250/6250 [==============================] - 6s 920us/step - loss: 0.9888 - mean_absolute_error: 0.8529 - val_loss: 0.9871 - val_mean_absolute_error: 0.8505\n",
      "Epoch 7/20\n",
      "6250/6250 [==============================] - 6s 928us/step - loss: 0.9889 - mean_absolute_error: 0.8529 - val_loss: 0.9894 - val_mean_absolute_error: 0.8516\n",
      "Epoch 8/20\n",
      "6250/6250 [==============================] - 6s 926us/step - loss: 0.9887 - mean_absolute_error: 0.8529 - val_loss: 0.9896 - val_mean_absolute_error: 0.8513\n",
      "Epoch 9/20\n",
      "6250/6250 [==============================] - 6s 931us/step - loss: 0.9889 - mean_absolute_error: 0.8530 - val_loss: 0.9865 - val_mean_absolute_error: 0.8514\n",
      "Epoch 10/20\n",
      "6250/6250 [==============================] - 6s 926us/step - loss: 0.9889 - mean_absolute_error: 0.8530 - val_loss: 0.9854 - val_mean_absolute_error: 0.8527\n",
      "Epoch 11/20\n",
      "6250/6250 [==============================] - 6s 925us/step - loss: 0.9890 - mean_absolute_error: 0.8529 - val_loss: 0.9909 - val_mean_absolute_error: 0.8525\n",
      "Epoch 12/20\n",
      "6250/6250 [==============================] - 6s 946us/step - loss: 0.9887 - mean_absolute_error: 0.8529 - val_loss: 0.9864 - val_mean_absolute_error: 0.8517\n",
      "Epoch 13/20\n",
      "6250/6250 [==============================] - 6s 954us/step - loss: 0.9890 - mean_absolute_error: 0.8530 - val_loss: 0.9853 - val_mean_absolute_error: 0.8524\n",
      "Epoch 14/20\n",
      "6250/6250 [==============================] - 6s 950us/step - loss: 0.9889 - mean_absolute_error: 0.8530 - val_loss: 0.9850 - val_mean_absolute_error: 0.8514\n",
      "Epoch 15/20\n",
      "6250/6250 [==============================] - 6s 950us/step - loss: 0.9889 - mean_absolute_error: 0.8529 - val_loss: 0.9874 - val_mean_absolute_error: 0.8519\n",
      "Epoch 16/20\n",
      "6250/6250 [==============================] - 6s 927us/step - loss: 0.9892 - mean_absolute_error: 0.8531 - val_loss: 0.9876 - val_mean_absolute_error: 0.8504\n",
      "Epoch 17/20\n",
      "6250/6250 [==============================] - 6s 896us/step - loss: 0.9886 - mean_absolute_error: 0.8528 - val_loss: 0.9905 - val_mean_absolute_error: 0.8560\n",
      "Epoch 18/20\n",
      "6250/6250 [==============================] - 6s 946us/step - loss: 0.9888 - mean_absolute_error: 0.8529 - val_loss: 0.9883 - val_mean_absolute_error: 0.8504\n",
      "Epoch 19/20\n",
      "6193/6250 [============================>.] - ETA: 0s - loss: 0.9887 - mean_absolute_error: 0.8529"
     ]
    }
   ],
   "source": [
    "# model = keras.models.load_model('disangle_sym_5.h5')\n",
    "\n",
    "history = model.fit(x=X_train, y=y_train, epochs=20, batch_size=32, validation_data=(X_test, y_test))\n",
    "\n",
    "# model.save(\"disangle_sym_\" + str(sym) + \".h5\")\n",
    "\n"
   ]
  },
  {
   "cell_type": "code",
   "execution_count": null,
   "id": "d455f920",
   "metadata": {},
   "outputs": [],
   "source": [
    "history_df = pd.DataFrame(history.history)\n",
    "history_df.loc[:, ['loss', 'val_loss']].plot()\n",
    "print(\"Minimum Validation Loss: {:0.4f}\".format(history_df['val_loss'].min()));\n",
    "\n",
    "# model = tf.keras.models.load_model(\"disangle_sym_5.h5\")\n",
    "\n",
    "\n",
    "# data, miso = make_quadruples(2000, sym)\n",
    "y_predict = model.predict(y_final)\n",
    "\n",
    "# miso = 2*np.arccos(miso)*180/np.pi\n",
    "# y_predict = 2*np.arccos(y_predict)*180/np.pi\n",
    "plt.scatter(X, y_predict)\n",
    "plt.show()\n"
   ]
  },
  {
   "cell_type": "code",
   "execution_count": null,
   "id": "3b1e985e",
   "metadata": {},
   "outputs": [],
   "source": []
  }
 ],
 "metadata": {
  "kernelspec": {
   "display_name": "Python 3 (ipykernel)",
   "language": "python",
   "name": "python3"
  },
  "language_info": {
   "codemirror_mode": {
    "name": "ipython",
    "version": 3
   },
   "file_extension": ".py",
   "mimetype": "text/x-python",
   "name": "python",
   "nbconvert_exporter": "python",
   "pygments_lexer": "ipython3",
   "version": "3.9.7"
  }
 },
 "nbformat": 4,
 "nbformat_minor": 5
}
