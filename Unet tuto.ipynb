{
 "cells": [
  {
   "cell_type": "code",
   "execution_count": 21,
   "id": "c4a43672",
   "metadata": {
    "pycharm": {
     "is_executing": true,
     "name": "#%%\n"
    }
   },
   "outputs": [
    {
     "name": "stdout",
     "output_type": "stream",
     "text": [
      "version tensorflow : 2.3.0\n"
     ]
    }
   ],
   "source": [
    "import tensorflow as tf\n",
    "print(\"version tensorflow : \"+tf.__version__)\n",
    "from tensorflow import keras"
   ]
  },
  {
   "cell_type": "code",
   "execution_count": 22,
   "id": "3ef728dd",
   "metadata": {
    "pycharm": {
     "name": "#%%\n"
    }
   },
   "outputs": [],
   "source": [
    "import os\n",
    "import random\n",
    "import numpy as np\n",
    "from tqdm import tqdm\n",
    "from skimage import io\n",
    "from skimage.transform import resize\n",
    "import matplotlib.pyplot as plt\n",
    "import random\n",
    "import time\n",
    "from sklearn.model_selection import train_test_split"
   ]
  },
  {
   "cell_type": "code",
   "execution_count": 23,
   "id": "4b70e19c",
   "metadata": {
    "pycharm": {
     "name": "#%%\n"
    }
   },
   "outputs": [],
   "source": [
    "seed = 42\n",
    "np.random.seed = seed\n",
    "\n",
    "IMG_WIDTH = 160\n",
    "IMG_HEIGHT = 160\n",
    "IMG_CHANNEL = 22"
   ]
  },
  {
   "cell_type": "code",
   "execution_count": 24,
   "id": "7fb3253f",
   "metadata": {
    "pycharm": {
     "name": "#%%\n"
    }
   },
   "outputs": [],
   "source": [
    "def get_data(file_path):\n",
    "    \n",
    "    file = open(file_path, \"r\")\n",
    "\n",
    "    allText = file.read()\n",
    "\n",
    "    words = list(map(str, allText.split()))\n",
    "\n",
    "    matrice_height = int(len(words) / 30)\n",
    "    matrice = np.ones((matrice_height, 24))\n",
    "\n",
    "    emplacement = 20\n",
    "    iter1 = 0\n",
    "    for i in range(emplacement, int(len(words) / 30) + emplacement):\n",
    "        iter2 = 0\n",
    "        for j in range(emplacement + 6, emplacement + 30):\n",
    "            matrice[(iter1, iter2)] = words[j]\n",
    "            iter2 += 1\n",
    "        iter1 += 1\n",
    "        emplacement += 30\n",
    "    X_2 = np.delete(matrice, 1, 1)\n",
    "    X_final = np.delete(X_2, 10, 1)\n",
    "    \n",
    "    file.close()\n",
    "    \n",
    "    return X_final"
   ]
  },
  {
   "cell_type": "code",
   "execution_count": 25,
   "id": "b65eb335",
   "metadata": {
    "pycharm": {
     "name": "#%%\n"
    }
   },
   "outputs": [],
   "source": [
    "file_in_path = \"datas/C_maps_in.txt\"\n",
    "file_out_path = \"datas/C_maps_out.txt\"\n",
    "\n",
    "X = get_data(file_in_path)\n",
    "y = get_data(file_out_path)"
   ]
  },
  {
   "cell_type": "code",
   "execution_count": 26,
   "id": "0599d516",
   "metadata": {
    "pycharm": {
     "name": "#%%\n"
    }
   },
   "outputs": [
    {
     "data": {
      "text/plain": [
       "(400198, 22)"
      ]
     },
     "execution_count": 26,
     "metadata": {},
     "output_type": "execute_result"
    }
   ],
   "source": [
    "X.shape"
   ]
  },
  {
   "cell_type": "code",
   "execution_count": 27,
   "id": "9e9feb90",
   "metadata": {
    "pycharm": {
     "name": "#%%\n"
    }
   },
   "outputs": [],
   "source": [
    "X = X.reshape((1, 499, 802, 22))"
   ]
  },
  {
   "cell_type": "code",
   "execution_count": 28,
   "id": "49d95851",
   "metadata": {
    "pycharm": {
     "name": "#%%\n"
    }
   },
   "outputs": [
    {
     "data": {
      "text/plain": [
       "(1, 499, 802, 22)"
      ]
     },
     "execution_count": 28,
     "metadata": {},
     "output_type": "execute_result"
    }
   ],
   "source": [
    "X.shape"
   ]
  },
  {
   "cell_type": "code",
   "execution_count": 29,
   "id": "2f609151",
   "metadata": {
    "pycharm": {
     "name": "#%%\n"
    }
   },
   "outputs": [],
   "source": [
    "y = y.reshape((1, 499, 802, 22))"
   ]
  },
  {
   "cell_type": "code",
   "execution_count": 30,
   "id": "990ba830",
   "metadata": {
    "pycharm": {
     "name": "#%%\n"
    }
   },
   "outputs": [
    {
     "data": {
      "text/plain": [
       "(1, 499, 802, 22)"
      ]
     },
     "execution_count": 30,
     "metadata": {},
     "output_type": "execute_result"
    }
   ],
   "source": [
    "y.shape"
   ]
  },
  {
   "cell_type": "code",
   "execution_count": 31,
   "id": "1ebf41d0",
   "metadata": {
    "pycharm": {
     "name": "#%%\n"
    }
   },
   "outputs": [
    {
     "data": {
      "text/plain": [
       "(1, 499, 802, 22)"
      ]
     },
     "execution_count": 31,
     "metadata": {},
     "output_type": "execute_result"
    }
   ],
   "source": [
    "y.shape"
   ]
  },
  {
   "cell_type": "code",
   "execution_count": 32,
   "id": "c71a4c4c",
   "metadata": {
    "pycharm": {
     "name": "#%%\n"
    }
   },
   "outputs": [],
   "source": [
    "X1 = X[:, :160, :160, :]\n",
    "X2 = X[:, :160, 160:320, :]\n",
    "X3 = X[:, :160, 320:480, :]\n",
    "X4 = X[:, :160, 480:640, :]\n",
    "X5 = X[:, :160, 640:800, :]\n",
    "\n",
    "X6 = X[:, 160:320, :160, :]\n",
    "X7 = X[:, 160:320, 160:320, :]\n",
    "X8 = X[:, 160:320, 320:480, :]\n",
    "X9 = X[:, 160:320, 480:640, :]\n",
    "X10 = X[:, 160:320, 640:800, :]\n",
    "\n",
    "X11 = X[:, 320:480, :160, :]\n",
    "X12 = X[:, 320:480, 160:320, :]\n",
    "X13 = X[:, 320:480, 320:480, :]\n",
    "X14 = X[:, 320:480, 480:640, :]\n",
    "X15 = X[:, 320:480, 640:800, :]\n",
    "\n",
    "#===============================\n",
    "y1 = y[:, :160, :160, :]\n",
    "y2 = y[:, :160, 160:320, :]\n",
    "y3 = y[:, :160, 320:480, :]\n",
    "y4 = y[:, :160, 480:640, :]\n",
    "y5 = y[:, :160, 640:800, :]\n",
    "\n",
    "y6 = y[:, 160:320, :160, :]\n",
    "y7 = y[:, 160:320, 160:320, :]\n",
    "y8 = y[:, 160:320, 320:480, :]\n",
    "y9 = y[:, 160:320, 480:640, :]\n",
    "y10 = y[:, 160:320, 640:800, :]\n",
    "\n",
    "y11 = y[:, 320:480, :160, :]\n",
    "y12 = y[:, 320:480, 160:320, :]\n",
    "y13 = y[:, 320:480, 320:480, :]\n",
    "y14 = y[:, 320:480, 480:640, :]\n",
    "y15 = y[:, 320:480, 640:800, :]"
   ]
  },
  {
   "cell_type": "code",
   "execution_count": 33,
   "id": "ac6a5b36",
   "metadata": {
    "pycharm": {
     "name": "#%%\n"
    }
   },
   "outputs": [
    {
     "name": "stdout",
     "output_type": "stream",
     "text": [
      "(1, 160, 160, 22)\n"
     ]
    }
   ],
   "source": [
    "print(X1.shape)"
   ]
  },
  {
   "cell_type": "code",
   "execution_count": 34,
   "id": "452f7524",
   "metadata": {
    "pycharm": {
     "name": "#%%\n"
    }
   },
   "outputs": [],
   "source": [
    "new_X = np.concatenate((X1, X2), axis=0)\n",
    "new_Y = np.concatenate((y1, y2), axis=0)\n",
    "new_X = np.concatenate((new_X, X3), axis=0)\n",
    "new_Y = np.concatenate((new_Y, y3), axis=0)\n",
    "new_X = np.concatenate((new_X, X4), axis=0)\n",
    "new_Y = np.concatenate((new_Y, y4), axis=0)\n",
    "new_X = np.concatenate((new_X, X5), axis=0)\n",
    "new_Y = np.concatenate((new_Y, y5), axis=0)\n",
    "new_X = np.concatenate((new_X, X6), axis=0)\n",
    "new_Y = np.concatenate((new_Y, y6), axis=0)\n",
    "new_X = np.concatenate((new_X, X7), axis=0)\n",
    "new_Y = np.concatenate((new_Y, y7), axis=0)\n",
    "new_X = np.concatenate((new_X, X8), axis=0)\n",
    "new_Y = np.concatenate((new_Y, y8), axis=0)\n",
    "new_X = np.concatenate((new_X, X9), axis=0)\n",
    "new_Y = np.concatenate((new_Y, y9), axis=0)\n",
    "new_X = np.concatenate((new_X, X10), axis=0)\n",
    "new_Y = np.concatenate((new_Y, y10), axis=0)\n",
    "new_X = np.concatenate((new_X, X11), axis=0)\n",
    "new_Y = np.concatenate((new_Y, y11), axis=0)\n",
    "new_X = np.concatenate((new_X, X12), axis=0)\n",
    "new_Y = np.concatenate((new_Y, y12), axis=0)\n",
    "new_X = np.concatenate((new_X, X13), axis=0)\n",
    "new_Y = np.concatenate((new_Y, y13), axis=0)\n",
    "new_X = np.concatenate((new_X, X14), axis=0)\n",
    "new_Y = np.concatenate((new_Y, y14), axis=0)\n",
    "new_X = np.concatenate((new_X, X15), axis=0)\n",
    "new_Y = np.concatenate((new_Y, y15), axis=0)"
   ]
  },
  {
   "cell_type": "code",
   "execution_count": 35,
   "id": "0979381e",
   "metadata": {
    "pycharm": {
     "name": "#%%\n"
    }
   },
   "outputs": [
    {
     "data": {
      "text/plain": [
       "(15, 160, 160, 22)"
      ]
     },
     "execution_count": 35,
     "metadata": {},
     "output_type": "execute_result"
    }
   ],
   "source": [
    "new_X.shape"
   ]
  },
  {
   "cell_type": "markdown",
   "id": "9873e4a8",
   "metadata": {
    "pycharm": {
     "name": "#%% md\n"
    }
   },
   "source": [
    "séparer en 12 l'image, 166x200, 802"
   ]
  },
  {
   "cell_type": "code",
   "execution_count": 37,
   "id": "70a5a08b",
   "metadata": {
    "pycharm": {
     "name": "#%%\n"
    }
   },
   "outputs": [],
   "source": [
    "inputs = keras.layers.Input((IMG_WIDTH, IMG_HEIGHT, IMG_CHANNEL))"
   ]
  },
  {
   "cell_type": "code",
   "execution_count": 38,
   "id": "0d9bc299",
   "metadata": {
    "pycharm": {
     "name": "#%%\n"
    }
   },
   "outputs": [],
   "source": [
    "# Contraction path\n",
    "c1 = tf.keras.layers.Conv2D(32, (3, 3), activation=\"relu\", kernel_initializer=\"he_normal\", padding=\"same\")(inputs)\n",
    "c1 = tf.keras.layers.Dropout(0.1)(c1)\n",
    "c1 = tf.keras.layers.Conv2D(32, (3, 3), activation=\"relu\", kernel_initializer=\"he_normal\", padding=\"same\")(c1)\n",
    "p1 = tf.keras.layers.MaxPooling2D((2, 2))(c1)\n",
    "\n",
    "c2 = tf.keras.layers.Conv2D(64, (3, 3), activation=\"relu\", kernel_initializer=\"he_normal\", padding=\"same\")(p1)\n",
    "c2 = tf.keras.layers.Dropout(0.1)(c2)\n",
    "c2 = tf.keras.layers.Conv2D(64, (3, 3), activation=\"relu\", kernel_initializer=\"he_normal\", padding=\"same\")(c2)\n",
    "p2 = tf.keras.layers.MaxPooling2D((2, 2))(c2)\n",
    "\n",
    "c3 = tf.keras.layers.Conv2D(128, (3, 3), activation=\"relu\", kernel_initializer=\"he_normal\", padding=\"same\")(p2)\n",
    "c3 = tf.keras.layers.Dropout(0.2)(c3)\n",
    "c3 = tf.keras.layers.Conv2D(128, (3, 3), activation=\"relu\", kernel_initializer=\"he_normal\", padding=\"same\")(c3)\n",
    "p3 = tf.keras.layers.MaxPooling2D((2, 2))(c3)\n",
    "\n",
    "c4 = tf.keras.layers.Conv2D(256, (3, 3), activation=\"relu\", kernel_initializer=\"he_normal\", padding=\"same\")(p3)\n",
    "c4 = tf.keras.layers.Dropout(0.2)(c4)\n",
    "c4 = tf.keras.layers.Conv2D(256, (3, 3), activation=\"relu\", kernel_initializer=\"he_normal\", padding=\"same\")(c4)\n",
    "p4 = tf.keras.layers.MaxPooling2D((2, 2))(c4)\n",
    "\n",
    "c5 = tf.keras.layers.Conv2D(512, (3, 3), activation=\"relu\", kernel_initializer=\"he_normal\", padding=\"same\")(p4)\n",
    "c5 = tf.keras.layers.Dropout(0.3)(c5)\n",
    "c5 = tf.keras.layers.Conv2D(512, (3, 3), activation=\"relu\", kernel_initializer=\"he_normal\", padding=\"same\")(c5)\n"
   ]
  },
  {
   "cell_type": "code",
   "execution_count": 39,
   "id": "2c9af25a",
   "metadata": {
    "pycharm": {
     "name": "#%%\n"
    }
   },
   "outputs": [
    {
     "name": "stdout",
     "output_type": "stream",
     "text": [
      "Model: \"functional_1\"\n",
      "__________________________________________________________________________________________________\n",
      "Layer (type)                    Output Shape         Param #     Connected to                     \n",
      "==================================================================================================\n",
      "input_2 (InputLayer)            [(None, 160, 160, 22 0                                            \n",
      "__________________________________________________________________________________________________\n",
      "conv2d (Conv2D)                 (None, 160, 160, 32) 6368        input_2[0][0]                    \n",
      "__________________________________________________________________________________________________\n",
      "dropout (Dropout)               (None, 160, 160, 32) 0           conv2d[0][0]                     \n",
      "__________________________________________________________________________________________________\n",
      "conv2d_1 (Conv2D)               (None, 160, 160, 32) 9248        dropout[0][0]                    \n",
      "__________________________________________________________________________________________________\n",
      "max_pooling2d (MaxPooling2D)    (None, 80, 80, 32)   0           conv2d_1[0][0]                   \n",
      "__________________________________________________________________________________________________\n",
      "conv2d_2 (Conv2D)               (None, 80, 80, 64)   18496       max_pooling2d[0][0]              \n",
      "__________________________________________________________________________________________________\n",
      "dropout_1 (Dropout)             (None, 80, 80, 64)   0           conv2d_2[0][0]                   \n",
      "__________________________________________________________________________________________________\n",
      "conv2d_3 (Conv2D)               (None, 80, 80, 64)   36928       dropout_1[0][0]                  \n",
      "__________________________________________________________________________________________________\n",
      "max_pooling2d_1 (MaxPooling2D)  (None, 40, 40, 64)   0           conv2d_3[0][0]                   \n",
      "__________________________________________________________________________________________________\n",
      "conv2d_4 (Conv2D)               (None, 40, 40, 128)  73856       max_pooling2d_1[0][0]            \n",
      "__________________________________________________________________________________________________\n",
      "dropout_2 (Dropout)             (None, 40, 40, 128)  0           conv2d_4[0][0]                   \n",
      "__________________________________________________________________________________________________\n",
      "conv2d_5 (Conv2D)               (None, 40, 40, 128)  147584      dropout_2[0][0]                  \n",
      "__________________________________________________________________________________________________\n",
      "max_pooling2d_2 (MaxPooling2D)  (None, 20, 20, 128)  0           conv2d_5[0][0]                   \n",
      "__________________________________________________________________________________________________\n",
      "conv2d_6 (Conv2D)               (None, 20, 20, 256)  295168      max_pooling2d_2[0][0]            \n",
      "__________________________________________________________________________________________________\n",
      "dropout_3 (Dropout)             (None, 20, 20, 256)  0           conv2d_6[0][0]                   \n",
      "__________________________________________________________________________________________________\n",
      "conv2d_7 (Conv2D)               (None, 20, 20, 256)  590080      dropout_3[0][0]                  \n",
      "__________________________________________________________________________________________________\n",
      "max_pooling2d_3 (MaxPooling2D)  (None, 10, 10, 256)  0           conv2d_7[0][0]                   \n",
      "__________________________________________________________________________________________________\n",
      "conv2d_8 (Conv2D)               (None, 10, 10, 512)  1180160     max_pooling2d_3[0][0]            \n",
      "__________________________________________________________________________________________________\n",
      "dropout_4 (Dropout)             (None, 10, 10, 512)  0           conv2d_8[0][0]                   \n",
      "__________________________________________________________________________________________________\n",
      "conv2d_9 (Conv2D)               (None, 10, 10, 512)  2359808     dropout_4[0][0]                  \n",
      "__________________________________________________________________________________________________\n",
      "conv2d_transpose (Conv2DTranspo (None, 20, 20, 256)  524544      conv2d_9[0][0]                   \n",
      "__________________________________________________________________________________________________\n",
      "concatenate (Concatenate)       (None, 20, 20, 512)  0           conv2d_transpose[0][0]           \n",
      "                                                                 conv2d_7[0][0]                   \n",
      "__________________________________________________________________________________________________\n",
      "conv2d_10 (Conv2D)              (None, 20, 20, 256)  1179904     concatenate[0][0]                \n",
      "__________________________________________________________________________________________________\n",
      "dropout_5 (Dropout)             (None, 20, 20, 256)  0           conv2d_10[0][0]                  \n",
      "__________________________________________________________________________________________________\n",
      "conv2d_11 (Conv2D)              (None, 20, 20, 256)  590080      dropout_5[0][0]                  \n",
      "__________________________________________________________________________________________________\n",
      "conv2d_transpose_1 (Conv2DTrans (None, 40, 40, 128)  131200      conv2d_11[0][0]                  \n",
      "__________________________________________________________________________________________________\n",
      "concatenate_1 (Concatenate)     (None, 40, 40, 256)  0           conv2d_transpose_1[0][0]         \n",
      "                                                                 conv2d_5[0][0]                   \n",
      "__________________________________________________________________________________________________\n",
      "conv2d_12 (Conv2D)              (None, 40, 40, 128)  295040      concatenate_1[0][0]              \n",
      "__________________________________________________________________________________________________\n",
      "dropout_6 (Dropout)             (None, 40, 40, 128)  0           conv2d_12[0][0]                  \n",
      "__________________________________________________________________________________________________\n",
      "conv2d_13 (Conv2D)              (None, 40, 40, 128)  147584      dropout_6[0][0]                  \n",
      "__________________________________________________________________________________________________\n",
      "conv2d_transpose_2 (Conv2DTrans (None, 80, 80, 64)   32832       conv2d_13[0][0]                  \n",
      "__________________________________________________________________________________________________\n",
      "concatenate_2 (Concatenate)     (None, 80, 80, 128)  0           conv2d_transpose_2[0][0]         \n",
      "                                                                 conv2d_3[0][0]                   \n",
      "__________________________________________________________________________________________________\n",
      "conv2d_14 (Conv2D)              (None, 80, 80, 64)   73792       concatenate_2[0][0]              \n",
      "__________________________________________________________________________________________________\n",
      "dropout_7 (Dropout)             (None, 80, 80, 64)   0           conv2d_14[0][0]                  \n",
      "__________________________________________________________________________________________________\n",
      "conv2d_15 (Conv2D)              (None, 80, 80, 64)   36928       dropout_7[0][0]                  \n",
      "__________________________________________________________________________________________________\n",
      "conv2d_transpose_3 (Conv2DTrans (None, 160, 160, 32) 8224        conv2d_15[0][0]                  \n",
      "__________________________________________________________________________________________________\n",
      "concatenate_3 (Concatenate)     (None, 160, 160, 64) 0           conv2d_transpose_3[0][0]         \n",
      "                                                                 conv2d_1[0][0]                   \n",
      "__________________________________________________________________________________________________\n",
      "conv2d_16 (Conv2D)              (None, 160, 160, 32) 18464       concatenate_3[0][0]              \n",
      "__________________________________________________________________________________________________\n",
      "dropout_8 (Dropout)             (None, 160, 160, 32) 0           conv2d_16[0][0]                  \n",
      "__________________________________________________________________________________________________\n",
      "conv2d_17 (Conv2D)              (None, 160, 160, 32) 9248        dropout_8[0][0]                  \n",
      "__________________________________________________________________________________________________\n",
      "conv2d_18 (Conv2D)              (None, 160, 160, 22) 726         conv2d_17[0][0]                  \n",
      "==================================================================================================\n",
      "Total params: 7,766,262\n",
      "Trainable params: 7,766,262\n",
      "Non-trainable params: 0\n",
      "__________________________________________________________________________________________________\n"
     ]
    }
   ],
   "source": [
    "# Expansive path\n",
    "u6 = tf.keras.layers.Conv2DTranspose(256, (2, 2), strides=(2, 2), padding=\"same\")(c5)\n",
    "u6 = tf.keras.layers.concatenate([u6, c4])\n",
    "c6 = tf.keras.layers.Conv2D(256, (3, 3), activation=\"relu\", kernel_initializer=\"he_normal\", padding=\"same\")(u6)\n",
    "c6 = tf.keras.layers.Dropout(0.2)(c6)\n",
    "c6 = tf.keras.layers.Conv2D(256, (3, 3), activation=\"relu\", kernel_initializer=\"he_normal\", padding=\"same\")(c6)\n",
    "\n",
    "u7 = tf.keras.layers.Conv2DTranspose(128, (2, 2), strides=(2, 2), padding=\"same\")(c6)\n",
    "u7 = tf.keras.layers.concatenate([u7, c3])\n",
    "c7 = tf.keras.layers.Conv2D(128, (3, 3), activation=\"relu\", kernel_initializer=\"he_normal\", padding=\"same\")(u7)\n",
    "c7 = tf.keras.layers.Dropout(0.2)(c7)\n",
    "c7 = tf.keras.layers.Conv2D(128, (3, 3), activation=\"relu\", kernel_initializer=\"he_normal\", padding=\"same\")(c7)\n",
    "\n",
    "u8 = tf.keras.layers.Conv2DTranspose(64, (2, 2), strides=(2, 2), padding=\"same\")(c7)\n",
    "u8 = tf.keras.layers.concatenate([u8, c2])\n",
    "c8 = tf.keras.layers.Conv2D(64, (3, 3), activation=\"relu\", kernel_initializer=\"he_normal\", padding=\"same\")(u8)\n",
    "c8 = tf.keras.layers.Dropout(0.1)(c8)\n",
    "c8 = tf.keras.layers.Conv2D(64, (3, 3), activation=\"relu\", kernel_initializer=\"he_normal\", padding=\"same\")(c8)\n",
    "\n",
    "u9 = tf.keras.layers.Conv2DTranspose(32, (2, 2), strides=(2, 2), padding=\"same\")(c8)\n",
    "u9 = tf.keras.layers.concatenate([u9, c1], axis=3)\n",
    "c9 = tf.keras.layers.Conv2D(32, (3, 3), activation=\"relu\", kernel_initializer=\"he_normal\", padding=\"same\")(u9)\n",
    "c9 = tf.keras.layers.Dropout(0.1)(c9)\n",
    "c9 = tf.keras.layers.Conv2D(32, (3, 3), activation=\"relu\", kernel_initializer=\"he_normal\", padding=\"same\")(c9)\n",
    "\n",
    "outputs = tf.keras.layers.Conv2D(22, (1, 1))(c9) # activation=\"sigmoid\"\n",
    "\n",
    "model = tf.keras.Model(inputs=[inputs], outputs=[outputs])\n",
    "model.compile(optimizer=\"adam\", loss=\"mae\", metrics=[\"accuracy\"])\n",
    "model.summary()"
   ]
  },
  {
   "cell_type": "code",
   "execution_count": 40,
   "id": "eb28aa61",
   "metadata": {
    "pycharm": {
     "name": "#%%\n"
    }
   },
   "outputs": [
    {
     "data": {
      "text/plain": [
       "(1, 499, 802, 22)"
      ]
     },
     "execution_count": 40,
     "metadata": {},
     "output_type": "execute_result"
    }
   ],
   "source": [
    "y.shape"
   ]
  },
  {
   "cell_type": "code",
   "execution_count": 41,
   "id": "c2215227",
   "metadata": {
    "pycharm": {
     "name": "#%%\n"
    }
   },
   "outputs": [
    {
     "data": {
      "text/plain": [
       "(1, 499, 802, 22)"
      ]
     },
     "execution_count": 41,
     "metadata": {},
     "output_type": "execute_result"
    }
   ],
   "source": [
    "y.shape"
   ]
  },
  {
   "cell_type": "code",
   "execution_count": 42,
   "id": "efb6130b",
   "metadata": {
    "pycharm": {
     "name": "#%%\n"
    }
   },
   "outputs": [],
   "source": [
    "X_train, X_test, y_train, y_test = train_test_split(new_X, new_Y, test_size=0.2, random_state=1)"
   ]
  },
  {
   "cell_type": "code",
   "execution_count": 46,
   "id": "a0a3c1a3",
   "metadata": {
    "pycharm": {
     "name": "#%%\n"
    }
   },
   "outputs": [],
   "source": [
    "# Model checkpoint\n",
    "my_callbacks = [\n",
    "    tf.keras.callbacks.EarlyStopping(patience=10, verbose=1),\n",
    "    tf.keras.callbacks.ReduceLROnPlateau(factor=0.1, patience=5, min_lr=0.00001, verbose=1),\n",
    "    tf.keras.callbacks.ModelCheckpoint('model-unet2.h5', verbose=1, save_best_only=True, save_weights_only=True)\n",
    "]"
   ]
  },
  {
   "cell_type": "code",
   "execution_count": 47,
   "id": "92a4464f",
   "metadata": {
    "pycharm": {
     "name": "#%%\n"
    }
   },
   "outputs": [
    {
     "name": "stdout",
     "output_type": "stream",
     "text": [
      "Epoch 1/10\n",
      "1/1 [==============================] - ETA: 0s - loss: 0.5016 - accuracy: 0.6632\n",
      "Epoch 00001: val_loss improved from inf to 0.71787, saving model to model-unet2.h5\n",
      "1/1 [==============================] - 0s 239ms/step - loss: 0.5016 - accuracy: 0.6632 - val_loss: 0.7179 - val_accuracy: 0.6548\n",
      "Epoch 2/10\n",
      "1/1 [==============================] - ETA: 0s - loss: 0.5010 - accuracy: 0.6639\n",
      "Epoch 00002: val_loss improved from 0.71787 to 0.71665, saving model to model-unet2.h5\n",
      "1/1 [==============================] - 0s 220ms/step - loss: 0.5010 - accuracy: 0.6639 - val_loss: 0.7167 - val_accuracy: 0.6551\n",
      "Epoch 3/10\n",
      "1/1 [==============================] - ETA: 0s - loss: 0.5004 - accuracy: 0.6639\n",
      "Epoch 00003: val_loss improved from 0.71665 to 0.71547, saving model to model-unet2.h5\n",
      "1/1 [==============================] - 0s 220ms/step - loss: 0.5004 - accuracy: 0.6639 - val_loss: 0.7155 - val_accuracy: 0.6556\n",
      "Epoch 4/10\n",
      "1/1 [==============================] - ETA: 0s - loss: 0.5005 - accuracy: 0.6627\n",
      "Epoch 00004: val_loss improved from 0.71547 to 0.71437, saving model to model-unet2.h5\n",
      "1/1 [==============================] - 0s 220ms/step - loss: 0.5005 - accuracy: 0.6627 - val_loss: 0.7144 - val_accuracy: 0.6558\n",
      "Epoch 5/10\n",
      "1/1 [==============================] - ETA: 0s - loss: 0.4998 - accuracy: 0.6637\n",
      "Epoch 00005: val_loss improved from 0.71437 to 0.71347, saving model to model-unet2.h5\n",
      "1/1 [==============================] - 0s 227ms/step - loss: 0.4998 - accuracy: 0.6637 - val_loss: 0.7135 - val_accuracy: 0.6560\n",
      "Epoch 6/10\n",
      "1/1 [==============================] - ETA: 0s - loss: 0.4995 - accuracy: 0.6642\n",
      "Epoch 00006: val_loss improved from 0.71347 to 0.71288, saving model to model-unet2.h5\n",
      "1/1 [==============================] - 0s 255ms/step - loss: 0.4995 - accuracy: 0.6642 - val_loss: 0.7129 - val_accuracy: 0.6560\n",
      "Epoch 7/10\n",
      "1/1 [==============================] - ETA: 0s - loss: 0.4985 - accuracy: 0.6655\n",
      "Epoch 00007: val_loss improved from 0.71288 to 0.71253, saving model to model-unet2.h5\n",
      "1/1 [==============================] - 0s 227ms/step - loss: 0.4985 - accuracy: 0.6655 - val_loss: 0.7125 - val_accuracy: 0.6559\n",
      "Epoch 8/10\n",
      "1/1 [==============================] - ETA: 0s - loss: 0.4984 - accuracy: 0.6649\n",
      "Epoch 00008: val_loss improved from 0.71253 to 0.71229, saving model to model-unet2.h5\n",
      "1/1 [==============================] - 0s 234ms/step - loss: 0.4984 - accuracy: 0.6649 - val_loss: 0.7123 - val_accuracy: 0.6556\n",
      "Epoch 9/10\n",
      "1/1 [==============================] - ETA: 0s - loss: 0.4981 - accuracy: 0.6643\n",
      "Epoch 00009: val_loss improved from 0.71229 to 0.71209, saving model to model-unet2.h5\n",
      "1/1 [==============================] - 0s 249ms/step - loss: 0.4981 - accuracy: 0.6643 - val_loss: 0.7121 - val_accuracy: 0.6555\n",
      "Epoch 10/10\n",
      "1/1 [==============================] - ETA: 0s - loss: 0.4985 - accuracy: 0.6652\n",
      "Epoch 00010: val_loss did not improve from 0.71209\n",
      "1/1 [==============================] - 0s 201ms/step - loss: 0.4985 - accuracy: 0.6652 - val_loss: 0.7121 - val_accuracy: 0.6555\n"
     ]
    }
   ],
   "source": [
    "results = model.fit(\n",
    "    X_train,\n",
    "    y_train,\n",
    "    batch_size=16,\n",
    "    epochs=10,\n",
    "    callbacks=my_callbacks,\n",
    "    validation_data=(X_test, y_test)\n",
    ")"
   ]
  },
  {
   "cell_type": "code",
   "execution_count": 48,
   "id": "27c95a3c",
   "metadata": {
    "pycharm": {
     "name": "#%%\n"
    }
   },
   "outputs": [
    {
     "data": {
      "image/png": "[encoded data removed]",
      "text/plain": [
       "<Figure size 576x576 with 1 Axes>"
      ]
     },
     "metadata": {
      "needs_background": "light"
     },
     "output_type": "display_data"
    }
   ],
   "source": [
    "plt.figure(figsize=(8, 8))\n",
    "plt.title(\"Learning curve\")\n",
    "plt.plot(results.history[\"loss\"], label=\"loss\")\n",
    "plt.plot(results.history[\"val_loss\"], label=\"val_loss\")\n",
    "plt.plot( np.argmin(results.history[\"val_loss\"]), np.min(results.history[\"val_loss\"]), marker=\"x\", color=\"r\", label=\"best model\")\n",
    "plt.xlabel(\"Epochs\")\n",
    "plt.ylabel(\"log_loss\")\n",
    "plt.legend();"
   ]
  },
  {
   "cell_type": "code",
   "execution_count": 49,
   "id": "f4936f11",
   "metadata": {
    "pycharm": {
     "name": "#%%\n"
    }
   },
   "outputs": [],
   "source": [
    "y_pred = model.predict(X_test)"
   ]
  },
  {
   "cell_type": "code",
   "execution_count": 51,
   "id": "feced932",
   "metadata": {},
   "outputs": [
    {
     "data": {
      "text/plain": [
       "(3, 160, 160, 22)"
      ]
     },
     "execution_count": 51,
     "metadata": {},
     "output_type": "execute_result"
    }
   ],
   "source": [
    "X_test.shape"
   ]
  },
  {
   "cell_type": "code",
   "execution_count": 50,
   "id": "61329cb7",
   "metadata": {},
   "outputs": [
    {
     "data": {
      "text/plain": [
       "(3, 160, 160, 22)"
      ]
     },
     "execution_count": 50,
     "metadata": {},
     "output_type": "execute_result"
    }
   ],
   "source": [
    "y_pred.shape"
   ]
  },
  {
   "cell_type": "code",
   "execution_count": null,
   "id": "3d11c3d1",
   "metadata": {
    "pycharm": {
     "name": "#%%\n"
    }
   },
   "outputs": [],
   "source": [
    "y_test = y_test.reshape(5, 131072)\n",
    "y_pred = y_pred.reshape(5, 131072)"
   ]
  },
  {
   "cell_type": "code",
   "execution_count": null,
   "id": "74c9fbda",
   "metadata": {
    "pycharm": {
     "name": "#%%\n"
    }
   },
   "outputs": [],
   "source": [
    "y_test = y_test.T"
   ]
  },
  {
   "cell_type": "code",
   "execution_count": null,
   "id": "7884f7dc",
   "metadata": {
    "pycharm": {
     "name": "#%%\n"
    }
   },
   "outputs": [],
   "source": [
    "y_pred = y_pred.T"
   ]
  },
  {
   "cell_type": "code",
   "execution_count": null,
   "id": "87f75bf5",
   "metadata": {
    "pycharm": {
     "name": "#%%\n"
    }
   },
   "outputs": [],
   "source": [
    "y_pred.shape"
   ]
  },
  {
   "cell_type": "code",
   "execution_count": null,
   "id": "99f5188a",
   "metadata": {
    "pycharm": {
     "name": "#%%\n"
    }
   },
   "outputs": [],
   "source": [
    "print(\"y_test : \\n\", y_test[0,0,1])\n",
    "print(\"=====================================\")\n",
    "print(\"y_pred : \\n\", y_pred[0,0,1])"
   ]
  },
  {
   "cell_type": "code",
   "execution_count": null,
   "id": "e8c2d00a",
   "metadata": {
    "pycharm": {
     "name": "#%%\n"
    }
   },
   "outputs": [],
   "source": [
    "axe = plt.axes()\n",
    "plt.rcParams.update({'font.size':15})\n",
    "plt.style.use('seaborn-whitegrid')\n",
    "plt.scatter(y_test[:,0], y_pred[:,0], s=1)\n",
    "plt.title('Coefficients')\n",
    "axe.set(xlabel=\"y_test\", ylabel=\"y_pred\")\n",
    "plt.show()\n",
    "# plt.scatter(X_test, y_test, label=\"Données d'évaluation\", color=\"b\")"
   ]
  }
 ],
 "metadata": {
  "kernelspec": {
   "display_name": "Python 3 (ipykernel)",
   "language": "python",
   "name": "python3"
  },
  "language_info": {
   "codemirror_mode": {
    "name": "ipython",
    "version": 3
   },
   "file_extension": ".py",
   "mimetype": "text/x-python",
   "name": "python",
   "nbconvert_exporter": "python",
   "pygments_lexer": "ipython3",
   "version": "3.8.13"
  }
 },
 "nbformat": 4,
 "nbformat_minor": 5
}
