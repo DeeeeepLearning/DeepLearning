{
 "cells": [
  {
   "cell_type": "code",
   "execution_count": 279,
   "id": "c4a43672",
   "metadata": {
    "pycharm": {
     "is_executing": true,
     "name": "#%%\n"
    }
   },
   "outputs": [
    {
     "name": "stdout",
     "output_type": "stream",
     "text": [
      "version tensorflow : 2.3.0\n"
     ]
    }
   ],
   "source": [
    "import tensorflow as tf\n",
    "print(\"version tensorflow : \"+tf.__version__)\n",
    "from tensorflow import keras"
   ]
  },
  {
   "cell_type": "code",
   "execution_count": 280,
   "id": "3ef728dd",
   "metadata": {
    "pycharm": {
     "name": "#%%\n"
    }
   },
   "outputs": [],
   "source": [
    "import os\n",
    "import random\n",
    "import numpy as np\n",
    "from tqdm import tqdm\n",
    "from skimage import io\n",
    "from skimage.transform import resize\n",
    "import matplotlib.pyplot as plt\n",
    "import random\n",
    "import time\n",
    "from sklearn.model_selection import train_test_split"
   ]
  },
  {
   "cell_type": "code",
   "execution_count": 281,
   "id": "4b70e19c",
   "metadata": {
    "pycharm": {
     "name": "#%%\n"
    }
   },
   "outputs": [],
   "source": [
    "seed = 42\n",
    "np.random.seed = seed\n",
    "\n",
    "IMG_WIDTH = 160\n",
    "IMG_HEIGHT = 160\n",
    "IMG_CHANNEL = 22"
   ]
  },
  {
   "cell_type": "code",
   "execution_count": 282,
   "id": "7fb3253f",
   "metadata": {
    "pycharm": {
     "name": "#%%\n"
    }
   },
   "outputs": [],
   "source": [
    "def get_data(file_path):\n",
    "    \n",
    "    file = open(file_path, \"r\")\n",
    "\n",
    "    allText = file.read()\n",
    "\n",
    "    words = list(map(str, allText.split()))\n",
    "\n",
    "    matrice_height = int(len(words) / 30)\n",
    "    matrice = np.ones((matrice_height, 24))\n",
    "\n",
    "    emplacement = 20\n",
    "    iter1 = 0\n",
    "    for i in range(emplacement, int(len(words) / 30) + emplacement):\n",
    "        iter2 = 0\n",
    "        for j in range(emplacement + 6, emplacement + 30):\n",
    "            matrice[(iter1, iter2)] = words[j]\n",
    "            iter2 += 1\n",
    "        iter1 += 1\n",
    "        emplacement += 30\n",
    "    X_2 = np.delete(matrice, 1, 1)\n",
    "    X_final = np.delete(X_2, 10, 1)\n",
    "    \n",
    "    file.close()\n",
    "    \n",
    "    return X_final"
   ]
  },
  {
   "cell_type": "code",
   "execution_count": 283,
   "id": "b65eb335",
   "metadata": {
    "pycharm": {
     "name": "#%%\n"
    }
   },
   "outputs": [],
   "source": [
    "file_in_path = \"datas/C_maps_in.txt\"\n",
    "file_out_path = \"datas/C_maps_out.txt\"\n",
    "\n",
    "X = get_data(file_in_path)\n",
    "y = get_data(file_out_path)"
   ]
  },
  {
   "cell_type": "code",
   "execution_count": 284,
   "id": "0599d516",
   "metadata": {
    "pycharm": {
     "name": "#%%\n"
    }
   },
   "outputs": [
    {
     "data": {
      "text/plain": [
       "(400198, 22)"
      ]
     },
     "execution_count": 284,
     "metadata": {},
     "output_type": "execute_result"
    }
   ],
   "source": [
    "X.shape"
   ]
  },
  {
   "cell_type": "code",
   "execution_count": 285,
   "id": "9e9feb90",
   "metadata": {
    "pycharm": {
     "name": "#%%\n"
    }
   },
   "outputs": [],
   "source": [
    "X = X.reshape((1, 499, 802, 22))"
   ]
  },
  {
   "cell_type": "code",
   "execution_count": 286,
   "id": "49d95851",
   "metadata": {
    "pycharm": {
     "name": "#%%\n"
    }
   },
   "outputs": [
    {
     "data": {
      "text/plain": [
       "(1, 499, 802, 22)"
      ]
     },
     "execution_count": 286,
     "metadata": {},
     "output_type": "execute_result"
    }
   ],
   "source": [
    "X.shape"
   ]
  },
  {
   "cell_type": "code",
   "execution_count": 287,
   "id": "2f609151",
   "metadata": {
    "pycharm": {
     "name": "#%%\n"
    }
   },
   "outputs": [],
   "source": [
    "y = y.reshape((1, 499, 802, 22))"
   ]
  },
  {
   "cell_type": "code",
   "execution_count": 288,
   "id": "990ba830",
   "metadata": {
    "pycharm": {
     "name": "#%%\n"
    }
   },
   "outputs": [
    {
     "data": {
      "text/plain": [
       "(1, 499, 802, 22)"
      ]
     },
     "execution_count": 288,
     "metadata": {},
     "output_type": "execute_result"
    }
   ],
   "source": [
    "y.shape"
   ]
  },
  {
   "cell_type": "code",
   "execution_count": 289,
   "id": "c71a4c4c",
   "metadata": {
    "pycharm": {
     "name": "#%%\n"
    }
   },
   "outputs": [],
   "source": [
    "X1 = X[:, :160, :160, :]\n",
    "X2 = X[:, :160, 160:320, :]\n",
    "X3 = X[:, :160, 320:480, :]\n",
    "X4 = X[:, :160, 480:640, :]\n",
    "X5 = X[:, :160, 640:800, :]\n",
    "\n",
    "X6 = X[:, 160:320, :160, :]\n",
    "X7 = X[:, 160:320, 160:320, :]\n",
    "X8 = X[:, 160:320, 320:480, :]\n",
    "X9 = X[:, 160:320, 480:640, :]\n",
    "X10 = X[:, 160:320, 640:800, :]\n",
    "\n",
    "X11 = X[:, 320:480, :160, :]\n",
    "X12 = X[:, 320:480, 160:320, :]\n",
    "X13 = X[:, 320:480, 320:480, :]\n",
    "X14 = X[:, 320:480, 480:640, :]\n",
    "X15 = X[:, 320:480, 640:800, :]\n",
    "\n",
    "#===============================\n",
    "y1 = y[:, :160, :160, :]\n",
    "y2 = y[:, :160, 160:320, :]\n",
    "y3 = y[:, :160, 320:480, :]\n",
    "y4 = y[:, :160, 480:640, :]\n",
    "y5 = y[:, :160, 640:800, :]\n",
    "\n",
    "y6 = y[:, 160:320, :160, :]\n",
    "y7 = y[:, 160:320, 160:320, :]\n",
    "y8 = y[:, 160:320, 320:480, :]\n",
    "y9 = y[:, 160:320, 480:640, :]\n",
    "y10 = y[:, 160:320, 640:800, :]\n",
    "\n",
    "y11 = y[:, 320:480, :160, :]\n",
    "y12 = y[:, 320:480, 160:320, :]\n",
    "y13 = y[:, 320:480, 320:480, :]\n",
    "y14 = y[:, 320:480, 480:640, :]\n",
    "y15 = y[:, 320:480, 640:800, :]"
   ]
  },
  {
   "cell_type": "code",
   "execution_count": 290,
   "id": "ac6a5b36",
   "metadata": {
    "pycharm": {
     "name": "#%%\n"
    }
   },
   "outputs": [
    {
     "name": "stdout",
     "output_type": "stream",
     "text": [
      "(1, 160, 160, 22)\n"
     ]
    }
   ],
   "source": [
    "print(X1.shape)"
   ]
  },
  {
   "cell_type": "code",
   "execution_count": 291,
   "id": "452f7524",
   "metadata": {
    "pycharm": {
     "name": "#%%\n"
    }
   },
   "outputs": [],
   "source": [
    "new_X = np.concatenate((X1, X2), axis=0)\n",
    "new_Y = np.concatenate((y1, y2), axis=0)\n",
    "new_X = np.concatenate((new_X, X3), axis=0)\n",
    "new_Y = np.concatenate((new_Y, y3), axis=0)\n",
    "new_X = np.concatenate((new_X, X4), axis=0)\n",
    "new_Y = np.concatenate((new_Y, y4), axis=0)\n",
    "new_X = np.concatenate((new_X, X5), axis=0)\n",
    "new_Y = np.concatenate((new_Y, y5), axis=0)\n",
    "new_X = np.concatenate((new_X, X6), axis=0)\n",
    "new_Y = np.concatenate((new_Y, y6), axis=0)\n",
    "new_X = np.concatenate((new_X, X7), axis=0)\n",
    "new_Y = np.concatenate((new_Y, y7), axis=0)\n",
    "new_X = np.concatenate((new_X, X8), axis=0)\n",
    "new_Y = np.concatenate((new_Y, y8), axis=0)\n",
    "new_X = np.concatenate((new_X, X9), axis=0)\n",
    "new_Y = np.concatenate((new_Y, y9), axis=0)\n",
    "new_X = np.concatenate((new_X, X10), axis=0)\n",
    "new_Y = np.concatenate((new_Y, y10), axis=0)\n",
    "new_X = np.concatenate((new_X, X11), axis=0)\n",
    "new_Y = np.concatenate((new_Y, y11), axis=0)\n",
    "new_X = np.concatenate((new_X, X12), axis=0)\n",
    "new_Y = np.concatenate((new_Y, y12), axis=0)\n",
    "new_X = np.concatenate((new_X, X13), axis=0)\n",
    "new_Y = np.concatenate((new_Y, y13), axis=0)\n",
    "new_X = np.concatenate((new_X, X14), axis=0)\n",
    "new_Y = np.concatenate((new_Y, y14), axis=0)\n",
    "new_X = np.concatenate((new_X, X15), axis=0)\n",
    "new_Y = np.concatenate((new_Y, y15), axis=0)"
   ]
  },
  {
   "cell_type": "code",
   "execution_count": 292,
   "id": "0979381e",
   "metadata": {
    "pycharm": {
     "name": "#%%\n"
    }
   },
   "outputs": [
    {
     "data": {
      "text/plain": [
       "(15, 160, 160, 22)"
      ]
     },
     "execution_count": 292,
     "metadata": {},
     "output_type": "execute_result"
    }
   ],
   "source": [
    "new_X.shape"
   ]
  },
  {
   "cell_type": "markdown",
   "id": "9873e4a8",
   "metadata": {
    "pycharm": {
     "name": "#%% md\n"
    }
   },
   "source": [
    "séparer en 12 l'image, 166x200, 802"
   ]
  },
  {
   "cell_type": "code",
   "execution_count": 293,
   "id": "70a5a08b",
   "metadata": {
    "pycharm": {
     "name": "#%%\n"
    }
   },
   "outputs": [],
   "source": [
    "inputs = keras.layers.Input((IMG_WIDTH, IMG_HEIGHT, IMG_CHANNEL))"
   ]
  },
  {
   "cell_type": "code",
   "execution_count": 294,
   "id": "0d9bc299",
   "metadata": {
    "pycharm": {
     "name": "#%%\n"
    }
   },
   "outputs": [],
   "source": [
    "# Contraction path\n",
    "c1 = tf.keras.layers.Conv2D(32, (3, 3), activation=\"relu\", kernel_initializer=\"he_normal\", padding=\"same\")(inputs)\n",
    "c1 = tf.keras.layers.Dropout(0.1)(c1)\n",
    "c1 = tf.keras.layers.Conv2D(32, (3, 3), activation=\"relu\", kernel_initializer=\"he_normal\", padding=\"same\")(c1)\n",
    "p1 = tf.keras.layers.MaxPooling2D((2, 2))(c1)\n",
    "\n",
    "c2 = tf.keras.layers.Conv2D(64, (3, 3), activation=\"relu\", kernel_initializer=\"he_normal\", padding=\"same\")(p1)\n",
    "c2 = tf.keras.layers.Dropout(0.1)(c2)\n",
    "c2 = tf.keras.layers.Conv2D(64, (3, 3), activation=\"relu\", kernel_initializer=\"he_normal\", padding=\"same\")(c2)\n",
    "p2 = tf.keras.layers.MaxPooling2D((2, 2))(c2)\n",
    "\n",
    "c3 = tf.keras.layers.Conv2D(128, (3, 3), activation=\"relu\", kernel_initializer=\"he_normal\", padding=\"same\")(p2)\n",
    "c3 = tf.keras.layers.Dropout(0.2)(c3)\n",
    "c3 = tf.keras.layers.Conv2D(128, (3, 3), activation=\"relu\", kernel_initializer=\"he_normal\", padding=\"same\")(c3)\n",
    "p3 = tf.keras.layers.MaxPooling2D((2, 2))(c3)\n",
    "\n",
    "c4 = tf.keras.layers.Conv2D(256, (3, 3), activation=\"relu\", kernel_initializer=\"he_normal\", padding=\"same\")(p3)\n",
    "c4 = tf.keras.layers.Dropout(0.2)(c4)\n",
    "c4 = tf.keras.layers.Conv2D(256, (3, 3), activation=\"relu\", kernel_initializer=\"he_normal\", padding=\"same\")(c4)\n",
    "p4 = tf.keras.layers.MaxPooling2D((2, 2))(c4)\n",
    "\n",
    "c5 = tf.keras.layers.Conv2D(512, (3, 3), activation=\"relu\", kernel_initializer=\"he_normal\", padding=\"same\")(p4)\n",
    "c5 = tf.keras.layers.Dropout(0.3)(c5)\n",
    "c5 = tf.keras.layers.Conv2D(512, (3, 3), activation=\"relu\", kernel_initializer=\"he_normal\", padding=\"same\")(c5)\n"
   ]
  },
  {
   "cell_type": "code",
   "execution_count": 295,
   "id": "2c9af25a",
   "metadata": {
    "pycharm": {
     "name": "#%%\n"
    }
   },
   "outputs": [],
   "source": [
    "# Expansive path\n",
    "u6 = tf.keras.layers.Conv2DTranspose(256, (2, 2), strides=(2, 2), padding=\"same\")(c5)\n",
    "u6 = tf.keras.layers.concatenate([u6, c4])\n",
    "c6 = tf.keras.layers.Conv2D(256, (3, 3), activation=\"relu\", kernel_initializer=\"he_normal\", padding=\"same\")(u6)\n",
    "c6 = tf.keras.layers.Dropout(0.2)(c6)\n",
    "c6 = tf.keras.layers.Conv2D(256, (3, 3), activation=\"relu\", kernel_initializer=\"he_normal\", padding=\"same\")(c6)\n",
    "\n",
    "u7 = tf.keras.layers.Conv2DTranspose(128, (2, 2), strides=(2, 2), padding=\"same\")(c6)\n",
    "u7 = tf.keras.layers.concatenate([u7, c3])\n",
    "c7 = tf.keras.layers.Conv2D(128, (3, 3), activation=\"relu\", kernel_initializer=\"he_normal\", padding=\"same\")(u7)\n",
    "c7 = tf.keras.layers.Dropout(0.2)(c7)\n",
    "c7 = tf.keras.layers.Conv2D(128, (3, 3), activation=\"relu\", kernel_initializer=\"he_normal\", padding=\"same\")(c7)\n",
    "\n",
    "u8 = tf.keras.layers.Conv2DTranspose(64, (2, 2), strides=(2, 2), padding=\"same\")(c7)\n",
    "u8 = tf.keras.layers.concatenate([u8, c2])\n",
    "c8 = tf.keras.layers.Conv2D(64, (3, 3), activation=\"relu\", kernel_initializer=\"he_normal\", padding=\"same\")(u8)\n",
    "c8 = tf.keras.layers.Dropout(0.1)(c8)\n",
    "c8 = tf.keras.layers.Conv2D(64, (3, 3), activation=\"relu\", kernel_initializer=\"he_normal\", padding=\"same\")(c8)\n",
    "\n",
    "u9 = tf.keras.layers.Conv2DTranspose(32, (2, 2), strides=(2, 2), padding=\"same\")(c8)\n",
    "u9 = tf.keras.layers.concatenate([u9, c1], axis=3)\n",
    "c9 = tf.keras.layers.Conv2D(32, (3, 3), activation=\"relu\", kernel_initializer=\"he_normal\", padding=\"same\")(u9)\n",
    "c9 = tf.keras.layers.Dropout(0.1)(c9)\n",
    "c9 = tf.keras.layers.Conv2D(32, (3, 3), activation=\"relu\", kernel_initializer=\"he_normal\", padding=\"same\")(c9)\n",
    "\n",
    "outputs = tf.keras.layers.Conv2D(22, (1, 1))(c9) # activation=\"sigmoid\"\n",
    "\n",
    "model = tf.keras.Model(inputs=[inputs], outputs=[outputs])"
   ]
  },
  {
   "cell_type": "code",
   "execution_count": 296,
   "id": "eb28aa61",
   "metadata": {
    "pycharm": {
     "name": "#%%\n"
    }
   },
   "outputs": [
    {
     "data": {
      "text/plain": [
       "(1, 499, 802, 22)"
      ]
     },
     "execution_count": 296,
     "metadata": {},
     "output_type": "execute_result"
    }
   ],
   "source": [
    "y.shape"
   ]
  },
  {
   "cell_type": "code",
   "execution_count": 297,
   "id": "c2215227",
   "metadata": {
    "pycharm": {
     "name": "#%%\n"
    }
   },
   "outputs": [
    {
     "data": {
      "text/plain": [
       "(1, 499, 802, 22)"
      ]
     },
     "execution_count": 297,
     "metadata": {},
     "output_type": "execute_result"
    }
   ],
   "source": [
    "y.shape"
   ]
  },
  {
   "cell_type": "code",
   "execution_count": 298,
   "id": "efb6130b",
   "metadata": {
    "pycharm": {
     "name": "#%%\n"
    }
   },
   "outputs": [],
   "source": [
    "X_train, X_test, y_train, y_test = train_test_split(new_X, new_Y, test_size=0.2, random_state=1)"
   ]
  },
  {
   "cell_type": "code",
   "execution_count": 299,
   "id": "f3fa217c",
   "metadata": {},
   "outputs": [
    {
     "name": "stdout",
     "output_type": "stream",
     "text": [
      "Avant normalisation x_train : Minimum = -8.14738600686208, Maximum = 8.35835887900045\n",
      "Avant normalisation x_test : Minimum = -8.46275664292862, Maximum = 8.27382970416552\n",
      "Après normalisation x_train : Minimum = -0.9747590555523502, Maximum = 1.0\n",
      "Après normalisation x_test : Minimum = -1.0124902227147077, Maximum = 0.989886869413169\n"
     ]
    }
   ],
   "source": [
    "print('Avant normalisation x_train : Minimum = '+str(X_train.min())+', Maximum = '+str(X_train.max()))\n",
    "print('Avant normalisation x_test : Minimum = '+str(X_test.min())+', Maximum = '+str(X_test.max()))\n",
    "\n",
    "X_max = (X_train.max())\n",
    "X_train  = X_train / X_max\n",
    "X_test = X_test / X_max\n",
    "\n",
    "print('Après normalisation x_train : Minimum = '+str(X_train.min())+', Maximum = '+str(X_train.max()))\n",
    "print('Après normalisation x_test : Minimum = '+str(X_test.min())+', Maximum = '+str(X_test.max()))"
   ]
  },
  {
   "cell_type": "raw",
   "id": "fec2b07b",
   "metadata": {},
   "source": [
    "print('Avant normalisation : Minimum = '+str(y_train.min())+', Maximum = '+str(y_train.max()))\n",
    "\n",
    "ymax = y_train.max()+y_test.max()/2\n",
    "y_train  = y_train / ymax\n",
    "y_test = y_test / ymax\n",
    "\n",
    "print('Après normalisation : Minimum = '+str(y_train.min())+', Maximum = '+str(y_train.max()))"
   ]
  },
  {
   "cell_type": "code",
   "execution_count": null,
   "id": "a35b6b48",
   "metadata": {},
   "outputs": [],
   "source": [
    "opt = "
   ]
  },
  {
   "cell_type": "code",
   "execution_count": 307,
   "id": "6d514097",
   "metadata": {},
   "outputs": [],
   "source": [
    "model.compile(\n",
    "    optimizer='adam',\n",
    "    loss=\"mae\",\n",
    "    metrics=[\"binary_crossentropy\"]\n",
    ")"
   ]
  },
  {
   "cell_type": "code",
   "execution_count": 308,
   "id": "a0a3c1a3",
   "metadata": {
    "pycharm": {
     "name": "#%%\n"
    }
   },
   "outputs": [],
   "source": [
    "# Model checkpoint\n",
    "my_callbacks = [\n",
    "    tf.keras.callbacks.EarlyStopping(patience=50, verbose=1),\n",
    "    tf.keras.callbacks.ReduceLROnPlateau(factor=0.1, patience=10, min_lr=0.00001, verbose=1),\n",
    "    tf.keras.callbacks.ModelCheckpoint('model-unet2.h5', verbose=1, save_best_only=True, save_weights_only=True)\n",
    "]"
   ]
  },
  {
   "cell_type": "code",
   "execution_count": 309,
   "id": "92a4464f",
   "metadata": {
    "pycharm": {
     "name": "#%%\n"
    }
   },
   "outputs": [
    {
     "name": "stdout",
     "output_type": "stream",
     "text": [
      "Epoch 1/1000\n",
      "1/1 [==============================] - ETA: 0s - loss: 0.2256 - binary_crossentropy: -23.2799\n",
      "Epoch 00001: val_loss improved from inf to 0.56778, saving model to model-unet2.h5\n",
      "1/1 [==============================] - 0s 478ms/step - loss: 0.2256 - binary_crossentropy: -23.2799 - val_loss: 0.5678 - val_binary_crossentropy: -21.5917\n",
      "Epoch 2/1000\n",
      "1/1 [==============================] - ETA: 0s - loss: 0.7791 - binary_crossentropy: -22.2479\n",
      "Epoch 00002: val_loss did not improve from 0.56778\n",
      "1/1 [==============================] - 0s 168ms/step - loss: 0.7791 - binary_crossentropy: -22.2479 - val_loss: 0.6890 - val_binary_crossentropy: -21.4186\n",
      "Epoch 3/1000\n",
      "1/1 [==============================] - ETA: 0s - loss: 0.3217 - binary_crossentropy: -23.1293\n",
      "Epoch 00003: val_loss did not improve from 0.56778\n",
      "1/1 [==============================] - 0s 192ms/step - loss: 0.3217 - binary_crossentropy: -23.1293 - val_loss: 0.9243 - val_binary_crossentropy: -19.8209\n",
      "Epoch 4/1000\n",
      "1/1 [==============================] - ETA: 0s - loss: 0.4805 - binary_crossentropy: -22.6695\n",
      "Epoch 00004: val_loss did not improve from 0.56778\n",
      "1/1 [==============================] - 0s 246ms/step - loss: 0.4805 - binary_crossentropy: -22.6695 - val_loss: 0.8894 - val_binary_crossentropy: -19.8155\n",
      "Epoch 5/1000\n",
      "1/1 [==============================] - ETA: 0s - loss: 0.4528 - binary_crossentropy: -22.5661\n",
      "Epoch 00005: val_loss did not improve from 0.56778\n",
      "1/1 [==============================] - 0s 191ms/step - loss: 0.4528 - binary_crossentropy: -22.5661 - val_loss: 0.7143 - val_binary_crossentropy: -20.5528\n",
      "Epoch 6/1000\n",
      "1/1 [==============================] - ETA: 0s - loss: 0.3632 - binary_crossentropy: -22.7880\n",
      "Epoch 00006: val_loss did not improve from 0.56778\n",
      "1/1 [==============================] - 0s 194ms/step - loss: 0.3632 - binary_crossentropy: -22.7880 - val_loss: 0.5874 - val_binary_crossentropy: -21.1307\n",
      "Epoch 7/1000\n",
      "1/1 [==============================] - ETA: 0s - loss: 0.3630 - binary_crossentropy: -22.9922\n",
      "Epoch 00007: val_loss improved from 0.56778 to 0.52910, saving model to model-unet2.h5\n",
      "1/1 [==============================] - 0s 247ms/step - loss: 0.3630 - binary_crossentropy: -22.9922 - val_loss: 0.5291 - val_binary_crossentropy: -21.3092\n",
      "Epoch 8/1000\n",
      "1/1 [==============================] - ETA: 0s - loss: 0.3502 - binary_crossentropy: -22.9865\n",
      "Epoch 00008: val_loss improved from 0.52910 to 0.51780, saving model to model-unet2.h5\n",
      "1/1 [==============================] - 0s 251ms/step - loss: 0.3502 - binary_crossentropy: -22.9865 - val_loss: 0.5178 - val_binary_crossentropy: -21.3990\n",
      "Epoch 9/1000\n",
      "1/1 [==============================] - ETA: 0s - loss: 0.3276 - binary_crossentropy: -22.9019\n",
      "Epoch 00009: val_loss did not improve from 0.51780\n",
      "1/1 [==============================] - 0s 232ms/step - loss: 0.3276 - binary_crossentropy: -22.9019 - val_loss: 0.5995 - val_binary_crossentropy: -21.1854\n",
      "Epoch 10/1000\n",
      "1/1 [==============================] - ETA: 0s - loss: 0.3447 - binary_crossentropy: -22.8692\n",
      "Epoch 00010: val_loss did not improve from 0.51780\n",
      "1/1 [==============================] - 0s 204ms/step - loss: 0.3447 - binary_crossentropy: -22.8692 - val_loss: 0.5275 - val_binary_crossentropy: -21.5838\n"
     ]
    },
    {
     "ename": "KeyboardInterrupt",
     "evalue": "",
     "output_type": "error",
     "traceback": [
      "\u001b[1;31m---------------------------------------------------------------------------\u001b[0m",
      "\u001b[1;31mKeyboardInterrupt\u001b[0m                         Traceback (most recent call last)",
      "Input \u001b[1;32mIn [309]\u001b[0m, in \u001b[0;36m<cell line: 1>\u001b[1;34m()\u001b[0m\n\u001b[1;32m----> 1\u001b[0m results \u001b[38;5;241m=\u001b[39m \u001b[43mmodel\u001b[49m\u001b[38;5;241;43m.\u001b[39;49m\u001b[43mfit\u001b[49m\u001b[43m(\u001b[49m\n\u001b[0;32m      2\u001b[0m \u001b[43m    \u001b[49m\u001b[43mX_train\u001b[49m\u001b[43m,\u001b[49m\n\u001b[0;32m      3\u001b[0m \u001b[43m    \u001b[49m\u001b[43my_train\u001b[49m\u001b[43m,\u001b[49m\n\u001b[0;32m      4\u001b[0m \u001b[43m    \u001b[49m\u001b[43mbatch_size\u001b[49m\u001b[38;5;241;43m=\u001b[39;49m\u001b[38;5;241;43m32\u001b[39;49m\u001b[43m,\u001b[49m\n\u001b[0;32m      5\u001b[0m \u001b[43m    \u001b[49m\u001b[43mepochs\u001b[49m\u001b[38;5;241;43m=\u001b[39;49m\u001b[38;5;241;43m1000\u001b[39;49m\u001b[43m,\u001b[49m\n\u001b[0;32m      6\u001b[0m \u001b[43m    \u001b[49m\u001b[43mcallbacks\u001b[49m\u001b[38;5;241;43m=\u001b[39;49m\u001b[43mmy_callbacks\u001b[49m\u001b[43m,\u001b[49m\n\u001b[0;32m      7\u001b[0m \u001b[43m    \u001b[49m\u001b[43mvalidation_data\u001b[49m\u001b[38;5;241;43m=\u001b[39;49m\u001b[43m(\u001b[49m\u001b[43mX_test\u001b[49m\u001b[43m,\u001b[49m\u001b[43m \u001b[49m\u001b[43my_test\u001b[49m\u001b[43m)\u001b[49m\n\u001b[0;32m      8\u001b[0m \u001b[43m)\u001b[49m\n",
      "File \u001b[1;32m~\\.conda\\envs\\tf-gpu-cuda8\\lib\\site-packages\\tensorflow\\python\\keras\\engine\\training.py:108\u001b[0m, in \u001b[0;36menable_multi_worker.<locals>._method_wrapper\u001b[1;34m(self, *args, **kwargs)\u001b[0m\n\u001b[0;32m    106\u001b[0m \u001b[38;5;28;01mdef\u001b[39;00m \u001b[38;5;21m_method_wrapper\u001b[39m(\u001b[38;5;28mself\u001b[39m, \u001b[38;5;241m*\u001b[39margs, \u001b[38;5;241m*\u001b[39m\u001b[38;5;241m*\u001b[39mkwargs):\n\u001b[0;32m    107\u001b[0m   \u001b[38;5;28;01mif\u001b[39;00m \u001b[38;5;129;01mnot\u001b[39;00m \u001b[38;5;28mself\u001b[39m\u001b[38;5;241m.\u001b[39m_in_multi_worker_mode():  \u001b[38;5;66;03m# pylint: disable=protected-access\u001b[39;00m\n\u001b[1;32m--> 108\u001b[0m     \u001b[38;5;28;01mreturn\u001b[39;00m \u001b[43mmethod\u001b[49m\u001b[43m(\u001b[49m\u001b[38;5;28;43mself\u001b[39;49m\u001b[43m,\u001b[49m\u001b[43m \u001b[49m\u001b[38;5;241;43m*\u001b[39;49m\u001b[43margs\u001b[49m\u001b[43m,\u001b[49m\u001b[43m \u001b[49m\u001b[38;5;241;43m*\u001b[39;49m\u001b[38;5;241;43m*\u001b[39;49m\u001b[43mkwargs\u001b[49m\u001b[43m)\u001b[49m\n\u001b[0;32m    110\u001b[0m   \u001b[38;5;66;03m# Running inside `run_distribute_coordinator` already.\u001b[39;00m\n\u001b[0;32m    111\u001b[0m   \u001b[38;5;28;01mif\u001b[39;00m dc_context\u001b[38;5;241m.\u001b[39mget_current_worker_context():\n",
      "File \u001b[1;32m~\\.conda\\envs\\tf-gpu-cuda8\\lib\\site-packages\\tensorflow\\python\\keras\\engine\\training.py:1137\u001b[0m, in \u001b[0;36mModel.fit\u001b[1;34m(self, x, y, batch_size, epochs, verbose, callbacks, validation_split, validation_data, shuffle, class_weight, sample_weight, initial_epoch, steps_per_epoch, validation_steps, validation_batch_size, validation_freq, max_queue_size, workers, use_multiprocessing)\u001b[0m\n\u001b[0;32m   1134\u001b[0m   val_logs \u001b[38;5;241m=\u001b[39m {\u001b[38;5;124m'\u001b[39m\u001b[38;5;124mval_\u001b[39m\u001b[38;5;124m'\u001b[39m \u001b[38;5;241m+\u001b[39m name: val \u001b[38;5;28;01mfor\u001b[39;00m name, val \u001b[38;5;129;01min\u001b[39;00m val_logs\u001b[38;5;241m.\u001b[39mitems()}\n\u001b[0;32m   1135\u001b[0m   epoch_logs\u001b[38;5;241m.\u001b[39mupdate(val_logs)\n\u001b[1;32m-> 1137\u001b[0m \u001b[43mcallbacks\u001b[49m\u001b[38;5;241;43m.\u001b[39;49m\u001b[43mon_epoch_end\u001b[49m\u001b[43m(\u001b[49m\u001b[43mepoch\u001b[49m\u001b[43m,\u001b[49m\u001b[43m \u001b[49m\u001b[43mepoch_logs\u001b[49m\u001b[43m)\u001b[49m\n\u001b[0;32m   1138\u001b[0m training_logs \u001b[38;5;241m=\u001b[39m epoch_logs\n\u001b[0;32m   1139\u001b[0m \u001b[38;5;28;01mif\u001b[39;00m \u001b[38;5;28mself\u001b[39m\u001b[38;5;241m.\u001b[39mstop_training:\n",
      "File \u001b[1;32m~\\.conda\\envs\\tf-gpu-cuda8\\lib\\site-packages\\tensorflow\\python\\keras\\callbacks.py:412\u001b[0m, in \u001b[0;36mCallbackList.on_epoch_end\u001b[1;34m(self, epoch, logs)\u001b[0m\n\u001b[0;32m    410\u001b[0m \u001b[38;5;28;01mfor\u001b[39;00m callback \u001b[38;5;129;01min\u001b[39;00m \u001b[38;5;28mself\u001b[39m\u001b[38;5;241m.\u001b[39mcallbacks:\n\u001b[0;32m    411\u001b[0m   \u001b[38;5;28;01mif\u001b[39;00m \u001b[38;5;28mgetattr\u001b[39m(callback, \u001b[38;5;124m'\u001b[39m\u001b[38;5;124m_supports_tf_logs\u001b[39m\u001b[38;5;124m'\u001b[39m, \u001b[38;5;28;01mFalse\u001b[39;00m):\n\u001b[1;32m--> 412\u001b[0m     \u001b[43mcallback\u001b[49m\u001b[38;5;241;43m.\u001b[39;49m\u001b[43mon_epoch_end\u001b[49m\u001b[43m(\u001b[49m\u001b[43mepoch\u001b[49m\u001b[43m,\u001b[49m\u001b[43m \u001b[49m\u001b[43mlogs\u001b[49m\u001b[43m)\u001b[49m\n\u001b[0;32m    413\u001b[0m   \u001b[38;5;28;01melse\u001b[39;00m:\n\u001b[0;32m    414\u001b[0m     \u001b[38;5;28;01mif\u001b[39;00m numpy_logs \u001b[38;5;129;01mis\u001b[39;00m \u001b[38;5;28;01mNone\u001b[39;00m:  \u001b[38;5;66;03m# Only convert once.\u001b[39;00m\n",
      "File \u001b[1;32m~\\.conda\\envs\\tf-gpu-cuda8\\lib\\site-packages\\tensorflow\\python\\keras\\callbacks.py:972\u001b[0m, in \u001b[0;36mProgbarLogger.on_epoch_end\u001b[1;34m(self, epoch, logs)\u001b[0m\n\u001b[0;32m    971\u001b[0m \u001b[38;5;28;01mdef\u001b[39;00m \u001b[38;5;21mon_epoch_end\u001b[39m(\u001b[38;5;28mself\u001b[39m, epoch, logs\u001b[38;5;241m=\u001b[39m\u001b[38;5;28;01mNone\u001b[39;00m):\n\u001b[1;32m--> 972\u001b[0m   \u001b[38;5;28;43mself\u001b[39;49m\u001b[38;5;241;43m.\u001b[39;49m\u001b[43m_finalize_progbar\u001b[49m\u001b[43m(\u001b[49m\u001b[43mlogs\u001b[49m\u001b[43m)\u001b[49m\n",
      "File \u001b[1;32m~\\.conda\\envs\\tf-gpu-cuda8\\lib\\site-packages\\tensorflow\\python\\keras\\callbacks.py:1026\u001b[0m, in \u001b[0;36mProgbarLogger._finalize_progbar\u001b[1;34m(self, logs)\u001b[0m\n\u001b[0;32m   1024\u001b[0m   \u001b[38;5;28mself\u001b[39m\u001b[38;5;241m.\u001b[39mprogbar\u001b[38;5;241m.\u001b[39mtarget \u001b[38;5;241m=\u001b[39m \u001b[38;5;28mself\u001b[39m\u001b[38;5;241m.\u001b[39mseen\n\u001b[0;32m   1025\u001b[0m logs \u001b[38;5;241m=\u001b[39m tf_utils\u001b[38;5;241m.\u001b[39mto_numpy_or_python_type(logs)\n\u001b[1;32m-> 1026\u001b[0m \u001b[38;5;28;43mself\u001b[39;49m\u001b[38;5;241;43m.\u001b[39;49m\u001b[43mprogbar\u001b[49m\u001b[38;5;241;43m.\u001b[39;49m\u001b[43mupdate\u001b[49m\u001b[43m(\u001b[49m\u001b[38;5;28;43mself\u001b[39;49m\u001b[38;5;241;43m.\u001b[39;49m\u001b[43mseen\u001b[49m\u001b[43m,\u001b[49m\u001b[43m \u001b[49m\u001b[38;5;28;43mlist\u001b[39;49m\u001b[43m(\u001b[49m\u001b[43mlogs\u001b[49m\u001b[38;5;241;43m.\u001b[39;49m\u001b[43mitems\u001b[49m\u001b[43m(\u001b[49m\u001b[43m)\u001b[49m\u001b[43m)\u001b[49m\u001b[43m,\u001b[49m\u001b[43m \u001b[49m\u001b[43mfinalize\u001b[49m\u001b[38;5;241;43m=\u001b[39;49m\u001b[38;5;28;43;01mTrue\u001b[39;49;00m\u001b[43m)\u001b[49m\n",
      "File \u001b[1;32m~\\.conda\\envs\\tf-gpu-cuda8\\lib\\site-packages\\tensorflow\\python\\keras\\utils\\generic_utils.py:642\u001b[0m, in \u001b[0;36mProgbar.update\u001b[1;34m(self, current, values, finalize)\u001b[0m\n\u001b[0;32m    639\u001b[0m     info \u001b[38;5;241m+\u001b[39m\u001b[38;5;241m=\u001b[39m \u001b[38;5;124m'\u001b[39m\u001b[38;5;130;01m\\n\u001b[39;00m\u001b[38;5;124m'\u001b[39m\n\u001b[0;32m    641\u001b[0m   sys\u001b[38;5;241m.\u001b[39mstdout\u001b[38;5;241m.\u001b[39mwrite(info)\n\u001b[1;32m--> 642\u001b[0m   \u001b[43msys\u001b[49m\u001b[38;5;241;43m.\u001b[39;49m\u001b[43mstdout\u001b[49m\u001b[38;5;241;43m.\u001b[39;49m\u001b[43mflush\u001b[49m\u001b[43m(\u001b[49m\u001b[43m)\u001b[49m\n\u001b[0;32m    644\u001b[0m \u001b[38;5;28;01melif\u001b[39;00m \u001b[38;5;28mself\u001b[39m\u001b[38;5;241m.\u001b[39mverbose \u001b[38;5;241m==\u001b[39m \u001b[38;5;241m2\u001b[39m:\n\u001b[0;32m    645\u001b[0m   \u001b[38;5;28;01mif\u001b[39;00m finalize:\n",
      "File \u001b[1;32m~\\.conda\\envs\\tf-gpu-cuda8\\lib\\site-packages\\ipykernel\\iostream.py:468\u001b[0m, in \u001b[0;36mOutStream.flush\u001b[1;34m(self)\u001b[0m\n\u001b[0;32m    466\u001b[0m         \u001b[38;5;28mself\u001b[39m\u001b[38;5;241m.\u001b[39mpub_thread\u001b[38;5;241m.\u001b[39mschedule(evt\u001b[38;5;241m.\u001b[39mset)\n\u001b[0;32m    467\u001b[0m         \u001b[38;5;66;03m# and give a timeout to avoid\u001b[39;00m\n\u001b[1;32m--> 468\u001b[0m         \u001b[38;5;28;01mif\u001b[39;00m \u001b[38;5;129;01mnot\u001b[39;00m \u001b[43mevt\u001b[49m\u001b[38;5;241;43m.\u001b[39;49m\u001b[43mwait\u001b[49m\u001b[43m(\u001b[49m\u001b[38;5;28;43mself\u001b[39;49m\u001b[38;5;241;43m.\u001b[39;49m\u001b[43mflush_timeout\u001b[49m\u001b[43m)\u001b[49m:\n\u001b[0;32m    469\u001b[0m             \u001b[38;5;66;03m# write directly to __stderr__ instead of warning because\u001b[39;00m\n\u001b[0;32m    470\u001b[0m             \u001b[38;5;66;03m# if this is happening sys.stderr may be the problem.\u001b[39;00m\n\u001b[0;32m    471\u001b[0m             \u001b[38;5;28mprint\u001b[39m(\u001b[38;5;124m\"\u001b[39m\u001b[38;5;124mIOStream.flush timed out\u001b[39m\u001b[38;5;124m\"\u001b[39m, file\u001b[38;5;241m=\u001b[39msys\u001b[38;5;241m.\u001b[39m__stderr__)\n\u001b[0;32m    472\u001b[0m \u001b[38;5;28;01melse\u001b[39;00m:\n",
      "File \u001b[1;32m~\\.conda\\envs\\tf-gpu-cuda8\\lib\\threading.py:558\u001b[0m, in \u001b[0;36mEvent.wait\u001b[1;34m(self, timeout)\u001b[0m\n\u001b[0;32m    556\u001b[0m signaled \u001b[38;5;241m=\u001b[39m \u001b[38;5;28mself\u001b[39m\u001b[38;5;241m.\u001b[39m_flag\n\u001b[0;32m    557\u001b[0m \u001b[38;5;28;01mif\u001b[39;00m \u001b[38;5;129;01mnot\u001b[39;00m signaled:\n\u001b[1;32m--> 558\u001b[0m     signaled \u001b[38;5;241m=\u001b[39m \u001b[38;5;28;43mself\u001b[39;49m\u001b[38;5;241;43m.\u001b[39;49m\u001b[43m_cond\u001b[49m\u001b[38;5;241;43m.\u001b[39;49m\u001b[43mwait\u001b[49m\u001b[43m(\u001b[49m\u001b[43mtimeout\u001b[49m\u001b[43m)\u001b[49m\n\u001b[0;32m    559\u001b[0m \u001b[38;5;28;01mreturn\u001b[39;00m signaled\n",
      "File \u001b[1;32m~\\.conda\\envs\\tf-gpu-cuda8\\lib\\threading.py:306\u001b[0m, in \u001b[0;36mCondition.wait\u001b[1;34m(self, timeout)\u001b[0m\n\u001b[0;32m    304\u001b[0m \u001b[38;5;28;01melse\u001b[39;00m:\n\u001b[0;32m    305\u001b[0m     \u001b[38;5;28;01mif\u001b[39;00m timeout \u001b[38;5;241m>\u001b[39m \u001b[38;5;241m0\u001b[39m:\n\u001b[1;32m--> 306\u001b[0m         gotit \u001b[38;5;241m=\u001b[39m \u001b[43mwaiter\u001b[49m\u001b[38;5;241;43m.\u001b[39;49m\u001b[43macquire\u001b[49m\u001b[43m(\u001b[49m\u001b[38;5;28;43;01mTrue\u001b[39;49;00m\u001b[43m,\u001b[49m\u001b[43m \u001b[49m\u001b[43mtimeout\u001b[49m\u001b[43m)\u001b[49m\n\u001b[0;32m    307\u001b[0m     \u001b[38;5;28;01melse\u001b[39;00m:\n\u001b[0;32m    308\u001b[0m         gotit \u001b[38;5;241m=\u001b[39m waiter\u001b[38;5;241m.\u001b[39macquire(\u001b[38;5;28;01mFalse\u001b[39;00m)\n",
      "\u001b[1;31mKeyboardInterrupt\u001b[0m: "
     ]
    }
   ],
   "source": [
    "results = model.fit(\n",
    "    X_train,\n",
    "    y_train,\n",
    "    batch_size=32,\n",
    "    epochs=1000,\n",
    "    callbacks=my_callbacks,\n",
    "    validation_data=(X_test, y_test)\n",
    ")"
   ]
  },
  {
   "cell_type": "code",
   "execution_count": 206,
   "id": "27c95a3c",
   "metadata": {
    "pycharm": {
     "name": "#%%\n"
    }
   },
   "outputs": [
    {
     "data": {
      "image/png": "[encoded data removed]",
      "text/plain": [
       "<Figure size 576x576 with 1 Axes>"
      ]
     },
     "metadata": {
      "needs_background": "light"
     },
     "output_type": "display_data"
    }
   ],
   "source": [
    "plt.figure(figsize=(8, 8))\n",
    "plt.title(\"Learning curve\")\n",
    "plt.plot(results.history[\"loss\"], label=\"loss\")\n",
    "plt.plot(results.history[\"val_loss\"], label=\"val_loss\")\n",
    "plt.plot( np.argmin(results.history[\"val_loss\"]), np.min(results.history[\"val_loss\"]), marker=\"x\", color=\"r\", label=\"best model\")\n",
    "plt.xlabel(\"Epochs\")\n",
    "plt.ylabel(\"log_loss\")\n",
    "plt.legend();"
   ]
  },
  {
   "cell_type": "code",
   "execution_count": 207,
   "id": "f4936f11",
   "metadata": {
    "pycharm": {
     "name": "#%%\n"
    }
   },
   "outputs": [],
   "source": [
    "y_pred = model.predict(X_test)"
   ]
  },
  {
   "cell_type": "code",
   "execution_count": 208,
   "id": "feced932",
   "metadata": {},
   "outputs": [
    {
     "data": {
      "text/plain": [
       "(3, 160, 160, 22)"
      ]
     },
     "execution_count": 208,
     "metadata": {},
     "output_type": "execute_result"
    }
   ],
   "source": [
    "X_test.shape"
   ]
  },
  {
   "cell_type": "code",
   "execution_count": 209,
   "id": "61329cb7",
   "metadata": {},
   "outputs": [
    {
     "data": {
      "text/plain": [
       "(3, 160, 160, 22)"
      ]
     },
     "execution_count": 209,
     "metadata": {},
     "output_type": "execute_result"
    }
   ],
   "source": [
    "y_pred.shape"
   ]
  },
  {
   "cell_type": "code",
   "execution_count": 210,
   "id": "699ee121",
   "metadata": {},
   "outputs": [
    {
     "data": {
      "text/plain": [
       "(3, 160, 160, 22)"
      ]
     },
     "execution_count": 210,
     "metadata": {},
     "output_type": "execute_result"
    }
   ],
   "source": [
    "y_test.shape"
   ]
  },
  {
   "cell_type": "code",
   "execution_count": 211,
   "id": "77fa8bb6",
   "metadata": {},
   "outputs": [
    {
     "data": {
      "text/plain": [
       "array([-0.19903737,  0.11794328, -0.24557082, -0.54851068,  0.09910056,\n",
       "       -0.28768578,  0.02161282,  0.29264464, -0.20378099,  0.51545351,\n",
       "        0.54952011,  0.0807605 , -0.12984427,  0.31793624, -0.02537075,\n",
       "       -0.29820646, -0.4551867 ,  0.24079032, -0.24153012, -0.19589598,\n",
       "       -0.41141442,  0.31475947])"
      ]
     },
     "execution_count": 211,
     "metadata": {},
     "output_type": "execute_result"
    }
   ],
   "source": [
    "y_test[0,0,0]"
   ]
  },
  {
   "cell_type": "code",
   "execution_count": 212,
   "id": "af00fc97",
   "metadata": {},
   "outputs": [
    {
     "data": {
      "text/plain": [
       "array([-0.18584645,  0.11126582, -0.15644872, -0.23019624,  0.06372911,\n",
       "       -0.00669005, -0.03452036,  0.1353563 ,  0.00035829,  0.15605855,\n",
       "        0.22680397, -0.14442852, -0.10806216,  0.22026551, -0.0875077 ,\n",
       "       -0.17380323, -0.13008595,  0.00053675, -0.13583946, -0.00948873,\n",
       "       -0.10060748,  0.2246458 ], dtype=float32)"
      ]
     },
     "execution_count": 212,
     "metadata": {},
     "output_type": "execute_result"
    }
   ],
   "source": [
    "y_pred[0,0,0]"
   ]
  },
  {
   "cell_type": "code",
   "execution_count": null,
   "id": "8e21ebfb",
   "metadata": {},
   "outputs": [],
   "source": []
  },
  {
   "cell_type": "code",
   "execution_count": null,
   "id": "25f3ef5e",
   "metadata": {},
   "outputs": [],
   "source": []
  },
  {
   "cell_type": "code",
   "execution_count": null,
   "id": "74c9fbda",
   "metadata": {
    "pycharm": {
     "name": "#%%\n"
    }
   },
   "outputs": [],
   "source": [
    "y_test = y_test.T"
   ]
  },
  {
   "cell_type": "code",
   "execution_count": null,
   "id": "e79a9369",
   "metadata": {},
   "outputs": [],
   "source": []
  },
  {
   "cell_type": "code",
   "execution_count": null,
   "id": "7884f7dc",
   "metadata": {
    "pycharm": {
     "name": "#%%\n"
    }
   },
   "outputs": [],
   "source": [
    "y_pred = y_pred.T"
   ]
  },
  {
   "cell_type": "code",
   "execution_count": null,
   "id": "87f75bf5",
   "metadata": {
    "pycharm": {
     "name": "#%%\n"
    }
   },
   "outputs": [],
   "source": [
    "y_pred.shape"
   ]
  },
  {
   "cell_type": "code",
   "execution_count": null,
   "id": "99f5188a",
   "metadata": {
    "pycharm": {
     "name": "#%%\n"
    }
   },
   "outputs": [],
   "source": [
    "print(\"y_test : \\n\", y_test[0,0,1])\n",
    "print(\"=====================================\")\n",
    "print(\"y_pred : \\n\", y_pred[0,0,1])"
   ]
  },
  {
   "cell_type": "code",
   "execution_count": null,
   "id": "e8c2d00a",
   "metadata": {
    "pycharm": {
     "name": "#%%\n"
    }
   },
   "outputs": [],
   "source": [
    "axe = plt.axes()\n",
    "plt.rcParams.update({'font.size':15})\n",
    "plt.style.use('seaborn-whitegrid')\n",
    "plt.scatter(y_test[:,0], y_pred[:,0], s=1)\n",
    "plt.title('Coefficients')\n",
    "axe.set(xlabel=\"y_test\", ylabel=\"y_pred\")\n",
    "plt.show()\n",
    "# plt.scatter(X_test, y_test, label=\"Données d'évaluation\", color=\"b\")"
   ]
  }
 ],
 "metadata": {
  "kernelspec": {
   "display_name": "Python 3 (ipykernel)",
   "language": "python",
   "name": "python3"
  },
  "language_info": {
   "codemirror_mode": {
    "name": "ipython",
    "version": 3
   },
   "file_extension": ".py",
   "mimetype": "text/x-python",
   "name": "python",
   "nbconvert_exporter": "python",
   "pygments_lexer": "ipython3",
   "version": "3.8.13"
  }
 },
 "nbformat": 4,
 "nbformat_minor": 5
}
