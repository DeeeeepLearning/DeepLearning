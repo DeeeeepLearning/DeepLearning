{
 "cells": [
  {
   "cell_type": "code",
   "execution_count": 1,
   "id": "c4a43672",
   "metadata": {},
   "outputs": [],
   "source": [
    "import tensorflow as tf\n",
    "from tensorflow import keras"
   ]
  },
  {
   "cell_type": "code",
   "execution_count": 2,
   "id": "3ef728dd",
   "metadata": {},
   "outputs": [],
   "source": [
    "import os\n",
    "import random\n",
    "import numpy as np\n",
    "from tqdm import tqdm\n",
    "from skimage import io\n",
    "from skimage.transform import resize\n",
    "import matplotlib.pyplot as plt\n",
    "import random\n",
    "import time\n",
    "from sklearn.model_selection import train_test_split"
   ]
  },
  {
   "cell_type": "code",
   "execution_count": 3,
   "id": "4b70e19c",
   "metadata": {},
   "outputs": [],
   "source": [
    "seed = 42\n",
    "np.random.seed = seed\n",
    "\n",
    "IMG_WIDTH = 499\n",
    "IMG_HEIGHT = 802\n",
    "IMG_CHANNEL = 22"
   ]
  },
  {
   "cell_type": "code",
   "execution_count": 4,
   "id": "7fb3253f",
   "metadata": {},
   "outputs": [],
   "source": [
    "def get_data(file_path):\n",
    "    \n",
    "    file = open(file_path, \"r\")\n",
    "\n",
    "    allText = file.read()\n",
    "\n",
    "    words = list(map(str, allText.split()))\n",
    "\n",
    "    matrice_height = int(len(words) / 30)\n",
    "    matrice = np.ones((matrice_height, 24))\n",
    "\n",
    "    emplacement = 20\n",
    "    iter1 = 0\n",
    "    for i in range(emplacement, int(len(words) / 30) + emplacement):\n",
    "        iter2 = 0\n",
    "        for j in range(emplacement + 6, emplacement + 30):\n",
    "            matrice[(iter1, iter2)] = words[j]\n",
    "            iter2 += 1\n",
    "        iter1 += 1\n",
    "        emplacement += 30\n",
    "    X_2 = np.delete(matrice, 1, 1)\n",
    "    X_final = np.delete(X_2, 10, 1)\n",
    "    \n",
    "    file.close()\n",
    "    \n",
    "    return X_final"
   ]
  },
  {
   "cell_type": "code",
   "execution_count": 5,
   "id": "b65eb335",
   "metadata": {},
   "outputs": [],
   "source": [
    "file_in_path = \"C_maps_in.txt\"\n",
    "file_out_path = \"C_maps_out.txt\"\n",
    "\n",
    "X = get_data(file_in_path)\n",
    "y = get_data(file_out_path)"
   ]
  },
  {
   "cell_type": "code",
   "execution_count": 6,
   "id": "0599d516",
   "metadata": {},
   "outputs": [
    {
     "data": {
      "text/plain": [
       "(400198, 22)"
      ]
     },
     "execution_count": 6,
     "metadata": {},
     "output_type": "execute_result"
    }
   ],
   "source": [
    "X.shape"
   ]
  },
  {
   "cell_type": "code",
   "execution_count": 7,
   "id": "9e9feb90",
   "metadata": {},
   "outputs": [],
   "source": [
    "X = X.reshape((1, 499, 802, 22))"
   ]
  },
  {
   "cell_type": "code",
   "execution_count": 8,
   "id": "49d95851",
   "metadata": {},
   "outputs": [
    {
     "data": {
      "text/plain": [
       "(1, 499, 802, 22)"
      ]
     },
     "execution_count": 8,
     "metadata": {},
     "output_type": "execute_result"
    }
   ],
   "source": [
    "X.shape"
   ]
  },
  {
   "cell_type": "code",
   "execution_count": 9,
   "id": "2f609151",
   "metadata": {},
   "outputs": [],
   "source": [
    "y = y.reshape((1, 499, 802, 22))"
   ]
  },
  {
   "cell_type": "code",
   "execution_count": 10,
   "id": "990ba830",
   "metadata": {},
   "outputs": [
    {
     "data": {
      "text/plain": [
       "(1, 499, 802, 22)"
      ]
     },
     "execution_count": 10,
     "metadata": {},
     "output_type": "execute_result"
    }
   ],
   "source": [
    "y.shape"
   ]
  },
  {
   "cell_type": "code",
   "execution_count": 11,
   "id": "1ebf41d0",
   "metadata": {},
   "outputs": [
    {
     "data": {
      "text/plain": [
       "(1, 499, 802, 22)"
      ]
     },
     "execution_count": 11,
     "metadata": {},
     "output_type": "execute_result"
    }
   ],
   "source": [
    "y.shape"
   ]
  },
  {
   "cell_type": "code",
   "execution_count": 61,
   "id": "c71a4c4c",
   "metadata": {},
   "outputs": [],
   "source": [
    "X1 = X[:, :32, :128, :]\n",
    "X2 = X[:, :32, 134:262, :]\n",
    "X3 = X[:, :32, 268:396, :]\n",
    "X4 = X[:, :32, 402:530, :]\n",
    "X5 = X[:, :32, 536:664, :]\n",
    "X6 = X[:, :32, 670:798, :]\n",
    "\n",
    "X7 = X[:, 33:65, :128 , :]\n",
    "X8 = X[:, 33:65, 134:262, :]\n",
    "X9 = X[:, 33:65, 268:396, :]\n",
    "X10 = X[:, 33:65, 402:530, :]\n",
    "X11 = X[:, 33:65, 536:664, :]\n",
    "X12 = X[:, 33:65, 670:798, :]\n",
    "\n",
    "X13 = X[:, 66:98, :128 , :]\n",
    "X14 = X[:, 66:98, 134:262, :]\n",
    "X15 = X[:, 66:98, 268:396, :]\n",
    "X16 = X[:, 66:98, 402:530, :]\n",
    "X17 = X[:, 66:98, 536:664, :]\n",
    "X18 = X[:, 66:98, 670:798, :]\n",
    "\n",
    "X13 = X[:, 99:131, :128 , :]\n",
    "X14 = X[:, 99:131, 134:262, :]\n",
    "X15 = X[:, 99:131, 268:396, :]\n",
    "X16 = X[:, 99:131, 402:530, :]\n",
    "X17 = X[:, 99:131, 536:664, :]\n",
    "X18 = X[:, 99:131, 670:798, :]\n",
    "#===============================\n",
    "y1 = y[:, :160, :128, :]\n",
    "y2 = y[:, :160, 134:262, :]\n",
    "y3 = y[:, :160, 268:396, :]\n",
    "y4 = y[:, :160, 402:530, :]\n",
    "y5 = y[:, :160, 536:664, :]\n",
    "y6 = y[:, :160, 670:798, :]\n",
    "\n",
    "y7 = y[:, 166:326, :128 , :]\n",
    "y8 = y[:, 166:326, 134:262, :]\n",
    "y9 = y[:, 166:326, 268:396, :]\n",
    "y10 = y[:, 166:326, 402:530, :]\n",
    "y11 = y[:, 166:326, 536:664, :]\n",
    "y12 = y[:, 166:326, 670:798, :]\n",
    "\n",
    "y13 = y[:, 332:492, :128 , :]\n",
    "y14 = y[:, 332:492, 134:262, :]\n",
    "y15 = y[:, 332:492, 268:396, :]\n",
    "y16 = y[:, 332:492, 402:530, :]\n",
    "y17 = y[:, 332:492, 536:664, :]\n",
    "y18 = y[:, 332:492, 670:798, :]"
   ]
  },
  {
   "cell_type": "code",
   "execution_count": 62,
   "id": "ac6a5b36",
   "metadata": {},
   "outputs": [
    {
     "name": "stdout",
     "output_type": "stream",
     "text": [
      "(1, 160, 128, 22)\n"
     ]
    }
   ],
   "source": [
    "print(y1.shape)"
   ]
  },
  {
   "cell_type": "code",
   "execution_count": 63,
   "id": "452f7524",
   "metadata": {},
   "outputs": [],
   "source": [
    "new_X = np.concatenate((X1, X2), axis=0)\n",
    "new_Y = np.concatenate((y1, y2), axis=0)\n",
    "new_X = np.concatenate((new_X, X3), axis=0)\n",
    "new_Y = np.concatenate((new_Y, y3), axis=0)\n",
    "new_X = np.concatenate((new_X, X4), axis=0)\n",
    "new_Y = np.concatenate((new_Y, y4), axis=0)\n",
    "new_X = np.concatenate((new_X, X5), axis=0)\n",
    "new_Y = np.concatenate((new_Y, y5), axis=0)\n",
    "new_X = np.concatenate((new_X, X6), axis=0)\n",
    "new_Y = np.concatenate((new_Y, y6), axis=0)\n",
    "new_X = np.concatenate((new_X, X7), axis=0)\n",
    "new_Y = np.concatenate((new_Y, y7), axis=0)\n",
    "new_X = np.concatenate((new_X, X8), axis=0)\n",
    "new_Y = np.concatenate((new_Y, y8), axis=0)\n",
    "new_X = np.concatenate((new_X, X9), axis=0)\n",
    "new_Y = np.concatenate((new_Y, y9), axis=0)\n",
    "new_X = np.concatenate((new_X, X10), axis=0)\n",
    "new_Y = np.concatenate((new_Y, y10), axis=0)\n",
    "new_X = np.concatenate((new_X, X11), axis=0)\n",
    "new_Y = np.concatenate((new_Y, y11), axis=0)\n",
    "new_X = np.concatenate((new_X, X12), axis=0)\n",
    "new_Y = np.concatenate((new_Y, y12), axis=0)\n",
    "new_X = np.concatenate((new_X, X13), axis=0)\n",
    "new_Y = np.concatenate((new_Y, y13), axis=0)\n",
    "new_X = np.concatenate((new_X, X14), axis=0)\n",
    "new_Y = np.concatenate((new_Y, y14), axis=0)\n",
    "new_X = np.concatenate((new_X, X15), axis=0)\n",
    "new_Y = np.concatenate((new_Y, y15), axis=0)\n",
    "new_X = np.concatenate((new_X, X16), axis=0)\n",
    "new_Y = np.concatenate((new_Y, y16), axis=0)\n",
    "new_X = np.concatenate((new_X, X17), axis=0)\n",
    "new_Y = np.concatenate((new_Y, y17), axis=0)\n",
    "new_X = np.concatenate((new_X, X18), axis=0)\n",
    "new_Y = np.concatenate((new_Y, y18), axis=0)"
   ]
  },
  {
   "cell_type": "code",
   "execution_count": 64,
   "id": "0979381e",
   "metadata": {},
   "outputs": [
    {
     "data": {
      "text/plain": [
       "(18, 160, 128, 22)"
      ]
     },
     "execution_count": 64,
     "metadata": {},
     "output_type": "execute_result"
    }
   ],
   "source": [
    "new_X.shape"
   ]
  },
  {
   "cell_type": "markdown",
   "id": "9873e4a8",
   "metadata": {},
   "source": [
    "séparer en 12 l'image, 166x200, 802"
   ]
  },
  {
   "cell_type": "code",
   "execution_count": 65,
   "id": "70a5a08b",
   "metadata": {},
   "outputs": [],
   "source": [
    "# Build the model\n",
    "inputs = tf.keras.layers.Input((IMG_WIDTH, IMG_HEIGHT, IMG_CHANNEL))"
   ]
  },
  {
   "cell_type": "code",
   "execution_count": 66,
   "id": "0d9bc299",
   "metadata": {},
   "outputs": [],
   "source": [
    "# Contraction path\n",
    "c1 = tf.keras.layers.Conv2D(16, (3, 3), activation=\"relu\", kernel_initializer=\"he_normal\", padding=\"same\")(inputs)\n",
    "c1 = tf.keras.layers.Dropout(0.1)(c1)\n",
    "c1 = tf.keras.layers.Conv2D(16, (3, 3), activation=\"relu\", kernel_initializer=\"he_normal\", padding=\"same\")(c1)\n",
    "p1 = tf.keras.layers.MaxPooling2D((2, 2))(c1)\n",
    "\n",
    "c2 = tf.keras.layers.Conv2D(32, (3, 3), activation=\"relu\", kernel_initializer=\"he_normal\", padding=\"same\")(p1)\n",
    "c2 = tf.keras.layers.Dropout(0.1)(c2)\n",
    "c2 = tf.keras.layers.Conv2D(32, (3, 3), activation=\"relu\", kernel_initializer=\"he_normal\", padding=\"same\")(c2)\n",
    "p2 = tf.keras.layers.MaxPooling2D((2, 2))(c2)\n",
    "\n",
    "c3 = tf.keras.layers.Conv2D(64, (3, 3), activation=\"relu\", kernel_initializer=\"he_normal\", padding=\"same\")(p2)\n",
    "c3 = tf.keras.layers.Dropout(0.2)(c3)\n",
    "c3 = tf.keras.layers.Conv2D(64, (3, 3), activation=\"relu\", kernel_initializer=\"he_normal\", padding=\"same\")(c3)\n",
    "p3 = tf.keras.layers.MaxPooling2D((2, 2))(c3)\n",
    "\n",
    "c4 = tf.keras.layers.Conv2D(128, (3, 3), activation=\"relu\", kernel_initializer=\"he_normal\", padding=\"same\")(p3)\n",
    "c4 = tf.keras.layers.Dropout(0.2)(c4)\n",
    "c4 = tf.keras.layers.Conv2D(128, (3, 3), activation=\"relu\", kernel_initializer=\"he_normal\", padding=\"same\")(c4)\n",
    "p4 = tf.keras.layers.MaxPooling2D((2, 2))(c4)\n",
    "\n",
    "c5 = tf.keras.layers.Conv2D(256, (3, 3), activation=\"relu\", kernel_initializer=\"he_normal\", padding=\"same\")(p4)\n",
    "c5 = tf.keras.layers.Dropout(0.3)(c5)\n",
    "c5 = tf.keras.layers.Conv2D(256, (3, 3), activation=\"relu\", kernel_initializer=\"he_normal\", padding=\"same\")(c5)\n"
   ]
  },
  {
   "cell_type": "code",
   "execution_count": 67,
   "id": "2c9af25a",
   "metadata": {},
   "outputs": [
    {
     "ename": "ValueError",
     "evalue": "A `Concatenate` layer requires inputs with matching shapes except for the concatenation axis. Received: input_shape=[(None, 248, 400, 32), (None, 249, 401, 32)]",
     "output_type": "error",
     "traceback": [
      "\u001b[1;31m---------------------------------------------------------------------------\u001b[0m",
      "\u001b[1;31mValueError\u001b[0m                                Traceback (most recent call last)",
      "\u001b[1;32mC:\\Users\\BASBUN~1\\AppData\\Local\\Temp/ipykernel_31464/2240066207.py\u001b[0m in \u001b[0;36m<module>\u001b[1;34m\u001b[0m\n\u001b[0;32m     13\u001b[0m \u001b[1;33m\u001b[0m\u001b[0m\n\u001b[0;32m     14\u001b[0m \u001b[0mu8\u001b[0m \u001b[1;33m=\u001b[0m \u001b[0mtf\u001b[0m\u001b[1;33m.\u001b[0m\u001b[0mkeras\u001b[0m\u001b[1;33m.\u001b[0m\u001b[0mlayers\u001b[0m\u001b[1;33m.\u001b[0m\u001b[0mConv2DTranspose\u001b[0m\u001b[1;33m(\u001b[0m\u001b[1;36m32\u001b[0m\u001b[1;33m,\u001b[0m \u001b[1;33m(\u001b[0m\u001b[1;36m2\u001b[0m\u001b[1;33m,\u001b[0m \u001b[1;36m2\u001b[0m\u001b[1;33m)\u001b[0m\u001b[1;33m,\u001b[0m \u001b[0mstrides\u001b[0m\u001b[1;33m=\u001b[0m\u001b[1;33m(\u001b[0m\u001b[1;36m2\u001b[0m\u001b[1;33m,\u001b[0m \u001b[1;36m2\u001b[0m\u001b[1;33m)\u001b[0m\u001b[1;33m,\u001b[0m \u001b[0mpadding\u001b[0m\u001b[1;33m=\u001b[0m\u001b[1;34m\"same\"\u001b[0m\u001b[1;33m)\u001b[0m\u001b[1;33m(\u001b[0m\u001b[0mc7\u001b[0m\u001b[1;33m)\u001b[0m\u001b[1;33m\u001b[0m\u001b[1;33m\u001b[0m\u001b[0m\n\u001b[1;32m---> 15\u001b[1;33m \u001b[0mu8\u001b[0m \u001b[1;33m=\u001b[0m \u001b[0mtf\u001b[0m\u001b[1;33m.\u001b[0m\u001b[0mkeras\u001b[0m\u001b[1;33m.\u001b[0m\u001b[0mlayers\u001b[0m\u001b[1;33m.\u001b[0m\u001b[0mconcatenate\u001b[0m\u001b[1;33m(\u001b[0m\u001b[1;33m[\u001b[0m\u001b[0mu8\u001b[0m\u001b[1;33m,\u001b[0m \u001b[0mc2\u001b[0m\u001b[1;33m]\u001b[0m\u001b[1;33m)\u001b[0m\u001b[1;33m\u001b[0m\u001b[1;33m\u001b[0m\u001b[0m\n\u001b[0m\u001b[0;32m     16\u001b[0m \u001b[0mc8\u001b[0m \u001b[1;33m=\u001b[0m \u001b[0mtf\u001b[0m\u001b[1;33m.\u001b[0m\u001b[0mkeras\u001b[0m\u001b[1;33m.\u001b[0m\u001b[0mlayers\u001b[0m\u001b[1;33m.\u001b[0m\u001b[0mConv2D\u001b[0m\u001b[1;33m(\u001b[0m\u001b[1;36m32\u001b[0m\u001b[1;33m,\u001b[0m \u001b[1;33m(\u001b[0m\u001b[1;36m3\u001b[0m\u001b[1;33m,\u001b[0m \u001b[1;36m3\u001b[0m\u001b[1;33m)\u001b[0m\u001b[1;33m,\u001b[0m \u001b[0mactivation\u001b[0m\u001b[1;33m=\u001b[0m\u001b[1;34m\"relu\"\u001b[0m\u001b[1;33m,\u001b[0m \u001b[0mkernel_initializer\u001b[0m\u001b[1;33m=\u001b[0m\u001b[1;34m\"he_normal\"\u001b[0m\u001b[1;33m,\u001b[0m \u001b[0mpadding\u001b[0m\u001b[1;33m=\u001b[0m\u001b[1;34m\"same\"\u001b[0m\u001b[1;33m)\u001b[0m\u001b[1;33m(\u001b[0m\u001b[0mu8\u001b[0m\u001b[1;33m)\u001b[0m\u001b[1;33m\u001b[0m\u001b[1;33m\u001b[0m\u001b[0m\n\u001b[0;32m     17\u001b[0m \u001b[0mc8\u001b[0m \u001b[1;33m=\u001b[0m \u001b[0mtf\u001b[0m\u001b[1;33m.\u001b[0m\u001b[0mkeras\u001b[0m\u001b[1;33m.\u001b[0m\u001b[0mlayers\u001b[0m\u001b[1;33m.\u001b[0m\u001b[0mDropout\u001b[0m\u001b[1;33m(\u001b[0m\u001b[1;36m0.1\u001b[0m\u001b[1;33m)\u001b[0m\u001b[1;33m(\u001b[0m\u001b[0mc8\u001b[0m\u001b[1;33m)\u001b[0m\u001b[1;33m\u001b[0m\u001b[1;33m\u001b[0m\u001b[0m\n",
      "\u001b[1;32m~\\Anaconda3\\lib\\site-packages\\keras\\layers\\merge.py\u001b[0m in \u001b[0;36mconcatenate\u001b[1;34m(inputs, axis, **kwargs)\u001b[0m\n\u001b[0;32m    966\u001b[0m       \u001b[0mA\u001b[0m \u001b[0mtensor\u001b[0m\u001b[1;33m,\u001b[0m \u001b[0mthe\u001b[0m \u001b[0mconcatenation\u001b[0m \u001b[0mof\u001b[0m \u001b[0mthe\u001b[0m \u001b[0minputs\u001b[0m \u001b[0malongside\u001b[0m \u001b[0maxis\u001b[0m\u001b[0;31m \u001b[0m\u001b[0;31m`\u001b[0m\u001b[0maxis\u001b[0m\u001b[0;31m`\u001b[0m\u001b[1;33m.\u001b[0m\u001b[1;33m\u001b[0m\u001b[1;33m\u001b[0m\u001b[0m\n\u001b[0;32m    967\u001b[0m   \"\"\"\n\u001b[1;32m--> 968\u001b[1;33m   \u001b[1;32mreturn\u001b[0m \u001b[0mConcatenate\u001b[0m\u001b[1;33m(\u001b[0m\u001b[0maxis\u001b[0m\u001b[1;33m=\u001b[0m\u001b[0maxis\u001b[0m\u001b[1;33m,\u001b[0m \u001b[1;33m**\u001b[0m\u001b[0mkwargs\u001b[0m\u001b[1;33m)\u001b[0m\u001b[1;33m(\u001b[0m\u001b[0minputs\u001b[0m\u001b[1;33m)\u001b[0m\u001b[1;33m\u001b[0m\u001b[1;33m\u001b[0m\u001b[0m\n\u001b[0m\u001b[0;32m    969\u001b[0m \u001b[1;33m\u001b[0m\u001b[0m\n\u001b[0;32m    970\u001b[0m \u001b[1;33m\u001b[0m\u001b[0m\n",
      "\u001b[1;32m~\\Anaconda3\\lib\\site-packages\\keras\\utils\\traceback_utils.py\u001b[0m in \u001b[0;36merror_handler\u001b[1;34m(*args, **kwargs)\u001b[0m\n\u001b[0;32m     65\u001b[0m     \u001b[1;32mexcept\u001b[0m \u001b[0mException\u001b[0m \u001b[1;32mas\u001b[0m \u001b[0me\u001b[0m\u001b[1;33m:\u001b[0m  \u001b[1;31m# pylint: disable=broad-except\u001b[0m\u001b[1;33m\u001b[0m\u001b[1;33m\u001b[0m\u001b[0m\n\u001b[0;32m     66\u001b[0m       \u001b[0mfiltered_tb\u001b[0m \u001b[1;33m=\u001b[0m \u001b[0m_process_traceback_frames\u001b[0m\u001b[1;33m(\u001b[0m\u001b[0me\u001b[0m\u001b[1;33m.\u001b[0m\u001b[0m__traceback__\u001b[0m\u001b[1;33m)\u001b[0m\u001b[1;33m\u001b[0m\u001b[1;33m\u001b[0m\u001b[0m\n\u001b[1;32m---> 67\u001b[1;33m       \u001b[1;32mraise\u001b[0m \u001b[0me\u001b[0m\u001b[1;33m.\u001b[0m\u001b[0mwith_traceback\u001b[0m\u001b[1;33m(\u001b[0m\u001b[0mfiltered_tb\u001b[0m\u001b[1;33m)\u001b[0m \u001b[1;32mfrom\u001b[0m \u001b[1;32mNone\u001b[0m\u001b[1;33m\u001b[0m\u001b[1;33m\u001b[0m\u001b[0m\n\u001b[0m\u001b[0;32m     68\u001b[0m     \u001b[1;32mfinally\u001b[0m\u001b[1;33m:\u001b[0m\u001b[1;33m\u001b[0m\u001b[1;33m\u001b[0m\u001b[0m\n\u001b[0;32m     69\u001b[0m       \u001b[1;32mdel\u001b[0m \u001b[0mfiltered_tb\u001b[0m\u001b[1;33m\u001b[0m\u001b[1;33m\u001b[0m\u001b[0m\n",
      "\u001b[1;32m~\\Anaconda3\\lib\\site-packages\\keras\\layers\\merge.py\u001b[0m in \u001b[0;36mbuild\u001b[1;34m(self, input_shape)\u001b[0m\n\u001b[0;32m    526\u001b[0m             shape[axis] for shape in shape_set if shape[axis] is not None)\n\u001b[0;32m    527\u001b[0m         \u001b[1;32mif\u001b[0m \u001b[0mlen\u001b[0m\u001b[1;33m(\u001b[0m\u001b[0munique_dims\u001b[0m\u001b[1;33m)\u001b[0m \u001b[1;33m>\u001b[0m \u001b[1;36m1\u001b[0m\u001b[1;33m:\u001b[0m\u001b[1;33m\u001b[0m\u001b[1;33m\u001b[0m\u001b[0m\n\u001b[1;32m--> 528\u001b[1;33m           \u001b[1;32mraise\u001b[0m \u001b[0mValueError\u001b[0m\u001b[1;33m(\u001b[0m\u001b[0merr_msg\u001b[0m\u001b[1;33m)\u001b[0m\u001b[1;33m\u001b[0m\u001b[1;33m\u001b[0m\u001b[0m\n\u001b[0m\u001b[0;32m    529\u001b[0m \u001b[1;33m\u001b[0m\u001b[0m\n\u001b[0;32m    530\u001b[0m   \u001b[1;32mdef\u001b[0m \u001b[0m_merge_function\u001b[0m\u001b[1;33m(\u001b[0m\u001b[0mself\u001b[0m\u001b[1;33m,\u001b[0m \u001b[0minputs\u001b[0m\u001b[1;33m)\u001b[0m\u001b[1;33m:\u001b[0m\u001b[1;33m\u001b[0m\u001b[1;33m\u001b[0m\u001b[0m\n",
      "\u001b[1;31mValueError\u001b[0m: A `Concatenate` layer requires inputs with matching shapes except for the concatenation axis. Received: input_shape=[(None, 248, 400, 32), (None, 249, 401, 32)]"
     ]
    }
   ],
   "source": [
    "# Expansive path\n",
    "u6 = tf.keras.layers.Conv2DTranspose(128, (2, 2), strides=(2, 2), padding=\"same\")(c5)\n",
    "u6 = tf.keras.layers.concatenate([u6, c4])\n",
    "c6 = tf.keras.layers.Conv2D(128, (3, 3), activation=\"relu\", kernel_initializer=\"he_normal\", padding=\"same\")(u6)\n",
    "c6 = tf.keras.layers.Dropout(0.2)(c6)\n",
    "c6 = tf.keras.layers.Conv2D(128, (3, 3), activation=\"relu\", kernel_initializer=\"he_normal\", padding=\"same\")(c6)\n",
    "\n",
    "u7 = tf.keras.layers.Conv2DTranspose(64, (2, 2), strides=(2, 2), padding=\"same\")(c6)\n",
    "u7 = tf.keras.layers.concatenate([u7, c3])\n",
    "c7 = tf.keras.layers.Conv2D(64, (3, 3), activation=\"relu\", kernel_initializer=\"he_normal\", padding=\"same\")(u7)\n",
    "c7 = tf.keras.layers.Dropout(0.2)(c7)\n",
    "c7 = tf.keras.layers.Conv2D(64, (3, 3), activation=\"relu\", kernel_initializer=\"he_normal\", padding=\"same\")(c7)\n",
    "\n",
    "u8 = tf.keras.layers.Conv2DTranspose(32, (2, 2), strides=(2, 2), padding=\"same\")(c7)\n",
    "u8 = tf.keras.layers.concatenate([u8, c2])\n",
    "c8 = tf.keras.layers.Conv2D(32, (3, 3), activation=\"relu\", kernel_initializer=\"he_normal\", padding=\"same\")(u8)\n",
    "c8 = tf.keras.layers.Dropout(0.1)(c8)\n",
    "c8 = tf.keras.layers.Conv2D(32, (3, 3), activation=\"relu\", kernel_initializer=\"he_normal\", padding=\"same\")(c8)\n",
    "\n",
    "u9 = tf.keras.layers.Conv2DTranspose(16, (2, 2), strides=(2, 2), padding=\"same\")(c8)\n",
    "u9 = tf.keras.layers.concatenate([u9, c1], axis=3)\n",
    "c9 = tf.keras.layers.Conv2D(16, (3, 3), activation=\"relu\", kernel_initializer=\"he_normal\", padding=\"same\")(u9)\n",
    "c9 = tf.keras.layers.Dropout(0.1)(c9)\n",
    "c9 = tf.keras.layers.Conv2D(16, (3, 3), activation=\"relu\", kernel_initializer=\"he_normal\", padding=\"same\")(c9)\n",
    "\n",
    "outputs = tf.keras.layers.Conv2D(1, (1, 1))(c9) # activation=\"sigmoid\"\n",
    "\n",
    "model = tf.keras.Model(inputs=[inputs], outputs=[outputs])\n",
    "model.compile(optimizer=\"adam\", loss=\"mae\", metrics=[\"accuracy\"])\n",
    "model.summary()"
   ]
  },
  {
   "cell_type": "code",
   "execution_count": null,
   "id": "eb28aa61",
   "metadata": {},
   "outputs": [],
   "source": [
    "y.shape"
   ]
  },
  {
   "cell_type": "code",
   "execution_count": null,
   "id": "5d540c62",
   "metadata": {},
   "outputs": [],
   "source": [
    "X = X[:,:256,:512,:]"
   ]
  },
  {
   "cell_type": "code",
   "execution_count": null,
   "id": "e34e2797",
   "metadata": {},
   "outputs": [],
   "source": [
    "y = y[:,:256,:512,:]"
   ]
  },
  {
   "cell_type": "code",
   "execution_count": null,
   "id": "c2215227",
   "metadata": {},
   "outputs": [],
   "source": [
    "y.shape"
   ]
  },
  {
   "cell_type": "code",
   "execution_count": null,
   "id": "efb6130b",
   "metadata": {},
   "outputs": [],
   "source": [
    "X_train, X_test, y_train, y_test = train_test_split(X, y, test_size=0.2, random_state=1)"
   ]
  },
  {
   "cell_type": "code",
   "execution_count": null,
   "id": "a8b91b65",
   "metadata": {},
   "outputs": [],
   "source": [
    "# Model checkpoint\n",
    "checkpointer = tf.keras.callbacks.ModelCheckpoint(\"Unet.h5\", verbose=1, save_best_only=True)\n",
    "callbacks = [\n",
    "    tf.keras.callbacks.EarlyStopping(patience=10, monitor=\"loss\"),\n",
    "    tf.keras.callbacks.TensorBoard(log_dir=\"logs\")\n",
    "]\n",
    "\n",
    "results = model.fit(\n",
    "    X_train,\n",
    "    y_train,\n",
    "    # validation_split=0.1,\n",
    "    batch_size=16,\n",
    "    epochs=100,\n",
    "    callbacks=callbacks,\n",
    "    validation_data=(X_test, y_test)\n",
    ")"
   ]
  },
  {
   "cell_type": "code",
   "execution_count": null,
   "id": "ba5d3f10",
   "metadata": {},
   "outputs": [],
   "source": [
    "y_pred.shape"
   ]
  },
  {
   "cell_type": "code",
   "execution_count": null,
   "id": "f4936f11",
   "metadata": {},
   "outputs": [],
   "source": [
    "y_pred = model.predict(X_test)"
   ]
  },
  {
   "cell_type": "code",
   "execution_count": null,
   "id": "3d11c3d1",
   "metadata": {},
   "outputs": [],
   "source": [
    "y_test = y_test.reshape(5, 131072)\n",
    "y_pred = y_pred.reshape(5, 131072)"
   ]
  },
  {
   "cell_type": "code",
   "execution_count": null,
   "id": "74c9fbda",
   "metadata": {},
   "outputs": [],
   "source": [
    "y_test = y_test.T"
   ]
  },
  {
   "cell_type": "code",
   "execution_count": null,
   "id": "7884f7dc",
   "metadata": {},
   "outputs": [],
   "source": [
    "y_pred = y_pred.T"
   ]
  },
  {
   "cell_type": "code",
   "execution_count": null,
   "id": "87f75bf5",
   "metadata": {},
   "outputs": [],
   "source": [
    "y_pred.shape"
   ]
  },
  {
   "cell_type": "raw",
   "id": "8bfa1c87",
   "metadata": {},
   "source": [
    "for a in range(y_pred.shape[0]):    \n",
    "    for i in range(y_pred.shape[1]):\n",
    "        for j in range(y_pred.shape[2]):\n",
    "            y_pred[a, i, j][0] = round(y_pred[a, i, j][0], 3)\n",
    "            \n",
    "for b in range(y_test.shape[0]):    \n",
    "    for c in range(y_test.shape[1]):\n",
    "        for d in range(y_test.shape[2]):\n",
    "            y_test[b, c, d] = round(y_test[b, c, d], 3)"
   ]
  },
  {
   "cell_type": "code",
   "execution_count": null,
   "id": "99f5188a",
   "metadata": {},
   "outputs": [],
   "source": [
    "print(\"y_test : \\n\", y_test[0,0,1])\n",
    "print(\"=====================================\")\n",
    "print(\"y_pred : \\n\", y_pred[0,0,1])"
   ]
  },
  {
   "cell_type": "code",
   "execution_count": null,
   "id": "e8c2d00a",
   "metadata": {},
   "outputs": [],
   "source": [
    "axe = plt.axes()\n",
    "plt.rcParams.update({'font.size':15})\n",
    "plt.style.use('seaborn-whitegrid')\n",
    "plt.scatter(y_test[:,0], y_pred[:,0], s=1)\n",
    "plt.title('Coefficients')\n",
    "axe.set(xlabel=\"y_test\", ylabel=\"y_pred\")\n",
    "plt.show()\n",
    "# plt.scatter(X_test, y_test, label=\"Données d'évaluation\", color=\"b\")"
   ]
  },
  {
   "cell_type": "code",
   "execution_count": null,
   "id": "8c81bcb8",
   "metadata": {},
   "outputs": [],
   "source": [
    "idx = random.randint(0, len(X_train))\n",
    "preds_train = model.predict(X_train[:int(X_train.shape[0]*0.9)], verbose=1)\n",
    "preds_val = model.predict(X_train[int(X_train.shape[0]*0.9):], verbose=1)\n",
    "preds_test = model.predict(X_test, verbose = 1)"
   ]
  },
  {
   "cell_type": "code",
   "execution_count": null,
   "id": "76759582",
   "metadata": {},
   "outputs": [],
   "source": [
    "preds_train_t = (preds_train > 0.5).astype(np.uint8)\n",
    "preds_val_t = (preds_val > 0.5).astype(np.uint8)\n",
    "preds_test_t = (preds_test > 0.5).astype(np.uint8)"
   ]
  },
  {
   "cell_type": "code",
   "execution_count": null,
   "id": "4fa37eb2",
   "metadata": {},
   "outputs": [],
   "source": [
    "ix = random.randint(0, len(preds_train_t))\n",
    "imshow(X_train[ix])\n",
    "plt.show()\n",
    "imshow(np.squeeze(y_train[ix]))\n",
    "plt.show()\n",
    "imshow(np.squeeze(preds_train_t[ix]))\n",
    "plt.show()"
   ]
  },
  {
   "cell_type": "code",
   "execution_count": null,
   "id": "52f10c1e",
   "metadata": {},
   "outputs": [],
   "source": [
    "ix = random.randint(0, len(preds_val_t))\n",
    "imshow(X_train[int(X_train.shape[0]*0.9):][ix])\n",
    "plt.show()\n",
    "imshow(np.squeeze(y_train[int(y_train.shape[0]*0.9):][ix]))\n",
    "plt.show()\n",
    "imshow(np.squeeze(preds_val_t[ix]))\n",
    "plt.show()\n"
   ]
  },
  {
   "cell_type": "raw",
   "id": "ee3da764",
   "metadata": {},
   "source": [
    "TRAIN_PATH = \"stage1_train/\"\n",
    "TEST_PATH = \"stage1_test/\"\n",
    "\n",
    "# [0] is the folder name\n",
    "train_ids = next(os.walk(TRAIN_PATH))[1]\n",
    "test_ids = next(os.walk(TEST_PATH))[1]\n",
    "\n",
    "X_train = np.zeros((len(train_ids), IMG_HEIGHT, IMG_WIDTH, IMG_CHANNEL), dtype=np.uint8)\n",
    "y_train = np.zeros((len(train_ids), IMG_HEIGHT, IMG_WIDTH, IMG_CHANNEL), dtype=bool)\n",
    "# or np.bool or ... , 1), dtype....\n",
    "\n",
    "print(\"\\nResizing training images and masks\\n\")\n",
    "for n, id_ in tqdm(enumerate(train_ids), total=len(train_ids)):\n",
    "    path = TRAIN_PATH + id_\n",
    "    img = io.imread(path + \"/images/\" + id_ + \".png\")[:, :, :IMG_CHANNEL]\n",
    "    img = resize(img, (IMG_HEIGHT, IMG_WIDTH), mode=\"constant\", preserve_range=True)\n",
    "    X_train[n] = img\n",
    "    mask = np.zeros((IMG_HEIGHT, IMG_WIDTH, 1), dtype=bool)\n",
    "    for mask_file in next(os.walk(path + \"/masks/\"))[2]:\n",
    "        mask_ = plt.imread(path + \"/masks/\" + mask_file)\n",
    "        mask_ = np.expand_dims(resize(mask_, (IMG_HEIGHT, IMG_WIDTH), mode=\"constant\", preserve_range=True), axis=-1)\n",
    "        mask = np.maximum(mask, mask_)\n",
    "    y_train[n] = mask\n",
    "\n",
    "# test images\n",
    "X_test = np.zeros((len(test_ids), IMG_HEIGHT, IMG_WIDTH, IMG_CHANNEL), dtype=np.uint8)\n",
    "sizes_test = []\n",
    "print(\"\\nResizing test images\\n\")\n",
    "for n, id_ in tqdm(enumerate(test_ids), total=len(test_ids)):\n",
    "    path = TEST_PATH + id_\n",
    "    img = io.imread(path + \"/images/\" + id_ + \".png\")[:, :, :IMG_CHANNEL]\n",
    "    sizes_test.append([img.shape[0], img.shape[1]])\n",
    "    img = resize(img, (IMG_HEIGHT, IMG_WIDTH), mode=\"constant\", preserve_range=True)\n",
    "    X_test[n] = img\n",
    "\n",
    "print(\"Done !\")\n",
    "\n",
    "image_x = random.randint(0, len(train_ids))\n",
    "imshow(X_train[image_x])\n",
    "plt.show()\n",
    "imshow(np.squeeze(y_train[image_x]))  # or imshow(np.squeeze(y_train[image_x]))\n",
    "plt.show()"
   ]
  }
 ],
 "metadata": {
  "kernelspec": {
   "display_name": "Python 3 (ipykernel)",
   "language": "python",
   "name": "python3"
  },
  "language_info": {
   "codemirror_mode": {
    "name": "ipython",
    "version": 3
   },
   "file_extension": ".py",
   "mimetype": "text/x-python",
   "name": "python",
   "nbconvert_exporter": "python",
   "pygments_lexer": "ipython3",
   "version": "3.9.7"
  }
 },
 "nbformat": 4,
 "nbformat_minor": 5
}
