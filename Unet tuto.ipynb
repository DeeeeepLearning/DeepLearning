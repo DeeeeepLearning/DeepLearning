{
 "cells": [
  {
   "cell_type": "code",
   "execution_count": 1,
   "id": "c4a43672",
   "metadata": {
    "pycharm": {
     "is_executing": true,
     "name": "#%%\n"
    }
   },
   "outputs": [
    {
     "name": "stdout",
     "output_type": "stream",
     "text": [
      "version tensorflow : 2.3.0\n"
     ]
    }
   ],
   "source": [
    "import tensorflow as tf\n",
    "print(\"version tensorflow : \"+tf.__version__)\n",
    "from tensorflow import keras"
   ]
  },
  {
   "cell_type": "code",
   "execution_count": 2,
   "id": "3ef728dd",
   "metadata": {
    "pycharm": {
     "name": "#%%\n"
    }
   },
   "outputs": [],
   "source": [
    "import os\n",
    "import random\n",
    "import numpy as np\n",
    "from tqdm import tqdm\n",
    "from skimage import io\n",
    "from skimage.transform import resize\n",
    "import matplotlib.pyplot as plt\n",
    "import random\n",
    "import time\n",
    "from sklearn.model_selection import train_test_split"
   ]
  },
  {
   "cell_type": "code",
   "execution_count": 3,
   "id": "4b70e19c",
   "metadata": {
    "pycharm": {
     "name": "#%%\n"
    }
   },
   "outputs": [],
   "source": [
    "seed = 42\n",
    "np.random.seed = seed\n",
    "\n",
    "IMG_WIDTH = 160\n",
    "IMG_HEIGHT = 160\n",
    "IMG_CHANNEL = 22"
   ]
  },
  {
   "cell_type": "code",
   "execution_count": 4,
   "id": "7fb3253f",
   "metadata": {
    "pycharm": {
     "name": "#%%\n"
    }
   },
   "outputs": [],
   "source": [
    "def get_data(file_path):\n",
    "    \n",
    "    file = open(file_path, \"r\")\n",
    "\n",
    "    allText = file.read()\n",
    "\n",
    "    words = list(map(str, allText.split()))\n",
    "\n",
    "    matrice_height = int(len(words) / 30)\n",
    "    matrice = np.ones((matrice_height, 24))\n",
    "\n",
    "    emplacement = 20\n",
    "    iter1 = 0\n",
    "    for i in range(emplacement, int(len(words) / 30) + emplacement):\n",
    "        iter2 = 0\n",
    "        for j in range(emplacement + 6, emplacement + 30):\n",
    "            matrice[(iter1, iter2)] = words[j]\n",
    "            iter2 += 1\n",
    "        iter1 += 1\n",
    "        emplacement += 30\n",
    "    X_2 = np.delete(matrice, 1, 1)\n",
    "    X_final = np.delete(X_2, 10, 1)\n",
    "    \n",
    "    file.close()\n",
    "    \n",
    "    return X_final"
   ]
  },
  {
   "cell_type": "code",
   "execution_count": 5,
   "id": "b65eb335",
   "metadata": {
    "pycharm": {
     "name": "#%%\n"
    }
   },
   "outputs": [],
   "source": [
    "file_in_path = \"datas/C_maps_in.txt\"\n",
    "file_out_path = \"datas/C_maps_out.txt\"\n",
    "\n",
    "X = get_data(file_in_path)\n",
    "y = get_data(file_out_path)"
   ]
  },
  {
   "cell_type": "code",
   "execution_count": 6,
   "id": "0599d516",
   "metadata": {
    "pycharm": {
     "name": "#%%\n"
    }
   },
   "outputs": [
    {
     "data": {
      "text/plain": [
       "(400198, 22)"
      ]
     },
     "execution_count": 6,
     "metadata": {},
     "output_type": "execute_result"
    }
   ],
   "source": [
    "X.shape"
   ]
  },
  {
   "cell_type": "code",
   "execution_count": 7,
   "id": "9e9feb90",
   "metadata": {
    "pycharm": {
     "name": "#%%\n"
    }
   },
   "outputs": [],
   "source": [
    "X = X.reshape((1, 499, 802, 22))"
   ]
  },
  {
   "cell_type": "code",
   "execution_count": 8,
   "id": "49d95851",
   "metadata": {
    "pycharm": {
     "name": "#%%\n"
    }
   },
   "outputs": [
    {
     "data": {
      "text/plain": [
       "(1, 499, 802, 22)"
      ]
     },
     "execution_count": 8,
     "metadata": {},
     "output_type": "execute_result"
    }
   ],
   "source": [
    "X.shape"
   ]
  },
  {
   "cell_type": "code",
   "execution_count": 9,
   "id": "2f609151",
   "metadata": {
    "pycharm": {
     "name": "#%%\n"
    }
   },
   "outputs": [],
   "source": [
    "y = y.reshape((1, 499, 802, 22))"
   ]
  },
  {
   "cell_type": "code",
   "execution_count": 10,
   "id": "990ba830",
   "metadata": {
    "pycharm": {
     "name": "#%%\n"
    }
   },
   "outputs": [
    {
     "data": {
      "text/plain": [
       "(1, 499, 802, 22)"
      ]
     },
     "execution_count": 10,
     "metadata": {},
     "output_type": "execute_result"
    }
   ],
   "source": [
    "y.shape"
   ]
  },
  {
   "cell_type": "code",
   "execution_count": 11,
   "id": "c71a4c4c",
   "metadata": {
    "pycharm": {
     "name": "#%%\n"
    }
   },
   "outputs": [],
   "source": [
    "X1 = X[:, :160, :160, :]\n",
    "X2 = X[:, :160, 160:320, :]\n",
    "X3 = X[:, :160, 320:480, :]\n",
    "X4 = X[:, :160, 480:640, :]\n",
    "X5 = X[:, :160, 640:800, :]\n",
    "\n",
    "X6 = X[:, 160:320, :160, :]\n",
    "X7 = X[:, 160:320, 160:320, :]\n",
    "X8 = X[:, 160:320, 320:480, :]\n",
    "X9 = X[:, 160:320, 480:640, :]\n",
    "X10 = X[:, 160:320, 640:800, :]\n",
    "\n",
    "X11 = X[:, 320:480, :160, :]\n",
    "X12 = X[:, 320:480, 160:320, :]\n",
    "X13 = X[:, 320:480, 320:480, :]\n",
    "X14 = X[:, 320:480, 480:640, :]\n",
    "X15 = X[:, 320:480, 640:800, :]\n",
    "\n",
    "#===============================\n",
    "y1 = y[:, :160, :160, :]\n",
    "y2 = y[:, :160, 160:320, :]\n",
    "y3 = y[:, :160, 320:480, :]\n",
    "y4 = y[:, :160, 480:640, :]\n",
    "y5 = y[:, :160, 640:800, :]\n",
    "\n",
    "y6 = y[:, 160:320, :160, :]\n",
    "y7 = y[:, 160:320, 160:320, :]\n",
    "y8 = y[:, 160:320, 320:480, :]\n",
    "y9 = y[:, 160:320, 480:640, :]\n",
    "y10 = y[:, 160:320, 640:800, :]\n",
    "\n",
    "y11 = y[:, 320:480, :160, :]\n",
    "y12 = y[:, 320:480, 160:320, :]\n",
    "y13 = y[:, 320:480, 320:480, :]\n",
    "y14 = y[:, 320:480, 480:640, :]\n",
    "y15 = y[:, 320:480, 640:800, :]"
   ]
  },
  {
   "cell_type": "code",
   "execution_count": 12,
   "id": "ac6a5b36",
   "metadata": {
    "pycharm": {
     "name": "#%%\n"
    }
   },
   "outputs": [
    {
     "name": "stdout",
     "output_type": "stream",
     "text": [
      "(1, 160, 160, 22)\n"
     ]
    }
   ],
   "source": [
    "print(X1.shape)"
   ]
  },
  {
   "cell_type": "code",
   "execution_count": 13,
   "id": "452f7524",
   "metadata": {
    "pycharm": {
     "name": "#%%\n"
    }
   },
   "outputs": [],
   "source": [
    "new_X = np.concatenate((X1, X2), axis=0)\n",
    "new_Y = np.concatenate((y1, y2), axis=0)\n",
    "new_X = np.concatenate((new_X, X3), axis=0)\n",
    "new_Y = np.concatenate((new_Y, y3), axis=0)\n",
    "new_X = np.concatenate((new_X, X4), axis=0)\n",
    "new_Y = np.concatenate((new_Y, y4), axis=0)\n",
    "new_X = np.concatenate((new_X, X5), axis=0)\n",
    "new_Y = np.concatenate((new_Y, y5), axis=0)\n",
    "new_X = np.concatenate((new_X, X6), axis=0)\n",
    "new_Y = np.concatenate((new_Y, y6), axis=0)\n",
    "new_X = np.concatenate((new_X, X7), axis=0)\n",
    "new_Y = np.concatenate((new_Y, y7), axis=0)\n",
    "new_X = np.concatenate((new_X, X8), axis=0)\n",
    "new_Y = np.concatenate((new_Y, y8), axis=0)\n",
    "new_X = np.concatenate((new_X, X9), axis=0)\n",
    "new_Y = np.concatenate((new_Y, y9), axis=0)\n",
    "new_X = np.concatenate((new_X, X10), axis=0)\n",
    "new_Y = np.concatenate((new_Y, y10), axis=0)\n",
    "new_X = np.concatenate((new_X, X11), axis=0)\n",
    "new_Y = np.concatenate((new_Y, y11), axis=0)\n",
    "new_X = np.concatenate((new_X, X12), axis=0)\n",
    "new_Y = np.concatenate((new_Y, y12), axis=0)\n",
    "new_X = np.concatenate((new_X, X13), axis=0)\n",
    "new_Y = np.concatenate((new_Y, y13), axis=0)\n",
    "new_X = np.concatenate((new_X, X14), axis=0)\n",
    "new_Y = np.concatenate((new_Y, y14), axis=0)\n",
    "new_X = np.concatenate((new_X, X15), axis=0)\n",
    "new_Y = np.concatenate((new_Y, y15), axis=0)"
   ]
  },
  {
   "cell_type": "code",
   "execution_count": 14,
   "id": "0979381e",
   "metadata": {
    "pycharm": {
     "name": "#%%\n"
    }
   },
   "outputs": [
    {
     "data": {
      "text/plain": [
       "(15, 160, 160, 22)"
      ]
     },
     "execution_count": 14,
     "metadata": {},
     "output_type": "execute_result"
    }
   ],
   "source": [
    "new_X.shape"
   ]
  },
  {
   "cell_type": "markdown",
   "id": "9873e4a8",
   "metadata": {
    "pycharm": {
     "name": "#%% md\n"
    }
   },
   "source": [
    "séparer en 12 l'image, 166x200, 802"
   ]
  },
  {
   "cell_type": "code",
   "execution_count": 15,
   "id": "70a5a08b",
   "metadata": {
    "pycharm": {
     "name": "#%%\n"
    }
   },
   "outputs": [],
   "source": [
    "inputs = keras.layers.Input((IMG_WIDTH, IMG_HEIGHT, IMG_CHANNEL))"
   ]
  },
  {
   "cell_type": "code",
   "execution_count": 16,
   "id": "0d9bc299",
   "metadata": {
    "pycharm": {
     "name": "#%%\n"
    }
   },
   "outputs": [],
   "source": [
    "# Contraction path\n",
    "c1 = tf.keras.layers.Conv2D(128, (3, 3), activation=\"relu\", kernel_initializer=\"he_normal\", padding=\"same\")(inputs)\n",
    "c1 = tf.keras.layers.Dropout(0.1)(c1)\n",
    "c1 = tf.keras.layers.Conv2D(128, (3, 3), activation=\"relu\", kernel_initializer=\"he_normal\", padding=\"same\")(c1)\n",
    "p1 = tf.keras.layers.MaxPooling2D((2, 2))(c1)\n",
    "\n",
    "c2 = tf.keras.layers.Conv2D(64, (3, 3), activation=\"relu\", kernel_initializer=\"he_normal\", padding=\"same\")(p1)\n",
    "c2 = tf.keras.layers.Dropout(0.1)(c2)\n",
    "c2 = tf.keras.layers.Conv2D(64, (3, 3), activation=\"relu\", kernel_initializer=\"he_normal\", padding=\"same\")(c2)\n",
    "p2 = tf.keras.layers.MaxPooling2D((2, 2))(c2)\n",
    "\n",
    "c3 = tf.keras.layers.Conv2D(32, (3, 3), activation=\"relu\", kernel_initializer=\"he_normal\", padding=\"same\")(p2)\n",
    "c3 = tf.keras.layers.Dropout(0.1)(c3)\n",
    "c3 = tf.keras.layers.Conv2D(32, (3, 3), activation=\"relu\", kernel_initializer=\"he_normal\", padding=\"same\")(c3)\n",
    "p3 = tf.keras.layers.MaxPooling2D((2, 2))(c3)\n",
    "\n",
    "c4 = tf.keras.layers.Conv2D(16, (3, 3), activation=\"relu\", kernel_initializer=\"he_normal\", padding=\"same\")(p3)\n",
    "c4 = tf.keras.layers.Dropout(0.1)(c4)\n",
    "c4 = tf.keras.layers.Conv2D(16, (3, 3), activation=\"relu\", kernel_initializer=\"he_normal\", padding=\"same\")(c4)\n",
    "p4 = tf.keras.layers.MaxPooling2D((2, 2))(c4)\n",
    "\n",
    "c5 = tf.keras.layers.Conv2D(8, (3, 3), activation=\"relu\", kernel_initializer=\"he_normal\", padding=\"same\")(p4)\n",
    "c5 = tf.keras.layers.Dropout(0.1)(c5)\n",
    "c5 = tf.keras.layers.Conv2D(8, (3, 3), activation=\"relu\", kernel_initializer=\"he_normal\", padding=\"same\")(c5)\n"
   ]
  },
  {
   "cell_type": "code",
   "execution_count": 17,
   "id": "2c9af25a",
   "metadata": {
    "pycharm": {
     "name": "#%%\n"
    }
   },
   "outputs": [],
   "source": [
    "# Expansive path\n",
    "u6 = tf.keras.layers.Conv2DTranspose(16, (2, 2), strides=(2, 2), padding=\"same\")(c5)\n",
    "u6 = tf.keras.layers.concatenate([u6, c4])\n",
    "c6 = tf.keras.layers.Conv2D(16, (3, 3), activation=\"relu\", kernel_initializer=\"he_normal\", padding=\"same\")(u6)\n",
    "c6 = tf.keras.layers.Dropout(0.1)(c6)\n",
    "c6 = tf.keras.layers.Conv2D(16, (3, 3), activation=\"relu\", kernel_initializer=\"he_normal\", padding=\"same\")(c6)\n",
    "\n",
    "u7 = tf.keras.layers.Conv2DTranspose(32, (2, 2), strides=(2, 2), padding=\"same\")(c6)\n",
    "u7 = tf.keras.layers.concatenate([u7, c3])\n",
    "c7 = tf.keras.layers.Conv2D(32, (3, 3), activation=\"relu\", kernel_initializer=\"he_normal\", padding=\"same\")(u7)\n",
    "c7 = tf.keras.layers.Dropout(0.1)(c7)\n",
    "c7 = tf.keras.layers.Conv2D(32, (3, 3), activation=\"relu\", kernel_initializer=\"he_normal\", padding=\"same\")(c7)\n",
    "\n",
    "u8 = tf.keras.layers.Conv2DTranspose(64, (2, 2), strides=(2, 2), padding=\"same\")(c7)\n",
    "u8 = tf.keras.layers.concatenate([u8, c2])\n",
    "c8 = tf.keras.layers.Conv2D(64, (3, 3), activation=\"relu\", kernel_initializer=\"he_normal\", padding=\"same\")(u8)\n",
    "c8 = tf.keras.layers.Dropout(0.1)(c8)\n",
    "c8 = tf.keras.layers.Conv2D(64, (3, 3), activation=\"relu\", kernel_initializer=\"he_normal\", padding=\"same\")(c8)\n",
    "\n",
    "u9 = tf.keras.layers.Conv2DTranspose(128, (2, 2), strides=(2, 2), padding=\"same\")(c8)\n",
    "u9 = tf.keras.layers.concatenate([u9, c1], axis=3)\n",
    "c9 = tf.keras.layers.Conv2D(128, (3, 3), activation=\"relu\", kernel_initializer=\"he_normal\", padding=\"same\")(u9)\n",
    "c9 = tf.keras.layers.Dropout(0.1)(c9)\n",
    "c9 = tf.keras.layers.Conv2D(128, (3, 3), activation=\"relu\", kernel_initializer=\"he_normal\", padding=\"same\")(c9)\n",
    "\n",
    "outputs = tf.keras.layers.Conv2D(22, (1, 1))(c9) # activation=\"sigmoid\"\n",
    "\n",
    "model = tf.keras.Model(inputs=[inputs], outputs=[outputs])"
   ]
  },
  {
   "cell_type": "code",
   "execution_count": 18,
   "id": "eb28aa61",
   "metadata": {
    "pycharm": {
     "name": "#%%\n"
    }
   },
   "outputs": [
    {
     "data": {
      "text/plain": [
       "(1, 499, 802, 22)"
      ]
     },
     "execution_count": 18,
     "metadata": {},
     "output_type": "execute_result"
    }
   ],
   "source": [
    "y.shape"
   ]
  },
  {
   "cell_type": "code",
   "execution_count": 19,
   "id": "c2215227",
   "metadata": {
    "pycharm": {
     "name": "#%%\n"
    }
   },
   "outputs": [
    {
     "data": {
      "text/plain": [
       "(1, 499, 802, 22)"
      ]
     },
     "execution_count": 19,
     "metadata": {},
     "output_type": "execute_result"
    }
   ],
   "source": [
    "y.shape"
   ]
  },
  {
   "cell_type": "code",
   "execution_count": 20,
   "id": "efb6130b",
   "metadata": {
    "pycharm": {
     "name": "#%%\n"
    }
   },
   "outputs": [],
   "source": [
    "X_train, X_test, y_train, y_test = train_test_split(new_X, new_Y, test_size=0.2, random_state=1)"
   ]
  },
  {
   "cell_type": "code",
   "execution_count": 21,
   "id": "19858b94",
   "metadata": {},
   "outputs": [
    {
     "name": "stdout",
     "output_type": "stream",
     "text": [
      "Avant normalisation x_train : Minimum = -8.14738600686208, Maximum = 8.35835887900045\n",
      "Avant normalisation x_test : Minimum = -8.46275664292862, Maximum = 8.27382970416552\n",
      "Après normalisation x_train : Minimum = -0.9747590555523502, Maximum = 1.0\n",
      "Après normalisation x_test : Minimum = -1.0124902227147077, Maximum = 0.989886869413169\n"
     ]
    }
   ],
   "source": [
    "print('Avant normalisation x_train : Minimum = '+str(X_train.min())+', Maximum = '+str(X_train.max()))\n",
    "print('Avant normalisation x_test : Minimum = '+str(X_test.min())+', Maximum = '+str(X_test.max()))\n",
    "\n",
    "X_max = (X_train.max())\n",
    "X_train  = X_train / X_max\n",
    "X_test = X_test / X_max\n",
    "\n",
    "print('Après normalisation x_train : Minimum = '+str(X_train.min())+', Maximum = '+str(X_train.max()))\n",
    "print('Après normalisation x_test : Minimum = '+str(X_test.min())+', Maximum = '+str(X_test.max()))"
   ]
  },
  {
   "cell_type": "raw",
   "id": "fec2b07b",
   "metadata": {},
   "source": [
    "print('Avant normalisation : Minimum = '+str(y_train.min())+', Maximum = '+str(y_train.max()))\n",
    "\n",
    "ymax = y_train.max()+y_test.max()/2\n",
    "y_train  = y_train / ymax\n",
    "y_test = y_test / ymax\n",
    "\n",
    "print('Après normalisation : Minimum = '+str(y_train.min())+', Maximum = '+str(y_train.max()))"
   ]
  },
  {
   "cell_type": "code",
   "execution_count": 22,
   "id": "6d514097",
   "metadata": {},
   "outputs": [],
   "source": [
    "model.compile(\n",
    "    optimizer='adam',\n",
    "    loss='mae',\n",
    "    metrics=['accuracy']\n",
    ")"
   ]
  },
  {
   "cell_type": "code",
   "execution_count": 44,
   "id": "a0a3c1a3",
   "metadata": {
    "pycharm": {
     "name": "#%%\n"
    }
   },
   "outputs": [],
   "source": [
    "# Model checkpoint\n",
    "my_callbacks = [\n",
    "    tf.keras.callbacks.EarlyStopping(patience=20, verbose=1),\n",
    "    tf.keras.callbacks.ReduceLROnPlateau(factor=0.1, patience=10, min_lr=0.00001, verbose=1),\n",
    "    tf.keras.callbacks.ModelCheckpoint('model-unet2.h5', verbose=1, save_best_only=True, save_weights_only=True)\n",
    "]"
   ]
  },
  {
   "cell_type": "code",
   "execution_count": null,
   "id": "92a4464f",
   "metadata": {
    "pycharm": {
     "name": "#%%\n"
    }
   },
   "outputs": [
    {
     "name": "stdout",
     "output_type": "stream",
     "text": [
      "Epoch 1/300\n",
      "1/1 [==============================] - ETA: 0s - loss: 0.1392 - accuracy: 0.8801\n",
      "Epoch 00001: val_loss improved from inf to 0.31634, saving model to model-unet2.h5\n",
      "1/1 [==============================] - 1s 573ms/step - loss: 0.1392 - accuracy: 0.8801 - val_loss: 0.3163 - val_accuracy: 0.9125\n",
      "Epoch 2/300\n",
      "1/1 [==============================] - ETA: 0s - loss: 0.1392 - accuracy: 0.8799\n",
      "Epoch 00002: val_loss improved from 0.31634 to 0.31628, saving model to model-unet2.h5\n",
      "1/1 [==============================] - 0s 442ms/step - loss: 0.1392 - accuracy: 0.8799 - val_loss: 0.3163 - val_accuracy: 0.9125\n",
      "Epoch 3/300\n",
      "1/1 [==============================] - ETA: 0s - loss: 0.1392 - accuracy: 0.8783\n",
      "Epoch 00003: val_loss improved from 0.31628 to 0.31622, saving model to model-unet2.h5\n",
      "1/1 [==============================] - 0s 433ms/step - loss: 0.1392 - accuracy: 0.8783 - val_loss: 0.3162 - val_accuracy: 0.9125\n",
      "Epoch 4/300\n",
      "1/1 [==============================] - ETA: 0s - loss: 0.1390 - accuracy: 0.8787\n",
      "Epoch 00004: val_loss improved from 0.31622 to 0.31617, saving model to model-unet2.h5\n",
      "1/1 [==============================] - 0s 479ms/step - loss: 0.1390 - accuracy: 0.8787 - val_loss: 0.3162 - val_accuracy: 0.9125\n",
      "Epoch 5/300\n",
      "1/1 [==============================] - ETA: 0s - loss: 0.1391 - accuracy: 0.8788\n",
      "Epoch 00005: val_loss improved from 0.31617 to 0.31612, saving model to model-unet2.h5\n",
      "1/1 [==============================] - 0s 441ms/step - loss: 0.1391 - accuracy: 0.8788 - val_loss: 0.3161 - val_accuracy: 0.9125\n",
      "Epoch 6/300\n",
      "1/1 [==============================] - ETA: 0s - loss: 0.1391 - accuracy: 0.8794\n",
      "Epoch 00006: val_loss improved from 0.31612 to 0.31607, saving model to model-unet2.h5\n",
      "1/1 [==============================] - 0s 496ms/step - loss: 0.1391 - accuracy: 0.8794 - val_loss: 0.3161 - val_accuracy: 0.9125\n",
      "Epoch 7/300\n",
      "1/1 [==============================] - ETA: 0s - loss: 0.1392 - accuracy: 0.8794\n",
      "Epoch 00007: val_loss improved from 0.31607 to 0.31603, saving model to model-unet2.h5\n",
      "1/1 [==============================] - 0s 473ms/step - loss: 0.1392 - accuracy: 0.8794 - val_loss: 0.3160 - val_accuracy: 0.9126\n",
      "Epoch 8/300\n",
      "1/1 [==============================] - ETA: 0s - loss: 0.1390 - accuracy: 0.8794\n",
      "Epoch 00008: val_loss improved from 0.31603 to 0.31602, saving model to model-unet2.h5\n",
      "1/1 [==============================] - 1s 501ms/step - loss: 0.1390 - accuracy: 0.8794 - val_loss: 0.3160 - val_accuracy: 0.9126\n",
      "Epoch 9/300\n",
      "1/1 [==============================] - ETA: 0s - loss: 0.1390 - accuracy: 0.8798\n",
      "Epoch 00009: val_loss improved from 0.31602 to 0.31601, saving model to model-unet2.h5\n",
      "1/1 [==============================] - 0s 468ms/step - loss: 0.1390 - accuracy: 0.8798 - val_loss: 0.3160 - val_accuracy: 0.9126\n",
      "Epoch 10/300\n",
      "1/1 [==============================] - ETA: 0s - loss: 0.1391 - accuracy: 0.8788\n",
      "Epoch 00010: val_loss did not improve from 0.31601\n",
      "1/1 [==============================] - 0s 465ms/step - loss: 0.1391 - accuracy: 0.8788 - val_loss: 0.3160 - val_accuracy: 0.9126\n",
      "Epoch 11/300\n",
      "1/1 [==============================] - ETA: 0s - loss: 0.1389 - accuracy: 0.8792\n",
      "Epoch 00011: val_loss did not improve from 0.31601\n",
      "1/1 [==============================] - 0s 452ms/step - loss: 0.1389 - accuracy: 0.8792 - val_loss: 0.3160 - val_accuracy: 0.9126\n",
      "Epoch 12/300\n",
      "1/1 [==============================] - ETA: 0s - loss: 0.1389 - accuracy: 0.8797\n",
      "Epoch 00012: val_loss did not improve from 0.31601\n",
      "1/1 [==============================] - 0s 479ms/step - loss: 0.1389 - accuracy: 0.8797 - val_loss: 0.3160 - val_accuracy: 0.9126\n",
      "Epoch 13/300\n",
      "1/1 [==============================] - ETA: 0s - loss: 0.1392 - accuracy: 0.8797\n",
      "Epoch 00013: val_loss did not improve from 0.31601\n",
      "1/1 [==============================] - 0s 468ms/step - loss: 0.1392 - accuracy: 0.8797 - val_loss: 0.3160 - val_accuracy: 0.9126\n",
      "Epoch 14/300\n",
      "1/1 [==============================] - ETA: 0s - loss: 0.1393 - accuracy: 0.8796\n",
      "Epoch 00014: val_loss did not improve from 0.31601\n",
      "1/1 [==============================] - 0s 479ms/step - loss: 0.1393 - accuracy: 0.8796 - val_loss: 0.3161 - val_accuracy: 0.9126\n",
      "Epoch 15/300\n",
      "1/1 [==============================] - ETA: 0s - loss: 0.1389 - accuracy: 0.8784\n",
      "Epoch 00015: val_loss did not improve from 0.31601\n",
      "1/1 [==============================] - 1s 681ms/step - loss: 0.1389 - accuracy: 0.8784 - val_loss: 0.3161 - val_accuracy: 0.9126\n",
      "Epoch 16/300\n",
      "1/1 [==============================] - ETA: 0s - loss: 0.1391 - accuracy: 0.8798\n",
      "Epoch 00016: val_loss did not improve from 0.31601\n",
      "1/1 [==============================] - 1s 549ms/step - loss: 0.1391 - accuracy: 0.8798 - val_loss: 0.3161 - val_accuracy: 0.9126\n",
      "Epoch 17/300\n"
     ]
    }
   ],
   "source": [
    "results = model.fit(\n",
    "    X_train,\n",
    "    y_train,\n",
    "    batch_size=128,\n",
    "    epochs=300,\n",
    "    callbacks=my_callbacks,\n",
    "    validation_data=(X_test, y_test)\n",
    ")\n",
    "# callbacks=my_callbacks,"
   ]
  },
  {
   "cell_type": "code",
   "execution_count": 25,
   "id": "27c95a3c",
   "metadata": {
    "pycharm": {
     "name": "#%%\n"
    }
   },
   "outputs": [
    {
     "data": {
      "image/png": "[encoded data removed]",
      "text/plain": [
       "<Figure size 576x576 with 1 Axes>"
      ]
     },
     "metadata": {
      "needs_background": "light"
     },
     "output_type": "display_data"
    }
   ],
   "source": [
    "plt.figure(figsize=(8, 8))\n",
    "plt.title(\"Learning curve\")\n",
    "plt.plot(results.history[\"loss\"], label=\"loss\")\n",
    "plt.plot(results.history[\"val_loss\"], label=\"val_loss\")\n",
    "plt.plot( np.argmin(results.history[\"val_loss\"]), np.min(results.history[\"val_loss\"]), marker=\"x\", color=\"r\", label=\"best model\")\n",
    "plt.xlabel(\"Epochs\")\n",
    "plt.ylabel(\"log_loss\")\n",
    "plt.legend();"
   ]
  },
  {
   "cell_type": "code",
   "execution_count": 26,
   "id": "f4936f11",
   "metadata": {
    "pycharm": {
     "name": "#%%\n"
    }
   },
   "outputs": [],
   "source": [
    "y_pred = model.predict(X_test)"
   ]
  },
  {
   "cell_type": "code",
   "execution_count": 27,
   "id": "feced932",
   "metadata": {},
   "outputs": [
    {
     "data": {
      "text/plain": [
       "(3, 160, 160, 22)"
      ]
     },
     "execution_count": 27,
     "metadata": {},
     "output_type": "execute_result"
    }
   ],
   "source": [
    "X_test.shape"
   ]
  },
  {
   "cell_type": "code",
   "execution_count": 28,
   "id": "61329cb7",
   "metadata": {},
   "outputs": [
    {
     "data": {
      "text/plain": [
       "(3, 160, 160, 22)"
      ]
     },
     "execution_count": 28,
     "metadata": {},
     "output_type": "execute_result"
    }
   ],
   "source": [
    "y_pred.shape"
   ]
  },
  {
   "cell_type": "code",
   "execution_count": 29,
   "id": "699ee121",
   "metadata": {},
   "outputs": [
    {
     "data": {
      "text/plain": [
       "(3, 160, 160, 22)"
      ]
     },
     "execution_count": 29,
     "metadata": {},
     "output_type": "execute_result"
    }
   ],
   "source": [
    "y_test.shape"
   ]
  },
  {
   "cell_type": "code",
   "execution_count": 40,
   "id": "77fa8bb6",
   "metadata": {},
   "outputs": [
    {
     "data": {
      "text/plain": [
       "array([[[-1.61259605,  0.95557367, -1.98960897, ..., -1.58714464,\n",
       "         -3.33326993,  2.5501738 ],\n",
       "        [-1.61259605,  0.95557367, -1.98960897, ..., -1.58714464,\n",
       "         -3.33326993,  2.5501738 ],\n",
       "        [-1.61259605,  0.95557367, -1.98960897, ..., -1.58714464,\n",
       "         -3.33326993,  2.5501738 ],\n",
       "        ...,\n",
       "        [-1.46844065,  0.04115029, -3.19140852, ...,  3.57909124,\n",
       "          3.94504971,  0.7527177 ],\n",
       "        [-1.46844065,  0.04115029, -3.19140852, ...,  3.57909124,\n",
       "          3.94504971,  0.7527177 ],\n",
       "        [-1.46844065,  0.04115029, -3.19140852, ...,  3.57909124,\n",
       "          3.94504971,  0.7527177 ]],\n",
       "\n",
       "       [[-1.61259605,  0.95557367, -1.98960897, ..., -1.58714464,\n",
       "         -3.33326993,  2.5501738 ],\n",
       "        [-1.61259605,  0.95557367, -1.98960897, ..., -1.58714464,\n",
       "         -3.33326993,  2.5501738 ],\n",
       "        [-1.61259605,  0.95557367, -1.98960897, ..., -1.58714464,\n",
       "         -3.33326993,  2.5501738 ],\n",
       "        ...,\n",
       "        [-1.46844065,  0.04115029, -3.19140852, ...,  3.57909124,\n",
       "          3.94504971,  0.7527177 ],\n",
       "        [-1.46844065,  0.04115029, -3.19140852, ...,  3.57909124,\n",
       "          3.94504971,  0.7527177 ],\n",
       "        [-1.46844065,  0.04115029, -3.19140852, ...,  3.57909124,\n",
       "          3.94504971,  0.7527177 ]],\n",
       "\n",
       "       [[-1.61259605,  0.95557367, -1.98960897, ..., -1.58714464,\n",
       "         -3.33326993,  2.5501738 ],\n",
       "        [-1.61259605,  0.95557367, -1.98960897, ..., -1.58714464,\n",
       "         -3.33326993,  2.5501738 ],\n",
       "        [-1.61259605,  0.95557367, -1.98960897, ..., -1.58714464,\n",
       "         -3.33326993,  2.5501738 ],\n",
       "        ...,\n",
       "        [-1.46844065,  0.04115029, -3.19140852, ...,  3.57909124,\n",
       "          3.94504971,  0.7527177 ],\n",
       "        [-1.46844065,  0.04115029, -3.19140852, ...,  3.57909124,\n",
       "          3.94504971,  0.7527177 ],\n",
       "        [-1.46844065,  0.04115029, -3.19140852, ...,  3.57909124,\n",
       "          3.94504971,  0.7527177 ]],\n",
       "\n",
       "       ...,\n",
       "\n",
       "       [[ 6.60886578,  0.51378874, -1.19868245, ..., -1.63600749,\n",
       "         -0.09968574, -0.08184667],\n",
       "        [ 6.60886578,  0.51378874, -1.19868245, ..., -1.63600749,\n",
       "         -0.09968574, -0.08184667],\n",
       "        [ 6.60886578,  0.51378874, -1.19868245, ..., -1.63600749,\n",
       "         -0.09968574, -0.08184667],\n",
       "        ...,\n",
       "        [ 1.33669095, -1.23875073, -4.12115431, ...,  0.16092366,\n",
       "         -0.67120181, -2.5944348 ],\n",
       "        [ 1.33669095, -1.23875073, -4.12115431, ...,  0.16092366,\n",
       "         -0.67120181, -2.5944348 ],\n",
       "        [ 1.33669095, -1.23875073, -4.12115431, ...,  0.16092366,\n",
       "         -0.67120181, -2.5944348 ]],\n",
       "\n",
       "       [[ 6.60886578,  0.51378874, -1.19868245, ..., -1.63600749,\n",
       "         -0.09968574, -0.08184667],\n",
       "        [ 6.60886578,  0.51378874, -1.19868245, ..., -1.63600749,\n",
       "         -0.09968574, -0.08184667],\n",
       "        [ 6.60886578,  0.51378874, -1.19868245, ..., -1.63600749,\n",
       "         -0.09968574, -0.08184667],\n",
       "        ...,\n",
       "        [ 1.33669095, -1.23875073, -4.12115431, ...,  0.16092366,\n",
       "         -0.67120181, -2.5944348 ],\n",
       "        [ 1.33669095, -1.23875073, -4.12115431, ...,  0.16092366,\n",
       "         -0.67120181, -2.5944348 ],\n",
       "        [ 1.33669095, -1.23875073, -4.12115431, ...,  0.16092366,\n",
       "         -0.67120181, -2.5944348 ]],\n",
       "\n",
       "       [[ 6.60886578,  0.51378874, -1.19868245, ..., -1.63600749,\n",
       "         -0.09968574, -0.08184667],\n",
       "        [ 6.60886578,  0.51378874, -1.19868245, ..., -1.63600749,\n",
       "         -0.09968574, -0.08184667],\n",
       "        [ 6.60886578,  0.51378874, -1.19868245, ..., -1.63600749,\n",
       "         -0.09968574, -0.08184667],\n",
       "        ...,\n",
       "        [ 1.33669095, -1.23875073, -4.12115431, ...,  0.16092366,\n",
       "         -0.67120181, -2.5944348 ],\n",
       "        [ 1.33669095, -1.23875073, -4.12115431, ...,  0.16092366,\n",
       "         -0.67120181, -2.5944348 ],\n",
       "        [ 1.33669095, -1.23875073, -4.12115431, ...,  0.16092366,\n",
       "         -0.67120181, -2.5944348 ]]])"
      ]
     },
     "execution_count": 40,
     "metadata": {},
     "output_type": "execute_result"
    }
   ],
   "source": [
    "y_test[0,:,:]"
   ]
  },
  {
   "cell_type": "code",
   "execution_count": 200,
   "id": "7e413d4d",
   "metadata": {},
   "outputs": [
    {
     "data": {
      "text/plain": [
       "(3, 160, 160, 22)"
      ]
     },
     "execution_count": 200,
     "metadata": {},
     "output_type": "execute_result"
    }
   ],
   "source": [
    "y_test.shape"
   ]
  },
  {
   "cell_type": "code",
   "execution_count": 41,
   "id": "af00fc97",
   "metadata": {},
   "outputs": [
    {
     "data": {
      "text/plain": [
       "array([[[-1.0291839e+00,  9.1268206e-01, -8.3252299e-01, ...,\n",
       "         -6.6559100e-01, -1.5574716e+00,  1.6830550e+00],\n",
       "        [-1.7757019e+00,  1.2839102e+00, -1.4476134e+00, ...,\n",
       "         -8.5337853e-01, -2.3082142e+00,  2.2721159e+00],\n",
       "        [-1.9389366e+00,  1.3090118e+00, -1.5518755e+00, ...,\n",
       "         -8.9047784e-01, -2.4004149e+00,  2.4421773e+00],\n",
       "        ...,\n",
       "        [-1.4873505e+00,  6.5078974e-02, -2.6601772e+00, ...,\n",
       "          2.6608517e+00,  2.8529954e+00,  5.8134532e-01],\n",
       "        [-1.3009646e+00,  3.9817072e-02, -2.3600957e+00, ...,\n",
       "          2.1912344e+00,  2.4182892e+00,  4.4893634e-01],\n",
       "        [-9.5927435e-01, -4.9116142e-02, -1.7144713e+00, ...,\n",
       "          1.4948007e+00,  1.2969249e+00,  2.6654258e-01]],\n",
       "\n",
       "       [[-1.4368688e+00,  1.0048372e+00, -1.3624029e+00, ...,\n",
       "         -9.7904253e-01, -2.2592952e+00,  2.1526215e+00],\n",
       "        [-1.7645118e+00,  7.9721290e-01, -1.7720671e+00, ...,\n",
       "         -1.1013548e+00, -2.8653927e+00,  2.3804972e+00],\n",
       "        [-1.7947073e+00,  7.9994899e-01, -1.6975385e+00, ...,\n",
       "         -1.0610366e+00, -2.8416569e+00,  2.3657854e+00],\n",
       "        ...,\n",
       "        [-1.5085586e+00,  3.7634481e-02, -2.9342539e+00, ...,\n",
       "          3.3924935e+00,  3.6737370e+00,  8.6809921e-01],\n",
       "        [-1.4106559e+00,  2.0396641e-02, -2.7235870e+00, ...,\n",
       "          3.0458741e+00,  3.2699871e+00,  6.8836075e-01],\n",
       "        [-1.2321178e+00,  1.5783480e-01, -2.1466019e+00, ...,\n",
       "          2.2676308e+00,  1.9850601e+00,  3.4823191e-01]],\n",
       "\n",
       "       [[-1.6743221e+00,  1.1098248e+00, -1.5615594e+00, ...,\n",
       "         -1.0625302e+00, -2.5087063e+00,  2.5064585e+00],\n",
       "        [-1.7659092e+00,  8.7525100e-01, -1.8621374e+00, ...,\n",
       "         -1.2793187e+00, -2.9349687e+00,  2.5593925e+00],\n",
       "        [-1.7031071e+00,  7.9644102e-01, -1.7266583e+00, ...,\n",
       "         -1.2312089e+00, -2.9210365e+00,  2.3774691e+00],\n",
       "        ...,\n",
       "        [-1.3718596e+00,  2.2795178e-02, -2.9911289e+00, ...,\n",
       "          3.4677148e+00,  3.9647236e+00,  9.0374583e-01],\n",
       "        [-1.3284186e+00, -4.9761269e-02, -2.7579157e+00, ...,\n",
       "          3.1501493e+00,  3.5058358e+00,  7.6013333e-01],\n",
       "        [-1.3226081e+00,  1.4794850e-01, -2.2246840e+00, ...,\n",
       "          2.5620258e+00,  2.4278655e+00,  4.8162851e-01]],\n",
       "\n",
       "       ...,\n",
       "\n",
       "       [[ 4.4420476e+00,  5.0439775e-01, -1.1460327e+00, ...,\n",
       "         -1.3614765e+00, -2.0850143e-01, -1.6750915e-01],\n",
       "        [ 6.6065483e+00,  5.1620972e-01, -1.2719579e+00, ...,\n",
       "         -1.7688394e+00,  2.0679571e-03, -2.6267561e-01],\n",
       "        [ 7.1151648e+00,  5.9077138e-01, -1.2502005e+00, ...,\n",
       "         -1.7053456e+00, -8.4418029e-02, -1.1312719e-01],\n",
       "        ...,\n",
       "        [ 1.2761813e+00, -1.2642306e+00, -3.9887762e+00, ...,\n",
       "          2.3203614e-01, -5.7630819e-01, -2.5346682e+00],\n",
       "        [ 1.1529347e+00, -1.1806517e+00, -3.8031235e+00, ...,\n",
       "          2.5025690e-01, -5.1020575e-01, -2.3893065e+00],\n",
       "        [ 1.2307039e+00, -1.1953294e+00, -3.4462993e+00, ...,\n",
       "          3.1364107e-01, -3.3466026e-01, -2.1935935e+00]],\n",
       "\n",
       "       [[ 3.9238462e+00,  4.7472137e-01, -1.0397382e+00, ...,\n",
       "         -1.2863764e+00, -2.2115335e-01, -2.1556039e-01],\n",
       "        [ 6.0266132e+00,  4.4901884e-01, -1.1085793e+00, ...,\n",
       "         -1.6325457e+00, -4.5527305e-02, -2.9323965e-01],\n",
       "        [ 6.5096126e+00,  5.2782643e-01, -1.1734372e+00, ...,\n",
       "         -1.6448628e+00, -8.4145099e-02, -2.1842350e-01],\n",
       "        ...,\n",
       "        [ 1.1782355e+00, -1.1241834e+00, -3.7284000e+00, ...,\n",
       "          1.9281617e-01, -5.4985464e-01, -2.3934288e+00],\n",
       "        [ 1.0786753e+00, -1.0701582e+00, -3.5697522e+00, ...,\n",
       "          2.3181011e-01, -4.5073101e-01, -2.1482162e+00],\n",
       "        [ 1.0357988e+00, -9.9663132e-01, -3.0698540e+00, ...,\n",
       "          3.0856061e-01, -3.2353207e-01, -1.9526817e+00]],\n",
       "\n",
       "       [[ 2.6360126e+00,  3.4068325e-01, -8.8237888e-01, ...,\n",
       "         -8.4487849e-01, -3.7439311e-01, -1.9292448e-01],\n",
       "        [ 4.2708726e+00,  2.8542811e-01, -1.0203248e+00, ...,\n",
       "         -1.1391366e+00, -1.2167606e-01, -4.0176448e-01],\n",
       "        [ 4.7310076e+00,  2.9474965e-01, -1.0196702e+00, ...,\n",
       "         -1.1655587e+00, -1.1076191e-01, -3.3518782e-01],\n",
       "        ...,\n",
       "        [ 1.1936677e+00, -1.0552366e+00, -3.4865737e+00, ...,\n",
       "          2.2146802e-01, -4.2715040e-01, -2.1658704e+00],\n",
       "        [ 9.9479485e-01, -9.4030738e-01, -3.1507704e+00, ...,\n",
       "          2.1452300e-01, -4.5119074e-01, -1.8936197e+00],\n",
       "        [ 1.0175931e+00, -6.4813954e-01, -2.5751069e+00, ...,\n",
       "          2.0812134e-01, -3.5870162e-01, -1.5251836e+00]]], dtype=float32)"
      ]
     },
     "execution_count": 41,
     "metadata": {},
     "output_type": "execute_result"
    }
   ],
   "source": [
    "y_pred[0,:,:]"
   ]
  },
  {
   "cell_type": "code",
   "execution_count": null,
   "id": "8e21ebfb",
   "metadata": {},
   "outputs": [],
   "source": []
  },
  {
   "cell_type": "code",
   "execution_count": null,
   "id": "25f3ef5e",
   "metadata": {},
   "outputs": [],
   "source": []
  },
  {
   "cell_type": "code",
   "execution_count": null,
   "id": "74c9fbda",
   "metadata": {
    "pycharm": {
     "name": "#%%\n"
    }
   },
   "outputs": [],
   "source": [
    "y_test = y_test.T"
   ]
  },
  {
   "cell_type": "code",
   "execution_count": null,
   "id": "e79a9369",
   "metadata": {},
   "outputs": [],
   "source": []
  },
  {
   "cell_type": "code",
   "execution_count": null,
   "id": "7884f7dc",
   "metadata": {
    "pycharm": {
     "name": "#%%\n"
    }
   },
   "outputs": [],
   "source": [
    "y_pred = y_pred.T"
   ]
  },
  {
   "cell_type": "code",
   "execution_count": null,
   "id": "87f75bf5",
   "metadata": {
    "pycharm": {
     "name": "#%%\n"
    }
   },
   "outputs": [],
   "source": [
    "y_pred.shape"
   ]
  },
  {
   "cell_type": "code",
   "execution_count": null,
   "id": "99f5188a",
   "metadata": {
    "pycharm": {
     "name": "#%%\n"
    }
   },
   "outputs": [],
   "source": [
    "print(\"y_test : \\n\", y_test[0,0,1])\n",
    "print(\"=====================================\")\n",
    "print(\"y_pred : \\n\", y_pred[0,0,1])"
   ]
  },
  {
   "cell_type": "code",
   "execution_count": null,
   "id": "e8c2d00a",
   "metadata": {
    "pycharm": {
     "name": "#%%\n"
    }
   },
   "outputs": [],
   "source": [
    "axe = plt.axes()\n",
    "plt.rcParams.update({'font.size':15})\n",
    "plt.style.use('seaborn-whitegrid')\n",
    "plt.scatter(y_test[:,0], y_pred[:,0], s=1)\n",
    "plt.title('Coefficients')\n",
    "axe.set(xlabel=\"y_test\", ylabel=\"y_pred\")\n",
    "plt.show()\n",
    "# plt.scatter(X_test, y_test, label=\"Données d'évaluation\", color=\"b\")"
   ]
  }
 ],
 "metadata": {
  "kernelspec": {
   "display_name": "Python 3 (ipykernel)",
   "language": "python",
   "name": "python3"
  },
  "language_info": {
   "codemirror_mode": {
    "name": "ipython",
    "version": 3
   },
   "file_extension": ".py",
   "mimetype": "text/x-python",
   "name": "python",
   "nbconvert_exporter": "python",
   "pygments_lexer": "ipython3",
   "version": "3.8.13"
  }
 },
 "nbformat": 4,
 "nbformat_minor": 5
}
