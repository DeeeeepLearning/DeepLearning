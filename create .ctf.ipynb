{
 "cells": [
  {
   "cell_type": "code",
   "execution_count": 285,
   "id": "119ce10d",
   "metadata": {},
   "outputs": [],
   "source": [
    "import random\n",
    "import math\n",
    "PI = 3.14159265359"
   ]
  },
  {
   "cell_type": "code",
   "execution_count": 286,
   "id": "29b36a71",
   "metadata": {},
   "outputs": [],
   "source": [
    "file = open(\"exercise.ctf\", \"w+\")"
   ]
  },
  {
   "cell_type": "code",
   "execution_count": 287,
   "id": "eaeac157",
   "metadata": {},
   "outputs": [
    {
     "data": {
      "text/plain": [
       "501"
      ]
     },
     "execution_count": 287,
     "metadata": {},
     "output_type": "execute_result"
    }
   ],
   "source": [
    "file.write(\"Channel Text File\" + \"\\n\" +\n",
    "\"Prj\\tJ:\\BUL\\exos.ctf\" + \"\\n\" +\n",
    "\"Author\\t\" + \"\\n\" +\n",
    "\"JobMode\\tGrid\" + \"\\n\" +\n",
    "\"XCells\\t500\" + \"\\n\" +\n",
    "\"YCells\\t500\" + \"\\n\" +\n",
    "\"XStep\\t1\" + \"\\n\" +\n",
    "\"YStep\\t1\" + \"\\n\" +\n",
    "\"AcqE1\\t0\" + \"\\n\" +\n",
    "\"AcqE2\\t0\" + \"\\n\" +\n",
    "\"AcqE3\\t0\" + \"\\n\" +\n",
    "\"Euler angles refer to Sample Coordinate system (CS0)!\\tMag\\t300\\tCoverage\\t100\\tDevice\\t1\\tKV\\t20\\tTiltAngle\\t70\\tTiltAxis\\t0\" + \"\\n\" +\n",
    "\"Phases\\t1\" + \"\\n\" +\n",
    "\"2.866;2.866;2.866\\t90;90;90\\tIron bcc (old)\\t11\\t229\\t-1\\t-1\\tJ. Appl. Phys. [JAPIAU], vol. 42, pages 4290-95\" + \"\\n\" +\n",
    "\"3.6599;3.6599;3.6599\\t90;90;90\\tIron fcc\\t11\\t225\\t-1\\t-1\\tZ. Angew. Phys. [ZAPHAX], vol. 23, pages 245-249\" +\"\\n\" +\n",
    "\"Phase\\tX\\tY\\tBands\\tError\\tEuler1\\tEuler2\\tEuler3\\tMAD\\tBC\\tBS\\n\"\n",
    "          )"
   ]
  },
  {
   "cell_type": "code",
   "execution_count": 288,
   "id": "22ee561b",
   "metadata": {},
   "outputs": [],
   "source": [
    "def phi(inf, sup):\n",
    "    nb = random.uniform(inf, sup)\n",
    "    nb = round(nb, 3)\n",
    "    return nb"
   ]
  },
  {
   "cell_type": "code",
   "execution_count": 289,
   "id": "30aa8f5b",
   "metadata": {},
   "outputs": [],
   "source": [
    "def euler2():\n",
    "    nb = math.acos(random.uniform(0, 1))*(180/PI)\n",
    "    nb = round(nb, 3)\n",
    "    return nb"
   ]
  },
  {
   "cell_type": "code",
   "execution_count": 290,
   "id": "932310db",
   "metadata": {},
   "outputs": [],
   "source": [
    "y = 0\n",
    "for i in range(500):\n",
    "    if(i%500 == 0):\n",
    "        y += 1\n",
    "    file.write(\"1\\t\"+str(i)+\"\\t\"+str(y)+\"\\t7\\t0\\t\"+str(phi(0, 360))+\"\\t\"+str(euler2())+\"\\t\"+\n",
    "               str(phi(0, 360))+\"\\t0.6000\\t255\\t255\\n\")\n",
    "        "
   ]
  },
  {
   "cell_type": "code",
   "execution_count": 291,
   "id": "9a728bcd",
   "metadata": {},
   "outputs": [],
   "source": [
    "file.close()"
   ]
  },
  {
   "cell_type": "code",
   "execution_count": null,
   "id": "3e451a35",
   "metadata": {},
   "outputs": [],
   "source": []
  },
  {
   "cell_type": "code",
   "execution_count": null,
   "id": "84471d1d",
   "metadata": {},
   "outputs": [],
   "source": []
  },
  {
   "cell_type": "code",
   "execution_count": null,
   "id": "f7bb1bc2",
   "metadata": {},
   "outputs": [],
   "source": []
  },
  {
   "cell_type": "code",
   "execution_count": null,
   "id": "463768c7",
   "metadata": {},
   "outputs": [],
   "source": []
  }
 ],
 "metadata": {
  "kernelspec": {
   "display_name": "Python 3 (ipykernel)",
   "language": "python",
   "name": "python3"
  },
  "language_info": {
   "codemirror_mode": {
    "name": "ipython",
    "version": 3
   },
   "file_extension": ".py",
   "mimetype": "text/x-python",
   "name": "python",
   "nbconvert_exporter": "python",
   "pygments_lexer": "ipython3",
   "version": "3.9.7"
  }
 },
 "nbformat": 4,
 "nbformat_minor": 5
}
