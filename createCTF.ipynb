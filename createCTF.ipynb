{
 "cells": [
  {
   "cell_type": "code",
   "execution_count": 1,
   "id": "119ce10d",
   "metadata": {},
   "outputs": [],
   "source": [
    "import random\n",
    "import math\n",
    "from math import sqrt, cos, pi, sin, acos"
   ]
  },
  {
   "cell_type": "code",
   "execution_count": 2,
   "id": "29b36a71",
   "metadata": {},
   "outputs": [],
   "source": [
    "file = open(\"exercise5.ctf\", \"w+\")"
   ]
  },
  {
   "cell_type": "code",
   "execution_count": 3,
   "id": "eaeac157",
   "metadata": {},
   "outputs": [
    {
     "data": {
      "text/plain": [
       "501"
      ]
     },
     "execution_count": 3,
     "metadata": {},
     "output_type": "execute_result"
    }
   ],
   "source": [
    "file.write(\"Channel Text File\" + \"\\n\" +\n",
    "\"Prj\\tJ:\\BUL\\exos.ctf\" + \"\\n\" +\n",
    "\"Author\\t\" + \"\\n\" +\n",
    "\"JobMode\\tGrid\" + \"\\n\" +\n",
    "\"XCells\\t500\" + \"\\n\" +\n",
    "\"YCells\\t500\" + \"\\n\" +\n",
    "\"XStep\\t1\" + \"\\n\" +\n",
    "\"YStep\\t1\" + \"\\n\" +\n",
    "\"AcqE1\\t0\" + \"\\n\" +\n",
    "\"AcqE2\\t0\" + \"\\n\" +\n",
    "\"AcqE3\\t0\" + \"\\n\" +\n",
    "\"Euler angles refer to Sample Coordinate system (CS0)!\\tMag\\t300\\tCoverage\\t100\\tDevice\\t1\\tKV\\t20\\tTiltAngle\\t70\\tTiltAxis\\t0\" + \"\\n\" +\n",
    "\"Phases\\t2\" + \"\\n\" +\n",
    "\"2.866;2.866;2.866\\t90;90;90\\tIron bcc (old)\\t11\\t229\\t-1\\t-1\\tJ. Appl. Phys. [JAPIAU], vol. 42, pages 4290-95\" + \"\\n\" +\n",
    "\"3.6599;3.6599;3.6599\\t90;90;90\\tIron fcc\\t11\\t225\\t-1\\t-1\\tZ. Angew. Phys. [ZAPHAX], vol. 23, pages 245-249\" +\"\\n\" +\n",
    "\"Phase\\tX\\tY\\tBands\\tError\\tEuler1\\tEuler2\\tEuler3\\tMAD\\tBC\\tBS\\n\"\n",
    "          )"
   ]
  },
  {
   "cell_type": "raw",
   "id": "ec9d7d3f",
   "metadata": {},
   "source": [
    "def euler3(inf=0, sup=90):\n",
    "    nb = random.uniform(inf, sup)\n",
    "    nb = round(nb, 3)\n",
    "    return nb"
   ]
  },
  {
   "cell_type": "raw",
   "id": "c9afbd87",
   "metadata": {},
   "source": [
    "def euler1(inf=0, sup=360):\n",
    "    nb = random.uniform(inf, sup)\n",
    "    nb = round(nb, 3)\n",
    "    return nb"
   ]
  },
  {
   "cell_type": "raw",
   "id": "b48107ee",
   "metadata": {},
   "source": [
    "def euler2():\n",
    "    phi2 = acos(random.random()) * (180 / pi)\n",
    "    phiL = acos(\n",
    "        min(\n",
    "            (cos(phi2) / sqrt(1 + ((cos(phi2)) ** 2))),\n",
    "            (sin(phi2) / sqrt(1 + ((sin(phi2)) ** 2)))\n",
    "            )\n",
    "    )\n",
    "    phiL = phiL * (180 / pi)\n",
    "    while(phi2 < phiL):\n",
    "        phi2 = acos(random.uniform(0, 1)) * (180 / pi)\n",
    "        phiL = acos(\n",
    "        min(\n",
    "            (cos(phi2) / sqrt(1 + ((cos(phi2)) ** 2))),\n",
    "            (sin(phi2) / sqrt(1 + ((sin(phi2)) ** 2)))\n",
    "            )\n",
    "        )\n",
    "    phi2 = round(phi2, 3)\n",
    "    return phi2"
   ]
  },
  {
   "cell_type": "raw",
   "id": "0dbc509a",
   "metadata": {},
   "source": [
    "def euler2():\n",
    "    phi2 = acos(random.uniform(0, 1))\n",
    "    phiL = acos(min(\n",
    "        cos(phi2) / sqrt(1 + ((cos(phi2)) ** 2)),\n",
    "        sin(phi2) / sqrt(1 + ((sin(phi2)) ** 2))\n",
    "    ))\n",
    "    phiL = round(phiL, 3)\n",
    "    return phiL"
   ]
  },
  {
   "cell_type": "code",
   "execution_count": 4,
   "id": "b51b772c",
   "metadata": {},
   "outputs": [],
   "source": [
    "def euler():\n",
    "    \n",
    "    phi1 = random.uniform(0, 2*pi)\n",
    "    phi2 = random.uniform(0, pi/2)\n",
    "    phi = random.random()\n",
    "    phiL = acos(min((cos(phi2) / sqrt(1 + ((cos(phi2)) ** 2))),(sin(phi2) / sqrt(1 + ((sin(phi2)) ** 2)))))\n",
    "    \n",
    "    while(phi < phiL or phi > (pi/2)):\n",
    "        phi1 = random.uniform(0, 2*pi)\n",
    "        phi2 = random.uniform(0, pi/2)\n",
    "        phi = random.random()\n",
    "        phiL = acos(min((cos(phi2) / sqrt(1 + ((cos(phi2)) ** 2))),(sin(phi2) / sqrt(1 + ((sin(phi2)) ** 2)))))\n",
    "        \n",
    "    phi1 = round(phi1 * (180/pi), 3)\n",
    "    phi = round(phi * (180/pi), 3)\n",
    "    phi2 = round(phi2 * (180/pi), 3)\n",
    "    \n",
    "    return phi1, phi, phi2\n",
    "    "
   ]
  },
  {
   "cell_type": "code",
   "execution_count": 5,
   "id": "932310db",
   "metadata": {},
   "outputs": [],
   "source": [
    "for y in range(500):\n",
    "    for i in range(500):\n",
    "        phi1, phi, phi2 = euler()\n",
    "        file.write(\"1\\t\"+str(i)+\"\\t\"+str(y)+\"\\t7\\t0\\t\"+str(phi1)+\"\\t\"+str(phi)+\"\\t\"+str(phi2)+\"\\t0.6000\\t255\\t255\\n\")"
   ]
  },
  {
   "cell_type": "code",
   "execution_count": 6,
   "id": "9a728bcd",
   "metadata": {},
   "outputs": [],
   "source": [
    "file.close()"
   ]
  },
  {
   "cell_type": "code",
   "execution_count": null,
   "id": "3e451a35",
   "metadata": {},
   "outputs": [],
   "source": []
  },
  {
   "cell_type": "code",
   "execution_count": null,
   "id": "84471d1d",
   "metadata": {},
   "outputs": [],
   "source": []
  },
  {
   "cell_type": "code",
   "execution_count": null,
   "id": "f7bb1bc2",
   "metadata": {},
   "outputs": [],
   "source": []
  },
  {
   "cell_type": "code",
   "execution_count": null,
   "id": "463768c7",
   "metadata": {},
   "outputs": [],
   "source": []
  }
 ],
 "metadata": {
  "kernelspec": {
   "display_name": "Python 3 (ipykernel)",
   "language": "python",
   "name": "python3"
  },
  "language_info": {
   "codemirror_mode": {
    "name": "ipython",
    "version": 3
   },
   "file_extension": ".py",
   "mimetype": "text/x-python",
   "name": "python",
   "nbconvert_exporter": "python",
   "pygments_lexer": "ipython3",
   "version": "3.9.7"
  }
 },
 "nbformat": 4,
 "nbformat_minor": 5
}
