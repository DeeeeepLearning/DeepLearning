{
 "cells": [
  {
   "cell_type": "code",
   "execution_count": 2,
   "id": "d3156ce7",
   "metadata": {},
   "outputs": [],
   "source": [
    "import numpy as np\n",
    "from sklearn.metrics import mean_absolute_error, r2_score, mean_squared_error, accuracy_score\n",
    "import matplotlib.pyplot as plt\n",
    "import tensorflow as tf\n",
    "from tensorflow import keras\n",
    "from tensorflow.keras import layers, Input\n",
    "from tensorflow.keras.optimizers import SGD\n",
    "from sklearn.model_selection import train_test_split"
   ]
  },
  {
   "cell_type": "markdown",
   "id": "01a934eb",
   "metadata": {},
   "source": [
    "Pour être sûr d'utiliser Tensorflow 2.0 :"
   ]
  },
  {
   "cell_type": "code",
   "execution_count": 3,
   "id": "aafd28a6",
   "metadata": {},
   "outputs": [],
   "source": [
    "assert hasattr(tf, \"function\")"
   ]
  },
  {
   "cell_type": "markdown",
   "id": "faa92689",
   "metadata": {},
   "source": [
    "Cette fonction ouvre un fichier C_maps.txt en lecture et récupère les 22 coefficients et les retourne sous forme d'une matrice"
   ]
  },
  {
   "cell_type": "code",
   "execution_count": 4,
   "id": "38624196",
   "metadata": {},
   "outputs": [],
   "source": [
    "def get_data(file_path):\n",
    "    \n",
    "    file = open(file_path, \"r\")\n",
    "\n",
    "    allText = file.read()\n",
    "\n",
    "    words = list(map(str, allText.split()))\n",
    "\n",
    "    matrice_height = int(len(words) / 30)\n",
    "    matrice = np.ones((matrice_height, 24))\n",
    "\n",
    "    emplacement = 20\n",
    "    iter1 = 0\n",
    "    for i in range(emplacement, int(len(words) / 30) + emplacement):\n",
    "        iter2 = 0\n",
    "        for j in range(emplacement + 6, emplacement + 30):\n",
    "            matrice[(iter1, iter2)] = words[j]\n",
    "            iter2 += 1\n",
    "        iter1 += 1\n",
    "        emplacement += 30\n",
    "    X_2 = np.delete(matrice, 1, 1)\n",
    "    X_final = np.delete(X_2, 10, 1)\n",
    "    \n",
    "    file.close()\n",
    "    \n",
    "    return X_final"
   ]
  },
  {
   "cell_type": "markdown",
   "id": "2b8c3f7c",
   "metadata": {},
   "source": [
    "Cette fonction ouvre un fichier ctf en lecture et récupère les 3 coefficients d'Euler pour les retourner sous forme de matrice (x, 3)"
   ]
  },
  {
   "cell_type": "code",
   "execution_count": 5,
   "id": "6b71016c",
   "metadata": {},
   "outputs": [],
   "source": [
    "def read_ctf(file_path):\n",
    "    \n",
    "    file2 = open(file_path, \"r\")\n",
    "    \n",
    "    allText2 = file2.read()\n",
    "    words2 = list(map(str, allText2.split()))\n",
    "    \n",
    "    nb_debut_donnees = 88\n",
    "    nb_mots = len(words2) - nb_debut_donnees\n",
    "    nb_mots_par_ligne = 11\n",
    "    \n",
    "    nb_ligne_matrice = int(nb_mots / nb_mots_par_ligne)\n",
    "    print(\"nb_ligne_matrice = \" + str(nb_ligne_matrice))\n",
    "    nb_colonne_matrice = 3\n",
    "    matrice = np.empty((nb_ligne_matrice, nb_colonne_matrice))\n",
    "    emplacement = 0\n",
    "    \n",
    "    print(\"Extraction des données à partir du fichier ....\")\n",
    "    for i in range(nb_debut_donnees, nb_mots + nb_debut_donnees, nb_mots_par_ligne):\n",
    "        matrice[(emplacement, 0)] = words2[i + 5]\n",
    "        matrice[(emplacement, 1)] = words2[i + 6]\n",
    "        matrice[(emplacement, 2)] = words2[i + 7]\n",
    "        emplacement += 1\n",
    "    print(\"ok !\")    \n",
    "    file2.close()\n",
    "    \n",
    "    return matrice"
   ]
  },
  {
   "cell_type": "markdown",
   "id": "63455c9e",
   "metadata": {},
   "source": [
    "Cette fonction fait faire des prédiction au modèle et renvoie le score, mae, rmse, r2"
   ]
  },
  {
   "cell_type": "code",
   "execution_count": 6,
   "id": "3b06d8ec",
   "metadata": {},
   "outputs": [],
   "source": [
    "def run_experiment(model):\n",
    "    y_pred = model.predict(X_test)\n",
    "    print(\"R^2 : \", r2_score(y_test, y_pred))\n",
    "    print(\"MAE :\", mean_absolute_error(y_test,y_pred))\n",
    "    print(\"RMSE:\",np.sqrt(mean_squared_error(y_test, y_pred)))"
   ]
  },
  {
   "cell_type": "markdown",
   "id": "b36e27d2",
   "metadata": {},
   "source": [
    "cette fonction renvoie le nombre d'erreur de 1 degré ou plus de la prédiction par rapport aux valeurs réelles\n",
    "et renvoie les valeurs X d'entrée et y de sortie pour lesquels le modèle prédit mal, sous forme de matrices erreur_x, erreur_y"
   ]
  },
  {
   "cell_type": "code",
   "execution_count": 7,
   "id": "db3ac6d2",
   "metadata": {},
   "outputs": [],
   "source": [
    "def pourcentage_erreur(y_pred, y_test, x_test):\n",
    "   \n",
    "    err = 0\n",
    "    marge_derreur = 1 # 1 degre\n",
    "    erreur_y = np.empty((1, 3), dtype=float)\n",
    "    erreur_x = np.empty((1, 22), dtype=float)\n",
    "   \n",
    "    for i in range(y_pred.shape[0]):\n",
    "       \n",
    "        for j in range(y_pred.shape[1]):\n",
    "           \n",
    "            error = abs(y_pred[i][j] - y_test[i][j])\n",
    "            if error >= marge_derreur:\n",
    "               \n",
    "                # print(error)\n",
    "                err += 1\n",
    "               \n",
    "                erreur_y = np.append(erreur_y, [y_test[i]], axis=0)\n",
    "                erreur_x = np.append(erreur_x, [x_test[i]], axis=0)\n",
    "               \n",
    "                break\n",
    "               \n",
    "    erreur_y = np.delete(erreur_y, 0, axis=0)\n",
    "    erreur_x = np.delete(erreur_x, 0, axis=0)\n",
    "    \n",
    "    for y in erreur_y:\n",
    "        for i in range(len(y)):\n",
    "            y[i] = round(y[i], 3)\n",
    "    for x in erreur_x:\n",
    "        for j in range(len(x)):\n",
    "            x[j] = round(x[j], 3)\n",
    "    \n",
    "    message = \"le pourcentage d'erreur est de \"+str((err / y_pred.shape[0]) * 100)+\", \"+str(err)+\" / \"+str(y_pred.shape[0])\n",
    "    return message, erreur_y, erreur_x, err"
   ]
  },
  {
   "cell_type": "code",
   "execution_count": 8,
   "id": "9823429d",
   "metadata": {},
   "outputs": [],
   "source": [
    "def calculate_error(y_pred, y_test, x_test):\n",
    "   \n",
    "    err = 0\n",
    "    marge_derreur = 1 # 1 degre\n",
    "   \n",
    "    for i in range(y_pred.shape[0]):\n",
    "       \n",
    "        for j in range(y_pred.shape[1]):\n",
    "           \n",
    "            error = abs(y_pred[i][j] - y_test[i][j])\n",
    "            \n",
    "            if error >= marge_derreur:\n",
    "                \n",
    "                err += 1\n",
    "                break\n",
    "    \n",
    "    message = \"le pourcentage d'erreur est de \"+str((err / y_pred.shape[0]) * 100)+\", \"+str(err)+\" / \"+str(y_pred.shape[0])\n",
    "    return message"
   ]
  },
  {
   "cell_type": "markdown",
   "id": "eb28339f",
   "metadata": {},
   "source": [
    "X matrice d'entrée de dimension (250000, 22)"
   ]
  },
  {
   "cell_type": "code",
   "execution_count": 9,
   "id": "8d2b6949",
   "metadata": {},
   "outputs": [],
   "source": [
    "file_in_path = \"datas/C_maps_3.txt\"\n",
    "X = get_data(file_in_path)"
   ]
  },
  {
   "cell_type": "markdown",
   "id": "b778f849",
   "metadata": {},
   "source": [
    "Y matrice de dimension (250000, 3) correspondant aux valeurs de sortie q'on attend"
   ]
  },
  {
   "cell_type": "code",
   "execution_count": 10,
   "id": "a2878d34",
   "metadata": {},
   "outputs": [
    {
     "name": "stdout",
     "output_type": "stream",
     "text": [
      "nb_ligne_matrice = 250000\n",
      "Extraction des données à partir du fichier ....\n",
      "ok !\n"
     ]
    }
   ],
   "source": [
    "file_out_path = \"datas/exercise3.ctf\"\n",
    "y = read_ctf(file_out_path)"
   ]
  },
  {
   "cell_type": "markdown",
   "id": "fc26ce9a",
   "metadata": {},
   "source": [
    "Nous divisons notre jeu de données en jeu d'entraînement, X_train, y_train et en jeu de test, X_test, y_test\n",
    "le pourcentage de données de test est précisé avec le paramètre test_size, ici de 20%. random_state permet d'avoir le même mélange de données pour pouvoir comparer des modèles entre eux"
   ]
  },
  {
   "cell_type": "code",
   "execution_count": 11,
   "id": "1bda942c",
   "metadata": {},
   "outputs": [],
   "source": [
    "X_train, X_test, y_train, y_test = train_test_split(X, y, test_size=0.2, random_state=1)"
   ]
  },
  {
   "cell_type": "markdown",
   "id": "73ccbb7c",
   "metadata": {},
   "source": [
    "Importer un modèle qu'on a sauvegardé auparavant dans un fichier h5"
   ]
  },
  {
   "cell_type": "raw",
   "id": "623bc892",
   "metadata": {},
   "source": [
    "model = keras.models.load_model('nouveau_hasan.h5')"
   ]
  },
  {
   "cell_type": "markdown",
   "id": "f5c29fde",
   "metadata": {},
   "source": [
    "Ou on définit notre modèle, entrée de de taille 22 avec quatres couches intermédiaire composés de 256, 128, 64 et 32 neurones avec fonction d'activation Relu et dernière couche, de sortie, de taille 3"
   ]
  },
  {
   "cell_type": "code",
   "execution_count": 12,
   "id": "e7f16782",
   "metadata": {},
   "outputs": [],
   "source": [
    "model = keras.Sequential()\n",
    "\n",
    "model.add(Input(shape=(22,)))\n",
    "\n",
    "model.add(layers.Dense(256, activation=\"relu\")),\n",
    "\n",
    "model.add(layers.Dense(128, activation=\"relu\")),\n",
    "\n",
    "model.add(layers.Dense(64, activation=\"relu\")),\n",
    "\n",
    "model.add(layers.Dense(32, activation=\"relu\")),\n",
    "\n",
    "model.add(layers.Dense(3))"
   ]
  },
  {
   "cell_type": "markdown",
   "id": "6a33dee0",
   "metadata": {},
   "source": [
    "On définit notre optimiseur et la vitesse d'apprentissage"
   ]
  },
  {
   "cell_type": "raw",
   "id": "bffff040",
   "metadata": {},
   "source": [
    "# opt = SGD(learning_rate=0.01, momentum=0.9)\n",
    "opti = tf.keras.optimizers.Adam(learning_rate=0.1)  # sgd(0.01, momentum=0.9)"
   ]
  },
  {
   "cell_type": "markdown",
   "id": "d714edbe",
   "metadata": {},
   "source": [
    "on précise à notre modèle notre fonction de perte mae, mean absolute error, l'optimiseur et le métrique"
   ]
  },
  {
   "cell_type": "code",
   "execution_count": 14,
   "id": "8fb44e17",
   "metadata": {},
   "outputs": [],
   "source": [
    "model.compile(\n",
    "    optimizer='adam',\n",
    "    loss=\"mae\",\n",
    "    metrics=[tf.keras.metrics.MeanAbsoluteError()]\n",
    ")"
   ]
  },
  {
   "cell_type": "raw",
   "id": "bc4851cc",
   "metadata": {},
   "source": [
    "model.compile(\n",
    "    optimizer='adam',\n",
    "    loss=\"mse\",\n",
    "    metrics=[tf.keras.metrics.MeanSquaredError()]\n",
    ")"
   ]
  },
  {
   "cell_type": "markdown",
   "id": "7169a9c1",
   "metadata": {},
   "source": [
    "On entraîne le modèle en précisant nos données d'entraînement, X_train et y_train, le batch_size qui est le nombre de fois qu'on montre nos données au modèle avant qu'il ajuste ses paramètres, le nombre d'epochs qui est le nombre d'entraînement et nos données de valisation, X_test et y_test"
   ]
  },
  {
   "cell_type": "code",
   "execution_count": 15,
   "id": "66d2c3d2",
   "metadata": {},
   "outputs": [],
   "source": [
    "callbacks = [\n",
    "    tf.keras.callbacks.EarlyStopping(patience=10, verbose=1),\n",
    "    tf.keras.callbacks.ReduceLROnPlateau(factor=0.1, patience=5, min_lr=0.00001, verbose=1),\n",
    "    tf.keras.callbacks.ModelCheckpoint('model_dl.h5', verbose=1, save_best_only=True, save_weights_only=True)\n",
    "]"
   ]
  },
  {
   "cell_type": "code",
   "execution_count": null,
   "id": "8d686949",
   "metadata": {},
   "outputs": [
    {
     "name": "stdout",
     "output_type": "stream",
     "text": [
      "Epoch 1/1000\n",
      "6246/6250 [============================>.] - ETA: 0s - loss: 8.4138 - mean_absolute_error: 8.4138\n",
      "Epoch 00001: val_loss improved from inf to 3.72066, saving model to model_dl.h5\n",
      "6250/6250 [==============================] - 5s 728us/step - loss: 8.4112 - mean_absolute_error: 8.4112 - val_loss: 3.7207 - val_mean_absolute_error: 3.7207\n",
      "Epoch 2/1000\n",
      "6250/6250 [==============================] - ETA: 0s - loss: 3.1945 - mean_absolute_error: 3.1945\n",
      "Epoch 00002: val_loss improved from 3.72066 to 2.67096, saving model to model_dl.h5\n",
      "6250/6250 [==============================] - 4s 681us/step - loss: 3.1945 - mean_absolute_error: 3.1945 - val_loss: 2.6710 - val_mean_absolute_error: 2.6710\n",
      "Epoch 3/1000\n",
      "6240/6250 [============================>.] - ETA: 0s - loss: 2.7465 - mean_absolute_error: 2.7465\n",
      "Epoch 00003: val_loss did not improve from 2.67096\n",
      "6250/6250 [==============================] - 4s 672us/step - loss: 2.7474 - mean_absolute_error: 2.7474 - val_loss: 3.5595 - val_mean_absolute_error: 3.5595\n",
      "Epoch 4/1000\n",
      "6184/6250 [============================>.] - ETA: 0s - loss: 2.5647 - mean_absolute_error: 2.5647\n",
      "Epoch 00004: val_loss improved from 2.67096 to 2.44983, saving model to model_dl.h5\n",
      "6250/6250 [==============================] - 4s 695us/step - loss: 2.5636 - mean_absolute_error: 2.5636 - val_loss: 2.4498 - val_mean_absolute_error: 2.4498\n",
      "Epoch 5/1000\n",
      "6224/6250 [============================>.] - ETA: 0s - loss: 2.3771 - mean_absolute_error: 2.3771\n",
      "Epoch 00005: val_loss improved from 2.44983 to 2.28383, saving model to model_dl.h5\n",
      "6250/6250 [==============================] - 5s 725us/step - loss: 2.3752 - mean_absolute_error: 2.3752 - val_loss: 2.2838 - val_mean_absolute_error: 2.2838\n",
      "Epoch 6/1000\n",
      "6220/6250 [============================>.] - ETA: 0s - loss: 2.3260 - mean_absolute_error: 2.3260\n",
      "Epoch 00006: val_loss improved from 2.28383 to 1.90335, saving model to model_dl.h5\n",
      "6250/6250 [==============================] - 5s 728us/step - loss: 2.3248 - mean_absolute_error: 2.3248 - val_loss: 1.9033 - val_mean_absolute_error: 1.9033\n",
      "Epoch 7/1000\n",
      "6188/6250 [============================>.] - ETA: 0s - loss: 2.1999 - mean_absolute_error: 2.1999\n",
      "Epoch 00007: val_loss did not improve from 1.90335\n",
      "6250/6250 [==============================] - 5s 773us/step - loss: 2.1987 - mean_absolute_error: 2.1987 - val_loss: 2.0565 - val_mean_absolute_error: 2.0565\n",
      "Epoch 8/1000\n",
      "6247/6250 [============================>.] - ETA: 0s - loss: 2.1369 - mean_absolute_error: 2.1369\n",
      "Epoch 00008: val_loss improved from 1.90335 to 1.79767, saving model to model_dl.h5\n",
      "6250/6250 [==============================] - 5s 769us/step - loss: 2.1372 - mean_absolute_error: 2.1372 - val_loss: 1.7977 - val_mean_absolute_error: 1.7977\n",
      "Epoch 9/1000\n",
      "6213/6250 [============================>.] - ETA: 0s - loss: 2.0681 - mean_absolute_error: 2.0681\n",
      "Epoch 00009: val_loss did not improve from 1.79767\n",
      "6250/6250 [==============================] - 5s 744us/step - loss: 2.0719 - mean_absolute_error: 2.0719 - val_loss: 2.3067 - val_mean_absolute_error: 2.3067\n",
      "Epoch 10/1000\n",
      "6219/6250 [============================>.] - ETA: 0s - loss: 1.9982 - mean_absolute_error: 1.9982\n",
      "Epoch 00010: val_loss did not improve from 1.79767\n",
      "6250/6250 [==============================] - 5s 773us/step - loss: 1.9984 - mean_absolute_error: 1.9984 - val_loss: 2.0442 - val_mean_absolute_error: 2.0442\n",
      "Epoch 11/1000\n",
      "6214/6250 [============================>.] - ETA: 0s - loss: 1.9195 - mean_absolute_error: 1.9195\n",
      "Epoch 00011: val_loss improved from 1.79767 to 1.75552, saving model to model_dl.h5\n",
      "6250/6250 [==============================] - 5s 815us/step - loss: 1.9194 - mean_absolute_error: 1.9194 - val_loss: 1.7555 - val_mean_absolute_error: 1.7555\n",
      "Epoch 12/1000\n",
      "6189/6250 [============================>.] - ETA: 0s - loss: 1.8852 - mean_absolute_error: 1.8852\n",
      "Epoch 00012: val_loss improved from 1.75552 to 1.57545, saving model to model_dl.h5\n",
      "6250/6250 [==============================] - 5s 829us/step - loss: 1.8850 - mean_absolute_error: 1.8850 - val_loss: 1.5754 - val_mean_absolute_error: 1.5754\n",
      "Epoch 13/1000\n",
      "6212/6250 [============================>.] - ETA: 0s - loss: 1.8669 - mean_absolute_error: 1.8669\n",
      "Epoch 00013: val_loss did not improve from 1.57545\n",
      "6250/6250 [==============================] - 5s 791us/step - loss: 1.8714 - mean_absolute_error: 1.8714 - val_loss: 2.0891 - val_mean_absolute_error: 2.0891\n",
      "Epoch 14/1000\n",
      "6216/6250 [============================>.] - ETA: 0s - loss: 1.7725 - mean_absolute_error: 1.7725\n",
      "Epoch 00014: val_loss improved from 1.57545 to 1.51354, saving model to model_dl.h5\n",
      "6250/6250 [==============================] - 5s 751us/step - loss: 1.7727 - mean_absolute_error: 1.7727 - val_loss: 1.5135 - val_mean_absolute_error: 1.5135\n",
      "Epoch 15/1000\n",
      "6250/6250 [==============================] - ETA: 0s - loss: 1.7511 - mean_absolute_error: 1.7511\n",
      "Epoch 00015: val_loss did not improve from 1.51354\n",
      "6250/6250 [==============================] - 5s 805us/step - loss: 1.7511 - mean_absolute_error: 1.7511 - val_loss: 2.1450 - val_mean_absolute_error: 2.1450\n",
      "Epoch 16/1000\n",
      "6228/6250 [============================>.] - ETA: 0s - loss: 1.7248 - mean_absolute_error: 1.7248\n",
      "Epoch 00016: val_loss did not improve from 1.51354\n",
      "6250/6250 [==============================] - 5s 849us/step - loss: 1.7246 - mean_absolute_error: 1.7246 - val_loss: 1.8362 - val_mean_absolute_error: 1.8362\n",
      "Epoch 17/1000\n",
      "3511/6250 [===============>..............] - ETA: 2s - loss: 1.7659 - mean_absolute_error: 1.7659"
     ]
    }
   ],
   "source": [
    "history = model.fit(\n",
    "    x=X_train, \n",
    "    y=y_train,\n",
    "    batch_size=32,\n",
    "    epochs = 1000,\n",
    "    validation_data=(X_test, y_test),\n",
    "    callbacks=callbacks\n",
    ")"
   ]
  },
  {
   "cell_type": "code",
   "execution_count": null,
   "id": "40d4225b",
   "metadata": {},
   "outputs": [],
   "source": [
    "model.save(\"mse.h5\")"
   ]
  },
  {
   "cell_type": "markdown",
   "id": "944510f4",
   "metadata": {},
   "source": [
    "on demande au modèle de faire des prédictions pour les valeurs de X_test, de dimension (50000, 22).\n",
    "val_predictions aura une dimension de (50000, 3)"
   ]
  },
  {
   "cell_type": "code",
   "execution_count": 13,
   "id": "9059d134",
   "metadata": {},
   "outputs": [],
   "source": [
    "val_predictions = model.predict(X_test)"
   ]
  },
  {
   "cell_type": "markdown",
   "id": "842eae96",
   "metadata": {},
   "source": [
    "On affiche les dix premières valeurs de prédictions (val_predictions) et les valeurs réelles attendues (y_test)"
   ]
  },
  {
   "cell_type": "code",
   "execution_count": 14,
   "id": "f9b976f8",
   "metadata": {},
   "outputs": [
    {
     "name": "stdout",
     "output_type": "stream",
     "text": [
      "y_test : \n",
      " [[ 24.184  56.919  46.449]\n",
      " [ 64.483  56.12   45.87 ]\n",
      " [ 98.644  56.907  41.406]\n",
      " [ 37.895  56.299  44.834]\n",
      " [181.811  56.657  47.114]\n",
      " [ 24.667  57.125  44.681]\n",
      " [170.13   55.825  45.57 ]\n",
      " [207.195  56.294  42.492]\n",
      " [ 92.085  57.012  48.459]\n",
      " [337.13   56.261  42.685]]\n",
      "=====================================\n",
      "y_pred : \n",
      " [[ 24.185413  56.93414   46.541782]\n",
      " [ 64.48706   56.113655  45.932594]\n",
      " [ 98.650826  56.921734  41.452343]\n",
      " [ 37.9497    56.287777  44.92745 ]\n",
      " [181.77983   56.630844  47.18887 ]\n",
      " [ 24.65139   57.124153  44.78054 ]\n",
      " [170.05266   55.82446   45.64284 ]\n",
      " [207.1561    56.26212   42.55551 ]\n",
      " [ 92.02601   57.005474  48.499157]\n",
      " [337.10727   56.226803  42.76765 ]]\n"
     ]
    }
   ],
   "source": [
    "print(\"y_test : \\n\", y_test[:10])\n",
    "print(\"=====================================\")\n",
    "print(\"y_pred : \\n\", val_predictions[:10])"
   ]
  },
  {
   "cell_type": "markdown",
   "id": "90c8e51a",
   "metadata": {},
   "source": [
    "On calcule l'erreur moyenne absolue en donnant à la fonction les valeurs prédites et réelles"
   ]
  },
  {
   "cell_type": "raw",
   "id": "de1d4dc7",
   "metadata": {},
   "source": [
    "val_mae = mean_absolute_error(val_predictions, y_test)\n",
    "print(\"Validation MAE for Model: {}\".format(val_mae))"
   ]
  },
  {
   "cell_type": "code",
   "execution_count": 15,
   "id": "99273366",
   "metadata": {},
   "outputs": [
    {
     "name": "stdout",
     "output_type": "stream",
     "text": [
      "Validation MSE for Model: 7.853100329121324\n"
     ]
    }
   ],
   "source": [
    "val_mse = mean_squared_error(y_test, val_predictions)\n",
    "print(\"Validation MSE for Model: {}\".format(val_mse))"
   ]
  },
  {
   "cell_type": "code",
   "execution_count": 16,
   "id": "160c910b",
   "metadata": {},
   "outputs": [
    {
     "data": {
      "text/plain": [
       "(50000, 3)"
      ]
     },
     "execution_count": 16,
     "metadata": {},
     "output_type": "execute_result"
    }
   ],
   "source": [
    "y_test.shape"
   ]
  },
  {
   "cell_type": "markdown",
   "id": "9b7e7625",
   "metadata": {},
   "source": [
    "On affiche trois graphiques pour chaque valeur d'Euler, en x les valeurs réelles et en y les valeurs prédites"
   ]
  },
  {
   "cell_type": "code",
   "execution_count": 17,
   "id": "70820eda",
   "metadata": {},
   "outputs": [
    {
     "data": {
      "image/png": "[encoded data removed]",
      "text/plain": [
       "<Figure size 432x288 with 1 Axes>"
      ]
     },
     "metadata": {
      "needs_background": "light"
     },
     "output_type": "display_data"
    },
    {
     "data": {
      "image/png": "[encoded data removed]",
      "text/plain": [
       "<Figure size 432x288 with 1 Axes>"
      ]
     },
     "metadata": {},
     "output_type": "display_data"
    },
    {
     "data": {
      "image/png": "[encoded data removed]",
      "text/plain": [
       "<Figure size 432x288 with 1 Axes>"
      ]
     },
     "metadata": {},
     "output_type": "display_data"
    }
   ],
   "source": [
    "for i in range(3):\n",
    "    axe = plt.axes()\n",
    "    plt.rcParams.update({'font.size':15})\n",
    "    plt.style.use('seaborn-whitegrid')\n",
    "    plt.scatter(y_test[:, i], val_predictions[:, i], s=1)\n",
    "    plt.title('Euler ' + str(i+1))\n",
    "    axe.set(xlabel=\"Valeurs réelles\", ylabel=\"Valeurs prédites\")\n",
    "    plt.show()"
   ]
  },
  {
   "cell_type": "markdown",
   "id": "7428f79e",
   "metadata": {},
   "source": [
    "On affiche le nombre d'erreurs de 1 degré ou plus de notre modèle"
   ]
  },
  {
   "cell_type": "code",
   "execution_count": null,
   "id": "ce997177",
   "metadata": {},
   "outputs": [],
   "source": [
    "message = calculate_error(val_predictions, y_test, X_test)\n",
    "print(message)"
   ]
  },
  {
   "cell_type": "markdown",
   "id": "2e40a503",
   "metadata": {},
   "source": [
    "on mesure la qualité de prédiction de notre modèle avec l'écart quadratique moyen, mae et le coefficient de détermination"
   ]
  },
  {
   "cell_type": "code",
   "execution_count": null,
   "id": "dcb72744",
   "metadata": {},
   "outputs": [],
   "source": [
    "run_experiment(model)"
   ]
  },
  {
   "cell_type": "markdown",
   "id": "2c338f45",
   "metadata": {},
   "source": [
    "On importe d'autres données que le modèle n'a jamais vu pour le tester"
   ]
  },
  {
   "cell_type": "code",
   "execution_count": null,
   "id": "f15adebe",
   "metadata": {},
   "outputs": [],
   "source": [
    "X_3 = get_data(\"C_maps_3.txt\")\n",
    "y_3 = read_ctf(\"exercise3.ctf\")\n",
    "X_4 = get_data(\"C_maps_4.txt\")\n",
    "y_4 = read_ctf(\"exercise4.ctf\")\n",
    "X_5 = get_data(\"C_maps_5.txt\")\n",
    "y_5 = read_ctf(\"exercise5.ctf\")"
   ]
  },
  {
   "cell_type": "markdown",
   "id": "b4ff3765",
   "metadata": {},
   "source": [
    "on fait prédire nos nouvelles données et on affiche le mae du modèle sur ces nouvelles données"
   ]
  },
  {
   "cell_type": "code",
   "execution_count": null,
   "id": "d786d7da",
   "metadata": {},
   "outputs": [],
   "source": [
    "# X_3_train, X_3_test, y_3_train, y_3_test = train_test_split(X_3, y_3, test_size=.2, random_state=1)\n",
    "val_predictions3 = model.predict(X_3)\n",
    "val_mae3 = mean_absolute_error(val_predictions3, y_3)\n",
    "print(\"Validation MAE for Model: {}\".format(val_mae3))\n",
    "\n",
    "# X_4_train, X_4_test, y_4_train, y_4_test = train_test_split(X_4, y_4, test_size=.2, random_state=1)\n",
    "val_predictions4 = model.predict(X_4)\n",
    "val_mae4 = mean_absolute_error(val_predictions4, y_4)\n",
    "print(\"Validation MAE for Model: {}\".format(val_mae4))\n",
    "\n",
    "# X_5_train, X_5_test, y_5_train, y_5_test = train_test_split(X_5, y_5, test_size=.2, random_state=1)\n",
    "val_predictions5 = model.predict(X_5)\n",
    "val_mae5 = mean_absolute_error(val_predictions5, y_5)\n",
    "print(\"Validation MAE for Model: {}\".format(val_mae5))"
   ]
  },
  {
   "cell_type": "markdown",
   "id": "b9233639",
   "metadata": {},
   "source": [
    "on affiche dans un graphique les valeurs réelles et les valeurs prédites et on observe la courbe"
   ]
  },
  {
   "cell_type": "code",
   "execution_count": null,
   "id": "fa7080ec",
   "metadata": {},
   "outputs": [],
   "source": [
    "for i in range(3):\n",
    "    axe = plt.axes()\n",
    "    plt.rcParams.update({'font.size':15})\n",
    "    plt.style.use('seaborn-whitegrid')\n",
    "    plt.scatter(y_4[:, i], val_predictions4[:, i], s=1)\n",
    "    plt.title('Euler ' + str(i+1))\n",
    "    axe.set(xlabel=\"valeurs réelles\", ylabel=\"valeurs prédites\")\n",
    "    plt.show()\n",
    "# plt.scatter(X_test, y_test, label=\"Données d'évaluation\", color=\"b\")"
   ]
  },
  {
   "cell_type": "markdown",
   "id": "9436aed0",
   "metadata": {},
   "source": [
    "on affiche le nombre d'erreurs que fait notre modèle sur ces nouvelles données"
   ]
  },
  {
   "cell_type": "code",
   "execution_count": null,
   "id": "31a8855a",
   "metadata": {},
   "outputs": [],
   "source": [
    "predictions3 = model.predict(X_3)\n",
    "message3, erreur_y3, erreur_x3, nb_error_3 = pourcentage_erreur(predictions3, y_3, X_3)\n",
    "print(message3)\n",
    "predictions4 = model.predict(X_4)\n",
    "message4, erreur_y4, erreur_x4, nb_error_4 = pourcentage_erreur(predictions4, y_4, X_4)\n",
    "print(message4)\n",
    "predictions5 = model.predict(X_5)\n",
    "message5, erreur_y5, erreur_x5, nb_error_5 = pourcentage_erreur(predictions5, y_5, X_5)\n",
    "print(message5)"
   ]
  },
  {
   "cell_type": "code",
   "execution_count": null,
   "id": "93ff4f79",
   "metadata": {},
   "outputs": [],
   "source": [
    "erreur_y3.shape"
   ]
  },
  {
   "cell_type": "code",
   "execution_count": null,
   "id": "3e45f0b5",
   "metadata": {},
   "outputs": [],
   "source": [
    "erreur_x3.shape"
   ]
  },
  {
   "cell_type": "markdown",
   "id": "98a6308a",
   "metadata": {},
   "source": [
    "On récupère les valeurs d'entrée et de sortie X ey y des trois jeux de données pour lesquelles le modèle prédit mal dans trois matrices et on les mélanges à 50% d'autres valeurs aléatoires pour avoir trois jeux de données composés de 50% d'erreurs et 50% d'autres valeurs aléatoires."
   ]
  },
  {
   "cell_type": "code",
   "execution_count": null,
   "id": "17ea5f4f",
   "metadata": {},
   "outputs": [],
   "source": [
    "matrix_y3 = np.ones((1, 3), dtype=float)\n",
    "matrix_x3 = np.ones((1, 22), dtype=float)\n",
    "\n",
    "for i in range(nb_error_3):\n",
    "    nb = np.random.randint(0, X_3.shape[0] - 1)\n",
    "    matrix_y3 = np.append(matrix_y3, [y_3[nb]], axis=0)\n",
    "    matrix_x3 = np.append(matrix_x3, [X_3[nb]], axis=0)\n",
    "    \n",
    "matrix_y3 = np.delete(matrix_y3, 0, axis=0)\n",
    "matrix_x3 = np.delete(matrix_x3, 0, axis=0)\n",
    "# ==============================================\n",
    "matrix_y4 = np.ones((1, 3), dtype=float)\n",
    "matrix_x4 = np.ones((1, 22), dtype=float)\n",
    "\n",
    "for i in range(nb_error_4):\n",
    "    nb = np.random.randint(0, X_4.shape[0] - 1)\n",
    "    matrix_y4 = np.append(matrix_y4, [y_4[nb]], axis=0)\n",
    "    matrix_x4 = np.append(matrix_x4, [X_4[nb]], axis=0)\n",
    "    \n",
    "matrix_y4 = np.delete(matrix_y4, 0, axis=0)\n",
    "matrix_x4 = np.delete(matrix_x4, 0, axis=0)\n",
    "#=============================================\n",
    "matrix_y5 = np.ones((1, 3), dtype=float)\n",
    "matrix_x5 = np.ones((1, 22), dtype=float)\n",
    "\n",
    "for i in range(nb_error_5):\n",
    "    nb = np.random.randint(0, X_5.shape[0] - 1)\n",
    "    matrix_y5 = np.append(matrix_y5, [y_5[nb]], axis=0)\n",
    "    matrix_x5 = np.append(matrix_x5, [X_5[nb]], axis=0)\n",
    "    \n",
    "matrix_y5 = np.delete(matrix_y5, 0, axis=0)\n",
    "matrix_x5 = np.delete(matrix_x5, 0, axis=0)"
   ]
  },
  {
   "cell_type": "code",
   "execution_count": null,
   "id": "1a669963",
   "metadata": {},
   "outputs": [],
   "source": [
    "matrix_x3.shape"
   ]
  },
  {
   "cell_type": "code",
   "execution_count": null,
   "id": "2fb8205c",
   "metadata": {},
   "outputs": [],
   "source": [
    "matrix_y3.shape"
   ]
  },
  {
   "cell_type": "markdown",
   "id": "188aa1c2",
   "metadata": {},
   "source": [
    "On regroupe les trois matrices précédentes dans une seule"
   ]
  },
  {
   "cell_type": "code",
   "execution_count": null,
   "id": "b1d2821c",
   "metadata": {},
   "outputs": [],
   "source": [
    "new_X3 = np.concatenate((matrix_x3, erreur_x3), axis=0)\n",
    "new_Y3 = np.concatenate((matrix_y3, erreur_y3), axis=0)\n",
    "\n",
    "new_X4 = np.concatenate((matrix_x4, erreur_x4), axis=0)\n",
    "new_Y4 = np.concatenate((matrix_y4, erreur_y4), axis=0)\n",
    "\n",
    "new_X5 = np.concatenate((matrix_x5, erreur_x5), axis=0)\n",
    "new_Y5 = np.concatenate((matrix_y5, erreur_y5), axis=0)\n",
    "\n",
    "new_X_ = np.concatenate((new_X3, new_X4), axis=0)\n",
    "new_Y_ = np.concatenate((new_Y3, new_Y4), axis=0)\n",
    "\n",
    "new_X = np.concatenate((new_X_, new_X5), axis=0)\n",
    "new_Y = np.concatenate((new_Y_, new_Y5), axis=0)"
   ]
  },
  {
   "cell_type": "code",
   "execution_count": null,
   "id": "234eea08",
   "metadata": {},
   "outputs": [],
   "source": [
    "new_X.shape"
   ]
  },
  {
   "cell_type": "code",
   "execution_count": null,
   "id": "3e910a46",
   "metadata": {},
   "outputs": [],
   "source": [
    "new_Y.shape"
   ]
  },
  {
   "cell_type": "markdown",
   "id": "f454b5c0",
   "metadata": {},
   "source": [
    "on sépare nos nouvelles données composé de 50% d'erreurs et 50% aléatoire en 80 % de données d'entraîenement et 20 % données de test"
   ]
  },
  {
   "cell_type": "code",
   "execution_count": null,
   "id": "05d3f9bf",
   "metadata": {},
   "outputs": [],
   "source": [
    "X_train2, X_test2, y_train2, y_test2 = train_test_split(new_X, new_Y, test_size=0.2, random_state=1)"
   ]
  },
  {
   "cell_type": "markdown",
   "id": "cca18d0f",
   "metadata": {},
   "source": [
    "on crée un nouveau modèle avec le meme nombre de couches que le précédent"
   ]
  },
  {
   "cell_type": "raw",
   "id": "38771b96",
   "metadata": {},
   "source": [
    "model_error = keras.Sequential()\n",
    "\n",
    "model_error.add(Input(shape=(22,)))\n",
    "\n",
    "model_error.add(layers.Dense(256, activation=\"relu\")),\n",
    "\n",
    "model_error.add(layers.Dense(128, activation=\"relu\")),\n",
    "\n",
    "model_error.add(layers.Dense(64, activation=\"relu\")),\n",
    "\n",
    "model_error.add(layers.Dense(32, activation=\"relu\")),\n",
    "\n",
    "model_error.add(layers.Dense(3))"
   ]
  },
  {
   "cell_type": "markdown",
   "id": "1db838c9",
   "metadata": {},
   "source": [
    "on donne au modèle nos nouvelles données composées de 50% d'erreurs et 50% d'aléatoires\n",
    "on peut jouer avec le batch_size , le nombre d'epochs etc\n",
    "augmenter le batch_size et réentrâiner plusieurs fois"
   ]
  },
  {
   "cell_type": "code",
   "execution_count": null,
   "id": "11aeae78",
   "metadata": {},
   "outputs": [],
   "source": [
    "model.compile(\n",
    "    optimizer=\"adam\", \n",
    "    loss=\"mae\", # mse\n",
    "    metrics=[tf.keras.metrics.MeanAbsoluteError()]\n",
    ")\n",
    "\n",
    "history = model.fit(\n",
    "    x=X_train2, \n",
    "    y=y_train2, \n",
    "    epochs=10000,\n",
    "    batch_size=32,\n",
    "    validation_data=(X_test2, y_test2)\n",
    ")"
   ]
  },
  {
   "cell_type": "markdown",
   "id": "6b84ec10",
   "metadata": {},
   "source": [
    "ou bien on utilise le modèle précédent ou un autres"
   ]
  },
  {
   "cell_type": "raw",
   "id": "48e0055f",
   "metadata": {},
   "source": [
    "model_erreur = keras.models.load_model('nouveau.h5')"
   ]
  },
  {
   "cell_type": "markdown",
   "id": "bd874ebc",
   "metadata": {},
   "source": [
    "on fait prédire à notre nouveau modèle toutes les données des trois fichiers (les modèles ne les ont jamais vu)"
   ]
  },
  {
   "cell_type": "code",
   "execution_count": null,
   "id": "3514b3de",
   "metadata": {},
   "outputs": [],
   "source": [
    "pred3 = model.predict(X_3)\n",
    "pred4 = model.predict(X_4)\n",
    "pred5 = model.predict(X_5)"
   ]
  },
  {
   "cell_type": "markdown",
   "id": "05ec5f74",
   "metadata": {},
   "source": [
    "on fait aussi prédire nos données composés de 50% d'erreurs et 50% aléatoires"
   ]
  },
  {
   "cell_type": "code",
   "execution_count": null,
   "id": "ba5165ed",
   "metadata": {},
   "outputs": [],
   "source": [
    "pred = model.predict(new_X)"
   ]
  },
  {
   "cell_type": "markdown",
   "id": "f980f986",
   "metadata": {},
   "source": [
    "on affiche trois graphique pour visualiser la qulaité du modèle sur les données 50 50"
   ]
  },
  {
   "cell_type": "code",
   "execution_count": null,
   "id": "b379e67a",
   "metadata": {},
   "outputs": [],
   "source": [
    "for i in range(3):\n",
    "    axe = plt.axes()\n",
    "    plt.rcParams.update({'font.size':15})\n",
    "    plt.style.use('seaborn-whitegrid')\n",
    "    plt.scatter(new_Y[:, i], pred[:, i], s=1)\n",
    "    plt.title('Euler ' + str(i+1))\n",
    "    axe.set(xlabel=\"valeurs réelles\", ylabel=\"valeurs prédites\")\n",
    "    plt.show()"
   ]
  },
  {
   "cell_type": "markdown",
   "id": "d4199c56",
   "metadata": {},
   "source": [
    "on affiche aussi trois graphiques pour visulaiser les performances du modèles sur toutes les données d'un des fichiers importés"
   ]
  },
  {
   "cell_type": "code",
   "execution_count": null,
   "id": "9eb283d3",
   "metadata": {},
   "outputs": [],
   "source": [
    "for i in range(3):\n",
    "    axe = plt.axes()\n",
    "    plt.rcParams.update({'font.size':15})\n",
    "    plt.style.use('seaborn-whitegrid')\n",
    "    plt.scatter(y_4[:, i], pred4[:, i], s=1)\n",
    "    plt.title('Euler ' + str(i+1))\n",
    "    axe.set(xlabel=\"valeurs réelles\", ylabel=\"valeurs prédites\")\n",
    "    plt.show()"
   ]
  },
  {
   "cell_type": "markdown",
   "id": "85fb9640",
   "metadata": {},
   "source": [
    "on calcule le nombre d'erreurs de 1 degré ou plus sur les données 50 50"
   ]
  },
  {
   "cell_type": "code",
   "execution_count": null,
   "id": "3c18d587",
   "metadata": {},
   "outputs": [],
   "source": [
    "msg, erry, errx, err = pourcentage_erreur(pred, new_Y, new_X)\n",
    "print(msg)"
   ]
  },
  {
   "cell_type": "markdown",
   "id": "8fe2c157",
   "metadata": {},
   "source": [
    "on calcule le nombre d'erreurs de 1 degré ou plus sur les trois fichiers de données"
   ]
  },
  {
   "cell_type": "code",
   "execution_count": null,
   "id": "200e3e65",
   "metadata": {},
   "outputs": [],
   "source": [
    "message3, erreur_y3, erreur_x3, err3 = pourcentage_erreur(pred3, y_3, X_3)\n",
    "print(message3)\n",
    "\n",
    "message4, erreur_y4, erreur_x4, err4 = pourcentage_erreur(pred4, y_4, X_4)\n",
    "print(message4)\n",
    "\n",
    "message5, erreur_y5, erreur_x5, err5 = pourcentage_erreur(pred5, y_5, X_5)\n",
    "print(message5)"
   ]
  },
  {
   "cell_type": "markdown",
   "id": "16380e25",
   "metadata": {},
   "source": [
    "On va réentraîner notre modèle_erreur avec les les données d'un des fichiers après qu'il s'est entraîner avec des données 50% erreur 50% aléaatoire et qu'il a a baissé à 10% d'erreurs sur les données 50 50"
   ]
  },
  {
   "cell_type": "code",
   "execution_count": null,
   "id": "873a5043",
   "metadata": {},
   "outputs": [],
   "source": [
    "model.compile(\n",
    "    optimizer='adam',    # opti,\n",
    "    loss=\"mae\",    # \"mae\", # mse\n",
    "    metrics=[tf.keras.metrics.MeanAbsoluteError()]\n",
    ")"
   ]
  },
  {
   "cell_type": "code",
   "execution_count": null,
   "id": "d9d9e370",
   "metadata": {},
   "outputs": [],
   "source": [
    "history = model.fit(\n",
    "    x=X_train, \n",
    "    y=y_train,\n",
    "    batch_size = 10000,\n",
    "    epochs=2000,\n",
    "    validation_data=(X_test, y_test)\n",
    ")"
   ]
  },
  {
   "cell_type": "markdown",
   "id": "43bfb094",
   "metadata": {},
   "source": [
    "On test mainetanant notre modèle sur les données des trois fichiers"
   ]
  },
  {
   "cell_type": "code",
   "execution_count": null,
   "id": "312b36c5",
   "metadata": {},
   "outputs": [],
   "source": [
    "predictions3 = model.predict(X_3)\n",
    "message3, erreur_y3, erreur_x3, nb_error_3 = pourcentage_erreur(predictions3, y_3, X_3)\n",
    "print(message3)\n",
    "predictions4 = model.predict(X_4)\n",
    "message4, erreur_y4, erreur_x4, nb_error_4 = pourcentage_erreur(predictions4, y_4, X_4)\n",
    "print(message4)\n",
    "predictions5 = model.predict(X_5)\n",
    "message5, erreur_y5, erreur_x5, nb_error_5 = pourcentage_erreur(predictions5, y_5, X_5)\n",
    "print(message5)"
   ]
  },
  {
   "cell_type": "raw",
   "id": "82fd333a",
   "metadata": {},
   "source": [
    "model_hasan.save(\"nouveau_hasan.h5\")"
   ]
  },
  {
   "cell_type": "code",
   "execution_count": null,
   "id": "c3bb1488",
   "metadata": {},
   "outputs": [],
   "source": []
  }
 ],
 "metadata": {
  "kernelspec": {
   "display_name": "Python 3 (ipykernel)",
   "language": "python",
   "name": "python3"
  },
  "language_info": {
   "codemirror_mode": {
    "name": "ipython",
    "version": 3
   },
   "file_extension": ".py",
   "mimetype": "text/x-python",
   "name": "python",
   "nbconvert_exporter": "python",
   "pygments_lexer": "ipython3",
   "version": "3.8.13"
  }
 },
 "nbformat": 4,
 "nbformat_minor": 5
}
