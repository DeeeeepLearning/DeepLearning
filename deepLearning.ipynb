{
 "cells": [
  {
   "cell_type": "code",
   "execution_count": 18,
   "id": "d3156ce7",
   "metadata": {},
   "outputs": [],
   "source": [
    "import numpy as np\n",
    "from sklearn.metrics import mean_absolute_error, r2_score, mean_squared_error, accuracy_score\n",
    "import matplotlib.pyplot as plt\n",
    "import tensorflow as tf\n",
    "from tensorflow import keras\n",
    "from tensorflow.keras import layers, Input\n",
    "from tensorflow.keras.optimizers import SGD\n",
    "from sklearn.model_selection import train_test_split"
   ]
  },
  {
   "cell_type": "markdown",
   "id": "01a934eb",
   "metadata": {},
   "source": [
    "Pour être sûr d'utiliser Tensorflow 2.0 :"
   ]
  },
  {
   "cell_type": "code",
   "execution_count": 19,
   "id": "aafd28a6",
   "metadata": {},
   "outputs": [],
   "source": [
    "assert hasattr(tf, \"function\")"
   ]
  },
  {
   "cell_type": "markdown",
   "id": "faa92689",
   "metadata": {},
   "source": [
    "Cette fonction ouvre un fichier C_maps.txt en lecture et récupère les 22 coefficients et les retourne sous forme d'une matrice"
   ]
  },
  {
   "cell_type": "code",
   "execution_count": 20,
   "id": "38624196",
   "metadata": {},
   "outputs": [],
   "source": [
    "def get_data(file_path):\n",
    "    \n",
    "    file = open(file_path, \"r\")\n",
    "\n",
    "    allText = file.read()\n",
    "\n",
    "    words = list(map(str, allText.split()))\n",
    "\n",
    "    matrice_height = int(len(words) / 30)\n",
    "    matrice = np.ones((matrice_height, 24))\n",
    "\n",
    "    emplacement = 20\n",
    "    iter1 = 0\n",
    "    for i in range(emplacement, int(len(words) / 30) + emplacement):\n",
    "        iter2 = 0\n",
    "        for j in range(emplacement + 6, emplacement + 30):\n",
    "            matrice[(iter1, iter2)] = words[j]\n",
    "            iter2 += 1\n",
    "        iter1 += 1\n",
    "        emplacement += 30\n",
    "    X_2 = np.delete(matrice, 1, 1)\n",
    "    X_final = np.delete(X_2, 10, 1)\n",
    "    \n",
    "    file.close()\n",
    "    \n",
    "    return X_final"
   ]
  },
  {
   "cell_type": "markdown",
   "id": "2b8c3f7c",
   "metadata": {},
   "source": [
    "Cette fonction ouvre un fichier ctf en lecture et récupère les 3 coefficients d'Euler pour les retourner sous forme de matrice (x, 3)"
   ]
  },
  {
   "cell_type": "code",
   "execution_count": 21,
   "id": "6b71016c",
   "metadata": {},
   "outputs": [],
   "source": [
    "def read_ctf(file_path):\n",
    "    \n",
    "    file2 = open(file_path, \"r\")\n",
    "    \n",
    "    allText2 = file2.read()\n",
    "    words2 = list(map(str, allText2.split()))\n",
    "    \n",
    "    nb_debut_donnees = 88\n",
    "    nb_mots = len(words2) - nb_debut_donnees\n",
    "    nb_mots_par_ligne = 11\n",
    "    \n",
    "    nb_ligne_matrice = int(nb_mots / nb_mots_par_ligne)\n",
    "    print(\"nb_ligne_matrice = \" + str(nb_ligne_matrice))\n",
    "    nb_colonne_matrice = 3\n",
    "    matrice = np.empty((nb_ligne_matrice, nb_colonne_matrice))\n",
    "    emplacement = 0\n",
    "    \n",
    "    print(\"Extraction des données à partir du fichier ....\")\n",
    "    for i in range(nb_debut_donnees, nb_mots + nb_debut_donnees, nb_mots_par_ligne):\n",
    "        matrice[(emplacement, 0)] = words2[i + 5]\n",
    "        matrice[(emplacement, 1)] = words2[i + 6]\n",
    "        matrice[(emplacement, 2)] = words2[i + 7]\n",
    "        emplacement += 1\n",
    "    print(\"ok !\")    \n",
    "    file2.close()\n",
    "    \n",
    "    return matrice"
   ]
  },
  {
   "cell_type": "markdown",
   "id": "63455c9e",
   "metadata": {},
   "source": [
    "Cette fonction fait faire des prédiction au modèle et renvoie le score, mae, rmse, r2"
   ]
  },
  {
   "cell_type": "code",
   "execution_count": 22,
   "id": "3b06d8ec",
   "metadata": {},
   "outputs": [],
   "source": [
    "def run_experiment(model):\n",
    "    y_pred = model.predict(X_test)\n",
    "    print(\"R^2 : \", r2_score(y_test, y_pred))\n",
    "    print(\"MAE :\", mean_absolute_error(y_test,y_pred))\n",
    "    print(\"RMSE:\",np.sqrt(mean_squared_error(y_test, y_pred)))"
   ]
  },
  {
   "cell_type": "markdown",
   "id": "b36e27d2",
   "metadata": {},
   "source": [
    "cette fonction renvoie le nombre d'erreur de 1 degré ou plus de la prédiction par rapport aux valeurs réelles\n",
    "et renvoie les valeurs X d'entrée et y de sortie pour lesquels le modèle prédit mal, sous forme de matrices erreur_x, erreur_y"
   ]
  },
  {
   "cell_type": "code",
   "execution_count": 23,
   "id": "db3ac6d2",
   "metadata": {},
   "outputs": [],
   "source": [
    "def pourcentage_erreur(y_pred, y_test, x_test):\n",
    "   \n",
    "    err = 0\n",
    "    marge_derreur = 1 # 1 degre\n",
    "    erreur_y = np.empty((1, 3), dtype=float)\n",
    "    erreur_x = np.empty((1, 22), dtype=float)\n",
    "   \n",
    "    for i in range(y_pred.shape[0]):\n",
    "       \n",
    "        for j in range(y_pred.shape[1]):\n",
    "           \n",
    "            error = abs(y_pred[i][j] - y_test[i][j])\n",
    "            if error >= marge_derreur:\n",
    "               \n",
    "                # print(error)\n",
    "                err += 1\n",
    "               \n",
    "                erreur_y = np.append(erreur_y, [y_test[i]], axis=0)\n",
    "                erreur_x = np.append(erreur_x, [x_test[i]], axis=0)\n",
    "               \n",
    "                break\n",
    "               \n",
    "    erreur_y = np.delete(erreur_y, 0, axis=0)\n",
    "    erreur_x = np.delete(erreur_x, 0, axis=0)\n",
    "    \n",
    "    for y in erreur_y:\n",
    "        for i in range(len(y)):\n",
    "            y[i] = round(y[i], 3)\n",
    "    for x in erreur_x:\n",
    "        for j in range(len(x)):\n",
    "            x[j] = round(x[j], 3)\n",
    "    \n",
    "    message = \"le pourcentage d'erreur est de \"+str((err / y_pred.shape[0]) * 100)+\", \"+str(err)+\" / \"+str(y_pred.shape[0])\n",
    "    return message, erreur_y, erreur_x, err"
   ]
  },
  {
   "cell_type": "code",
   "execution_count": 24,
   "id": "9823429d",
   "metadata": {},
   "outputs": [],
   "source": [
    "def calculate_error(y_pred, y_test, x_test):\n",
    "   \n",
    "    err = 0\n",
    "    marge_derreur = 1 # 1 degre\n",
    "   \n",
    "    for i in range(y_pred.shape[0]):\n",
    "       \n",
    "        for j in range(y_pred.shape[1]):\n",
    "           \n",
    "            error = abs(y_pred[i][j] - y_test[i][j])\n",
    "            \n",
    "            if error >= marge_derreur:\n",
    "                \n",
    "                err += 1\n",
    "                break\n",
    "    \n",
    "    message = \"le pourcentage d'erreur est de \"+str((err / y_pred.shape[0]) * 100)+\", \"+str(err)+\" / \"+str(y_pred.shape[0])\n",
    "    return message"
   ]
  },
  {
   "cell_type": "markdown",
   "id": "eb28339f",
   "metadata": {},
   "source": [
    "X matrice d'entrée de dimension (250000, 22)"
   ]
  },
  {
   "cell_type": "code",
   "execution_count": 50,
   "id": "8d2b6949",
   "metadata": {},
   "outputs": [],
   "source": [
    "file_in_path = \"datas/C_maps_2.txt\"\n",
    "X = get_data(file_in_path)"
   ]
  },
  {
   "cell_type": "code",
   "execution_count": 26,
   "id": "ee84a482",
   "metadata": {},
   "outputs": [
    {
     "data": {
      "text/plain": [
       "array([-4.53668256,  0.35552737,  0.23715782, -0.22702117,  0.33998304,\n",
       "       -4.85874244,  2.45536086,  0.31531157,  0.02660497, -8.00376109,\n",
       "        0.91285978,  0.52324844,  0.28278966, -0.57352367,  4.32920903,\n",
       "       -2.18401481, -0.53856772, -0.03053514, -0.00904849,  0.37964889,\n",
       "       -3.052588  ,  4.1412104 ])"
      ]
     },
     "execution_count": 26,
     "metadata": {},
     "output_type": "execute_result"
    }
   ],
   "source": [
    "X[0]"
   ]
  },
  {
   "cell_type": "markdown",
   "id": "b778f849",
   "metadata": {},
   "source": [
    "Y matrice de dimension (250000, 3) correspondant aux valeurs de sortie q'on attend"
   ]
  },
  {
   "cell_type": "code",
   "execution_count": 51,
   "id": "a2878d34",
   "metadata": {},
   "outputs": [
    {
     "name": "stdout",
     "output_type": "stream",
     "text": [
      "nb_ligne_matrice = 250000\n",
      "Extraction des données à partir du fichier ....\n",
      "ok !\n"
     ]
    }
   ],
   "source": [
    "file_out_path = \"datas/exercise2.ctf\"\n",
    "y = read_ctf(file_out_path)"
   ]
  },
  {
   "cell_type": "code",
   "execution_count": 28,
   "id": "7b1420a0",
   "metadata": {},
   "outputs": [
    {
     "data": {
      "text/plain": [
       "array([[262.098,  56.533,  43.17 ],\n",
       "       [155.52 ,  57.101,  40.909],\n",
       "       [333.114,  57.013,  41.125],\n",
       "       [ 89.675,  56.815,  48.542],\n",
       "       [ 16.423,  56.866,  41.327],\n",
       "       [279.446,  56.744,  45.53 ],\n",
       "       [235.51 ,  57.147,  44.19 ],\n",
       "       [174.968,  56.346,  48.163],\n",
       "       [ 90.722,  57.042,  46.127],\n",
       "       [255.169,  55.341,  44.539]])"
      ]
     },
     "execution_count": 28,
     "metadata": {},
     "output_type": "execute_result"
    }
   ],
   "source": [
    "y[:10]"
   ]
  },
  {
   "cell_type": "code",
   "execution_count": 29,
   "id": "0a3c6a95",
   "metadata": {},
   "outputs": [
    {
     "data": {
      "text/plain": [
       "array([[-4.53668256,  0.35552737,  0.23715782, ...,  0.37964889,\n",
       "        -3.052588  ,  4.1412104 ],\n",
       "       [-4.45146434,  0.39495335, -0.67666611, ..., -0.7051953 ,\n",
       "        -4.82521392, -1.69596936],\n",
       "       [-4.46331098, -0.34394981,  0.65970949, ...,  0.62985437,\n",
       "        -5.09400373, -0.50322898],\n",
       "       ...,\n",
       "       [-4.57298939,  0.10951005,  0.00527934, ..., -0.05835065,\n",
       "         4.26223576, -2.90330867],\n",
       "       [-4.48711632, -0.20266841, -0.62045815, ...,  0.54684302,\n",
       "         3.99854768, -3.20965205],\n",
       "       [-4.56768898,  0.18845715, -0.01307981, ..., -0.15755533,\n",
       "         1.01992981, -5.05343945]])"
      ]
     },
     "execution_count": 29,
     "metadata": {},
     "output_type": "execute_result"
    }
   ],
   "source": [
    "X"
   ]
  },
  {
   "cell_type": "markdown",
   "id": "fc26ce9a",
   "metadata": {},
   "source": [
    "Nous divisons notre jeu de données en jeu d'entraînement, X_train, y_train et en jeu de test, X_test, y_test\n",
    "le pourcentage de données de test est précisé avec le paramètre test_size, ici de 20%. random_state permet d'avoir le même mélange de données pour pouvoir comparer des modèles entre eux"
   ]
  },
  {
   "cell_type": "code",
   "execution_count": 39,
   "id": "1bda942c",
   "metadata": {},
   "outputs": [],
   "source": [
    "X_train, X_test, y_train, y_test = train_test_split(X, y, test_size=0.2, random_state=1)"
   ]
  },
  {
   "cell_type": "code",
   "execution_count": 40,
   "id": "cb09f207",
   "metadata": {},
   "outputs": [
    {
     "data": {
      "text/plain": [
       "array([[255.345,  55.944,  46.056],\n",
       "       [ 18.18 ,  55.417,  44.979],\n",
       "       [113.271,  56.696,  48.033],\n",
       "       ...,\n",
       "       [201.353,  56.417,  44.685],\n",
       "       [ 46.988,  57.272,  41.112],\n",
       "       [155.91 ,  56.922,  46.054]])"
      ]
     },
     "execution_count": 40,
     "metadata": {},
     "output_type": "execute_result"
    }
   ],
   "source": [
    "y_train"
   ]
  },
  {
   "cell_type": "raw",
   "id": "9bbfe0e3",
   "metadata": {},
   "source": [
    "for x in X_train:\n",
    "    for i in range(X_train.shape[1]):\n",
    "        x[i] = round(x[i], 3)\n",
    "\n",
    "for y in X_test:\n",
    "    for j in range(X_test.shape[1]):\n",
    "        y[j] = round(y[j], 3)"
   ]
  },
  {
   "cell_type": "raw",
   "id": "f3e65f63",
   "metadata": {},
   "source": [
    "print('Avant normalisation x_train : Minimum = '+str(X_train.min())+', Maximum = '+str(X_train.max()))\n",
    "print('Avant normalisation x_test : Minimum = '+str(X_test.min())+', Maximum = '+str(X_test.max()))\n",
    "\n",
    "X_max = (X_train.max())\n",
    "X_train  = X_train / X_max\n",
    "X_test = X_test / X_max\n",
    "\n",
    "print('Après normalisation x_train : Minimum = '+str(X_train.min())+', Maximum = '+str(X_train.max()))\n",
    "print('Après normalisation x_test : Minimum = '+str(X_test.min())+', Maximum = '+str(X_test.max()))"
   ]
  },
  {
   "cell_type": "markdown",
   "id": "73ccbb7c",
   "metadata": {},
   "source": [
    "Importer un modèle qu'on a sauvegardé auparavant dans un fichier h5"
   ]
  },
  {
   "cell_type": "code",
   "execution_count": 67,
   "id": "7b82a7f2",
   "metadata": {},
   "outputs": [],
   "source": [
    "model = keras.models.load_model('h5/nouveau_hasan.h5')"
   ]
  },
  {
   "cell_type": "markdown",
   "id": "f5c29fde",
   "metadata": {},
   "source": [
    "Ou on définit notre modèle, entrée de de taille 22 avec quatres couches intermédiaire composés de 256, 128, 64 et 32 neurones avec fonction d'activation Relu et dernière couche, de sortie, de taille 3"
   ]
  },
  {
   "cell_type": "code",
   "execution_count": 41,
   "id": "ade02e3f",
   "metadata": {},
   "outputs": [],
   "source": [
    "model = keras.Sequential()\n",
    "\n",
    "model.add(Input(shape=(22,)))\n",
    "\n",
    "model.add(layers.Dense(256, activation=\"relu\")),\n",
    "\n",
    "model.add(layers.Dense(128, activation=\"relu\")),\n",
    "\n",
    "model.add(layers.Dense(64, activation=\"relu\")),\n",
    "\n",
    "model.add(layers.Dense(3))"
   ]
  },
  {
   "cell_type": "markdown",
   "id": "6a33dee0",
   "metadata": {},
   "source": [
    "On définit notre optimiseur et la vitesse d'apprentissage"
   ]
  },
  {
   "cell_type": "raw",
   "id": "bffff040",
   "metadata": {},
   "source": [
    "# opt = SGD(learning_rate=0.01, momentum=0.9)\n",
    "opti = tf.keras.optimizers.Adam(learning_rate=0.1)  # sgd(0.01, momentum=0.9)"
   ]
  },
  {
   "cell_type": "markdown",
   "id": "d714edbe",
   "metadata": {},
   "source": [
    "on précise à notre modèle notre fonction de perte mae, mean absolute error, l'optimiseur et le métrique"
   ]
  },
  {
   "cell_type": "raw",
   "id": "ae5fccb5",
   "metadata": {},
   "source": [
    "model.compile(\n",
    "    optimizer='adam',\n",
    "    loss=\"mae\",\n",
    "    metrics=[tf.keras.metrics.MeanAbsoluteError()]\n",
    ")"
   ]
  },
  {
   "cell_type": "raw",
   "id": "bc4851cc",
   "metadata": {},
   "source": [
    "model.compile(\n",
    "    optimizer='adam',\n",
    "    loss=\"mse\",\n",
    "    metrics=[\"mae\"]\n",
    ")"
   ]
  },
  {
   "cell_type": "code",
   "execution_count": 42,
   "id": "48c5495e",
   "metadata": {},
   "outputs": [],
   "source": [
    "model.compile(\n",
    "    optimizer='adam',\n",
    "    loss=\"mae\",\n",
    "    metrics=[\"accuracy\"]\n",
    ")"
   ]
  },
  {
   "cell_type": "markdown",
   "id": "7169a9c1",
   "metadata": {},
   "source": [
    "On entraîne le modèle en précisant nos données d'entraînement, X_train et y_train, le batch_size qui est le nombre de fois qu'on montre nos données au modèle avant qu'il ajuste ses paramètres, le nombre d'epochs qui est le nombre d'entraînement et nos données de valisation, X_test et y_test"
   ]
  },
  {
   "cell_type": "code",
   "execution_count": 43,
   "id": "76d47390",
   "metadata": {},
   "outputs": [],
   "source": [
    "callbacks = [\n",
    "    tf.keras.callbacks.EarlyStopping(patience=20, verbose=1),\n",
    "    tf.keras.callbacks.ReduceLROnPlateau(factor=0.1, patience=10, min_lr=0.00001, verbose=1),\n",
    "    tf.keras.callbacks.ModelCheckpoint('model_dl.h5', verbose=1, save_best_only=True, save_weights_only=True)\n",
    "]"
   ]
  },
  {
   "cell_type": "code",
   "execution_count": 44,
   "id": "2defdb12",
   "metadata": {},
   "outputs": [
    {
     "name": "stdout",
     "output_type": "stream",
     "text": [
      "Epoch 1/30\n",
      "6214/6250 [============================>.] - ETA: 0s - loss: 10.0018 - accuracy: 0.9453\n",
      "Epoch 00001: val_loss improved from inf to 4.50593, saving model to model_dl.h5\n",
      "6250/6250 [==============================] - 4s 650us/step - loss: 9.9684 - accuracy: 0.9455 - val_loss: 4.5059 - val_accuracy: 0.9752\n",
      "Epoch 2/30\n",
      "6157/6250 [============================>.] - ETA: 0s - loss: 3.6006 - accuracy: 0.9843\n",
      "Epoch 00002: val_loss improved from 4.50593 to 3.04872, saving model to model_dl.h5\n",
      "6250/6250 [==============================] - 4s 628us/step - loss: 3.5947 - accuracy: 0.9843 - val_loss: 3.0487 - val_accuracy: 0.9797\n",
      "Epoch 3/30\n",
      "6243/6250 [============================>.] - ETA: 0s - loss: 2.8981 - accuracy: 0.9868\n",
      "Epoch 00003: val_loss improved from 3.04872 to 2.68494, saving model to model_dl.h5\n",
      "6250/6250 [==============================] - 4s 674us/step - loss: 2.8972 - accuracy: 0.9868 - val_loss: 2.6849 - val_accuracy: 0.9862\n",
      "Epoch 4/30\n",
      "6142/6250 [============================>.] - ETA: 0s - loss: 2.5331 - accuracy: 0.9876\n",
      "Epoch 00004: val_loss did not improve from 2.68494\n",
      "6250/6250 [==============================] - 4s 668us/step - loss: 2.5320 - accuracy: 0.9876 - val_loss: 2.7672 - val_accuracy: 0.9915\n",
      "Epoch 5/30\n",
      "6210/6250 [============================>.] - ETA: 0s - loss: 2.3448 - accuracy: 0.9880\n",
      "Epoch 00005: val_loss improved from 2.68494 to 2.44600, saving model to model_dl.h5\n",
      "6250/6250 [==============================] - 4s 663us/step - loss: 2.3423 - accuracy: 0.9880 - val_loss: 2.4460 - val_accuracy: 0.9895\n",
      "Epoch 6/30\n",
      "6148/6250 [============================>.] - ETA: 0s - loss: 2.1262 - accuracy: 0.9887\n",
      "Epoch 00006: val_loss improved from 2.44600 to 2.10974, saving model to model_dl.h5\n",
      "6250/6250 [==============================] - 4s 677us/step - loss: 2.1271 - accuracy: 0.9887 - val_loss: 2.1097 - val_accuracy: 0.9923\n",
      "Epoch 7/30\n",
      "6146/6250 [============================>.] - ETA: 0s - loss: 2.0451 - accuracy: 0.9893\n",
      "Epoch 00007: val_loss did not improve from 2.10974\n",
      "6250/6250 [==============================] - 4s 660us/step - loss: 2.0447 - accuracy: 0.9893 - val_loss: 2.1997 - val_accuracy: 0.9918\n",
      "Epoch 8/30\n",
      "6164/6250 [============================>.] - ETA: 0s - loss: 1.9418 - accuracy: 0.9898\n",
      "Epoch 00008: val_loss improved from 2.10974 to 1.74608, saving model to model_dl.h5\n",
      "6250/6250 [==============================] - 4s 627us/step - loss: 1.9396 - accuracy: 0.9898 - val_loss: 1.7461 - val_accuracy: 0.9934\n",
      "Epoch 9/30\n",
      "6245/6250 [============================>.] - ETA: 0s - loss: 1.8236 - accuracy: 0.9904\n",
      "Epoch 00009: val_loss did not improve from 1.74608\n",
      "6250/6250 [==============================] - 4s 670us/step - loss: 1.8238 - accuracy: 0.9904 - val_loss: 1.9817 - val_accuracy: 0.9883\n",
      "Epoch 10/30\n",
      "6180/6250 [============================>.] - ETA: 0s - loss: 1.8045 - accuracy: 0.9902\n",
      "Epoch 00010: val_loss improved from 1.74608 to 1.45624, saving model to model_dl.h5\n",
      "6250/6250 [==============================] - 4s 623us/step - loss: 1.8004 - accuracy: 0.9902 - val_loss: 1.4562 - val_accuracy: 0.9928\n",
      "Epoch 11/30\n",
      "6240/6250 [============================>.] - ETA: 0s - loss: 1.7277 - accuracy: 0.9906\n",
      "Epoch 00011: val_loss did not improve from 1.45624\n",
      "6250/6250 [==============================] - 5s 724us/step - loss: 1.7260 - accuracy: 0.9906 - val_loss: 1.9131 - val_accuracy: 0.9910\n",
      "Epoch 12/30\n",
      "6237/6250 [============================>.] - ETA: 0s - loss: 1.6565 - accuracy: 0.9912\n",
      "Epoch 00012: val_loss did not improve from 1.45624\n",
      "6250/6250 [==============================] - 4s 675us/step - loss: 1.6581 - accuracy: 0.9912 - val_loss: 1.9604 - val_accuracy: 0.9885\n",
      "Epoch 13/30\n",
      "6196/6250 [============================>.] - ETA: 0s - loss: 1.6420 - accuracy: 0.9915\n",
      "Epoch 00013: val_loss did not improve from 1.45624\n",
      "6250/6250 [==============================] - 4s 655us/step - loss: 1.6426 - accuracy: 0.9914 - val_loss: 1.6578 - val_accuracy: 0.9910\n",
      "Epoch 14/30\n",
      "6188/6250 [============================>.] - ETA: 0s - loss: 1.5733 - accuracy: 0.9918\n",
      "Epoch 00014: val_loss improved from 1.45624 to 1.29509, saving model to model_dl.h5\n",
      "6250/6250 [==============================] - 4s 664us/step - loss: 1.5751 - accuracy: 0.9918 - val_loss: 1.2951 - val_accuracy: 0.9924\n",
      "Epoch 15/30\n",
      "6178/6250 [============================>.] - ETA: 0s - loss: 1.5792 - accuracy: 0.9916\n",
      "Epoch 00015: val_loss did not improve from 1.29509\n",
      "6250/6250 [==============================] - 4s 719us/step - loss: 1.5795 - accuracy: 0.9916 - val_loss: 1.9561 - val_accuracy: 0.9837\n",
      "Epoch 16/30\n",
      "6241/6250 [============================>.] - ETA: 0s - loss: 1.5114 - accuracy: 0.9921\n",
      "Epoch 00016: val_loss did not improve from 1.29509\n",
      "6250/6250 [==============================] - 5s 730us/step - loss: 1.5112 - accuracy: 0.9921 - val_loss: 1.4662 - val_accuracy: 0.9933\n",
      "Epoch 17/30\n",
      "6183/6250 [============================>.] - ETA: 0s - loss: 1.4984 - accuracy: 0.9919\n",
      "Epoch 00017: val_loss did not improve from 1.29509\n",
      "6250/6250 [==============================] - 4s 655us/step - loss: 1.4980 - accuracy: 0.9919 - val_loss: 1.5837 - val_accuracy: 0.9914\n",
      "Epoch 18/30\n",
      "6226/6250 [============================>.] - ETA: 0s - loss: 1.4883 - accuracy: 0.9921\n",
      "Epoch 00018: val_loss did not improve from 1.29509\n",
      "6250/6250 [==============================] - 4s 698us/step - loss: 1.4918 - accuracy: 0.9921 - val_loss: 1.4639 - val_accuracy: 0.9896\n",
      "Epoch 19/30\n",
      "6175/6250 [============================>.] - ETA: 0s - loss: 1.4584 - accuracy: 0.9925\n",
      "Epoch 00019: val_loss improved from 1.29509 to 1.25656, saving model to model_dl.h5\n",
      "6250/6250 [==============================] - 4s 681us/step - loss: 1.4589 - accuracy: 0.9925 - val_loss: 1.2566 - val_accuracy: 0.9926\n",
      "Epoch 20/30\n",
      "6186/6250 [============================>.] - ETA: 0s - loss: 1.4020 - accuracy: 0.9929\n",
      "Epoch 00020: val_loss improved from 1.25656 to 1.21154, saving model to model_dl.h5\n",
      "6250/6250 [==============================] - 4s 675us/step - loss: 1.3994 - accuracy: 0.9929 - val_loss: 1.2115 - val_accuracy: 0.9948\n",
      "Epoch 21/30\n",
      "6158/6250 [============================>.] - ETA: 0s - loss: 1.4057 - accuracy: 0.9927\n",
      "Epoch 00021: val_loss did not improve from 1.21154\n",
      "6250/6250 [==============================] - 4s 674us/step - loss: 1.4061 - accuracy: 0.9927 - val_loss: 1.2167 - val_accuracy: 0.9948\n",
      "Epoch 22/30\n",
      "6213/6250 [============================>.] - ETA: 0s - loss: 1.3609 - accuracy: 0.9929\n",
      "Epoch 00022: val_loss did not improve from 1.21154\n",
      "6250/6250 [==============================] - 5s 757us/step - loss: 1.3594 - accuracy: 0.9929 - val_loss: 1.2877 - val_accuracy: 0.9904\n",
      "Epoch 23/30\n",
      "6161/6250 [============================>.] - ETA: 0s - loss: 1.3465 - accuracy: 0.9929\n",
      "Epoch 00023: val_loss did not improve from 1.21154\n",
      "6250/6250 [==============================] - 4s 660us/step - loss: 1.3491 - accuracy: 0.9929 - val_loss: 1.4915 - val_accuracy: 0.9948\n",
      "Epoch 24/30\n",
      "6189/6250 [============================>.] - ETA: 0s - loss: 1.3417 - accuracy: 0.9930\n",
      "Epoch 00024: val_loss improved from 1.21154 to 1.10856, saving model to model_dl.h5\n",
      "6250/6250 [==============================] - 4s 697us/step - loss: 1.3409 - accuracy: 0.9930 - val_loss: 1.1086 - val_accuracy: 0.9944\n",
      "Epoch 25/30\n",
      "6186/6250 [============================>.] - ETA: 0s - loss: 1.3223 - accuracy: 0.9932\n",
      "Epoch 00025: val_loss did not improve from 1.10856\n",
      "6250/6250 [==============================] - 4s 697us/step - loss: 1.3220 - accuracy: 0.9932 - val_loss: 1.2410 - val_accuracy: 0.9933\n",
      "Epoch 26/30\n",
      "6250/6250 [==============================] - ETA: 0s - loss: 1.2875 - accuracy: 0.9933\n",
      "Epoch 00026: val_loss did not improve from 1.10856\n",
      "6250/6250 [==============================] - 5s 744us/step - loss: 1.2875 - accuracy: 0.9933 - val_loss: 1.3390 - val_accuracy: 0.9936\n",
      "Epoch 27/30\n",
      "6177/6250 [============================>.] - ETA: 0s - loss: 1.2875 - accuracy: 0.9930\n",
      "Epoch 00027: val_loss did not improve from 1.10856\n",
      "6250/6250 [==============================] - 4s 706us/step - loss: 1.2865 - accuracy: 0.9930 - val_loss: 1.1640 - val_accuracy: 0.9945\n",
      "Epoch 28/30\n",
      "6155/6250 [============================>.] - ETA: 0s - loss: 1.2539 - accuracy: 0.9935\n",
      "Epoch 00028: val_loss did not improve from 1.10856\n",
      "6250/6250 [==============================] - 4s 699us/step - loss: 1.2542 - accuracy: 0.9935 - val_loss: 1.3477 - val_accuracy: 0.9889\n"
     ]
    },
    {
     "name": "stdout",
     "output_type": "stream",
     "text": [
      "Epoch 29/30\n",
      "6214/6250 [============================>.] - ETA: 0s - loss: 1.2587 - accuracy: 0.9936\n",
      "Epoch 00029: val_loss did not improve from 1.10856\n",
      "6250/6250 [==============================] - 4s 718us/step - loss: 1.2582 - accuracy: 0.9936 - val_loss: 1.3227 - val_accuracy: 0.9921\n",
      "Epoch 30/30\n",
      "6248/6250 [============================>.] - ETA: 0s - loss: 1.2492 - accuracy: 0.9933\n",
      "Epoch 00030: val_loss improved from 1.10856 to 0.86498, saving model to model_dl.h5\n",
      "6250/6250 [==============================] - 4s 679us/step - loss: 1.2491 - accuracy: 0.9933 - val_loss: 0.8650 - val_accuracy: 0.9967\n"
     ]
    }
   ],
   "source": [
    "history = model.fit(\n",
    "    x=X_train, \n",
    "    y=y_train,\n",
    "    batch_size=32,\n",
    "    epochs=30,\n",
    "    validation_data=(X_test, y_test),\n",
    "    callbacks=callbacks\n",
    ")"
   ]
  },
  {
   "cell_type": "code",
   "execution_count": 45,
   "id": "f414e7c1",
   "metadata": {},
   "outputs": [
    {
     "data": {
      "image/png": "[encoded data removed]",
      "text/plain": [
       "<Figure size 576x576 with 1 Axes>"
      ]
     },
     "metadata": {
      "needs_background": "light"
     },
     "output_type": "display_data"
    }
   ],
   "source": [
    "plt.figure(figsize=(8, 8))\n",
    "plt.title(\"Learning curve\")\n",
    "plt.plot(history.history[\"loss\"], label=\"loss\")\n",
    "plt.plot(history.history[\"val_loss\"], label=\"val_loss\")\n",
    "plt.plot( np.argmin(history.history[\"val_loss\"]), np.min(history.history[\"val_loss\"]), marker=\"x\", color=\"r\", label=\"best model\")\n",
    "plt.xlabel(\"Epochs\")\n",
    "plt.ylabel(\"log_loss\")\n",
    "plt.legend();"
   ]
  },
  {
   "cell_type": "raw",
   "id": "0815b81a",
   "metadata": {},
   "source": [
    "history = model.fit(\n",
    "    x=X_train, \n",
    "    y=y_train, \n",
    "    epochs=10000,\n",
    "    batch_size=1000000,\n",
    "    validation_data=(X_test, y_test)\n",
    ")"
   ]
  },
  {
   "cell_type": "raw",
   "id": "d729fdba",
   "metadata": {},
   "source": [
    "model.save(\"mse.h5\")"
   ]
  },
  {
   "cell_type": "markdown",
   "id": "944510f4",
   "metadata": {},
   "source": [
    "on demande au modèle de faire des prédictions pour les valeurs de X_test, de dimension (50000, 22).\n",
    "val_predictions aura une dimension de (50000, 3)"
   ]
  },
  {
   "cell_type": "code",
   "execution_count": 52,
   "id": "9059d134",
   "metadata": {},
   "outputs": [],
   "source": [
    "val_predictions = model.predict(X_test)"
   ]
  },
  {
   "cell_type": "markdown",
   "id": "842eae96",
   "metadata": {},
   "source": [
    "On affiche les dix premières valeurs de prédictions (val_predictions) et les valeurs réelles attendues (y_test)"
   ]
  },
  {
   "cell_type": "code",
   "execution_count": 53,
   "id": "f9b976f8",
   "metadata": {},
   "outputs": [
    {
     "name": "stdout",
     "output_type": "stream",
     "text": [
      "y_test : \n",
      " [[238.12   56.771  45.008]\n",
      " [312.516  56.229  43.907]\n",
      " [  4.188  56.151  45.955]\n",
      " [288.417  55.477  44.926]\n",
      " [222.128  55.859  43.357]\n",
      " [139.528  56.78   49.055]\n",
      " [347.173  55.879  43.91 ]\n",
      " [  1.74   56.774  48.945]\n",
      " [274.916  57.279  47.987]\n",
      " [298.611  56.402  43.524]]\n",
      "=====================================\n",
      "y_pred : \n",
      " [[238.0712     56.77033    45.03514  ]\n",
      " [312.4449     56.237186   43.866974 ]\n",
      " [  4.2220116  56.127884   45.90265  ]\n",
      " [288.3426     55.484077   44.886963 ]\n",
      " [222.0434     55.85043    43.38147  ]\n",
      " [139.34554    56.790813   49.05146  ]\n",
      " [347.05927    55.93183    43.85106  ]\n",
      " [  1.706047   56.7986     48.828247 ]\n",
      " [274.9542     57.221664   47.971306 ]\n",
      " [298.44095    56.385254   43.476334 ]]\n"
     ]
    }
   ],
   "source": [
    "print(\"y_test : \\n\", y_test[:10])\n",
    "print(\"=====================================\")\n",
    "print(\"y_pred : \\n\", val_predictions[:10])"
   ]
  },
  {
   "cell_type": "markdown",
   "id": "90c8e51a",
   "metadata": {},
   "source": [
    "On calcule l'erreur moyenne absolue en donnant à la fonction les valeurs prédites et réelles"
   ]
  },
  {
   "cell_type": "code",
   "execution_count": 78,
   "id": "e2d22376",
   "metadata": {},
   "outputs": [
    {
     "name": "stdout",
     "output_type": "stream",
     "text": [
      "Validation MAE for Model: 0.11446011799682604\n"
     ]
    }
   ],
   "source": [
    "val_mae = mean_absolute_error(val_predictions, y_test)\n",
    "print(\"Validation MAE for Model: {}\".format(val_mae))"
   ]
  },
  {
   "cell_type": "code",
   "execution_count": 79,
   "id": "99273366",
   "metadata": {},
   "outputs": [
    {
     "name": "stdout",
     "output_type": "stream",
     "text": [
      "Validation MSE for Model: 7.866851689174126\n"
     ]
    }
   ],
   "source": [
    "val_mse = mean_squared_error(y_test, val_predictions)\n",
    "print(\"Validation MSE for Model: {}\".format(val_mse))"
   ]
  },
  {
   "cell_type": "code",
   "execution_count": 56,
   "id": "160c910b",
   "metadata": {},
   "outputs": [
    {
     "data": {
      "text/plain": [
       "(50000, 3)"
      ]
     },
     "execution_count": 56,
     "metadata": {},
     "output_type": "execute_result"
    }
   ],
   "source": [
    "y_test.shape"
   ]
  },
  {
   "cell_type": "markdown",
   "id": "9b7e7625",
   "metadata": {},
   "source": [
    "On affiche trois graphiques pour chaque valeur d'Euler, en x les valeurs réelles et en y les valeurs prédites"
   ]
  },
  {
   "cell_type": "code",
   "execution_count": 80,
   "id": "70820eda",
   "metadata": {},
   "outputs": [
    {
     "data": {
      "image/png": "[encoded data removed]",
      "text/plain": [
       "<Figure size 432x288 with 1 Axes>"
      ]
     },
     "metadata": {},
     "output_type": "display_data"
    },
    {
     "data": {
      "image/png": "[encoded data removed]",
      "text/plain": [
       "<Figure size 432x288 with 1 Axes>"
      ]
     },
     "metadata": {},
     "output_type": "display_data"
    },
    {
     "data": {
      "image/png": "[encoded data removed]",
      "text/plain": [
       "<Figure size 432x288 with 1 Axes>"
      ]
     },
     "metadata": {},
     "output_type": "display_data"
    }
   ],
   "source": [
    "for i in range(3):\n",
    "    axe = plt.axes()\n",
    "    plt.rcParams.update({'font.size':15})\n",
    "    plt.style.use('seaborn-whitegrid')\n",
    "    plt.scatter(y_test[:, i], val_predictions[:, i], s=1)\n",
    "    plt.title('Euler ' + str(i+1))\n",
    "    axe.set(xlabel=\"Valeurs réelles\", ylabel=\"Valeurs prédites\")\n",
    "    plt.show()"
   ]
  },
  {
   "cell_type": "markdown",
   "id": "7428f79e",
   "metadata": {},
   "source": [
    "On affiche le nombre d'erreurs de 1 degré ou plus de notre modèle"
   ]
  },
  {
   "cell_type": "code",
   "execution_count": 81,
   "id": "ce997177",
   "metadata": {},
   "outputs": [
    {
     "name": "stdout",
     "output_type": "stream",
     "text": [
      "le pourcentage d'erreur est de 0.258, 129 / 50000\n"
     ]
    }
   ],
   "source": [
    "message = calculate_error(val_predictions, y_test, X_test)\n",
    "print(message)"
   ]
  },
  {
   "cell_type": "markdown",
   "id": "2e40a503",
   "metadata": {},
   "source": [
    "on mesure la qualité de prédiction de notre modèle avec l'écart quadratique moyen, mae et le coefficient de détermination"
   ]
  },
  {
   "cell_type": "code",
   "execution_count": 61,
   "id": "dcb72744",
   "metadata": {},
   "outputs": [
    {
     "name": "stdout",
     "output_type": "stream",
     "text": [
      "R^2 :  0.995237175360241\n",
      "MAE : 0.11446011799682604\n",
      "RMSE: 2.804790845887466\n"
     ]
    }
   ],
   "source": [
    "run_experiment(model)"
   ]
  },
  {
   "cell_type": "markdown",
   "id": "2c338f45",
   "metadata": {},
   "source": [
    "On importe d'autres données que le modèle n'a jamais vu pour le tester"
   ]
  },
  {
   "cell_type": "code",
   "execution_count": 82,
   "id": "f15adebe",
   "metadata": {},
   "outputs": [
    {
     "name": "stdout",
     "output_type": "stream",
     "text": [
      "nb_ligne_matrice = 250000\n",
      "Extraction des données à partir du fichier ....\n",
      "ok !\n",
      "nb_ligne_matrice = 250000\n",
      "Extraction des données à partir du fichier ....\n",
      "ok !\n",
      "nb_ligne_matrice = 250000\n",
      "Extraction des données à partir du fichier ....\n",
      "ok !\n"
     ]
    }
   ],
   "source": [
    "X_3 = get_data(\"datas/C_maps_3.txt\")\n",
    "y_3 = read_ctf(\"datas/exercise3.ctf\")\n",
    "X_4 = get_data(\"datas/C_maps_4.txt\")\n",
    "y_4 = read_ctf(\"datas/exercise4.ctf\")\n",
    "X_5 = get_data(\"datas/C_maps_5.txt\")\n",
    "y_5 = read_ctf(\"datas/exercise5.ctf\")"
   ]
  },
  {
   "cell_type": "markdown",
   "id": "b4ff3765",
   "metadata": {},
   "source": [
    "on fait prédire nos nouvelles données et on affiche le mae du modèle sur ces nouvelles données"
   ]
  },
  {
   "cell_type": "code",
   "execution_count": 83,
   "id": "d786d7da",
   "metadata": {},
   "outputs": [
    {
     "name": "stdout",
     "output_type": "stream",
     "text": [
      "Validation MAE for Model: 0.12539327899558564\n",
      "Validation MAE for Model: 0.12397160242295467\n",
      "Validation MAE for Model: 0.1257743844848019\n"
     ]
    }
   ],
   "source": [
    "val_predictions3 = model.predict(X_3)\n",
    "val_mae3 = mean_absolute_error(val_predictions3, y_3)\n",
    "print(\"Validation MAE for Model: {}\".format(val_mae3))\n",
    "\n",
    "val_predictions4 = model.predict(X_4)\n",
    "val_mae4 = mean_absolute_error(val_predictions4, y_4)\n",
    "print(\"Validation MAE for Model: {}\".format(val_mae4))\n",
    "\n",
    "val_predictions5 = model.predict(X_5)\n",
    "val_mae5 = mean_absolute_error(val_predictions5, y_5)\n",
    "print(\"Validation MAE for Model: {}\".format(val_mae5))"
   ]
  },
  {
   "cell_type": "markdown",
   "id": "b9233639",
   "metadata": {},
   "source": [
    "on affiche dans un graphique les valeurs réelles et les valeurs prédites et on observe la courbe"
   ]
  },
  {
   "cell_type": "code",
   "execution_count": 84,
   "id": "fa7080ec",
   "metadata": {},
   "outputs": [
    {
     "data": {
      "image/png": "[encoded data removed]",
      "text/plain": [
       "<Figure size 432x288 with 1 Axes>"
      ]
     },
     "metadata": {},
     "output_type": "display_data"
    },
    {
     "data": {
      "image/png": "[encoded data removed]",
      "text/plain": [
       "<Figure size 432x288 with 1 Axes>"
      ]
     },
     "metadata": {},
     "output_type": "display_data"
    },
    {
     "data": {
      "image/png": "[encoded data removed]",
      "text/plain": [
       "<Figure size 432x288 with 1 Axes>"
      ]
     },
     "metadata": {},
     "output_type": "display_data"
    }
   ],
   "source": [
    "for i in range(3):\n",
    "    axe = plt.axes()\n",
    "    plt.rcParams.update({'font.size':15})\n",
    "    plt.style.use('seaborn-whitegrid')\n",
    "    plt.scatter(y_4[:, i], val_predictions4[:, i], s=1)\n",
    "    plt.title('Euler ' + str(i+1))\n",
    "    axe.set(xlabel=\"valeurs réelles\", ylabel=\"valeurs prédites\")\n",
    "    plt.show()\n",
    "# plt.scatter(X_test, y_test, label=\"Données d'évaluation\", color=\"b\")"
   ]
  },
  {
   "cell_type": "markdown",
   "id": "9436aed0",
   "metadata": {},
   "source": [
    "on affiche le nombre d'erreurs que fait notre modèle sur ces nouvelles données"
   ]
  },
  {
   "cell_type": "code",
   "execution_count": 85,
   "id": "31a8855a",
   "metadata": {},
   "outputs": [
    {
     "name": "stdout",
     "output_type": "stream",
     "text": [
      "le pourcentage d'erreur est de 0.2728, 682 / 250000\n",
      "le pourcentage d'erreur est de 0.29719999999999996, 743 / 250000\n",
      "le pourcentage d'erreur est de 0.29, 725 / 250000\n"
     ]
    }
   ],
   "source": [
    "predictions3 = model.predict(X_3)\n",
    "message3, erreur_y3, erreur_x3, nb_error_3 = pourcentage_erreur(predictions3, y_3, X_3)\n",
    "print(message3)\n",
    "predictions4 = model.predict(X_4)\n",
    "message4, erreur_y4, erreur_x4, nb_error_4 = pourcentage_erreur(predictions4, y_4, X_4)\n",
    "print(message4)\n",
    "predictions5 = model.predict(X_5)\n",
    "message5, erreur_y5, erreur_x5, nb_error_5 = pourcentage_erreur(predictions5, y_5, X_5)\n",
    "print(message5)"
   ]
  },
  {
   "cell_type": "code",
   "execution_count": 58,
   "id": "93ff4f79",
   "metadata": {},
   "outputs": [
    {
     "data": {
      "text/plain": [
       "(288, 3)"
      ]
     },
     "execution_count": 58,
     "metadata": {},
     "output_type": "execute_result"
    }
   ],
   "source": [
    "erreur_y2.shape"
   ]
  },
  {
   "cell_type": "code",
   "execution_count": 59,
   "id": "3e45f0b5",
   "metadata": {},
   "outputs": [
    {
     "data": {
      "text/plain": [
       "(288, 22)"
      ]
     },
     "execution_count": 59,
     "metadata": {},
     "output_type": "execute_result"
    }
   ],
   "source": [
    "erreur_x2.shape"
   ]
  },
  {
   "cell_type": "markdown",
   "id": "98a6308a",
   "metadata": {},
   "source": [
    "On récupère les valeurs d'entrée et de sortie X ey y des trois jeux de données pour lesquelles le modèle prédit mal dans trois matrices et on les mélanges à 50% d'autres valeurs aléatoires pour avoir trois jeux de données composés de 50% d'erreurs et 50% d'autres valeurs aléatoires."
   ]
  },
  {
   "cell_type": "code",
   "execution_count": 86,
   "id": "17ea5f4f",
   "metadata": {},
   "outputs": [],
   "source": [
    "matrix_y3 = np.ones((1, 3), dtype=float)\n",
    "matrix_x3 = np.ones((1, 22), dtype=float)\n",
    "\n",
    "for i in range(nb_error_3):\n",
    "    nb = np.random.randint(0, X_3.shape[0] - 1)\n",
    "    matrix_y3 = np.append(matrix_y3, [y_3[nb]], axis=0)\n",
    "    matrix_x3 = np.append(matrix_x3, [X_3[nb]], axis=0)\n",
    "    \n",
    "matrix_y3 = np.delete(matrix_y3, 0, axis=0)\n",
    "matrix_x3 = np.delete(matrix_x3, 0, axis=0)\n",
    "# ==============================================\n",
    "matrix_y4 = np.ones((1, 3), dtype=float)\n",
    "matrix_x4 = np.ones((1, 22), dtype=float)\n",
    "\n",
    "for i in range(nb_error_4):\n",
    "    nb = np.random.randint(0, X_4.shape[0] - 1)\n",
    "    matrix_y4 = np.append(matrix_y4, [y_4[nb]], axis=0)\n",
    "    matrix_x4 = np.append(matrix_x4, [X_4[nb]], axis=0)\n",
    "    \n",
    "matrix_y4 = np.delete(matrix_y4, 0, axis=0)\n",
    "matrix_x4 = np.delete(matrix_x4, 0, axis=0)\n",
    "#=============================================\n",
    "matrix_y5 = np.ones((1, 3), dtype=float)\n",
    "matrix_x5 = np.ones((1, 22), dtype=float)\n",
    "\n",
    "for i in range(nb_error_5):\n",
    "    nb = np.random.randint(0, X_5.shape[0] - 1)\n",
    "    matrix_y5 = np.append(matrix_y5, [y_5[nb]], axis=0)\n",
    "    matrix_x5 = np.append(matrix_x5, [X_5[nb]], axis=0)\n",
    "    \n",
    "matrix_y5 = np.delete(matrix_y5, 0, axis=0)\n",
    "matrix_x5 = np.delete(matrix_x5, 0, axis=0)"
   ]
  },
  {
   "cell_type": "code",
   "execution_count": 87,
   "id": "1a669963",
   "metadata": {},
   "outputs": [
    {
     "data": {
      "text/plain": [
       "(682, 22)"
      ]
     },
     "execution_count": 87,
     "metadata": {},
     "output_type": "execute_result"
    }
   ],
   "source": [
    "matrix_x3.shape"
   ]
  },
  {
   "cell_type": "code",
   "execution_count": 88,
   "id": "2fb8205c",
   "metadata": {},
   "outputs": [
    {
     "data": {
      "text/plain": [
       "(682, 3)"
      ]
     },
     "execution_count": 88,
     "metadata": {},
     "output_type": "execute_result"
    }
   ],
   "source": [
    "matrix_y3.shape"
   ]
  },
  {
   "cell_type": "markdown",
   "id": "188aa1c2",
   "metadata": {},
   "source": [
    "On regroupe les trois matrices précédentes dans une seule"
   ]
  },
  {
   "cell_type": "code",
   "execution_count": 89,
   "id": "b1d2821c",
   "metadata": {},
   "outputs": [],
   "source": [
    "new_X3 = np.concatenate((matrix_x3, erreur_x3), axis=0)\n",
    "new_Y3 = np.concatenate((matrix_y3, erreur_y3), axis=0)\n",
    "\n",
    "new_X4 = np.concatenate((matrix_x4, erreur_x4), axis=0)\n",
    "new_Y4 = np.concatenate((matrix_y4, erreur_y4), axis=0)\n",
    "\n",
    "new_X5 = np.concatenate((matrix_x5, erreur_x5), axis=0)\n",
    "new_Y5 = np.concatenate((matrix_y5, erreur_y5), axis=0)\n",
    "\n",
    "new_X_ = np.concatenate((new_X3, new_X4), axis=0)\n",
    "new_Y_ = np.concatenate((new_Y3, new_Y4), axis=0)\n",
    "\n",
    "new_X = np.concatenate((new_X_, new_X5), axis=0)\n",
    "new_Y = np.concatenate((new_Y_, new_Y5), axis=0)"
   ]
  },
  {
   "cell_type": "code",
   "execution_count": 90,
   "id": "234eea08",
   "metadata": {},
   "outputs": [
    {
     "data": {
      "text/plain": [
       "(4300, 22)"
      ]
     },
     "execution_count": 90,
     "metadata": {},
     "output_type": "execute_result"
    }
   ],
   "source": [
    "new_X.shape"
   ]
  },
  {
   "cell_type": "code",
   "execution_count": 91,
   "id": "3e910a46",
   "metadata": {},
   "outputs": [
    {
     "data": {
      "text/plain": [
       "(4300, 3)"
      ]
     },
     "execution_count": 91,
     "metadata": {},
     "output_type": "execute_result"
    }
   ],
   "source": [
    "new_Y.shape"
   ]
  },
  {
   "cell_type": "markdown",
   "id": "f454b5c0",
   "metadata": {},
   "source": [
    "on sépare nos nouvelles données composé de 50% d'erreurs et 50% aléatoire en 80 % de données d'entraîenement et 20 % données de test"
   ]
  },
  {
   "cell_type": "code",
   "execution_count": 92,
   "id": "05d3f9bf",
   "metadata": {},
   "outputs": [],
   "source": [
    "X_train2, X_test2, y_train2, y_test2 = train_test_split(new_X, new_Y, test_size=0.2, random_state=1)"
   ]
  },
  {
   "cell_type": "markdown",
   "id": "cca18d0f",
   "metadata": {},
   "source": [
    "on crée un nouveau modèle avec le meme nombre de couches que le précédent"
   ]
  },
  {
   "cell_type": "raw",
   "id": "38771b96",
   "metadata": {},
   "source": [
    "model_error = keras.Sequential()\n",
    "\n",
    "model_error.add(Input(shape=(22,)))\n",
    "\n",
    "model_error.add(layers.Dense(256, activation=\"relu\")),\n",
    "\n",
    "model_error.add(layers.Dense(128, activation=\"relu\")),\n",
    "\n",
    "model_error.add(layers.Dense(64, activation=\"relu\")),\n",
    "\n",
    "model_error.add(layers.Dense(32, activation=\"relu\")),\n",
    "\n",
    "model_error.add(layers.Dense(3))"
   ]
  },
  {
   "cell_type": "markdown",
   "id": "1db838c9",
   "metadata": {},
   "source": [
    "on donne au modèle nos nouvelles données composées de 50% d'erreurs et 50% d'aléatoires\n",
    "on peut jouer avec le batch_size , le nombre d'epochs etc\n",
    "augmenter le batch_size et réentrâiner plusieurs fois"
   ]
  },
  {
   "cell_type": "code",
   "execution_count": 93,
   "id": "11aeae78",
   "metadata": {},
   "outputs": [
    {
     "name": "stdout",
     "output_type": "stream",
     "text": [
      "Epoch 1/10000\n",
      "108/108 [==============================] - 0s 2ms/step - loss: 12.3136 - mean_absolute_error: 12.3136 - val_loss: 11.4283 - val_mean_absolute_error: 11.4283\n",
      "Epoch 2/10000\n",
      "108/108 [==============================] - 0s 817us/step - loss: 11.6275 - mean_absolute_error: 11.6275 - val_loss: 12.0875 - val_mean_absolute_error: 12.0875\n",
      "Epoch 3/10000\n",
      "108/108 [==============================] - 0s 808us/step - loss: 10.6627 - mean_absolute_error: 10.6627 - val_loss: 10.9912 - val_mean_absolute_error: 10.9912\n",
      "Epoch 4/10000\n",
      "108/108 [==============================] - 0s 1ms/step - loss: 10.7308 - mean_absolute_error: 10.7308 - val_loss: 12.0131 - val_mean_absolute_error: 12.0131\n",
      "Epoch 5/10000\n",
      "108/108 [==============================] - 0s 1ms/step - loss: 11.1946 - mean_absolute_error: 11.1946 - val_loss: 12.6810 - val_mean_absolute_error: 12.6810\n",
      "Epoch 6/10000\n",
      "108/108 [==============================] - 0s 855us/step - loss: 11.1714 - mean_absolute_error: 11.1714 - val_loss: 12.8539 - val_mean_absolute_error: 12.8539\n",
      "Epoch 7/10000\n",
      "108/108 [==============================] - 0s 864us/step - loss: 10.9035 - mean_absolute_error: 10.9035 - val_loss: 11.8007 - val_mean_absolute_error: 11.8007\n",
      "Epoch 8/10000\n",
      "108/108 [==============================] - 0s 741us/step - loss: 10.4552 - mean_absolute_error: 10.4552 - val_loss: 11.1993 - val_mean_absolute_error: 11.1993\n",
      "Epoch 9/10000\n",
      "108/108 [==============================] - 0s 845us/step - loss: 10.7903 - mean_absolute_error: 10.7903 - val_loss: 10.9486 - val_mean_absolute_error: 10.9486\n",
      "Epoch 10/10000\n",
      "108/108 [==============================] - 0s 968us/step - loss: 10.5893 - mean_absolute_error: 10.5893 - val_loss: 11.5285 - val_mean_absolute_error: 11.5285\n",
      "Epoch 11/10000\n",
      "108/108 [==============================] - 0s 870us/step - loss: 10.9106 - mean_absolute_error: 10.9106 - val_loss: 11.3563 - val_mean_absolute_error: 11.3563\n",
      "Epoch 12/10000\n",
      "108/108 [==============================] - 0s 1ms/step - loss: 10.8275 - mean_absolute_error: 10.8275 - val_loss: 11.1852 - val_mean_absolute_error: 11.1852\n",
      "Epoch 13/10000\n",
      "108/108 [==============================] - 0s 906us/step - loss: 10.7227 - mean_absolute_error: 10.7227 - val_loss: 11.5790 - val_mean_absolute_error: 11.5790\n",
      "Epoch 14/10000\n",
      "108/108 [==============================] - 0s 863us/step - loss: 10.5739 - mean_absolute_error: 10.5739 - val_loss: 12.2621 - val_mean_absolute_error: 12.2621\n",
      "Epoch 15/10000\n",
      "108/108 [==============================] - 0s 881us/step - loss: 10.4148 - mean_absolute_error: 10.4148 - val_loss: 11.8458 - val_mean_absolute_error: 11.8458\n",
      "Epoch 16/10000\n",
      "108/108 [==============================] - 0s 800us/step - loss: 10.5154 - mean_absolute_error: 10.5154 - val_loss: 11.8991 - val_mean_absolute_error: 11.8991\n",
      "Epoch 17/10000\n",
      "108/108 [==============================] - 0s 835us/step - loss: 10.5437 - mean_absolute_error: 10.5437 - val_loss: 11.4280 - val_mean_absolute_error: 11.4280\n",
      "Epoch 18/10000\n",
      "108/108 [==============================] - 0s 707us/step - loss: 10.4488 - mean_absolute_error: 10.4488 - val_loss: 11.7022 - val_mean_absolute_error: 11.7022\n",
      "Epoch 19/10000\n",
      "  1/108 [..............................] - ETA: 0s - loss: 23.6493 - mean_absolute_error: 23.6493"
     ]
    },
    {
     "ename": "KeyboardInterrupt",
     "evalue": "",
     "output_type": "error",
     "traceback": [
      "\u001b[1;31m---------------------------------------------------------------------------\u001b[0m",
      "\u001b[1;31mKeyboardInterrupt\u001b[0m                         Traceback (most recent call last)",
      "Input \u001b[1;32mIn [93]\u001b[0m, in \u001b[0;36m<cell line: 7>\u001b[1;34m()\u001b[0m\n\u001b[0;32m      1\u001b[0m model\u001b[38;5;241m.\u001b[39mcompile(\n\u001b[0;32m      2\u001b[0m     optimizer\u001b[38;5;241m=\u001b[39m\u001b[38;5;124m\"\u001b[39m\u001b[38;5;124madam\u001b[39m\u001b[38;5;124m\"\u001b[39m, \n\u001b[0;32m      3\u001b[0m     loss\u001b[38;5;241m=\u001b[39m\u001b[38;5;124m\"\u001b[39m\u001b[38;5;124mmae\u001b[39m\u001b[38;5;124m\"\u001b[39m, \u001b[38;5;66;03m# mse\u001b[39;00m\n\u001b[0;32m      4\u001b[0m     metrics\u001b[38;5;241m=\u001b[39m[tf\u001b[38;5;241m.\u001b[39mkeras\u001b[38;5;241m.\u001b[39mmetrics\u001b[38;5;241m.\u001b[39mMeanAbsoluteError()]\n\u001b[0;32m      5\u001b[0m )\n\u001b[1;32m----> 7\u001b[0m history \u001b[38;5;241m=\u001b[39m \u001b[43mmodel\u001b[49m\u001b[38;5;241;43m.\u001b[39;49m\u001b[43mfit\u001b[49m\u001b[43m(\u001b[49m\n\u001b[0;32m      8\u001b[0m \u001b[43m    \u001b[49m\u001b[43mx\u001b[49m\u001b[38;5;241;43m=\u001b[39;49m\u001b[43mX_train2\u001b[49m\u001b[43m,\u001b[49m\u001b[43m \u001b[49m\n\u001b[0;32m      9\u001b[0m \u001b[43m    \u001b[49m\u001b[43my\u001b[49m\u001b[38;5;241;43m=\u001b[39;49m\u001b[43my_train2\u001b[49m\u001b[43m,\u001b[49m\u001b[43m \u001b[49m\n\u001b[0;32m     10\u001b[0m \u001b[43m    \u001b[49m\u001b[43mepochs\u001b[49m\u001b[38;5;241;43m=\u001b[39;49m\u001b[38;5;241;43m10000\u001b[39;49m\u001b[43m,\u001b[49m\n\u001b[0;32m     11\u001b[0m \u001b[43m    \u001b[49m\u001b[43mbatch_size\u001b[49m\u001b[38;5;241;43m=\u001b[39;49m\u001b[38;5;241;43m32\u001b[39;49m\u001b[43m,\u001b[49m\n\u001b[0;32m     12\u001b[0m \u001b[43m    \u001b[49m\u001b[43mvalidation_data\u001b[49m\u001b[38;5;241;43m=\u001b[39;49m\u001b[43m(\u001b[49m\u001b[43mX_test2\u001b[49m\u001b[43m,\u001b[49m\u001b[43m \u001b[49m\u001b[43my_test2\u001b[49m\u001b[43m)\u001b[49m\n\u001b[0;32m     13\u001b[0m \u001b[43m)\u001b[49m\n",
      "File \u001b[1;32m~\\.conda\\envs\\tf-gpu-cuda8\\lib\\site-packages\\tensorflow\\python\\keras\\engine\\training.py:108\u001b[0m, in \u001b[0;36menable_multi_worker.<locals>._method_wrapper\u001b[1;34m(self, *args, **kwargs)\u001b[0m\n\u001b[0;32m    106\u001b[0m \u001b[38;5;28;01mdef\u001b[39;00m \u001b[38;5;21m_method_wrapper\u001b[39m(\u001b[38;5;28mself\u001b[39m, \u001b[38;5;241m*\u001b[39margs, \u001b[38;5;241m*\u001b[39m\u001b[38;5;241m*\u001b[39mkwargs):\n\u001b[0;32m    107\u001b[0m   \u001b[38;5;28;01mif\u001b[39;00m \u001b[38;5;129;01mnot\u001b[39;00m \u001b[38;5;28mself\u001b[39m\u001b[38;5;241m.\u001b[39m_in_multi_worker_mode():  \u001b[38;5;66;03m# pylint: disable=protected-access\u001b[39;00m\n\u001b[1;32m--> 108\u001b[0m     \u001b[38;5;28;01mreturn\u001b[39;00m \u001b[43mmethod\u001b[49m\u001b[43m(\u001b[49m\u001b[38;5;28;43mself\u001b[39;49m\u001b[43m,\u001b[49m\u001b[43m \u001b[49m\u001b[38;5;241;43m*\u001b[39;49m\u001b[43margs\u001b[49m\u001b[43m,\u001b[49m\u001b[43m \u001b[49m\u001b[38;5;241;43m*\u001b[39;49m\u001b[38;5;241;43m*\u001b[39;49m\u001b[43mkwargs\u001b[49m\u001b[43m)\u001b[49m\n\u001b[0;32m    110\u001b[0m   \u001b[38;5;66;03m# Running inside `run_distribute_coordinator` already.\u001b[39;00m\n\u001b[0;32m    111\u001b[0m   \u001b[38;5;28;01mif\u001b[39;00m dc_context\u001b[38;5;241m.\u001b[39mget_current_worker_context():\n",
      "File \u001b[1;32m~\\.conda\\envs\\tf-gpu-cuda8\\lib\\site-packages\\tensorflow\\python\\keras\\engine\\training.py:1098\u001b[0m, in \u001b[0;36mModel.fit\u001b[1;34m(self, x, y, batch_size, epochs, verbose, callbacks, validation_split, validation_data, shuffle, class_weight, sample_weight, initial_epoch, steps_per_epoch, validation_steps, validation_batch_size, validation_freq, max_queue_size, workers, use_multiprocessing)\u001b[0m\n\u001b[0;32m   1091\u001b[0m \u001b[38;5;28;01mwith\u001b[39;00m trace\u001b[38;5;241m.\u001b[39mTrace(\n\u001b[0;32m   1092\u001b[0m     \u001b[38;5;124m'\u001b[39m\u001b[38;5;124mTraceContext\u001b[39m\u001b[38;5;124m'\u001b[39m,\n\u001b[0;32m   1093\u001b[0m     graph_type\u001b[38;5;241m=\u001b[39m\u001b[38;5;124m'\u001b[39m\u001b[38;5;124mtrain\u001b[39m\u001b[38;5;124m'\u001b[39m,\n\u001b[0;32m   1094\u001b[0m     epoch_num\u001b[38;5;241m=\u001b[39mepoch,\n\u001b[0;32m   1095\u001b[0m     step_num\u001b[38;5;241m=\u001b[39mstep,\n\u001b[0;32m   1096\u001b[0m     batch_size\u001b[38;5;241m=\u001b[39mbatch_size):\n\u001b[0;32m   1097\u001b[0m   callbacks\u001b[38;5;241m.\u001b[39mon_train_batch_begin(step)\n\u001b[1;32m-> 1098\u001b[0m   tmp_logs \u001b[38;5;241m=\u001b[39m \u001b[43mtrain_function\u001b[49m\u001b[43m(\u001b[49m\u001b[43miterator\u001b[49m\u001b[43m)\u001b[49m\n\u001b[0;32m   1099\u001b[0m   \u001b[38;5;28;01mif\u001b[39;00m data_handler\u001b[38;5;241m.\u001b[39mshould_sync:\n\u001b[0;32m   1100\u001b[0m     context\u001b[38;5;241m.\u001b[39masync_wait()\n",
      "File \u001b[1;32m~\\.conda\\envs\\tf-gpu-cuda8\\lib\\site-packages\\tensorflow\\python\\eager\\def_function.py:780\u001b[0m, in \u001b[0;36mFunction.__call__\u001b[1;34m(self, *args, **kwds)\u001b[0m\n\u001b[0;32m    778\u001b[0m \u001b[38;5;28;01melse\u001b[39;00m:\n\u001b[0;32m    779\u001b[0m   compiler \u001b[38;5;241m=\u001b[39m \u001b[38;5;124m\"\u001b[39m\u001b[38;5;124mnonXla\u001b[39m\u001b[38;5;124m\"\u001b[39m\n\u001b[1;32m--> 780\u001b[0m   result \u001b[38;5;241m=\u001b[39m \u001b[38;5;28;43mself\u001b[39;49m\u001b[38;5;241;43m.\u001b[39;49m\u001b[43m_call\u001b[49m\u001b[43m(\u001b[49m\u001b[38;5;241;43m*\u001b[39;49m\u001b[43margs\u001b[49m\u001b[43m,\u001b[49m\u001b[43m \u001b[49m\u001b[38;5;241;43m*\u001b[39;49m\u001b[38;5;241;43m*\u001b[39;49m\u001b[43mkwds\u001b[49m\u001b[43m)\u001b[49m\n\u001b[0;32m    782\u001b[0m new_tracing_count \u001b[38;5;241m=\u001b[39m \u001b[38;5;28mself\u001b[39m\u001b[38;5;241m.\u001b[39m_get_tracing_count()\n\u001b[0;32m    783\u001b[0m without_tracing \u001b[38;5;241m=\u001b[39m (tracing_count \u001b[38;5;241m==\u001b[39m new_tracing_count)\n",
      "File \u001b[1;32m~\\.conda\\envs\\tf-gpu-cuda8\\lib\\site-packages\\tensorflow\\python\\eager\\def_function.py:807\u001b[0m, in \u001b[0;36mFunction._call\u001b[1;34m(self, *args, **kwds)\u001b[0m\n\u001b[0;32m    804\u001b[0m   \u001b[38;5;28mself\u001b[39m\u001b[38;5;241m.\u001b[39m_lock\u001b[38;5;241m.\u001b[39mrelease()\n\u001b[0;32m    805\u001b[0m   \u001b[38;5;66;03m# In this case we have created variables on the first call, so we run the\u001b[39;00m\n\u001b[0;32m    806\u001b[0m   \u001b[38;5;66;03m# defunned version which is guaranteed to never create variables.\u001b[39;00m\n\u001b[1;32m--> 807\u001b[0m   \u001b[38;5;28;01mreturn\u001b[39;00m \u001b[38;5;28;43mself\u001b[39;49m\u001b[38;5;241;43m.\u001b[39;49m\u001b[43m_stateless_fn\u001b[49m\u001b[43m(\u001b[49m\u001b[38;5;241;43m*\u001b[39;49m\u001b[43margs\u001b[49m\u001b[43m,\u001b[49m\u001b[43m \u001b[49m\u001b[38;5;241;43m*\u001b[39;49m\u001b[38;5;241;43m*\u001b[39;49m\u001b[43mkwds\u001b[49m\u001b[43m)\u001b[49m  \u001b[38;5;66;03m# pylint: disable=not-callable\u001b[39;00m\n\u001b[0;32m    808\u001b[0m \u001b[38;5;28;01melif\u001b[39;00m \u001b[38;5;28mself\u001b[39m\u001b[38;5;241m.\u001b[39m_stateful_fn \u001b[38;5;129;01mis\u001b[39;00m \u001b[38;5;129;01mnot\u001b[39;00m \u001b[38;5;28;01mNone\u001b[39;00m:\n\u001b[0;32m    809\u001b[0m   \u001b[38;5;66;03m# Release the lock early so that multiple threads can perform the call\u001b[39;00m\n\u001b[0;32m    810\u001b[0m   \u001b[38;5;66;03m# in parallel.\u001b[39;00m\n\u001b[0;32m    811\u001b[0m   \u001b[38;5;28mself\u001b[39m\u001b[38;5;241m.\u001b[39m_lock\u001b[38;5;241m.\u001b[39mrelease()\n",
      "File \u001b[1;32m~\\.conda\\envs\\tf-gpu-cuda8\\lib\\site-packages\\tensorflow\\python\\eager\\function.py:2829\u001b[0m, in \u001b[0;36mFunction.__call__\u001b[1;34m(self, *args, **kwargs)\u001b[0m\n\u001b[0;32m   2827\u001b[0m \u001b[38;5;28;01mwith\u001b[39;00m \u001b[38;5;28mself\u001b[39m\u001b[38;5;241m.\u001b[39m_lock:\n\u001b[0;32m   2828\u001b[0m   graph_function, args, kwargs \u001b[38;5;241m=\u001b[39m \u001b[38;5;28mself\u001b[39m\u001b[38;5;241m.\u001b[39m_maybe_define_function(args, kwargs)\n\u001b[1;32m-> 2829\u001b[0m \u001b[38;5;28;01mreturn\u001b[39;00m \u001b[43mgraph_function\u001b[49m\u001b[38;5;241;43m.\u001b[39;49m\u001b[43m_filtered_call\u001b[49m\u001b[43m(\u001b[49m\u001b[43margs\u001b[49m\u001b[43m,\u001b[49m\u001b[43m \u001b[49m\u001b[43mkwargs\u001b[49m\u001b[43m)\u001b[49m\n",
      "File \u001b[1;32m~\\.conda\\envs\\tf-gpu-cuda8\\lib\\site-packages\\tensorflow\\python\\eager\\function.py:1843\u001b[0m, in \u001b[0;36mConcreteFunction._filtered_call\u001b[1;34m(self, args, kwargs, cancellation_manager)\u001b[0m\n\u001b[0;32m   1827\u001b[0m \u001b[38;5;28;01mdef\u001b[39;00m \u001b[38;5;21m_filtered_call\u001b[39m(\u001b[38;5;28mself\u001b[39m, args, kwargs, cancellation_manager\u001b[38;5;241m=\u001b[39m\u001b[38;5;28;01mNone\u001b[39;00m):\n\u001b[0;32m   1828\u001b[0m   \u001b[38;5;124;03m\"\"\"Executes the function, filtering arguments from the Python function.\u001b[39;00m\n\u001b[0;32m   1829\u001b[0m \n\u001b[0;32m   1830\u001b[0m \u001b[38;5;124;03m  Objects aside from Tensors, CompositeTensors, and Variables are ignored.\u001b[39;00m\n\u001b[1;32m   (...)\u001b[0m\n\u001b[0;32m   1841\u001b[0m \u001b[38;5;124;03m    `args` and `kwargs`.\u001b[39;00m\n\u001b[0;32m   1842\u001b[0m \u001b[38;5;124;03m  \"\"\"\u001b[39;00m\n\u001b[1;32m-> 1843\u001b[0m   \u001b[38;5;28;01mreturn\u001b[39;00m \u001b[38;5;28;43mself\u001b[39;49m\u001b[38;5;241;43m.\u001b[39;49m\u001b[43m_call_flat\u001b[49m\u001b[43m(\u001b[49m\n\u001b[0;32m   1844\u001b[0m \u001b[43m      \u001b[49m\u001b[43m[\u001b[49m\u001b[43mt\u001b[49m\u001b[43m \u001b[49m\u001b[38;5;28;43;01mfor\u001b[39;49;00m\u001b[43m \u001b[49m\u001b[43mt\u001b[49m\u001b[43m \u001b[49m\u001b[38;5;129;43;01min\u001b[39;49;00m\u001b[43m \u001b[49m\u001b[43mnest\u001b[49m\u001b[38;5;241;43m.\u001b[39;49m\u001b[43mflatten\u001b[49m\u001b[43m(\u001b[49m\u001b[43m(\u001b[49m\u001b[43margs\u001b[49m\u001b[43m,\u001b[49m\u001b[43m \u001b[49m\u001b[43mkwargs\u001b[49m\u001b[43m)\u001b[49m\u001b[43m,\u001b[49m\u001b[43m \u001b[49m\u001b[43mexpand_composites\u001b[49m\u001b[38;5;241;43m=\u001b[39;49m\u001b[38;5;28;43;01mTrue\u001b[39;49;00m\u001b[43m)\u001b[49m\n\u001b[0;32m   1845\u001b[0m \u001b[43m       \u001b[49m\u001b[38;5;28;43;01mif\u001b[39;49;00m\u001b[43m \u001b[49m\u001b[38;5;28;43misinstance\u001b[39;49m\u001b[43m(\u001b[49m\u001b[43mt\u001b[49m\u001b[43m,\u001b[49m\u001b[43m \u001b[49m\u001b[43m(\u001b[49m\u001b[43mops\u001b[49m\u001b[38;5;241;43m.\u001b[39;49m\u001b[43mTensor\u001b[49m\u001b[43m,\u001b[49m\n\u001b[0;32m   1846\u001b[0m \u001b[43m                         \u001b[49m\u001b[43mresource_variable_ops\u001b[49m\u001b[38;5;241;43m.\u001b[39;49m\u001b[43mBaseResourceVariable\u001b[49m\u001b[43m)\u001b[49m\u001b[43m)\u001b[49m\u001b[43m]\u001b[49m\u001b[43m,\u001b[49m\n\u001b[0;32m   1847\u001b[0m \u001b[43m      \u001b[49m\u001b[43mcaptured_inputs\u001b[49m\u001b[38;5;241;43m=\u001b[39;49m\u001b[38;5;28;43mself\u001b[39;49m\u001b[38;5;241;43m.\u001b[39;49m\u001b[43mcaptured_inputs\u001b[49m\u001b[43m,\u001b[49m\n\u001b[0;32m   1848\u001b[0m \u001b[43m      \u001b[49m\u001b[43mcancellation_manager\u001b[49m\u001b[38;5;241;43m=\u001b[39;49m\u001b[43mcancellation_manager\u001b[49m\u001b[43m)\u001b[49m\n",
      "File \u001b[1;32m~\\.conda\\envs\\tf-gpu-cuda8\\lib\\site-packages\\tensorflow\\python\\eager\\function.py:1923\u001b[0m, in \u001b[0;36mConcreteFunction._call_flat\u001b[1;34m(self, args, captured_inputs, cancellation_manager)\u001b[0m\n\u001b[0;32m   1918\u001b[0m possible_gradient_type \u001b[38;5;241m=\u001b[39m (\n\u001b[0;32m   1919\u001b[0m     pywrap_tfe\u001b[38;5;241m.\u001b[39mTFE_Py_TapeSetPossibleGradientTypes(args))\n\u001b[0;32m   1920\u001b[0m \u001b[38;5;28;01mif\u001b[39;00m (possible_gradient_type \u001b[38;5;241m==\u001b[39m _POSSIBLE_GRADIENT_TYPES_NONE\n\u001b[0;32m   1921\u001b[0m     \u001b[38;5;129;01mand\u001b[39;00m executing_eagerly):\n\u001b[0;32m   1922\u001b[0m   \u001b[38;5;66;03m# No tape is watching; skip to running the function.\u001b[39;00m\n\u001b[1;32m-> 1923\u001b[0m   \u001b[38;5;28;01mreturn\u001b[39;00m \u001b[38;5;28mself\u001b[39m\u001b[38;5;241m.\u001b[39m_build_call_outputs(\u001b[38;5;28;43mself\u001b[39;49m\u001b[38;5;241;43m.\u001b[39;49m\u001b[43m_inference_function\u001b[49m\u001b[38;5;241;43m.\u001b[39;49m\u001b[43mcall\u001b[49m\u001b[43m(\u001b[49m\n\u001b[0;32m   1924\u001b[0m \u001b[43m      \u001b[49m\u001b[43mctx\u001b[49m\u001b[43m,\u001b[49m\u001b[43m \u001b[49m\u001b[43margs\u001b[49m\u001b[43m,\u001b[49m\u001b[43m \u001b[49m\u001b[43mcancellation_manager\u001b[49m\u001b[38;5;241;43m=\u001b[39;49m\u001b[43mcancellation_manager\u001b[49m\u001b[43m)\u001b[49m)\n\u001b[0;32m   1925\u001b[0m forward_backward \u001b[38;5;241m=\u001b[39m \u001b[38;5;28mself\u001b[39m\u001b[38;5;241m.\u001b[39m_select_forward_and_backward_functions(\n\u001b[0;32m   1926\u001b[0m     args,\n\u001b[0;32m   1927\u001b[0m     possible_gradient_type,\n\u001b[0;32m   1928\u001b[0m     executing_eagerly)\n\u001b[0;32m   1929\u001b[0m forward_function, args_with_tangents \u001b[38;5;241m=\u001b[39m forward_backward\u001b[38;5;241m.\u001b[39mforward()\n",
      "File \u001b[1;32m~\\.conda\\envs\\tf-gpu-cuda8\\lib\\site-packages\\tensorflow\\python\\eager\\function.py:545\u001b[0m, in \u001b[0;36m_EagerDefinedFunction.call\u001b[1;34m(self, ctx, args, cancellation_manager)\u001b[0m\n\u001b[0;32m    543\u001b[0m \u001b[38;5;28;01mwith\u001b[39;00m _InterpolateFunctionError(\u001b[38;5;28mself\u001b[39m):\n\u001b[0;32m    544\u001b[0m   \u001b[38;5;28;01mif\u001b[39;00m cancellation_manager \u001b[38;5;129;01mis\u001b[39;00m \u001b[38;5;28;01mNone\u001b[39;00m:\n\u001b[1;32m--> 545\u001b[0m     outputs \u001b[38;5;241m=\u001b[39m \u001b[43mexecute\u001b[49m\u001b[38;5;241;43m.\u001b[39;49m\u001b[43mexecute\u001b[49m\u001b[43m(\u001b[49m\n\u001b[0;32m    546\u001b[0m \u001b[43m        \u001b[49m\u001b[38;5;28;43mstr\u001b[39;49m\u001b[43m(\u001b[49m\u001b[38;5;28;43mself\u001b[39;49m\u001b[38;5;241;43m.\u001b[39;49m\u001b[43msignature\u001b[49m\u001b[38;5;241;43m.\u001b[39;49m\u001b[43mname\u001b[49m\u001b[43m)\u001b[49m\u001b[43m,\u001b[49m\n\u001b[0;32m    547\u001b[0m \u001b[43m        \u001b[49m\u001b[43mnum_outputs\u001b[49m\u001b[38;5;241;43m=\u001b[39;49m\u001b[38;5;28;43mself\u001b[39;49m\u001b[38;5;241;43m.\u001b[39;49m\u001b[43m_num_outputs\u001b[49m\u001b[43m,\u001b[49m\n\u001b[0;32m    548\u001b[0m \u001b[43m        \u001b[49m\u001b[43minputs\u001b[49m\u001b[38;5;241;43m=\u001b[39;49m\u001b[43margs\u001b[49m\u001b[43m,\u001b[49m\n\u001b[0;32m    549\u001b[0m \u001b[43m        \u001b[49m\u001b[43mattrs\u001b[49m\u001b[38;5;241;43m=\u001b[39;49m\u001b[43mattrs\u001b[49m\u001b[43m,\u001b[49m\n\u001b[0;32m    550\u001b[0m \u001b[43m        \u001b[49m\u001b[43mctx\u001b[49m\u001b[38;5;241;43m=\u001b[39;49m\u001b[43mctx\u001b[49m\u001b[43m)\u001b[49m\n\u001b[0;32m    551\u001b[0m   \u001b[38;5;28;01melse\u001b[39;00m:\n\u001b[0;32m    552\u001b[0m     outputs \u001b[38;5;241m=\u001b[39m execute\u001b[38;5;241m.\u001b[39mexecute_with_cancellation(\n\u001b[0;32m    553\u001b[0m         \u001b[38;5;28mstr\u001b[39m(\u001b[38;5;28mself\u001b[39m\u001b[38;5;241m.\u001b[39msignature\u001b[38;5;241m.\u001b[39mname),\n\u001b[0;32m    554\u001b[0m         num_outputs\u001b[38;5;241m=\u001b[39m\u001b[38;5;28mself\u001b[39m\u001b[38;5;241m.\u001b[39m_num_outputs,\n\u001b[1;32m   (...)\u001b[0m\n\u001b[0;32m    557\u001b[0m         ctx\u001b[38;5;241m=\u001b[39mctx,\n\u001b[0;32m    558\u001b[0m         cancellation_manager\u001b[38;5;241m=\u001b[39mcancellation_manager)\n",
      "File \u001b[1;32m~\\.conda\\envs\\tf-gpu-cuda8\\lib\\site-packages\\tensorflow\\python\\eager\\execute.py:59\u001b[0m, in \u001b[0;36mquick_execute\u001b[1;34m(op_name, num_outputs, inputs, attrs, ctx, name)\u001b[0m\n\u001b[0;32m     57\u001b[0m \u001b[38;5;28;01mtry\u001b[39;00m:\n\u001b[0;32m     58\u001b[0m   ctx\u001b[38;5;241m.\u001b[39mensure_initialized()\n\u001b[1;32m---> 59\u001b[0m   tensors \u001b[38;5;241m=\u001b[39m \u001b[43mpywrap_tfe\u001b[49m\u001b[38;5;241;43m.\u001b[39;49m\u001b[43mTFE_Py_Execute\u001b[49m\u001b[43m(\u001b[49m\u001b[43mctx\u001b[49m\u001b[38;5;241;43m.\u001b[39;49m\u001b[43m_handle\u001b[49m\u001b[43m,\u001b[49m\u001b[43m \u001b[49m\u001b[43mdevice_name\u001b[49m\u001b[43m,\u001b[49m\u001b[43m \u001b[49m\u001b[43mop_name\u001b[49m\u001b[43m,\u001b[49m\n\u001b[0;32m     60\u001b[0m \u001b[43m                                      \u001b[49m\u001b[43minputs\u001b[49m\u001b[43m,\u001b[49m\u001b[43m \u001b[49m\u001b[43mattrs\u001b[49m\u001b[43m,\u001b[49m\u001b[43m \u001b[49m\u001b[43mnum_outputs\u001b[49m\u001b[43m)\u001b[49m\n\u001b[0;32m     61\u001b[0m \u001b[38;5;28;01mexcept\u001b[39;00m core\u001b[38;5;241m.\u001b[39m_NotOkStatusException \u001b[38;5;28;01mas\u001b[39;00m e:\n\u001b[0;32m     62\u001b[0m   \u001b[38;5;28;01mif\u001b[39;00m name \u001b[38;5;129;01mis\u001b[39;00m \u001b[38;5;129;01mnot\u001b[39;00m \u001b[38;5;28;01mNone\u001b[39;00m:\n",
      "\u001b[1;31mKeyboardInterrupt\u001b[0m: "
     ]
    }
   ],
   "source": [
    "model.compile(\n",
    "    optimizer=\"adam\", \n",
    "    loss=\"mae\", # mse\n",
    "    metrics=[tf.keras.metrics.MeanAbsoluteError()]\n",
    ")\n",
    "\n",
    "history = model.fit(\n",
    "    x=X_train2, \n",
    "    y=y_train2, \n",
    "    epochs=10000,\n",
    "    batch_size=32,\n",
    "    validation_data=(X_test2, y_test2)\n",
    ")"
   ]
  },
  {
   "cell_type": "markdown",
   "id": "6b84ec10",
   "metadata": {},
   "source": [
    "ou bien on utilise le modèle précédent ou un autres"
   ]
  },
  {
   "cell_type": "raw",
   "id": "48e0055f",
   "metadata": {},
   "source": [
    "model_erreur = keras.models.load_model('nouveau.h5')"
   ]
  },
  {
   "cell_type": "markdown",
   "id": "bd874ebc",
   "metadata": {},
   "source": [
    "on fait prédire à notre nouveau modèle toutes les données des trois fichiers (les modèles ne les ont jamais vu)"
   ]
  },
  {
   "cell_type": "code",
   "execution_count": null,
   "id": "3514b3de",
   "metadata": {},
   "outputs": [],
   "source": [
    "pred3 = model.predict(X_3)\n",
    "pred4 = model.predict(X_4)\n",
    "pred5 = model.predict(X_5)"
   ]
  },
  {
   "cell_type": "markdown",
   "id": "05ec5f74",
   "metadata": {},
   "source": [
    "on fait aussi prédire nos données composés de 50% d'erreurs et 50% aléatoires"
   ]
  },
  {
   "cell_type": "code",
   "execution_count": null,
   "id": "ba5165ed",
   "metadata": {},
   "outputs": [],
   "source": [
    "pred = model.predict(new_X)"
   ]
  },
  {
   "cell_type": "markdown",
   "id": "f980f986",
   "metadata": {},
   "source": [
    "on affiche trois graphique pour visualiser la qulaité du modèle sur les données 50 50"
   ]
  },
  {
   "cell_type": "code",
   "execution_count": 94,
   "id": "b379e67a",
   "metadata": {},
   "outputs": [
    {
     "ename": "NameError",
     "evalue": "name 'pred' is not defined",
     "output_type": "error",
     "traceback": [
      "\u001b[1;31m---------------------------------------------------------------------------\u001b[0m",
      "\u001b[1;31mNameError\u001b[0m                                 Traceback (most recent call last)",
      "Input \u001b[1;32mIn [94]\u001b[0m, in \u001b[0;36m<cell line: 1>\u001b[1;34m()\u001b[0m\n\u001b[0;32m      3\u001b[0m plt\u001b[38;5;241m.\u001b[39mrcParams\u001b[38;5;241m.\u001b[39mupdate({\u001b[38;5;124m'\u001b[39m\u001b[38;5;124mfont.size\u001b[39m\u001b[38;5;124m'\u001b[39m:\u001b[38;5;241m15\u001b[39m})\n\u001b[0;32m      4\u001b[0m plt\u001b[38;5;241m.\u001b[39mstyle\u001b[38;5;241m.\u001b[39muse(\u001b[38;5;124m'\u001b[39m\u001b[38;5;124mseaborn-whitegrid\u001b[39m\u001b[38;5;124m'\u001b[39m)\n\u001b[1;32m----> 5\u001b[0m plt\u001b[38;5;241m.\u001b[39mscatter(new_Y[:, i], \u001b[43mpred\u001b[49m[:, i], s\u001b[38;5;241m=\u001b[39m\u001b[38;5;241m1\u001b[39m)\n\u001b[0;32m      6\u001b[0m plt\u001b[38;5;241m.\u001b[39mtitle(\u001b[38;5;124m'\u001b[39m\u001b[38;5;124mEuler \u001b[39m\u001b[38;5;124m'\u001b[39m \u001b[38;5;241m+\u001b[39m \u001b[38;5;28mstr\u001b[39m(i\u001b[38;5;241m+\u001b[39m\u001b[38;5;241m1\u001b[39m))\n\u001b[0;32m      7\u001b[0m axe\u001b[38;5;241m.\u001b[39mset(xlabel\u001b[38;5;241m=\u001b[39m\u001b[38;5;124m\"\u001b[39m\u001b[38;5;124mvaleurs réelles\u001b[39m\u001b[38;5;124m\"\u001b[39m, ylabel\u001b[38;5;241m=\u001b[39m\u001b[38;5;124m\"\u001b[39m\u001b[38;5;124mvaleurs prédites\u001b[39m\u001b[38;5;124m\"\u001b[39m)\n",
      "\u001b[1;31mNameError\u001b[0m: name 'pred' is not defined"
     ]
    },
    {
     "data": {
      "image/png": "[encoded data removed]",
      "text/plain": [
       "<Figure size 432x288 with 1 Axes>"
      ]
     },
     "metadata": {},
     "output_type": "display_data"
    }
   ],
   "source": [
    "for i in range(3):\n",
    "    axe = plt.axes()\n",
    "    plt.rcParams.update({'font.size':15})\n",
    "    plt.style.use('seaborn-whitegrid')\n",
    "    plt.scatter(new_Y[:, i], pred[:, i], s=1)\n",
    "    plt.title('Euler ' + str(i+1))\n",
    "    axe.set(xlabel=\"valeurs réelles\", ylabel=\"valeurs prédites\")\n",
    "    plt.show()"
   ]
  },
  {
   "cell_type": "markdown",
   "id": "d4199c56",
   "metadata": {},
   "source": [
    "on affiche aussi trois graphiques pour visulaiser les performances du modèles sur toutes les données d'un des fichiers importés"
   ]
  },
  {
   "cell_type": "code",
   "execution_count": null,
   "id": "9eb283d3",
   "metadata": {},
   "outputs": [],
   "source": [
    "for i in range(3):\n",
    "    axe = plt.axes()\n",
    "    plt.rcParams.update({'font.size':15})\n",
    "    plt.style.use('seaborn-whitegrid')\n",
    "    plt.scatter(y_4[:, i], pred4[:, i], s=1)\n",
    "    plt.title('Euler ' + str(i+1))\n",
    "    axe.set(xlabel=\"valeurs réelles\", ylabel=\"valeurs prédites\")\n",
    "    plt.show()"
   ]
  },
  {
   "cell_type": "markdown",
   "id": "85fb9640",
   "metadata": {},
   "source": [
    "on calcule le nombre d'erreurs de 1 degré ou plus sur les données 50 50"
   ]
  },
  {
   "cell_type": "code",
   "execution_count": null,
   "id": "3c18d587",
   "metadata": {},
   "outputs": [],
   "source": [
    "msg, erry, errx, err = pourcentage_erreur(pred, new_Y, new_X)\n",
    "print(msg)"
   ]
  },
  {
   "cell_type": "markdown",
   "id": "8fe2c157",
   "metadata": {},
   "source": [
    "on calcule le nombre d'erreurs de 1 degré ou plus sur les trois fichiers de données"
   ]
  },
  {
   "cell_type": "code",
   "execution_count": null,
   "id": "200e3e65",
   "metadata": {},
   "outputs": [],
   "source": [
    "message3, erreur_y3, erreur_x3, err3 = pourcentage_erreur(pred3, y_3, X_3)\n",
    "print(message3)\n",
    "\n",
    "message4, erreur_y4, erreur_x4, err4 = pourcentage_erreur(pred4, y_4, X_4)\n",
    "print(message4)\n",
    "\n",
    "message5, erreur_y5, erreur_x5, err5 = pourcentage_erreur(pred5, y_5, X_5)\n",
    "print(message5)"
   ]
  },
  {
   "cell_type": "markdown",
   "id": "16380e25",
   "metadata": {},
   "source": [
    "On va réentraîner notre modèle_erreur avec les les données d'un des fichiers après qu'il s'est entraîner avec des données 50% erreur 50% aléaatoire et qu'il a a baissé à 10% d'erreurs sur les données 50 50"
   ]
  },
  {
   "cell_type": "code",
   "execution_count": null,
   "id": "873a5043",
   "metadata": {},
   "outputs": [],
   "source": [
    "model.compile(\n",
    "    optimizer='adam',    # opti,\n",
    "    loss=\"mae\",    # \"mae\", # mse\n",
    "    metrics=[tf.keras.metrics.MeanAbsoluteError()]\n",
    ")"
   ]
  },
  {
   "cell_type": "code",
   "execution_count": null,
   "id": "d9d9e370",
   "metadata": {},
   "outputs": [],
   "source": [
    "history = model.fit(\n",
    "    x=X_train, \n",
    "    y=y_train,\n",
    "    batch_size = 10000,\n",
    "    epochs=2000,\n",
    "    validation_data=(X_test, y_test)\n",
    ")"
   ]
  },
  {
   "cell_type": "markdown",
   "id": "43bfb094",
   "metadata": {},
   "source": [
    "On test mainetanant notre modèle sur les données des trois fichiers"
   ]
  },
  {
   "cell_type": "code",
   "execution_count": 77,
   "id": "312b36c5",
   "metadata": {},
   "outputs": [
    {
     "name": "stdout",
     "output_type": "stream",
     "text": [
      "le pourcentage d'erreur est de 0.2728, 682 / 250000\n",
      "le pourcentage d'erreur est de 0.29719999999999996, 743 / 250000\n",
      "le pourcentage d'erreur est de 0.29, 725 / 250000\n"
     ]
    }
   ],
   "source": [
    "predictions3 = model.predict(X_3)\n",
    "message3, erreur_y3, erreur_x3, nb_error_3 = pourcentage_erreur(predictions3, y_3, X_3)\n",
    "print(message3)\n",
    "predictions4 = model.predict(X_4)\n",
    "message4, erreur_y4, erreur_x4, nb_error_4 = pourcentage_erreur(predictions4, y_4, X_4)\n",
    "print(message4)\n",
    "predictions5 = model.predict(X_5)\n",
    "message5, erreur_y5, erreur_x5, nb_error_5 = pourcentage_erreur(predictions5, y_5, X_5)\n",
    "print(message5)"
   ]
  },
  {
   "cell_type": "raw",
   "id": "82fd333a",
   "metadata": {},
   "source": [
    "model_hasan.save(\"nouveau_hasan.h5\")"
   ]
  },
  {
   "cell_type": "code",
   "execution_count": null,
   "id": "c3bb1488",
   "metadata": {},
   "outputs": [],
   "source": []
  }
 ],
 "metadata": {
  "kernelspec": {
   "display_name": "Python 3 (ipykernel)",
   "language": "python",
   "name": "python3"
  },
  "language_info": {
   "codemirror_mode": {
    "name": "ipython",
    "version": 3
   },
   "file_extension": ".py",
   "mimetype": "text/x-python",
   "name": "python",
   "nbconvert_exporter": "python",
   "pygments_lexer": "ipython3",
   "version": "3.8.13"
  }
 },
 "nbformat": 4,
 "nbformat_minor": 5
}
