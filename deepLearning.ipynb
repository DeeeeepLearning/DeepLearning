{
 "cells": [
  {
   "cell_type": "code",
   "execution_count": 1,
   "id": "d3156ce7",
   "metadata": {},
   "outputs": [],
   "source": [
    "import pandas as pd\n",
    "import numpy as np\n",
    "import importlib\n",
    "import sys\n",
    "import time\n",
    "from sklearn.metrics import mean_absolute_error, r2_score, mean_squared_error, accuracy_score\n",
    "from sklearn.linear_model import LinearRegression\n",
    "import matplotlib.pyplot as plt\n",
    "import tensorflow as tf\n",
    "from tensorflow import keras\n",
    "from tensorflow.keras import layers, Input\n",
    "from tensorflow.keras.optimizers import SGD\n",
    "from sklearn.model_selection import train_test_split"
   ]
  },
  {
   "cell_type": "markdown",
   "id": "01a934eb",
   "metadata": {},
   "source": [
    "Pour être sûr d'utiliser Tensorflow 2.0 :"
   ]
  },
  {
   "cell_type": "code",
   "execution_count": 2,
   "id": "aafd28a6",
   "metadata": {},
   "outputs": [],
   "source": [
    "assert hasattr(tf, \"function\")"
   ]
  },
  {
   "cell_type": "markdown",
   "id": "faa92689",
   "metadata": {},
   "source": [
    "Cette fonction ouvre un fichier C_maps.txt en lecture et récupère les 22 coefficients et les retourne sous forme d'une matrice"
   ]
  },
  {
   "cell_type": "code",
   "execution_count": 3,
   "id": "38624196",
   "metadata": {},
   "outputs": [],
   "source": [
    "def get_data(file_path):\n",
    "    \n",
    "    file = open(file_path, \"r\")\n",
    "\n",
    "    allText = file.read()\n",
    "\n",
    "    words = list(map(str, allText.split()))\n",
    "\n",
    "    matrice_height = int(len(words) / 30)\n",
    "    matrice = np.ones((matrice_height, 24))\n",
    "\n",
    "    emplacement = 20\n",
    "    iter1 = 0\n",
    "    for i in range(emplacement, int(len(words) / 30) + emplacement):\n",
    "        iter2 = 0\n",
    "        for j in range(emplacement + 6, emplacement + 30):\n",
    "            matrice[(iter1, iter2)] = words[j]\n",
    "            iter2 += 1\n",
    "        iter1 += 1\n",
    "        emplacement += 30\n",
    "    X_2 = np.delete(matrice, 1, 1)\n",
    "    X_final = np.delete(X_2, 10, 1)\n",
    "    \n",
    "    file.close()\n",
    "    \n",
    "    return X_final"
   ]
  },
  {
   "cell_type": "markdown",
   "id": "2b8c3f7c",
   "metadata": {},
   "source": [
    "Cette fonction ouvre un fichier ctf en lecture et récupère les 3 coefficients d'Euler pour les retourner sous forme de matrice (x, 3)"
   ]
  },
  {
   "cell_type": "code",
   "execution_count": 9,
   "id": "6b71016c",
   "metadata": {},
   "outputs": [],
   "source": [
    "def read_ctf(file_path):\n",
    "    \n",
    "    file2 = open(file_path, \"r\")\n",
    "    \n",
    "    allText2 = file2.read()\n",
    "    words2 = list(map(str, allText2.split()))\n",
    "    \n",
    "    nb_debut_donnees = 88\n",
    "    nb_mots = len(words2) - nb_debut_donnees\n",
    "    nb_mots_par_ligne = 11\n",
    "    \n",
    "    nb_ligne_matrice = int(nb_mots / nb_mots_par_ligne)\n",
    "    print(\"nb_ligne_matrice = \" + str(nb_ligne_matrice))\n",
    "    nb_colonne_matrice = 3\n",
    "    matrice = np.empty((nb_ligne_matrice, nb_colonne_matrice))\n",
    "    emplacement = 0\n",
    "    \n",
    "    print(\"Extraction des données à partir du fichier ....\")\n",
    "    for i in range(nb_debut_donnees, nb_mots + nb_debut_donnees, nb_mots_par_ligne):\n",
    "        matrice[(emplacement, 0)] = words2[i + 5]\n",
    "        matrice[(emplacement, 1)] = words2[i + 6]\n",
    "        matrice[(emplacement, 2)] = words2[i + 7]\n",
    "        emplacement += 1\n",
    "    print(\"ok !\")    \n",
    "    file2.close()\n",
    "    \n",
    "    return matrice"
   ]
  },
  {
   "cell_type": "markdown",
   "id": "63455c9e",
   "metadata": {},
   "source": [
    "Cette fonction fait faire des prédiction au modèle et renvoie le score, mae, rmse, r2"
   ]
  },
  {
   "cell_type": "code",
   "execution_count": 10,
   "id": "3b06d8ec",
   "metadata": {},
   "outputs": [],
   "source": [
    "def run_experiment(model):\n",
    "    y_pred = model.predict(X_test)\n",
    "    print(\"R^2 : \", r2_score(y_test, y_pred))\n",
    "    print(\"MAE :\", mean_absolute_error(y_test,y_pred))\n",
    "    print(\"RMSE:\",np.sqrt(mean_squared_error(y_test, y_pred)))"
   ]
  },
  {
   "cell_type": "markdown",
   "id": "b36e27d2",
   "metadata": {},
   "source": [
    "cette fonction renvoie le nombre d'erreur de 1 degré ou plus de la prédiction par rapport aux valeurs réelles\n",
    "et renvoie les valeurs X d'entrée et y de sortie pour lesquels le modèle prédit mal, sous forme de matrices erreur_x, erreur_y"
   ]
  },
  {
   "cell_type": "code",
   "execution_count": 11,
   "id": "db3ac6d2",
   "metadata": {},
   "outputs": [],
   "source": [
    "def pourcentage_erreur(y_pred, y_test, x_test):\n",
    "   \n",
    "    err = 0\n",
    "    marge_derreur = 1 # 1 degre\n",
    "    erreur_y = np.empty((1, 3), dtype=float)\n",
    "    erreur_x = np.empty((1, 22), dtype=float)\n",
    "   \n",
    "    for i in range(y_pred.shape[0]):\n",
    "       \n",
    "        for j in range(y_pred.shape[1]):\n",
    "           \n",
    "            error = abs(y_pred[i][j] - y_test[i][j])\n",
    "            if error >= marge_derreur:\n",
    "               \n",
    "                # print(error)\n",
    "                err += 1\n",
    "               \n",
    "                erreur_y = np.append(erreur_y, [y_test[i]], axis=0)\n",
    "                erreur_x = np.append(erreur_x, [x_test[i]], axis=0)\n",
    "               \n",
    "                break\n",
    "               \n",
    "    erreur_y = np.delete(erreur_y, 0, axis=0)\n",
    "    erreur_x = np.delete(erreur_x, 0, axis=0)\n",
    "    \n",
    "    for y in erreur_y:\n",
    "        for i in range(len(y)):\n",
    "            y[i] = round(y[i], 3)\n",
    "    for x in erreur_x:\n",
    "        for j in range(len(x)):\n",
    "            x[j] = round(x[j], 3)\n",
    "    \n",
    "    message = \"le pourcentage d'erreur est de \"+str((err / y_pred.shape[0]) * 100)+\", \"+str(err)+\" / \"+str(y_pred.shape[0])\n",
    "    return message, erreur_y, erreur_x, err"
   ]
  },
  {
   "cell_type": "markdown",
   "id": "eb28339f",
   "metadata": {},
   "source": [
    "X matrice d'entrée de dimension (250000, 22)"
   ]
  },
  {
   "cell_type": "code",
   "execution_count": 12,
   "id": "8d2b6949",
   "metadata": {},
   "outputs": [],
   "source": [
    "file_in_path = \"C_maps_2.txt\"\n",
    "X = get_data(file_in_path)"
   ]
  },
  {
   "cell_type": "markdown",
   "id": "b778f849",
   "metadata": {},
   "source": [
    "Y matrice de dimension (250000, 3) correspondant aux valeurs de sortie q'on attend"
   ]
  },
  {
   "cell_type": "code",
   "execution_count": 13,
   "id": "a2878d34",
   "metadata": {},
   "outputs": [
    {
     "name": "stdout",
     "output_type": "stream",
     "text": [
      "nb_ligne_matrice = 250000\n",
      "Extraction des données à partir du fichier ....\n",
      "ok !\n"
     ]
    }
   ],
   "source": [
    "file_out_path = \"exercise2.ctf\"\n",
    "\n",
    "y = read_ctf(file_out_path)"
   ]
  },
  {
   "cell_type": "markdown",
   "id": "fc26ce9a",
   "metadata": {},
   "source": [
    "Nous divisons notre jeu de données en jeu d'entraînement, X_train, y_train et en jeu de test, X_test, y_test\n",
    "le pourcentage de données de test est précisé avec le paramètre test_size, ici de 20%. random_state permet d'avoir le même mélange de données pour pouvoir comparer des modèles entre eux"
   ]
  },
  {
   "cell_type": "code",
   "execution_count": 15,
   "id": "1bda942c",
   "metadata": {},
   "outputs": [],
   "source": [
    "X_train, X_test, y_train, y_test = train_test_split(X, y, test_size=0.2, random_state=1)"
   ]
  },
  {
   "cell_type": "markdown",
   "id": "73ccbb7c",
   "metadata": {},
   "source": [
    "Importer un modèle qu'on a sauvegardé auparavant dans un fichier h5"
   ]
  },
  {
   "cell_type": "code",
   "execution_count": 17,
   "id": "0a792588",
   "metadata": {},
   "outputs": [],
   "source": [
    "model = keras.models.load_model('hasan.h5')"
   ]
  },
  {
   "cell_type": "markdown",
   "id": "f5c29fde",
   "metadata": {},
   "source": [
    "Ou on définit notre modèle, entrée de de taille 22 avec quatres couches intermédiaire composés de 256, 128, 64 et 32 neurones avec fonction d'activation Relu et dernière couche, de sortie, de taille 3"
   ]
  },
  {
   "cell_type": "raw",
   "id": "ef98ed02",
   "metadata": {},
   "source": [
    "model = keras.Sequential()\n",
    "\n",
    "model.add(Input(shape=(22,)))\n",
    "\n",
    "model.add(layers.Dense(256, activation=\"relu\")),\n",
    "\n",
    "model.add(layers.Dense(128, activation=\"relu\")),\n",
    "\n",
    "model.add(layers.Dense(64, activation=\"relu\")),\n",
    "\n",
    "model.add(layers.Dense(32, activation=\"relu\")),\n",
    "\n",
    "model.add(layers.Dense(3))"
   ]
  },
  {
   "cell_type": "markdown",
   "id": "6a33dee0",
   "metadata": {},
   "source": [
    "On définit notre optimiseur et la vitesse d'apprentissage"
   ]
  },
  {
   "cell_type": "raw",
   "id": "bffff040",
   "metadata": {},
   "source": [
    "# opt = SGD(learning_rate=0.01, momentum=0.9)\n",
    "opti = tf.keras.optimizers.Adam(learning_rate=0.1)  # sgd(0.01, momentum=0.9)"
   ]
  },
  {
   "cell_type": "markdown",
   "id": "d714edbe",
   "metadata": {},
   "source": [
    "on précise à notre modèle notre fonction de perte mae, mean absolute error, l'optimiseur et le métrique"
   ]
  },
  {
   "cell_type": "raw",
   "id": "88c54c3c",
   "metadata": {},
   "source": [
    "model.compile(\n",
    "    optimizer='adam',    # opti,\n",
    "    loss=\"mae\",    # \"mae\", # mse\n",
    "    metrics=[tf.keras.metrics.MeanAbsoluteError()]\n",
    ")"
   ]
  },
  {
   "cell_type": "markdown",
   "id": "7169a9c1",
   "metadata": {},
   "source": [
    "On entraîne le modèle en précisant nos données d'entraînement, X_train et y_train, le batch_size qui est le nombre de fois qu'on montre nos données au modèle avant qu'il ajuste ses paramètres, le nombre d'epochs qui est le nombre d'entraînement et nos données de valisation, X_test et y_test"
   ]
  },
  {
   "cell_type": "raw",
   "id": "c2ca17bf",
   "metadata": {
    "scrolled": true
   },
   "source": [
    "history = model.fit(\n",
    "    x=X_train, \n",
    "    y=y_train,\n",
    "    batch_size = 10000,\n",
    "    epochs=200000,\n",
    "    validation_data=(X_test, y_test)\n",
    ")"
   ]
  },
  {
   "cell_type": "markdown",
   "id": "3889ac73",
   "metadata": {},
   "source": [
    "Pour sauvegarder un modèle au format h5"
   ]
  },
  {
   "cell_type": "raw",
   "id": "41d1ccc8",
   "metadata": {},
   "source": [
    "model.save('hasan.h5')"
   ]
  },
  {
   "cell_type": "markdown",
   "id": "944510f4",
   "metadata": {},
   "source": [
    "on demande au modèle de faire des prédictions pour les valeurs de X_test, de dimension (50000, 22).\n",
    "val_predictions aura une dimension de (50000, 3)"
   ]
  },
  {
   "cell_type": "code",
   "execution_count": 18,
   "id": "9059d134",
   "metadata": {},
   "outputs": [],
   "source": [
    "val_predictions = model.predict(X_test)"
   ]
  },
  {
   "cell_type": "markdown",
   "id": "842eae96",
   "metadata": {},
   "source": [
    "On affiche les dix premières valeurs de prédictions (val_predictions) et les valeurs réelles attendues (y_test)"
   ]
  },
  {
   "cell_type": "code",
   "execution_count": 19,
   "id": "25328d4f",
   "metadata": {},
   "outputs": [
    {
     "name": "stdout",
     "output_type": "stream",
     "text": [
      "y_test : \n",
      " [[ 24.184  56.919  46.449]\n",
      " [ 64.483  56.12   45.87 ]\n",
      " [ 98.644  56.907  41.406]\n",
      " [ 37.895  56.299  44.834]\n",
      " [181.811  56.657  47.114]\n",
      " [ 24.667  57.125  44.681]\n",
      " [170.13   55.825  45.57 ]\n",
      " [207.195  56.294  42.492]\n",
      " [ 92.085  57.012  48.459]\n",
      " [337.13   56.261  42.685]]\n",
      "=====================================\n",
      "y_pred : \n",
      " [[ 24.12245   56.895687  46.40291 ]\n",
      " [ 64.43709   56.11285   45.834408]\n",
      " [ 98.58372   56.9085    41.3583  ]\n",
      " [ 37.892517  56.265713  44.816925]\n",
      " [181.71324   56.62058   47.111393]\n",
      " [ 24.58314   57.095196  44.63226 ]\n",
      " [169.96227   55.80922   45.53617 ]\n",
      " [207.10796   56.258144  42.44156 ]\n",
      " [ 91.9759    56.984962  48.40717 ]\n",
      " [336.99966   56.21104   42.635372]]\n"
     ]
    }
   ],
   "source": [
    "print(\"y_test : \\n\", y_test[:10])\n",
    "print(\"=====================================\")\n",
    "print(\"y_pred : \\n\", val_predictions[:10])"
   ]
  },
  {
   "cell_type": "markdown",
   "id": "90c8e51a",
   "metadata": {},
   "source": [
    "On calcule l'erreur moyenne absolue en donnant à la fonction les valeurs prédites et réelles"
   ]
  },
  {
   "cell_type": "code",
   "execution_count": 20,
   "id": "9719f328",
   "metadata": {},
   "outputs": [
    {
     "name": "stdout",
     "output_type": "stream",
     "text": [
      "Validation MAE for Model: 0.12463437332611109\n"
     ]
    }
   ],
   "source": [
    "val_mae = mean_absolute_error(val_predictions, y_test)\n",
    "print(\"Validation MAE for Model: {}\".format(val_mae))"
   ]
  },
  {
   "cell_type": "markdown",
   "id": "9b7e7625",
   "metadata": {},
   "source": [
    "On affiche trois graphiques pour chaque valeur d'Euler, en x les valeurs réelles et en y les valeurs prédites"
   ]
  },
  {
   "cell_type": "code",
   "execution_count": 23,
   "id": "70820eda",
   "metadata": {},
   "outputs": [
    {
     "data": {
      "image/png": "[encoded data removed]",
      "text/plain": [
       "<Figure size 432x288 with 1 Axes>"
      ]
     },
     "metadata": {},
     "output_type": "display_data"
    },
    {
     "data": {
      "image/png": "[encoded data removed]",
      "text/plain": [
       "<Figure size 432x288 with 1 Axes>"
      ]
     },
     "metadata": {},
     "output_type": "display_data"
    },
    {
     "data": {
      "image/png": "[encoded data removed]",
      "text/plain": [
       "<Figure size 432x288 with 1 Axes>"
      ]
     },
     "metadata": {},
     "output_type": "display_data"
    }
   ],
   "source": [
    "for i in range(3):\n",
    "    axe = plt.axes()\n",
    "    plt.rcParams.update({'font.size':15})\n",
    "    plt.style.use('seaborn-whitegrid')\n",
    "    plt.scatter(y_test[:, i], val_predictions[:, i], s=1)\n",
    "    plt.title('Euler ' + str(i+1))\n",
    "    axe.set(xlabel=\"Valeurs réelles\", ylabel=\"Valeurs prédites\")\n",
    "    plt.show()"
   ]
  },
  {
   "cell_type": "markdown",
   "id": "7428f79e",
   "metadata": {},
   "source": [
    "On affiche le nombre d'erreurs de 1 degré ou plus de notre modèle"
   ]
  },
  {
   "cell_type": "code",
   "execution_count": 26,
   "id": "ce997177",
   "metadata": {},
   "outputs": [
    {
     "name": "stdout",
     "output_type": "stream",
     "text": [
      "le pourcentage d'erreur est de 0.266, 133 / 50000\n"
     ]
    }
   ],
   "source": [
    "message, rzr, sddsd, zz = pourcentage_erreur(val_predictions, y_test, X_test)\n",
    "print(message)"
   ]
  },
  {
   "cell_type": "markdown",
   "id": "2e40a503",
   "metadata": {},
   "source": [
    "on mesure la qualité de prédiction de notre modèle avec l'écart quadratique moyen, mae et le coefficient de détermination"
   ]
  },
  {
   "cell_type": "code",
   "execution_count": 27,
   "id": "dcb72744",
   "metadata": {},
   "outputs": [
    {
     "name": "stdout",
     "output_type": "stream",
     "text": [
      "R^2 :  0.9947534609860361\n",
      "MAE : 0.12463437332611109\n",
      "RMSE: 2.9214493232312835\n"
     ]
    }
   ],
   "source": [
    "run_experiment(model)"
   ]
  },
  {
   "cell_type": "markdown",
   "id": "2c338f45",
   "metadata": {},
   "source": [
    "On importe d'autres données que le modèle n'a jamais vu pour le tester"
   ]
  },
  {
   "cell_type": "code",
   "execution_count": 28,
   "id": "f15adebe",
   "metadata": {},
   "outputs": [
    {
     "name": "stdout",
     "output_type": "stream",
     "text": [
      "nb_ligne_matrice = 250000\n",
      "Extraction des données à partir du fichier ....\n",
      "ok !\n",
      "nb_ligne_matrice = 250000\n",
      "Extraction des données à partir du fichier ....\n",
      "ok !\n",
      "nb_ligne_matrice = 250000\n",
      "Extraction des données à partir du fichier ....\n",
      "ok !\n"
     ]
    }
   ],
   "source": [
    "X_3 = get_data(\"C_maps_3.txt\")\n",
    "y_3 = read_ctf(\"exercise3.ctf\")\n",
    "X_4 = get_data(\"C_maps_4.txt\")\n",
    "y_4 = read_ctf(\"exercise4.ctf\")\n",
    "X_5 = get_data(\"C_maps_5.txt\")\n",
    "y_5 = read_ctf(\"exercise5.ctf\")"
   ]
  },
  {
   "cell_type": "markdown",
   "id": "b4ff3765",
   "metadata": {},
   "source": [
    "on fait prédire nos nouvelles données et on affiche le mae du modèle sur ces nouvelles données"
   ]
  },
  {
   "cell_type": "code",
   "execution_count": 29,
   "id": "d786d7da",
   "metadata": {},
   "outputs": [
    {
     "name": "stdout",
     "output_type": "stream",
     "text": [
      "Validation MAE for Model: 0.13510911405588757\n",
      "Validation MAE for Model: 0.14387668679500434\n",
      "Validation MAE for Model: 0.14983312420094871\n"
     ]
    }
   ],
   "source": [
    "X_3_train, X_3_test, y_3_train, y_3_test = train_test_split(X_3, y_3, test_size=.2, random_state=1)\n",
    "val_predictions3 = model.predict(X_3_test)\n",
    "val_mae3 = mean_absolute_error(val_predictions3, y_3_test)\n",
    "print(\"Validation MAE for Model: {}\".format(val_mae3))\n",
    "\n",
    "X_4_train, X_4_test, y_4_train, y_4_test = train_test_split(X_4, y_4, test_size=.2, random_state=1)\n",
    "val_predictions4 = model.predict(X_4)\n",
    "val_mae4 = mean_absolute_error(val_predictions4, y_4)\n",
    "print(\"Validation MAE for Model: {}\".format(val_mae4))\n",
    "\n",
    "X_5_train, X_5_test, y_5_train, y_5_test = train_test_split(X_5, y_5, test_size=.2, random_state=1)\n",
    "val_predictions5 = model.predict(X_5_test)\n",
    "val_mae5 = mean_absolute_error(val_predictions5, y_5_test)\n",
    "print(\"Validation MAE for Model: {}\".format(val_mae5))"
   ]
  },
  {
   "cell_type": "markdown",
   "id": "b9233639",
   "metadata": {},
   "source": [
    "on affiche dans un graphique les valeurs réelles et les valeurs prédites et on observe la courbe"
   ]
  },
  {
   "cell_type": "code",
   "execution_count": 30,
   "id": "fa7080ec",
   "metadata": {},
   "outputs": [
    {
     "data": {
      "image/png": "[encoded data removed]",
      "text/plain": [
       "<Figure size 432x288 with 1 Axes>"
      ]
     },
     "metadata": {},
     "output_type": "display_data"
    },
    {
     "data": {
      "image/png": "[encoded data removed]",
      "text/plain": [
       "<Figure size 432x288 with 1 Axes>"
      ]
     },
     "metadata": {},
     "output_type": "display_data"
    },
    {
     "data": {
      "image/png": "[encoded data removed]",
      "text/plain": [
       "<Figure size 432x288 with 1 Axes>"
      ]
     },
     "metadata": {},
     "output_type": "display_data"
    }
   ],
   "source": [
    "for i in range(3):\n",
    "    axe = plt.axes()\n",
    "    plt.rcParams.update({'font.size':15})\n",
    "    plt.style.use('seaborn-whitegrid')\n",
    "    plt.scatter(y_4[:, i], val_predictions4[:, i], s=1)\n",
    "    plt.title('Euler ' + str(i+1))\n",
    "    axe.set(xlabel=\"valeurs réelles\", ylabel=\"valeurs prédites\")\n",
    "    plt.show()\n",
    "# plt.scatter(X_test, y_test, label=\"Données d'évaluation\", color=\"b\")"
   ]
  },
  {
   "cell_type": "markdown",
   "id": "9436aed0",
   "metadata": {},
   "source": [
    "on affiche le nombre d'erreurs que fait notre modèle sur ces nouvelles données"
   ]
  },
  {
   "cell_type": "code",
   "execution_count": 31,
   "id": "31a8855a",
   "metadata": {},
   "outputs": [
    {
     "name": "stdout",
     "output_type": "stream",
     "text": [
      "le pourcentage d'erreur est de 0.2912, 728 / 250000\n",
      "le pourcentage d'erreur est de 0.3048, 762 / 250000\n",
      "le pourcentage d'erreur est de 0.3156, 789 / 250000\n"
     ]
    }
   ],
   "source": [
    "predictions3 = model.predict(X_3)\n",
    "message3, erreur_y3, erreur_x3, err3 = pourcentage_erreur(predictions3, y_3, X_3)\n",
    "print(message3)\n",
    "predictions4 = model.predict(X_4)\n",
    "message4, erreur_y4, erreur_x4, err4 = pourcentage_erreur(predictions4, y_4, X_4)\n",
    "print(message4)\n",
    "predictions5 = model.predict(X_5)\n",
    "message5, erreur_y5, erreur_x5, err5 = pourcentage_erreur(predictions5, y_5, X_5)\n",
    "print(message5)"
   ]
  },
  {
   "cell_type": "markdown",
   "id": "98a6308a",
   "metadata": {},
   "source": [
    "on crée un nouveau jeu de données avec les erreurs du fichier 3 et 50% aléatoire "
   ]
  },
  {
   "cell_type": "code",
   "execution_count": 41,
   "id": "17ea5f4f",
   "metadata": {},
   "outputs": [],
   "source": [
    "matrix_y3 = np.ones((1, 3), dtype=float)\n",
    "matrix_x3 = np.ones((1, 22), dtype=float)\n",
    "\n",
    "for i in range(err3):\n",
    "    nb = np.random.randint(0, X_3.shape[0] - 1)\n",
    "    matrix_y3 = np.append(matrix_y3, X_3[nb], axis=0)\n",
    "    matrix_x3 = np.append(matrix_x3, y_3[nb], axis=0)\n",
    "    \n",
    "matrix_y3 = np.delete(matrix_x3, 0, axis=0)\n",
    "matrix_x3 = np.delete(erreur_y3, 0, axis=0)\n",
    "# ==============================================\n",
    "matrix_y4 = np.ones((1, 3), dtype=float)\n",
    "matrix_x4 = np.ones((1, 22), dtype=float)\n",
    "\n",
    "for i in range(err4):\n",
    "    nb = np.random.randint(0, X_4.shape[0] - 1)\n",
    "    matrix_y4 = np.append(matrix_y4, X_4[nb], axis=0)\n",
    "    matrix_x4 = np.append(matrix_x4, y_4[nb], axis=0)\n",
    "    \n",
    "matrix_y4 = np.delete(matrix_y4, 0, axis=0)\n",
    "matrix_x4 = np.delete(matrix_x4, axis=0)\n",
    "#=============================================\n",
    "matrix_y5 = np.ones((1, 3), dtype=float)\n",
    "matrix_x5 = np.ones((1, 22), dtype=float)\n",
    "\n",
    "for i in range(err5):\n",
    "    nb = np.random.randint(0, X_5.shape[0] - 1)\n",
    "    matrix_y5 = np.append(matrix_y5, X_5[nb], axis=0)\n",
    "    matrix_x5 = np.append(matrix_x5, y_5[nb], axis=0)\n",
    "    \n",
    "matrix_y5 = np.delete(matrix_y5, 0, axis=0)\n",
    "matrix_x5 = np.delete(matrix_x5, 0, axis=0)"
   ]
  },
  {
   "cell_type": "code",
   "execution_count": 35,
   "id": "46960d3b",
   "metadata": {},
   "outputs": [
    {
     "ename": "TypeError",
     "evalue": "'NoneType' object is not subscriptable",
     "output_type": "error",
     "traceback": [
      "\u001b[1;31m---------------------------------------------------------------------------\u001b[0m",
      "\u001b[1;31mTypeError\u001b[0m                                 Traceback (most recent call last)",
      "\u001b[1;32mC:\\Users\\BASBUN~1\\AppData\\Local\\Temp/ipykernel_6908/1838692703.py\u001b[0m in \u001b[0;36m<module>\u001b[1;34m\u001b[0m\n\u001b[0;32m      1\u001b[0m \u001b[0mnp\u001b[0m\u001b[1;33m.\u001b[0m\u001b[0mrandom\u001b[0m\u001b[1;33m.\u001b[0m\u001b[0mshuffle\u001b[0m\u001b[1;33m(\u001b[0m\u001b[0mX_3\u001b[0m\u001b[1;33m)\u001b[0m\u001b[1;33m\u001b[0m\u001b[1;33m\u001b[0m\u001b[0m\n\u001b[0;32m      2\u001b[0m \u001b[0mnp\u001b[0m\u001b[1;33m.\u001b[0m\u001b[0mrandom\u001b[0m\u001b[1;33m.\u001b[0m\u001b[0mshuffle\u001b[0m\u001b[1;33m(\u001b[0m\u001b[0my_3\u001b[0m\u001b[1;33m)\u001b[0m\u001b[1;33m\u001b[0m\u001b[1;33m\u001b[0m\u001b[0m\n\u001b[1;32m----> 3\u001b[1;33m \u001b[0mdata_x3\u001b[0m \u001b[1;33m=\u001b[0m \u001b[0mrand_x3\u001b[0m\u001b[1;33m[\u001b[0m\u001b[1;33m:\u001b[0m\u001b[0merr3\u001b[0m\u001b[1;33m]\u001b[0m\u001b[1;33m\u001b[0m\u001b[1;33m\u001b[0m\u001b[0m\n\u001b[0m\u001b[0;32m      4\u001b[0m \u001b[0mdata_y3\u001b[0m \u001b[1;33m=\u001b[0m \u001b[0mrand_y3\u001b[0m\u001b[1;33m[\u001b[0m\u001b[1;33m:\u001b[0m\u001b[0merr3\u001b[0m\u001b[1;33m]\u001b[0m\u001b[1;33m\u001b[0m\u001b[1;33m\u001b[0m\u001b[0m\n\u001b[0;32m      5\u001b[0m \u001b[0mnew_x3\u001b[0m \u001b[1;33m=\u001b[0m \u001b[0mnp\u001b[0m\u001b[1;33m.\u001b[0m\u001b[0mconcatenate\u001b[0m\u001b[1;33m(\u001b[0m\u001b[1;33m(\u001b[0m\u001b[0mdata_x3\u001b[0m\u001b[1;33m,\u001b[0m \u001b[0merreur_x3\u001b[0m\u001b[1;33m)\u001b[0m\u001b[1;33m,\u001b[0m \u001b[0maxis\u001b[0m\u001b[1;33m=\u001b[0m\u001b[1;36m0\u001b[0m\u001b[1;33m)\u001b[0m\u001b[1;33m\u001b[0m\u001b[1;33m\u001b[0m\u001b[0m\n",
      "\u001b[1;31mTypeError\u001b[0m: 'NoneType' object is not subscriptable"
     ]
    }
   ],
   "source": [
    "matrix_x3 = np.random.choise(X_3)\n",
    "matrix_y3 = np.random.shuffle(y_3)\n",
    "data_x3 = rand_x3[:err3]\n",
    "data_y3 = rand_y3[:err3]\n",
    "new_x3 = np.concatenate((data_x3, erreur_x3), axis=0)\n",
    "new_y3 = np.concatenate((data_y3, erreur_y3), axis=0)"
   ]
  },
  {
   "cell_type": "code",
   "execution_count": 38,
   "id": "ba59fd5a",
   "metadata": {},
   "outputs": [
    {
     "ename": "ValueError",
     "evalue": "a must be 1-dimensional",
     "output_type": "error",
     "traceback": [
      "\u001b[1;31m---------------------------------------------------------------------------\u001b[0m",
      "\u001b[1;31mValueError\u001b[0m                                Traceback (most recent call last)",
      "\u001b[1;32mC:\\Users\\BASBUN~1\\AppData\\Local\\Temp/ipykernel_6908/2929316966.py\u001b[0m in \u001b[0;36m<module>\u001b[1;34m\u001b[0m\n\u001b[1;32m----> 1\u001b[1;33m \u001b[0mnp\u001b[0m\u001b[1;33m.\u001b[0m\u001b[0mrandom\u001b[0m\u001b[1;33m.\u001b[0m\u001b[0mchoice\u001b[0m\u001b[1;33m(\u001b[0m\u001b[0mX_3\u001b[0m\u001b[1;33m,\u001b[0m\u001b[1;36m5\u001b[0m\u001b[1;33m,\u001b[0m\u001b[1;36m5\u001b[0m\u001b[1;33m)\u001b[0m\u001b[1;33m\u001b[0m\u001b[1;33m\u001b[0m\u001b[0m\n\u001b[0m",
      "\u001b[1;32mmtrand.pyx\u001b[0m in \u001b[0;36mnumpy.random.mtrand.RandomState.choice\u001b[1;34m()\u001b[0m\n",
      "\u001b[1;31mValueError\u001b[0m: a must be 1-dimensional"
     ]
    }
   ],
   "source": [
    "np.random.choice(X_3[i],)"
   ]
  },
  {
   "cell_type": "markdown",
   "id": "f6aa1ef4",
   "metadata": {},
   "source": [
    "on crée un nouveau jeu de données avec les erreurs du fichier 4 et 50% aléatoire"
   ]
  },
  {
   "cell_type": "code",
   "execution_count": null,
   "id": "4e2bd705",
   "metadata": {},
   "outputs": [],
   "source": [
    "rand_x4 = np.random.shuffle(X_4)\n",
    "rand_y4 = np.random.shuffle(y_4)\n",
    "data_x4 = rand_x4[:err4]\n",
    "data_y4 = rand_y4[:err4]\n",
    "new_x4 = np.concatenate((data_x4, erreur_x4), axis=0)\n",
    "new_y4 = np.concatenate((data_y4, erreur_y4), axis=0)"
   ]
  },
  {
   "cell_type": "markdown",
   "id": "d94079ea",
   "metadata": {},
   "source": [
    "on crée un nouveau jeu de données avec les erreurs du fichier 5 et 50% aléatoire"
   ]
  },
  {
   "cell_type": "code",
   "execution_count": null,
   "id": "19dafa4e",
   "metadata": {},
   "outputs": [],
   "source": [
    "rand_x5 = np.random.shuffle(X_5)\n",
    "rand_y5 = np.random.shuffle(y_5)\n",
    "data_x5 = rand_x5[:err5]\n",
    "data_y5 = rand_y5[:err5]\n",
    "new_x5 = np.concatenate((data_x5, erreur_x5), axis=0)\n",
    "new_y5 = np.concatenate((data_y5, erreur_y5), axis=0)"
   ]
  },
  {
   "cell_type": "markdown",
   "id": "edef7bcb",
   "metadata": {},
   "source": [
    "on concatene les trois matrices X et y dans une seule"
   ]
  },
  {
   "cell_type": "code",
   "execution_count": null,
   "id": "b1d2821c",
   "metadata": {},
   "outputs": [],
   "source": [
    "new_x = np.concatenate((new_x3, new_x4), axis=0)\n",
    "new_y = np.concatenate((new_y3, new_y4), axis=0)\n",
    "new_X = np.concatenate((new_x, new_x5), axis=0)\n",
    "new_Y = np.concatenate((new_y, new_y5), axis=0)"
   ]
  },
  {
   "cell_type": "code",
   "execution_count": null,
   "id": "234eea08",
   "metadata": {},
   "outputs": [],
   "source": [
    "new_X.shape"
   ]
  },
  {
   "cell_type": "code",
   "execution_count": null,
   "id": "3e910a46",
   "metadata": {},
   "outputs": [],
   "source": [
    "new_Y.shape"
   ]
  },
  {
   "cell_type": "markdown",
   "id": "f454b5c0",
   "metadata": {},
   "source": [
    "on sépare nos nouvelles données composé de 50% d'erreurs et 50% aléatoire en 80 % de données d'entraîenement et 20 % données de test"
   ]
  },
  {
   "cell_type": "code",
   "execution_count": null,
   "id": "05d3f9bf",
   "metadata": {},
   "outputs": [],
   "source": [
    "X_train2, X_test2, y_train2, y_test2 = train_test_split(new_X, new_Y, test_size=0.2, random_state=1)"
   ]
  },
  {
   "cell_type": "markdown",
   "id": "cca18d0f",
   "metadata": {},
   "source": [
    "on crée un nouveau modèle avec le meme nombre de couches que le précédent"
   ]
  },
  {
   "cell_type": "code",
   "execution_count": null,
   "id": "5865590e",
   "metadata": {},
   "outputs": [],
   "source": [
    "model_error = keras.Sequential()\n",
    "\n",
    "model_error.add(Input(shape=(22,)))\n",
    "\n",
    "model_error.add(layers.Dense(256, activation=\"relu\")),\n",
    "\n",
    "model_error.add(layers.Dense(128, activation=\"relu\")),\n",
    "\n",
    "model_error.add(layers.Dense(64, activation=\"relu\")),\n",
    "\n",
    "model_error.add(layers.Dense(32, activation=\"relu\")),\n",
    "\n",
    "model_error.add(layers.Dense(3))"
   ]
  },
  {
   "cell_type": "markdown",
   "id": "1db838c9",
   "metadata": {},
   "source": [
    "on donne au modèle nos nouvelles données composées de 50% d'erreurs et 50% d'aléatoires\n",
    "on peut jouer avec le batch_size , le nombre d'epochs etc"
   ]
  },
  {
   "cell_type": "code",
   "execution_count": null,
   "id": "223e5a41",
   "metadata": {},
   "outputs": [],
   "source": [
    "model_error.compile(\n",
    "    optimizer=\"adam\", \n",
    "    loss=\"mae\", # mse\n",
    "    metrics=[tf.keras.metrics.MeanAbsoluteError()]\n",
    ")\n",
    "\n",
    "history = model_error.fit(\n",
    "    x=X_train2, \n",
    "    y=y_train2, \n",
    "    epochs=2500,\n",
    "    batch_size=1024000,\n",
    "    validation_data=(X_test2, y_test2)\n",
    ")"
   ]
  },
  {
   "cell_type": "markdown",
   "id": "6b84ec10",
   "metadata": {},
   "source": [
    "ou bien on utilise le modèle précédent ou un autres"
   ]
  },
  {
   "cell_type": "code",
   "execution_count": null,
   "id": "f6517945",
   "metadata": {},
   "outputs": [],
   "source": [
    "model_error = keras.models.load_model('hasan.h5')"
   ]
  },
  {
   "cell_type": "markdown",
   "id": "bd874ebc",
   "metadata": {},
   "source": [
    "on fait prédire à notre nouveau modèle toutes les données des trois fichiers (les modèles ne les ont jamais vu)"
   ]
  },
  {
   "cell_type": "code",
   "execution_count": null,
   "id": "3514b3de",
   "metadata": {},
   "outputs": [],
   "source": [
    "pred3 = model_error.predict(X_3)\n",
    "pred4 = model_error.predict(X_4)\n",
    "pred5 = model_error.predict(X_5)"
   ]
  },
  {
   "cell_type": "markdown",
   "id": "05ec5f74",
   "metadata": {},
   "source": [
    "on fait aussi prédire nos données composés de 50% d'erreurs et 50% aléatoires"
   ]
  },
  {
   "cell_type": "code",
   "execution_count": null,
   "id": "ba5165ed",
   "metadata": {},
   "outputs": [],
   "source": [
    "pred = model_error.predict(new_X)"
   ]
  },
  {
   "cell_type": "markdown",
   "id": "f980f986",
   "metadata": {},
   "source": [
    "on affiche trois graphique pour visualiser la qulaité du modèle sur les données 50 50"
   ]
  },
  {
   "cell_type": "code",
   "execution_count": null,
   "id": "b379e67a",
   "metadata": {},
   "outputs": [],
   "source": [
    "for i in range(3):\n",
    "    axe = plt.axes()\n",
    "    plt.rcParams.update({'font.size':15})\n",
    "    plt.style.use('seaborn-whitegrid')\n",
    "    plt.scatter(new_Y[:, i], pred[:, i], s=1)\n",
    "    plt.title('Euler ' + str(i+1))\n",
    "    axe.set(xlabel=\"valeurs réelles\", ylabel=\"valeurs prédites\")\n",
    "    plt.show()\n",
    "# plt.scatter(X_test, y_test, label=\"Données d'évaluation\", color=\"b\")"
   ]
  },
  {
   "cell_type": "markdown",
   "id": "d4199c56",
   "metadata": {},
   "source": [
    "on affiche aussi trois graphiques pour visulaiser les performances du modèles sur toutes les données d'un des fichiers importés"
   ]
  },
  {
   "cell_type": "code",
   "execution_count": null,
   "id": "9eb283d3",
   "metadata": {},
   "outputs": [],
   "source": [
    "for i in range(3):\n",
    "    axe = plt.axes()\n",
    "    plt.rcParams.update({'font.size':15})\n",
    "    plt.style.use('seaborn-whitegrid')\n",
    "    plt.scatter(X_4[:, i], pred4[:, i], s=1)\n",
    "    plt.title('Euler ' + str(i+1))\n",
    "    axe.set(xlabel=\"valeurs réelles\", ylabel=\"valeurs prédites\")\n",
    "    plt.show()\n",
    "# plt.scatter(X_test, y_test, label=\"Données d'évaluation\", color=\"b\")"
   ]
  },
  {
   "cell_type": "markdown",
   "id": "85fb9640",
   "metadata": {},
   "source": [
    "on calcule le nombre d'erreurs de 1 degré ou plus sur les données 50 50"
   ]
  },
  {
   "cell_type": "code",
   "execution_count": null,
   "id": "3c18d587",
   "metadata": {},
   "outputs": [],
   "source": [
    "msg, erry, errx, err = pourcentage_erreur(pred, new_Y, new_X)\n",
    "print(msg)"
   ]
  },
  {
   "cell_type": "markdown",
   "id": "8fe2c157",
   "metadata": {},
   "source": [
    "on calcule le nombre d'erreurs de 1 degré ou plus sur les trois fichiers de données"
   ]
  },
  {
   "cell_type": "code",
   "execution_count": null,
   "id": "200e3e65",
   "metadata": {},
   "outputs": [],
   "source": [
    "message3, erreur_y3, erreur_x3, err3 = pourcentage_erreur(pred3, y_3, X_3)\n",
    "print(message3)\n",
    "\n",
    "message4, erreur_y4, erreur_x4, err4 = pourcentage_erreur(pred4, y_4, X_4)\n",
    "print(message4)\n",
    "\n",
    "message5, erreur_y5, erreur_x5, err5 = pourcentage_erreur(pred5, y_5, X_5)\n",
    "print(message5)"
   ]
  }
 ],
 "metadata": {
  "kernelspec": {
   "display_name": "Python 3 (ipykernel)",
   "language": "python",
   "name": "python3"
  },
  "language_info": {
   "codemirror_mode": {
    "name": "ipython",
    "version": 3
   },
   "file_extension": ".py",
   "mimetype": "text/x-python",
   "name": "python",
   "nbconvert_exporter": "python",
   "pygments_lexer": "ipython3",
   "version": "3.9.7"
  }
 },
 "nbformat": 4,
 "nbformat_minor": 5
}
