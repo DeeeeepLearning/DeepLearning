{
 "cells": [
  {
   "cell_type": "code",
   "execution_count": 100,
   "id": "ba947328",
   "metadata": {},
   "outputs": [],
   "source": [
    "import tensorflow as tf\n",
    "import numpy as np\n",
    "import matplotlib.pyplot as plt\n",
    "%matplotlib inline\n",
    "from tensorflow import keras\n",
    "import random\n",
    "from tensorflow.keras import layers, Input\n",
    "from sklearn.metrics import mean_absolute_error"
   ]
  },
  {
   "cell_type": "code",
   "execution_count": 101,
   "id": "1ad27b4a",
   "metadata": {},
   "outputs": [],
   "source": [
    "def nb_to_array(nb):\n",
    "    list = []\n",
    "    for i in range(nb):\n",
    "        list.append(0)\n",
    "    list.append(1)\n",
    "    for i in range(10-nb-1):\n",
    "        list.append(0)\n",
    "    return list"
   ]
  },
  {
   "cell_type": "code",
   "execution_count": 102,
   "id": "280c48c0",
   "metadata": {},
   "outputs": [],
   "source": [
    "(X_train, y_train), (X_test, y_test) = keras.datasets.mnist.load_data()"
   ]
  },
  {
   "cell_type": "raw",
   "id": "e6faa4b8",
   "metadata": {},
   "source": [
    "X_train = np.expand_dims(X_train, axis=-1)\n",
    "X_train = tf.image.resize(X_train, [7, 7])"
   ]
  },
  {
   "cell_type": "raw",
   "id": "0eb2489b",
   "metadata": {},
   "source": [
    "X_test = np.expand_dims(X_test, axis=-1)\n",
    "X_test = tf.image.resize(X_test, [7, 7])"
   ]
  },
  {
   "cell_type": "raw",
   "id": "aedb23f9",
   "metadata": {},
   "source": [
    "X_train = X_train.numpy()\n",
    "X_test = X_test.numpy()"
   ]
  },
  {
   "cell_type": "raw",
   "id": "547c69b1",
   "metadata": {},
   "source": [
    "X_train = X_train.reshape(X_train.shape[0], X_train.shape[1], X_train.shape[2])"
   ]
  },
  {
   "cell_type": "code",
   "execution_count": 103,
   "id": "1bf92552",
   "metadata": {},
   "outputs": [
    {
     "data": {
      "text/plain": [
       "(60000, 28, 28)"
      ]
     },
     "execution_count": 103,
     "metadata": {},
     "output_type": "execute_result"
    }
   ],
   "source": [
    "X_train.shape"
   ]
  },
  {
   "cell_type": "code",
   "execution_count": 104,
   "id": "73c978e5",
   "metadata": {},
   "outputs": [],
   "source": [
    "X_train[X_train >= 128] = 255\n",
    "X_test[X_test >= 128] = 255"
   ]
  },
  {
   "cell_type": "code",
   "execution_count": 105,
   "id": "915d48f4",
   "metadata": {},
   "outputs": [],
   "source": [
    "X_train[X_train < 128] = 0\n",
    "X_test[X_test < 128] = 0"
   ]
  },
  {
   "cell_type": "code",
   "execution_count": 106,
   "id": "c85267a3",
   "metadata": {},
   "outputs": [
    {
     "data": {
      "text/plain": [
       "(60000, 28, 28)"
      ]
     },
     "execution_count": 106,
     "metadata": {},
     "output_type": "execute_result"
    }
   ],
   "source": [
    "X_train.shape"
   ]
  },
  {
   "cell_type": "code",
   "execution_count": 107,
   "id": "d1b8e285",
   "metadata": {},
   "outputs": [
    {
     "data": {
      "text/plain": [
       "array([5, 0, 4, 1, 9], dtype=uint8)"
      ]
     },
     "execution_count": 107,
     "metadata": {},
     "output_type": "execute_result"
    }
   ],
   "source": [
    "y_train[:5]"
   ]
  },
  {
   "cell_type": "code",
   "execution_count": 108,
   "id": "fe4d7d1b",
   "metadata": {},
   "outputs": [],
   "source": [
    "y_train_m = np.array([nb_to_array(5)])\n",
    "for i in range(y_train.shape[0]):\n",
    "    y_train_m = np.append(y_train_m, [nb_to_array(y_train[i])], axis=0)\n",
    "y_train_m = np.delete(y_train_m, 0, axis=0)"
   ]
  },
  {
   "cell_type": "code",
   "execution_count": 109,
   "id": "9aa50c4d",
   "metadata": {},
   "outputs": [],
   "source": [
    "y_test_m = np.array([nb_to_array(5)])\n",
    "for i in range(y_test.shape[0]):\n",
    "    y_test_m = np.append(y_test_m, [nb_to_array(y_test[i])], axis=0)\n",
    "y_test_m = np.delete(y_test_m, 0, axis=0)"
   ]
  },
  {
   "cell_type": "code",
   "execution_count": 110,
   "id": "811ba80a",
   "metadata": {},
   "outputs": [
    {
     "data": {
      "text/plain": [
       "array([[0, 0, 0, 0, 0, 1, 0, 0, 0, 0],\n",
       "       [1, 0, 0, 0, 0, 0, 0, 0, 0, 0],\n",
       "       [0, 0, 0, 0, 1, 0, 0, 0, 0, 0],\n",
       "       [0, 1, 0, 0, 0, 0, 0, 0, 0, 0],\n",
       "       [0, 0, 0, 0, 0, 0, 0, 0, 0, 1]])"
      ]
     },
     "execution_count": 110,
     "metadata": {},
     "output_type": "execute_result"
    }
   ],
   "source": [
    "y_train_m[:5]"
   ]
  },
  {
   "cell_type": "code",
   "execution_count": 111,
   "id": "0298262a",
   "metadata": {},
   "outputs": [
    {
     "data": {
      "text/plain": [
       "array([[0, 0, 0, 0, 0, 0, 0, 1, 0, 0],\n",
       "       [0, 0, 1, 0, 0, 0, 0, 0, 0, 0],\n",
       "       [0, 1, 0, 0, 0, 0, 0, 0, 0, 0],\n",
       "       [1, 0, 0, 0, 0, 0, 0, 0, 0, 0],\n",
       "       [0, 0, 0, 0, 1, 0, 0, 0, 0, 0]])"
      ]
     },
     "execution_count": 111,
     "metadata": {},
     "output_type": "execute_result"
    }
   ],
   "source": [
    "y_test_m[:5]"
   ]
  },
  {
   "cell_type": "code",
   "execution_count": 112,
   "id": "c618a03d",
   "metadata": {},
   "outputs": [
    {
     "name": "stdout",
     "output_type": "stream",
     "text": [
      "(60000,)\n",
      "(60000, 10)\n"
     ]
    }
   ],
   "source": [
    "print(y_train.shape)\n",
    "print(y_train_m.shape)"
   ]
  },
  {
   "cell_type": "code",
   "execution_count": 113,
   "id": "5fe87cc8",
   "metadata": {},
   "outputs": [
    {
     "name": "stdout",
     "output_type": "stream",
     "text": [
      "Avant normalisation : Minimum = 0, Maximum = 255\n",
      "Après normalisation : Minimum = 0.0, Maximum = 1.0\n"
     ]
    }
   ],
   "source": [
    "print('Avant normalisation : Minimum = '+str(X_train.min())+', Maximum = '+str(X_train.max()))\n",
    "\n",
    "X_max = X_train.max()\n",
    "X_train  = X_train / X_max\n",
    "X_test = X_test / X_max\n",
    "\n",
    "print('Après normalisation : Minimum = '+str(X_train.min())+', Maximum = '+str(X_train.max()))"
   ]
  },
  {
   "cell_type": "code",
   "execution_count": 114,
   "id": "a6f3c28d",
   "metadata": {},
   "outputs": [
    {
     "data": {
      "image/png": "[encoded data removed]",
      "text/plain": [
       "<Figure size 648x648 with 10 Axes>"
      ]
     },
     "metadata": {
      "needs_background": "light"
     },
     "output_type": "display_data"
    }
   ],
   "source": [
    "plt.rcParams['figure.figsize'] = (9,9) # Make the figures a bit bigger\n",
    "\n",
    "for i in range(10):\n",
    "    plt.subplot(5,5,i+1)\n",
    "    plt.imshow(X_train[i], cmap='gray', interpolation='none')\n",
    "    plt.title(\"Class {}\".format(y_train[i]))\n",
    "    \n",
    "plt.tight_layout()"
   ]
  },
  {
   "cell_type": "code",
   "execution_count": 115,
   "id": "3fe6662e",
   "metadata": {},
   "outputs": [
    {
     "data": {
      "image/png": "[encoded data removed]",
      "text/plain": [
       "<Figure size 720x720 with 10 Axes>"
      ]
     },
     "metadata": {
      "needs_background": "light"
     },
     "output_type": "display_data"
    }
   ],
   "source": [
    "plt.rcParams['figure.figsize'] = (10,10) # Make the figures a bit bigger\n",
    "\n",
    "for i in range(10):\n",
    "    \n",
    "    plt.subplot(4,4,i+1)\n",
    "    plt.rcParams['figure.figsize'] = (10,10) # Make the figures a bit bigger\n",
    "    plt.imshow(X_test[i], cmap='gray', interpolation='none')\n",
    "    plt.title(\"Class {}\".format(y_test[i]))\n",
    "    \n",
    "plt.tight_layout()"
   ]
  },
  {
   "cell_type": "code",
   "execution_count": 116,
   "id": "d875446c",
   "metadata": {},
   "outputs": [],
   "source": [
    "X_train = X_train.reshape(X_train.shape[0], X_train.shape[1]*X_train.shape[2])\n",
    "X_test = X_test.reshape(X_test.shape[0], X_test.shape[1]*X_test.shape[2])"
   ]
  },
  {
   "cell_type": "code",
   "execution_count": 117,
   "id": "b9dfea05",
   "metadata": {},
   "outputs": [],
   "source": [
    "X_train = X_train.astype('uint8')"
   ]
  },
  {
   "cell_type": "code",
   "execution_count": 118,
   "id": "c5e08dd7",
   "metadata": {},
   "outputs": [],
   "source": [
    "y_test = y_test.reshape(y_test.shape[0], 1)"
   ]
  },
  {
   "cell_type": "code",
   "execution_count": 119,
   "id": "ab2f8bc6",
   "metadata": {},
   "outputs": [],
   "source": [
    "y_train = y_train.reshape(y_train.shape[0], 1)"
   ]
  },
  {
   "cell_type": "code",
   "execution_count": 135,
   "id": "7e44adff",
   "metadata": {},
   "outputs": [
    {
     "name": "stdout",
     "output_type": "stream",
     "text": [
      "(60000, 784)\n",
      "(10000, 784)\n",
      "(60000, 1)\n",
      "(10000, 1)\n",
      "=============\n",
      "(60000, 10)\n",
      "(10000, 10)\n"
     ]
    }
   ],
   "source": [
    "print(X_train.shape)\n",
    "print(X_test.shape)\n",
    "print(y_train.shape)\n",
    "print(y_test.shape)\n",
    "print(\"=============\")\n",
    "print(y_train_m.shape)\n",
    "print(y_test_m.shape)"
   ]
  },
  {
   "cell_type": "code",
   "execution_count": 136,
   "id": "da366cb2",
   "metadata": {},
   "outputs": [],
   "source": [
    "model = keras.Sequential()\n",
    "\n",
    "model.add(Input(shape=(784,)))\n",
    "\n",
    "model.add(layers.Dense(256, activation=\"relu\")),\n",
    "\n",
    "model.add(layers.Dense(128, activation=\"relu\")),\n",
    "\n",
    "model.add(layers.Dense(64, activation=\"relu\")),\n",
    "\n",
    "model.add(layers.Dense(1))"
   ]
  },
  {
   "cell_type": "code",
   "execution_count": 137,
   "id": "c9553aff",
   "metadata": {},
   "outputs": [],
   "source": [
    "model.compile(\n",
    "    optimizer='adam',\n",
    "    loss=\"mae\",\n",
    "    metrics=[tf.keras.metrics.MeanAbsoluteError()]\n",
    ")"
   ]
  },
  {
   "cell_type": "code",
   "execution_count": 138,
   "id": "0e3cbe9c",
   "metadata": {},
   "outputs": [],
   "source": [
    "my_callbacks = [\n",
    "    tf.keras.callbacks.EarlyStopping(patience=20, verbose=1),\n",
    "    tf.keras.callbacks.ReduceLROnPlateau(factor=0.1, patience=10, min_lr=0.00001, verbose=1),\n",
    "    tf.keras.callbacks.ModelCheckpoint('model-mnist.h5', verbose=1, save_best_only=True, save_weights_only=True)\n",
    "]   "
   ]
  },
  {
   "cell_type": "code",
   "execution_count": 139,
   "id": "1237f072",
   "metadata": {},
   "outputs": [
    {
     "name": "stdout",
     "output_type": "stream",
     "text": [
      "Epoch 1/10000\n",
      "1850/1875 [============================>.] - ETA: 0s - loss: 0.7329 - mean_absolute_error: 0.7329\n",
      "Epoch 00001: val_loss improved from inf to 0.45873, saving model to model-mnist.h5\n",
      "1875/1875 [==============================] - 2s 1ms/step - loss: 0.7297 - mean_absolute_error: 0.7297 - val_loss: 0.4587 - val_mean_absolute_error: 0.4587\n",
      "Epoch 2/10000\n",
      "1856/1875 [============================>.] - ETA: 0s - loss: 0.3530 - mean_absolute_error: 0.3530\n",
      "Epoch 00002: val_loss improved from 0.45873 to 0.28331, saving model to model-mnist.h5\n",
      "1875/1875 [==============================] - 2s 961us/step - loss: 0.3525 - mean_absolute_error: 0.3525 - val_loss: 0.2833 - val_mean_absolute_error: 0.2833\n",
      "Epoch 3/10000\n",
      "1868/1875 [============================>.] - ETA: 0s - loss: 0.2281 - mean_absolute_error: 0.2281\n",
      "Epoch 00003: val_loss improved from 0.28331 to 0.23240, saving model to model-mnist.h5\n",
      "1875/1875 [==============================] - 2s 992us/step - loss: 0.2278 - mean_absolute_error: 0.2278 - val_loss: 0.2324 - val_mean_absolute_error: 0.2324\n",
      "Epoch 4/10000\n",
      "1861/1875 [============================>.] - ETA: 0s - loss: 0.1761 - mean_absolute_error: 0.1761\n",
      "Epoch 00004: val_loss improved from 0.23240 to 0.18825, saving model to model-mnist.h5\n",
      "1875/1875 [==============================] - 2s 1ms/step - loss: 0.1757 - mean_absolute_error: 0.1757 - val_loss: 0.1883 - val_mean_absolute_error: 0.1883\n",
      "Epoch 5/10000\n",
      "1874/1875 [============================>.] - ETA: 0s - loss: 0.1446 - mean_absolute_error: 0.1446\n",
      "Epoch 00005: val_loss improved from 0.18825 to 0.18504, saving model to model-mnist.h5\n",
      "1875/1875 [==============================] - 2s 1ms/step - loss: 0.1446 - mean_absolute_error: 0.1446 - val_loss: 0.1850 - val_mean_absolute_error: 0.1850\n",
      "Epoch 6/10000\n",
      "1873/1875 [============================>.] - ETA: 0s - loss: 0.1247 - mean_absolute_error: 0.1247\n",
      "Epoch 00006: val_loss improved from 0.18504 to 0.17148, saving model to model-mnist.h5\n",
      "1875/1875 [==============================] - 2s 1ms/step - loss: 0.1247 - mean_absolute_error: 0.1247 - val_loss: 0.1715 - val_mean_absolute_error: 0.1715\n",
      "Epoch 7/10000\n",
      "1843/1875 [============================>.] - ETA: 0s - loss: 0.1115 - mean_absolute_error: 0.1115\n",
      "Epoch 00007: val_loss improved from 0.17148 to 0.16264, saving model to model-mnist.h5\n",
      "1875/1875 [==============================] - 2s 1ms/step - loss: 0.1113 - mean_absolute_error: 0.1113 - val_loss: 0.1626 - val_mean_absolute_error: 0.1626\n",
      "Epoch 8/10000\n",
      "1875/1875 [==============================] - ETA: 0s - loss: 0.0991 - mean_absolute_error: 0.0991\n",
      "Epoch 00008: val_loss improved from 0.16264 to 0.16139, saving model to model-mnist.h5\n",
      "1875/1875 [==============================] - 2s 1ms/step - loss: 0.0991 - mean_absolute_error: 0.0991 - val_loss: 0.1614 - val_mean_absolute_error: 0.1614\n",
      "Epoch 9/10000\n",
      "1863/1875 [============================>.] - ETA: 0s - loss: 0.0935 - mean_absolute_error: 0.0935\n",
      "Epoch 00009: val_loss did not improve from 0.16139\n",
      "1875/1875 [==============================] - 2s 1ms/step - loss: 0.0935 - mean_absolute_error: 0.0935 - val_loss: 0.1754 - val_mean_absolute_error: 0.1754\n",
      "Epoch 10/10000\n",
      "1867/1875 [============================>.] - ETA: 0s - loss: 0.0838 - mean_absolute_error: 0.0838\n",
      "Epoch 00010: val_loss improved from 0.16139 to 0.15559, saving model to model-mnist.h5\n",
      "1875/1875 [==============================] - 2s 1ms/step - loss: 0.0839 - mean_absolute_error: 0.0839 - val_loss: 0.1556 - val_mean_absolute_error: 0.1556\n",
      "Epoch 11/10000\n",
      "1857/1875 [============================>.] - ETA: 0s - loss: 0.0790 - mean_absolute_error: 0.0790\n",
      "Epoch 00011: val_loss improved from 0.15559 to 0.14673, saving model to model-mnist.h5\n",
      "1875/1875 [==============================] - 2s 1ms/step - loss: 0.0791 - mean_absolute_error: 0.0791 - val_loss: 0.1467 - val_mean_absolute_error: 0.1467\n",
      "Epoch 12/10000\n",
      "1832/1875 [============================>.] - ETA: 0s - loss: 0.0749 - mean_absolute_error: 0.0749\n",
      "Epoch 00012: val_loss improved from 0.14673 to 0.14167, saving model to model-mnist.h5\n",
      "1875/1875 [==============================] - 2s 1ms/step - loss: 0.0750 - mean_absolute_error: 0.0750 - val_loss: 0.1417 - val_mean_absolute_error: 0.1417\n",
      "Epoch 13/10000\n",
      "1868/1875 [============================>.] - ETA: 0s - loss: 0.0718 - mean_absolute_error: 0.0718\n",
      "Epoch 00013: val_loss did not improve from 0.14167\n",
      "1875/1875 [==============================] - 2s 1ms/step - loss: 0.0719 - mean_absolute_error: 0.0719 - val_loss: 0.1487 - val_mean_absolute_error: 0.1487\n",
      "Epoch 14/10000\n",
      "1868/1875 [============================>.] - ETA: 0s - loss: 0.0657 - mean_absolute_error: 0.0657\n",
      "Epoch 00014: val_loss did not improve from 0.14167\n",
      "1875/1875 [==============================] - 2s 1ms/step - loss: 0.0657 - mean_absolute_error: 0.0657 - val_loss: 0.1751 - val_mean_absolute_error: 0.1751\n",
      "Epoch 15/10000\n",
      "1860/1875 [============================>.] - ETA: 0s - loss: 0.0631 - mean_absolute_error: 0.0631\n",
      "Epoch 00015: val_loss did not improve from 0.14167\n",
      "1875/1875 [==============================] - 2s 1ms/step - loss: 0.0633 - mean_absolute_error: 0.0633 - val_loss: 0.1475 - val_mean_absolute_error: 0.1475\n",
      "Epoch 16/10000\n",
      "1830/1875 [============================>.] - ETA: 0s - loss: 0.0605 - mean_absolute_error: 0.0605\n",
      "Epoch 00016: val_loss improved from 0.14167 to 0.13687, saving model to model-mnist.h5\n",
      "1875/1875 [==============================] - 2s 1ms/step - loss: 0.0607 - mean_absolute_error: 0.0607 - val_loss: 0.1369 - val_mean_absolute_error: 0.1369\n",
      "Epoch 17/10000\n",
      "1851/1875 [============================>.] - ETA: 0s - loss: 0.0560 - mean_absolute_error: 0.0560\n",
      "Epoch 00017: val_loss did not improve from 0.13687\n",
      "1875/1875 [==============================] - 2s 1ms/step - loss: 0.0560 - mean_absolute_error: 0.0560 - val_loss: 0.1534 - val_mean_absolute_error: 0.1534\n",
      "Epoch 18/10000\n",
      "1856/1875 [============================>.] - ETA: 0s - loss: 0.0553 - mean_absolute_error: 0.0553\n",
      "Epoch 00018: val_loss improved from 0.13687 to 0.13536, saving model to model-mnist.h5\n",
      "1875/1875 [==============================] - 2s 1ms/step - loss: 0.0553 - mean_absolute_error: 0.0553 - val_loss: 0.1354 - val_mean_absolute_error: 0.1354\n",
      "Epoch 19/10000\n",
      "1830/1875 [============================>.] - ETA: 0s - loss: 0.0533 - mean_absolute_error: 0.0533\n",
      "Epoch 00019: val_loss improved from 0.13536 to 0.13478, saving model to model-mnist.h5\n",
      "1875/1875 [==============================] - 2s 1ms/step - loss: 0.0534 - mean_absolute_error: 0.0534 - val_loss: 0.1348 - val_mean_absolute_error: 0.1348\n",
      "Epoch 20/10000\n",
      "1837/1875 [============================>.] - ETA: 0s - loss: 0.0520 - mean_absolute_error: 0.0520\n",
      "Epoch 00020: val_loss improved from 0.13478 to 0.12882, saving model to model-mnist.h5\n",
      "1875/1875 [==============================] - 2s 1ms/step - loss: 0.0519 - mean_absolute_error: 0.0519 - val_loss: 0.1288 - val_mean_absolute_error: 0.1288\n",
      "Epoch 21/10000\n",
      "1821/1875 [============================>.] - ETA: 0s - loss: 0.0486 - mean_absolute_error: 0.0486\n",
      "Epoch 00021: val_loss did not improve from 0.12882\n",
      "1875/1875 [==============================] - 2s 1ms/step - loss: 0.0486 - mean_absolute_error: 0.0486 - val_loss: 0.1322 - val_mean_absolute_error: 0.1322\n",
      "Epoch 22/10000\n",
      "1844/1875 [============================>.] - ETA: 0s - loss: 0.0462 - mean_absolute_error: 0.0462\n",
      "Epoch 00022: val_loss did not improve from 0.12882\n",
      "1875/1875 [==============================] - 3s 1ms/step - loss: 0.0462 - mean_absolute_error: 0.0462 - val_loss: 0.1487 - val_mean_absolute_error: 0.1487\n",
      "Epoch 23/10000\n",
      "1872/1875 [============================>.] - ETA: 0s - loss: 0.0446 - mean_absolute_error: 0.0446\n",
      "Epoch 00023: val_loss did not improve from 0.12882\n",
      "1875/1875 [==============================] - 3s 2ms/step - loss: 0.0448 - mean_absolute_error: 0.0448 - val_loss: 0.1359 - val_mean_absolute_error: 0.1359\n",
      "Epoch 24/10000\n",
      "1838/1875 [============================>.] - ETA: 0s - loss: 0.0453 - mean_absolute_error: 0.0453\n",
      "Epoch 00024: val_loss did not improve from 0.12882\n",
      "1875/1875 [==============================] - 2s 1ms/step - loss: 0.0452 - mean_absolute_error: 0.0452 - val_loss: 0.1364 - val_mean_absolute_error: 0.1364\n",
      "Epoch 25/10000\n"
     ]
    },
    {
     "name": "stdout",
     "output_type": "stream",
     "text": [
      "1833/1875 [============================>.] - ETA: 0s - loss: 0.0440 - mean_absolute_error: 0.0440\n",
      "Epoch 00025: val_loss did not improve from 0.12882\n",
      "1875/1875 [==============================] - 2s 1ms/step - loss: 0.0438 - mean_absolute_error: 0.0438 - val_loss: 0.1383 - val_mean_absolute_error: 0.1383\n",
      "Epoch 26/10000\n",
      "1853/1875 [============================>.] - ETA: 0s - loss: 0.0449 - mean_absolute_error: 0.0449\n",
      "Epoch 00026: val_loss did not improve from 0.12882\n",
      "1875/1875 [==============================] - 2s 1ms/step - loss: 0.0449 - mean_absolute_error: 0.0449 - val_loss: 0.1367 - val_mean_absolute_error: 0.1367\n",
      "Epoch 27/10000\n",
      "1865/1875 [============================>.] - ETA: 0s - loss: 0.0417 - mean_absolute_error: 0.0417\n",
      "Epoch 00027: val_loss did not improve from 0.12882\n",
      "1875/1875 [==============================] - 2s 1ms/step - loss: 0.0417 - mean_absolute_error: 0.0417 - val_loss: 0.1310 - val_mean_absolute_error: 0.1310\n",
      "Epoch 28/10000\n",
      "1827/1875 [============================>.] - ETA: 0s - loss: 0.0418 - mean_absolute_error: 0.0418\n",
      "Epoch 00028: val_loss did not improve from 0.12882\n",
      "1875/1875 [==============================] - 2s 1ms/step - loss: 0.0418 - mean_absolute_error: 0.0418 - val_loss: 0.1384 - val_mean_absolute_error: 0.1384\n",
      "Epoch 29/10000\n",
      "1837/1875 [============================>.] - ETA: 0s - loss: 0.0407 - mean_absolute_error: 0.0407\n",
      "Epoch 00029: val_loss did not improve from 0.12882\n",
      "1875/1875 [==============================] - 2s 1ms/step - loss: 0.0409 - mean_absolute_error: 0.0409 - val_loss: 0.1348 - val_mean_absolute_error: 0.1348\n",
      "Epoch 30/10000\n",
      "1842/1875 [============================>.] - ETA: 0s - loss: 0.0396 - mean_absolute_error: 0.0396\n",
      "Epoch 00030: ReduceLROnPlateau reducing learning rate to 0.00010000000474974513.\n",
      "\n",
      "Epoch 00030: val_loss did not improve from 0.12882\n",
      "1875/1875 [==============================] - 2s 1ms/step - loss: 0.0397 - mean_absolute_error: 0.0397 - val_loss: 0.1333 - val_mean_absolute_error: 0.1333\n",
      "Epoch 31/10000\n",
      "1843/1875 [============================>.] - ETA: 0s - loss: 0.0215 - mean_absolute_error: 0.0215\n",
      "Epoch 00031: val_loss improved from 0.12882 to 0.12495, saving model to model-mnist.h5\n",
      "1875/1875 [==============================] - 2s 1ms/step - loss: 0.0215 - mean_absolute_error: 0.0215 - val_loss: 0.1249 - val_mean_absolute_error: 0.1249\n",
      "Epoch 32/10000\n",
      "1845/1875 [============================>.] - ETA: 0s - loss: 0.0185 - mean_absolute_error: 0.0185\n",
      "Epoch 00032: val_loss improved from 0.12495 to 0.12084, saving model to model-mnist.h5\n",
      "1875/1875 [==============================] - 2s 1ms/step - loss: 0.0184 - mean_absolute_error: 0.0184 - val_loss: 0.1208 - val_mean_absolute_error: 0.1208\n",
      "Epoch 33/10000\n",
      "1827/1875 [============================>.] - ETA: 0s - loss: 0.0169 - mean_absolute_error: 0.0169\n",
      "Epoch 00033: val_loss did not improve from 0.12084\n",
      "1875/1875 [==============================] - 2s 1ms/step - loss: 0.0172 - mean_absolute_error: 0.0172 - val_loss: 0.1214 - val_mean_absolute_error: 0.1214\n",
      "Epoch 34/10000\n",
      "1843/1875 [============================>.] - ETA: 0s - loss: 0.0166 - mean_absolute_error: 0.0166\n",
      "Epoch 00034: val_loss did not improve from 0.12084\n",
      "1875/1875 [==============================] - 2s 1ms/step - loss: 0.0166 - mean_absolute_error: 0.0166 - val_loss: 0.1221 - val_mean_absolute_error: 0.1221\n",
      "Epoch 35/10000\n",
      "1862/1875 [============================>.] - ETA: 0s - loss: 0.0160 - mean_absolute_error: 0.0160\n",
      "Epoch 00035: val_loss improved from 0.12084 to 0.11948, saving model to model-mnist.h5\n",
      "1875/1875 [==============================] - 2s 1ms/step - loss: 0.0161 - mean_absolute_error: 0.0161 - val_loss: 0.1195 - val_mean_absolute_error: 0.1195\n",
      "Epoch 36/10000\n",
      "1868/1875 [============================>.] - ETA: 0s - loss: 0.0156 - mean_absolute_error: 0.0156\n",
      "Epoch 00036: val_loss improved from 0.11948 to 0.11790, saving model to model-mnist.h5\n",
      "1875/1875 [==============================] - 2s 1ms/step - loss: 0.0157 - mean_absolute_error: 0.0157 - val_loss: 0.1179 - val_mean_absolute_error: 0.1179\n",
      "Epoch 37/10000\n",
      "1872/1875 [============================>.] - ETA: 0s - loss: 0.0155 - mean_absolute_error: 0.0155\n",
      "Epoch 00037: val_loss did not improve from 0.11790\n",
      "1875/1875 [==============================] - 2s 1ms/step - loss: 0.0155 - mean_absolute_error: 0.0155 - val_loss: 0.1186 - val_mean_absolute_error: 0.1186\n",
      "Epoch 38/10000\n",
      "1872/1875 [============================>.] - ETA: 0s - loss: 0.0154 - mean_absolute_error: 0.0154\n",
      "Epoch 00038: val_loss did not improve from 0.11790\n",
      "1875/1875 [==============================] - 3s 1ms/step - loss: 0.0154 - mean_absolute_error: 0.0154 - val_loss: 0.1194 - val_mean_absolute_error: 0.1194\n",
      "Epoch 39/10000\n",
      "1861/1875 [============================>.] - ETA: 0s - loss: 0.0154 - mean_absolute_error: 0.0154\n",
      "Epoch 00039: val_loss did not improve from 0.11790\n",
      "1875/1875 [==============================] - 2s 1ms/step - loss: 0.0153 - mean_absolute_error: 0.0153 - val_loss: 0.1198 - val_mean_absolute_error: 0.1198\n",
      "Epoch 40/10000\n",
      "1852/1875 [============================>.] - ETA: 0s - loss: 0.0151 - mean_absolute_error: 0.0151\n",
      "Epoch 00040: val_loss did not improve from 0.11790\n",
      "1875/1875 [==============================] - 2s 1ms/step - loss: 0.0150 - mean_absolute_error: 0.0150 - val_loss: 0.1188 - val_mean_absolute_error: 0.1188\n",
      "Epoch 41/10000\n",
      "1864/1875 [============================>.] - ETA: 0s - loss: 0.0150 - mean_absolute_error: 0.0150\n",
      "Epoch 00041: val_loss did not improve from 0.11790\n",
      "1875/1875 [==============================] - 2s 1ms/step - loss: 0.0150 - mean_absolute_error: 0.0150 - val_loss: 0.1191 - val_mean_absolute_error: 0.1191\n",
      "Epoch 42/10000\n",
      "1855/1875 [============================>.] - ETA: 0s - loss: 0.0150 - mean_absolute_error: 0.0150\n",
      "Epoch 00042: val_loss did not improve from 0.11790\n",
      "1875/1875 [==============================] - 2s 1ms/step - loss: 0.0149 - mean_absolute_error: 0.0149 - val_loss: 0.1186 - val_mean_absolute_error: 0.1186\n",
      "Epoch 43/10000\n",
      "1872/1875 [============================>.] - ETA: 0s - loss: 0.0148 - mean_absolute_error: 0.0148\n",
      "Epoch 00043: val_loss did not improve from 0.11790\n",
      "1875/1875 [==============================] - 3s 1ms/step - loss: 0.0149 - mean_absolute_error: 0.0149 - val_loss: 0.1196 - val_mean_absolute_error: 0.1196\n",
      "Epoch 44/10000\n",
      "1850/1875 [============================>.] - ETA: 0s - loss: 0.0145 - mean_absolute_error: 0.0145\n",
      "Epoch 00044: val_loss improved from 0.11790 to 0.11719, saving model to model-mnist.h5\n",
      "1875/1875 [==============================] - 2s 1ms/step - loss: 0.0145 - mean_absolute_error: 0.0145 - val_loss: 0.1172 - val_mean_absolute_error: 0.1172\n",
      "Epoch 45/10000\n",
      "1850/1875 [============================>.] - ETA: 0s - loss: 0.0147 - mean_absolute_error: 0.0147\n",
      "Epoch 00045: val_loss did not improve from 0.11719\n",
      "1875/1875 [==============================] - 2s 1ms/step - loss: 0.0146 - mean_absolute_error: 0.0146 - val_loss: 0.1194 - val_mean_absolute_error: 0.1194\n",
      "Epoch 46/10000\n",
      "1849/1875 [============================>.] - ETA: 0s - loss: 0.0146 - mean_absolute_error: 0.0146\n",
      "Epoch 00046: val_loss did not improve from 0.11719\n",
      "1875/1875 [==============================] - 2s 1ms/step - loss: 0.0145 - mean_absolute_error: 0.0145 - val_loss: 0.1200 - val_mean_absolute_error: 0.1200\n",
      "Epoch 47/10000\n",
      "1844/1875 [============================>.] - ETA: 0s - loss: 0.0144 - mean_absolute_error: 0.0144\n",
      "Epoch 00047: val_loss did not improve from 0.11719\n",
      "1875/1875 [==============================] - 2s 1ms/step - loss: 0.0143 - mean_absolute_error: 0.0143 - val_loss: 0.1193 - val_mean_absolute_error: 0.1193\n",
      "Epoch 48/10000\n",
      "1832/1875 [============================>.] - ETA: 0s - loss: 0.0142 - mean_absolute_error: 0.0142\n",
      "Epoch 00048: val_loss improved from 0.11719 to 0.11705, saving model to model-mnist.h5\n",
      "1875/1875 [==============================] - 2s 1ms/step - loss: 0.0143 - mean_absolute_error: 0.0143 - val_loss: 0.1171 - val_mean_absolute_error: 0.1171\n",
      "Epoch 49/10000\n",
      "1870/1875 [============================>.] - ETA: 0s - loss: 0.0142 - mean_absolute_error: 0.0142\n",
      "Epoch 00049: val_loss did not improve from 0.11705\n",
      "1875/1875 [==============================] - 2s 1ms/step - loss: 0.0142 - mean_absolute_error: 0.0142 - val_loss: 0.1201 - val_mean_absolute_error: 0.1201\n"
     ]
    },
    {
     "name": "stdout",
     "output_type": "stream",
     "text": [
      "Epoch 50/10000\n",
      "1839/1875 [============================>.] - ETA: 0s - loss: 0.0144 - mean_absolute_error: 0.0144\n",
      "Epoch 00050: val_loss did not improve from 0.11705\n",
      "1875/1875 [==============================] - 2s 1ms/step - loss: 0.0142 - mean_absolute_error: 0.0142 - val_loss: 0.1184 - val_mean_absolute_error: 0.1184\n",
      "Epoch 51/10000\n",
      "1861/1875 [============================>.] - ETA: 0s - loss: 0.0141 - mean_absolute_error: 0.0141\n",
      "Epoch 00051: val_loss did not improve from 0.11705\n",
      "1875/1875 [==============================] - 2s 1ms/step - loss: 0.0141 - mean_absolute_error: 0.0141 - val_loss: 0.1183 - val_mean_absolute_error: 0.1183\n",
      "Epoch 52/10000\n",
      "1830/1875 [============================>.] - ETA: 0s - loss: 0.0141 - mean_absolute_error: 0.0141\n",
      "Epoch 00052: val_loss did not improve from 0.11705\n",
      "1875/1875 [==============================] - 2s 1ms/step - loss: 0.0141 - mean_absolute_error: 0.0141 - val_loss: 0.1175 - val_mean_absolute_error: 0.1175\n",
      "Epoch 53/10000\n",
      "1852/1875 [============================>.] - ETA: 0s - loss: 0.0139 - mean_absolute_error: 0.0139\n",
      "Epoch 00053: val_loss did not improve from 0.11705\n",
      "1875/1875 [==============================] - 2s 1ms/step - loss: 0.0140 - mean_absolute_error: 0.0140 - val_loss: 0.1186 - val_mean_absolute_error: 0.1186\n",
      "Epoch 54/10000\n",
      "1853/1875 [============================>.] - ETA: 0s - loss: 0.0140 - mean_absolute_error: 0.0140\n",
      "Epoch 00054: val_loss did not improve from 0.11705\n",
      "1875/1875 [==============================] - 2s 1ms/step - loss: 0.0140 - mean_absolute_error: 0.0140 - val_loss: 0.1189 - val_mean_absolute_error: 0.1189\n",
      "Epoch 55/10000\n",
      "1870/1875 [============================>.] - ETA: 0s - loss: 0.0139 - mean_absolute_error: 0.0139\n",
      "Epoch 00055: val_loss did not improve from 0.11705\n",
      "1875/1875 [==============================] - 2s 1ms/step - loss: 0.0140 - mean_absolute_error: 0.0140 - val_loss: 0.1205 - val_mean_absolute_error: 0.1205\n",
      "Epoch 56/10000\n",
      "1831/1875 [============================>.] - ETA: 0s - loss: 0.0138 - mean_absolute_error: 0.0138\n",
      "Epoch 00056: val_loss did not improve from 0.11705\n",
      "1875/1875 [==============================] - 2s 1ms/step - loss: 0.0140 - mean_absolute_error: 0.0140 - val_loss: 0.1185 - val_mean_absolute_error: 0.1185\n",
      "Epoch 57/10000\n",
      "1868/1875 [============================>.] - ETA: 0s - loss: 0.0140 - mean_absolute_error: 0.0140\n",
      "Epoch 00057: val_loss did not improve from 0.11705\n",
      "1875/1875 [==============================] - 2s 1ms/step - loss: 0.0140 - mean_absolute_error: 0.0140 - val_loss: 0.1203 - val_mean_absolute_error: 0.1203\n",
      "Epoch 58/10000\n",
      "1851/1875 [============================>.] - ETA: 0s - loss: 0.0137 - mean_absolute_error: 0.0137\n",
      "Epoch 00058: ReduceLROnPlateau reducing learning rate to 1.0000000474974514e-05.\n",
      "\n",
      "Epoch 00058: val_loss did not improve from 0.11705\n",
      "1875/1875 [==============================] - 2s 1ms/step - loss: 0.0137 - mean_absolute_error: 0.0137 - val_loss: 0.1194 - val_mean_absolute_error: 0.1194\n",
      "Epoch 59/10000\n",
      "1850/1875 [============================>.] - ETA: 0s - loss: 0.0127 - mean_absolute_error: 0.0127\n",
      "Epoch 00059: val_loss did not improve from 0.11705\n",
      "1875/1875 [==============================] - 3s 1ms/step - loss: 0.0127 - mean_absolute_error: 0.0127 - val_loss: 0.1177 - val_mean_absolute_error: 0.1177\n",
      "Epoch 60/10000\n",
      "1865/1875 [============================>.] - ETA: 0s - loss: 0.0126 - mean_absolute_error: 0.0126\n",
      "Epoch 00060: val_loss did not improve from 0.11705\n",
      "1875/1875 [==============================] - 2s 1ms/step - loss: 0.0125 - mean_absolute_error: 0.0125 - val_loss: 0.1173 - val_mean_absolute_error: 0.1173\n",
      "Epoch 61/10000\n",
      "1834/1875 [============================>.] - ETA: 0s - loss: 0.0124 - mean_absolute_error: 0.0124- ETA: 1s - loss: 0.01\n",
      "Epoch 00061: val_loss did not improve from 0.11705\n",
      "1875/1875 [==============================] - 2s 1ms/step - loss: 0.0124 - mean_absolute_error: 0.0124 - val_loss: 0.1171 - val_mean_absolute_error: 0.1171\n",
      "Epoch 62/10000\n",
      "1866/1875 [============================>.] - ETA: 0s - loss: 0.0123 - mean_absolute_error: 0.0123\n",
      "Epoch 00062: val_loss improved from 0.11705 to 0.11693, saving model to model-mnist.h5\n",
      "1875/1875 [==============================] - 2s 1ms/step - loss: 0.0123 - mean_absolute_error: 0.0123 - val_loss: 0.1169 - val_mean_absolute_error: 0.1169\n",
      "Epoch 63/10000\n",
      "1832/1875 [============================>.] - ETA: 0s - loss: 0.0124 - mean_absolute_error: 0.0124\n",
      "Epoch 00063: val_loss did not improve from 0.11693\n",
      "1875/1875 [==============================] - 2s 1ms/step - loss: 0.0122 - mean_absolute_error: 0.0122 - val_loss: 0.1172 - val_mean_absolute_error: 0.1172\n",
      "Epoch 64/10000\n",
      "1845/1875 [============================>.] - ETA: 0s - loss: 0.0121 - mean_absolute_error: 0.0121\n",
      "Epoch 00064: val_loss improved from 0.11693 to 0.11687, saving model to model-mnist.h5\n",
      "1875/1875 [==============================] - 2s 1ms/step - loss: 0.0122 - mean_absolute_error: 0.0122 - val_loss: 0.1169 - val_mean_absolute_error: 0.1169\n",
      "Epoch 65/10000\n",
      "1835/1875 [============================>.] - ETA: 0s - loss: 0.0122 - mean_absolute_error: 0.0122\n",
      "Epoch 00065: val_loss did not improve from 0.11687\n",
      "1875/1875 [==============================] - 2s 1ms/step - loss: 0.0121 - mean_absolute_error: 0.0121 - val_loss: 0.1172 - val_mean_absolute_error: 0.1172\n",
      "Epoch 66/10000\n",
      "1872/1875 [============================>.] - ETA: 0s - loss: 0.0121 - mean_absolute_error: 0.0121\n",
      "Epoch 00066: val_loss improved from 0.11687 to 0.11685, saving model to model-mnist.h5\n",
      "1875/1875 [==============================] - 2s 1ms/step - loss: 0.0121 - mean_absolute_error: 0.0121 - val_loss: 0.1169 - val_mean_absolute_error: 0.1169\n",
      "Epoch 67/10000\n",
      "1857/1875 [============================>.] - ETA: 0s - loss: 0.0121 - mean_absolute_error: 0.0121\n",
      "Epoch 00067: val_loss did not improve from 0.11685\n",
      "1875/1875 [==============================] - 2s 1ms/step - loss: 0.0121 - mean_absolute_error: 0.0121 - val_loss: 0.1170 - val_mean_absolute_error: 0.1170\n",
      "Epoch 68/10000\n",
      "1858/1875 [============================>.] - ETA: 0s - loss: 0.0119 - mean_absolute_error: 0.0119\n",
      "Epoch 00068: val_loss did not improve from 0.11685\n",
      "1875/1875 [==============================] - 2s 1ms/step - loss: 0.0120 - mean_absolute_error: 0.0120 - val_loss: 0.1170 - val_mean_absolute_error: 0.1170\n",
      "Epoch 69/10000\n",
      "1814/1875 [============================>.] - ETA: 0s - loss: 0.0119 - mean_absolute_error: 0.0119\n",
      "Epoch 00069: val_loss did not improve from 0.11685\n",
      "1875/1875 [==============================] - 2s 1ms/step - loss: 0.0120 - mean_absolute_error: 0.0120 - val_loss: 0.1173 - val_mean_absolute_error: 0.1173\n",
      "Epoch 70/10000\n",
      "1861/1875 [============================>.] - ETA: 0s - loss: 0.0119 - mean_absolute_error: 0.0119\n",
      "Epoch 00070: val_loss did not improve from 0.11685\n",
      "1875/1875 [==============================] - 2s 1ms/step - loss: 0.0120 - mean_absolute_error: 0.0120 - val_loss: 0.1174 - val_mean_absolute_error: 0.1174\n",
      "Epoch 71/10000\n",
      "1858/1875 [============================>.] - ETA: 0s - loss: 0.0119 - mean_absolute_error: 0.0119\n",
      "Epoch 00071: val_loss did not improve from 0.11685\n",
      "1875/1875 [==============================] - 2s 1ms/step - loss: 0.0120 - mean_absolute_error: 0.0120 - val_loss: 0.1173 - val_mean_absolute_error: 0.1173\n",
      "Epoch 72/10000\n",
      "1872/1875 [============================>.] - ETA: 0s - loss: 0.0120 - mean_absolute_error: 0.0120\n",
      "Epoch 00072: ReduceLROnPlateau reducing learning rate to 1e-05.\n",
      "\n",
      "Epoch 00072: val_loss did not improve from 0.11685\n",
      "1875/1875 [==============================] - 2s 1ms/step - loss: 0.0119 - mean_absolute_error: 0.0119 - val_loss: 0.1177 - val_mean_absolute_error: 0.1177\n",
      "Epoch 73/10000\n",
      "1861/1875 [============================>.] - ETA: 0s - loss: 0.0120 - mean_absolute_error: 0.0120\n",
      "Epoch 00073: val_loss did not improve from 0.11685\n",
      "1875/1875 [==============================] - 3s 1ms/step - loss: 0.0119 - mean_absolute_error: 0.0119 - val_loss: 0.1176 - val_mean_absolute_error: 0.1176\n",
      "Epoch 74/10000\n",
      "1842/1875 [============================>.] - ETA: 0s - loss: 0.0120 - mean_absolute_error: 0.0120\n",
      "Epoch 00074: val_loss did not improve from 0.11685\n",
      "1875/1875 [==============================] - 2s 1ms/step - loss: 0.0119 - mean_absolute_error: 0.0119 - val_loss: 0.1177 - val_mean_absolute_error: 0.1177\n"
     ]
    },
    {
     "name": "stdout",
     "output_type": "stream",
     "text": [
      "Epoch 75/10000\n",
      "1858/1875 [============================>.] - ETA: 0s - loss: 0.0117 - mean_absolute_error: 0.0117\n",
      "Epoch 00075: val_loss did not improve from 0.11685\n",
      "1875/1875 [==============================] - 2s 1ms/step - loss: 0.0119 - mean_absolute_error: 0.0119 - val_loss: 0.1173 - val_mean_absolute_error: 0.1173\n",
      "Epoch 76/10000\n",
      "1859/1875 [============================>.] - ETA: 0s - loss: 0.0118 - mean_absolute_error: 0.0118\n",
      "Epoch 00076: val_loss did not improve from 0.11685\n",
      "1875/1875 [==============================] - 2s 1ms/step - loss: 0.0119 - mean_absolute_error: 0.0119 - val_loss: 0.1176 - val_mean_absolute_error: 0.1176\n",
      "Epoch 77/10000\n",
      "1862/1875 [============================>.] - ETA: 0s - loss: 0.0120 - mean_absolute_error: 0.0120\n",
      "Epoch 00077: val_loss did not improve from 0.11685\n",
      "1875/1875 [==============================] - 2s 1ms/step - loss: 0.0119 - mean_absolute_error: 0.0119 - val_loss: 0.1176 - val_mean_absolute_error: 0.1176\n",
      "Epoch 78/10000\n",
      "1874/1875 [============================>.] - ETA: 0s - loss: 0.0119 - mean_absolute_error: 0.0119\n",
      "Epoch 00078: val_loss did not improve from 0.11685\n",
      "1875/1875 [==============================] - 2s 1ms/step - loss: 0.0119 - mean_absolute_error: 0.0119 - val_loss: 0.1180 - val_mean_absolute_error: 0.1180\n",
      "Epoch 79/10000\n",
      "1851/1875 [============================>.] - ETA: 0s - loss: 0.0119 - mean_absolute_error: 0.0119\n",
      "Epoch 00079: val_loss did not improve from 0.11685\n",
      "1875/1875 [==============================] - 2s 1ms/step - loss: 0.0119 - mean_absolute_error: 0.0119 - val_loss: 0.1177 - val_mean_absolute_error: 0.1177\n",
      "Epoch 80/10000\n",
      "1871/1875 [============================>.] - ETA: 0s - loss: 0.0119 - mean_absolute_error: 0.0119\n",
      "Epoch 00080: val_loss did not improve from 0.11685\n",
      "1875/1875 [==============================] - 3s 1ms/step - loss: 0.0119 - mean_absolute_error: 0.0119 - val_loss: 0.1179 - val_mean_absolute_error: 0.1179\n",
      "Epoch 81/10000\n",
      "1870/1875 [============================>.] - ETA: 0s - loss: 0.0119 - mean_absolute_error: 0.0119\n",
      "Epoch 00081: val_loss did not improve from 0.11685\n",
      "1875/1875 [==============================] - 2s 1ms/step - loss: 0.0119 - mean_absolute_error: 0.0119 - val_loss: 0.1177 - val_mean_absolute_error: 0.1177\n",
      "Epoch 82/10000\n",
      "1874/1875 [============================>.] - ETA: 0s - loss: 0.0119 - mean_absolute_error: 0.0119\n",
      "Epoch 00082: val_loss did not improve from 0.11685\n",
      "1875/1875 [==============================] - 2s 1ms/step - loss: 0.0119 - mean_absolute_error: 0.0119 - val_loss: 0.1179 - val_mean_absolute_error: 0.1179\n",
      "Epoch 83/10000\n",
      "1858/1875 [============================>.] - ETA: 0s - loss: 0.0120 - mean_absolute_error: 0.0120\n",
      "Epoch 00083: val_loss did not improve from 0.11685\n",
      "1875/1875 [==============================] - 2s 1ms/step - loss: 0.0119 - mean_absolute_error: 0.0119 - val_loss: 0.1178 - val_mean_absolute_error: 0.1178\n",
      "Epoch 84/10000\n",
      "1847/1875 [============================>.] - ETA: 0s - loss: 0.0118 - mean_absolute_error: 0.0118\n",
      "Epoch 00084: val_loss did not improve from 0.11685\n",
      "1875/1875 [==============================] - 2s 1ms/step - loss: 0.0119 - mean_absolute_error: 0.0119 - val_loss: 0.1178 - val_mean_absolute_error: 0.1178\n",
      "Epoch 85/10000\n",
      "1824/1875 [============================>.] - ETA: 0s - loss: 0.0119 - mean_absolute_error: 0.0119\n",
      "Epoch 00085: val_loss did not improve from 0.11685\n",
      "1875/1875 [==============================] - 2s 1ms/step - loss: 0.0119 - mean_absolute_error: 0.0119 - val_loss: 0.1180 - val_mean_absolute_error: 0.1180\n",
      "Epoch 86/10000\n",
      "1830/1875 [============================>.] - ETA: 0s - loss: 0.0120 - mean_absolute_error: 0.0120\n",
      "Epoch 00086: val_loss did not improve from 0.11685\n",
      "1875/1875 [==============================] - 2s 1ms/step - loss: 0.0119 - mean_absolute_error: 0.0119 - val_loss: 0.1180 - val_mean_absolute_error: 0.1180\n",
      "Epoch 00086: early stopping\n"
     ]
    }
   ],
   "source": [
    "history = model.fit(\n",
    "    x=X_train, \n",
    "    y=y_train,\n",
    "    batch_size=32,\n",
    "    epochs=10000,\n",
    "    validation_data=(X_test, y_test),\n",
    "    callbacks=my_callbacks,\n",
    "    verbose=1\n",
    ")"
   ]
  },
  {
   "cell_type": "code",
   "execution_count": 140,
   "id": "fe554d6f",
   "metadata": {},
   "outputs": [
    {
     "name": "stdout",
     "output_type": "stream",
     "text": [
      "Validation MAE for Model: 0.11800917983055115\n"
     ]
    }
   ],
   "source": [
    "y_pred = model.predict(X_test)\n",
    "val_mae = mean_absolute_error(y_pred, y_test)\n",
    "print(\"Validation MAE for Model: {}\".format(val_mae))"
   ]
  },
  {
   "cell_type": "raw",
   "id": "0216303a",
   "metadata": {},
   "source": [
    "model = keras.models.load_model('model-mnist.h5')"
   ]
  },
  {
   "cell_type": "code",
   "execution_count": 141,
   "id": "1b7c74f3",
   "metadata": {},
   "outputs": [],
   "source": [
    "y_pred = model.predict(X_test)"
   ]
  },
  {
   "cell_type": "code",
   "execution_count": 142,
   "id": "e4ee7c22",
   "metadata": {},
   "outputs": [
    {
     "data": {
      "text/plain": [
       "(60000, 784)"
      ]
     },
     "execution_count": 142,
     "metadata": {},
     "output_type": "execute_result"
    }
   ],
   "source": [
    "X_train.shape"
   ]
  },
  {
   "cell_type": "code",
   "execution_count": 143,
   "id": "57ef7e12",
   "metadata": {},
   "outputs": [
    {
     "data": {
      "text/plain": [
       "(10000, 784)"
      ]
     },
     "execution_count": 143,
     "metadata": {},
     "output_type": "execute_result"
    }
   ],
   "source": [
    "X_test.shape"
   ]
  },
  {
   "cell_type": "code",
   "execution_count": 145,
   "id": "852f1d60",
   "metadata": {},
   "outputs": [],
   "source": [
    "for i in range(y_pred.shape[0]):\n",
    "    y_pred[i, 0] = round(y_pred[i, 0])"
   ]
  },
  {
   "cell_type": "raw",
   "id": "f4bd9734",
   "metadata": {},
   "source": [
    "y_pred = y_pred.astype('uint8')"
   ]
  },
  {
   "cell_type": "code",
   "execution_count": 147,
   "id": "be935873",
   "metadata": {},
   "outputs": [
    {
     "data": {
      "text/plain": [
       "array([[7.],\n",
       "       [2.],\n",
       "       [1.],\n",
       "       [0.],\n",
       "       [4.],\n",
       "       [1.],\n",
       "       [4.],\n",
       "       [9.],\n",
       "       [6.],\n",
       "       [9.]], dtype=float32)"
      ]
     },
     "execution_count": 147,
     "metadata": {},
     "output_type": "execute_result"
    }
   ],
   "source": [
    "y_pred[:10]"
   ]
  },
  {
   "cell_type": "code",
   "execution_count": 149,
   "id": "20d06b95",
   "metadata": {},
   "outputs": [
    {
     "data": {
      "text/plain": [
       "array([[7],\n",
       "       [2],\n",
       "       [1],\n",
       "       [0],\n",
       "       [4],\n",
       "       [1],\n",
       "       [4],\n",
       "       [9],\n",
       "       [5],\n",
       "       [9]], dtype=uint8)"
      ]
     },
     "execution_count": 149,
     "metadata": {},
     "output_type": "execute_result"
    }
   ],
   "source": [
    "y_test[0:10]"
   ]
  },
  {
   "cell_type": "code",
   "execution_count": 150,
   "id": "aac7555c",
   "metadata": {},
   "outputs": [
    {
     "name": "stdout",
     "output_type": "stream",
     "text": [
      "pourcentage erreur = 4.3 , 430/10000\n"
     ]
    }
   ],
   "source": [
    "nb_erreur = 0\n",
    "tab = []\n",
    "for i in range(y_pred.shape[0]):\n",
    "    if y_pred[i] != y_test[i]:\n",
    "        nb_erreur += 1\n",
    "        tab.append(i)\n",
    "print(\"pourcentage erreur = \"+str(nb_erreur/y_pred.shape[0]*100)+\" , \"+str(nb_erreur)+\"/\"+str(y_pred.shape[0]))"
   ]
  },
  {
   "cell_type": "code",
   "execution_count": 112,
   "id": "f415efe2",
   "metadata": {},
   "outputs": [
    {
     "ename": "TypeError",
     "evalue": "Invalid shape (49,) for image data",
     "output_type": "error",
     "traceback": [
      "\u001b[1;31m---------------------------------------------------------------------------\u001b[0m",
      "\u001b[1;31mTypeError\u001b[0m                                 Traceback (most recent call last)",
      "Input \u001b[1;32mIn [112]\u001b[0m, in \u001b[0;36m<cell line: 2>\u001b[1;34m()\u001b[0m\n\u001b[0;32m      3\u001b[0m     plt\u001b[38;5;241m.\u001b[39msubplot(\u001b[38;5;241m5\u001b[39m,\u001b[38;5;241m5\u001b[39m,i\u001b[38;5;241m+\u001b[39m\u001b[38;5;241m1\u001b[39m)\n\u001b[0;32m      4\u001b[0m     plt\u001b[38;5;241m.\u001b[39mrcParams[\u001b[38;5;124m'\u001b[39m\u001b[38;5;124mfigure.figsize\u001b[39m\u001b[38;5;124m'\u001b[39m] \u001b[38;5;241m=\u001b[39m (\u001b[38;5;241m10\u001b[39m,\u001b[38;5;241m10\u001b[39m) \u001b[38;5;66;03m# Make the figures a bit bigger\u001b[39;00m\n\u001b[1;32m----> 5\u001b[0m     \u001b[43mplt\u001b[49m\u001b[38;5;241;43m.\u001b[39;49m\u001b[43mimshow\u001b[49m\u001b[43m(\u001b[49m\u001b[43mX_test\u001b[49m\u001b[43m[\u001b[49m\u001b[43mtab\u001b[49m\u001b[43m[\u001b[49m\u001b[43mi\u001b[49m\u001b[43m]\u001b[49m\u001b[43m]\u001b[49m\u001b[43m,\u001b[49m\u001b[43m \u001b[49m\u001b[43mcmap\u001b[49m\u001b[38;5;241;43m=\u001b[39;49m\u001b[38;5;124;43m'\u001b[39;49m\u001b[38;5;124;43mgray\u001b[39;49m\u001b[38;5;124;43m'\u001b[39;49m\u001b[43m,\u001b[49m\u001b[43m \u001b[49m\u001b[43minterpolation\u001b[49m\u001b[38;5;241;43m=\u001b[39;49m\u001b[38;5;124;43m'\u001b[39;49m\u001b[38;5;124;43mnone\u001b[39;49m\u001b[38;5;124;43m'\u001b[39;49m\u001b[43m)\u001b[49m\n\u001b[0;32m      6\u001b[0m     plt\u001b[38;5;241m.\u001b[39mtitle(\u001b[38;5;124m\"\u001b[39m\u001b[38;5;124mClass \u001b[39m\u001b[38;5;132;01m{}\u001b[39;00m\u001b[38;5;124m\"\u001b[39m\u001b[38;5;241m.\u001b[39mformat(y_test[tab[i]]))\n\u001b[0;32m      8\u001b[0m plt\u001b[38;5;241m.\u001b[39mtight_layout()\n",
      "File \u001b[1;32m~\\.conda\\envs\\tf-gpu-cuda8\\lib\\site-packages\\matplotlib\\_api\\deprecation.py:459\u001b[0m, in \u001b[0;36mmake_keyword_only.<locals>.wrapper\u001b[1;34m(*args, **kwargs)\u001b[0m\n\u001b[0;32m    453\u001b[0m \u001b[38;5;28;01mif\u001b[39;00m \u001b[38;5;28mlen\u001b[39m(args) \u001b[38;5;241m>\u001b[39m name_idx:\n\u001b[0;32m    454\u001b[0m     warn_deprecated(\n\u001b[0;32m    455\u001b[0m         since, message\u001b[38;5;241m=\u001b[39m\u001b[38;5;124m\"\u001b[39m\u001b[38;5;124mPassing the \u001b[39m\u001b[38;5;132;01m%(name)s\u001b[39;00m\u001b[38;5;124m \u001b[39m\u001b[38;5;132;01m%(obj_type)s\u001b[39;00m\u001b[38;5;124m \u001b[39m\u001b[38;5;124m\"\u001b[39m\n\u001b[0;32m    456\u001b[0m         \u001b[38;5;124m\"\u001b[39m\u001b[38;5;124mpositionally is deprecated since Matplotlib \u001b[39m\u001b[38;5;132;01m%(since)s\u001b[39;00m\u001b[38;5;124m; the \u001b[39m\u001b[38;5;124m\"\u001b[39m\n\u001b[0;32m    457\u001b[0m         \u001b[38;5;124m\"\u001b[39m\u001b[38;5;124mparameter will become keyword-only \u001b[39m\u001b[38;5;132;01m%(removal)s\u001b[39;00m\u001b[38;5;124m.\u001b[39m\u001b[38;5;124m\"\u001b[39m,\n\u001b[0;32m    458\u001b[0m         name\u001b[38;5;241m=\u001b[39mname, obj_type\u001b[38;5;241m=\u001b[39m\u001b[38;5;124mf\u001b[39m\u001b[38;5;124m\"\u001b[39m\u001b[38;5;124mparameter of \u001b[39m\u001b[38;5;132;01m{\u001b[39;00mfunc\u001b[38;5;241m.\u001b[39m\u001b[38;5;18m__name__\u001b[39m\u001b[38;5;132;01m}\u001b[39;00m\u001b[38;5;124m()\u001b[39m\u001b[38;5;124m\"\u001b[39m)\n\u001b[1;32m--> 459\u001b[0m \u001b[38;5;28;01mreturn\u001b[39;00m \u001b[43mfunc\u001b[49m\u001b[43m(\u001b[49m\u001b[38;5;241;43m*\u001b[39;49m\u001b[43margs\u001b[49m\u001b[43m,\u001b[49m\u001b[43m \u001b[49m\u001b[38;5;241;43m*\u001b[39;49m\u001b[38;5;241;43m*\u001b[39;49m\u001b[43mkwargs\u001b[49m\u001b[43m)\u001b[49m\n",
      "File \u001b[1;32m~\\.conda\\envs\\tf-gpu-cuda8\\lib\\site-packages\\matplotlib\\pyplot.py:2652\u001b[0m, in \u001b[0;36mimshow\u001b[1;34m(X, cmap, norm, aspect, interpolation, alpha, vmin, vmax, origin, extent, interpolation_stage, filternorm, filterrad, resample, url, data, **kwargs)\u001b[0m\n\u001b[0;32m   2646\u001b[0m \u001b[38;5;129m@_copy_docstring_and_deprecators\u001b[39m(Axes\u001b[38;5;241m.\u001b[39mimshow)\n\u001b[0;32m   2647\u001b[0m \u001b[38;5;28;01mdef\u001b[39;00m \u001b[38;5;21mimshow\u001b[39m(\n\u001b[0;32m   2648\u001b[0m         X, cmap\u001b[38;5;241m=\u001b[39m\u001b[38;5;28;01mNone\u001b[39;00m, norm\u001b[38;5;241m=\u001b[39m\u001b[38;5;28;01mNone\u001b[39;00m, aspect\u001b[38;5;241m=\u001b[39m\u001b[38;5;28;01mNone\u001b[39;00m, interpolation\u001b[38;5;241m=\u001b[39m\u001b[38;5;28;01mNone\u001b[39;00m,\n\u001b[0;32m   2649\u001b[0m         alpha\u001b[38;5;241m=\u001b[39m\u001b[38;5;28;01mNone\u001b[39;00m, vmin\u001b[38;5;241m=\u001b[39m\u001b[38;5;28;01mNone\u001b[39;00m, vmax\u001b[38;5;241m=\u001b[39m\u001b[38;5;28;01mNone\u001b[39;00m, origin\u001b[38;5;241m=\u001b[39m\u001b[38;5;28;01mNone\u001b[39;00m, extent\u001b[38;5;241m=\u001b[39m\u001b[38;5;28;01mNone\u001b[39;00m, \u001b[38;5;241m*\u001b[39m,\n\u001b[0;32m   2650\u001b[0m         interpolation_stage\u001b[38;5;241m=\u001b[39m\u001b[38;5;28;01mNone\u001b[39;00m, filternorm\u001b[38;5;241m=\u001b[39m\u001b[38;5;28;01mTrue\u001b[39;00m, filterrad\u001b[38;5;241m=\u001b[39m\u001b[38;5;241m4.0\u001b[39m,\n\u001b[0;32m   2651\u001b[0m         resample\u001b[38;5;241m=\u001b[39m\u001b[38;5;28;01mNone\u001b[39;00m, url\u001b[38;5;241m=\u001b[39m\u001b[38;5;28;01mNone\u001b[39;00m, data\u001b[38;5;241m=\u001b[39m\u001b[38;5;28;01mNone\u001b[39;00m, \u001b[38;5;241m*\u001b[39m\u001b[38;5;241m*\u001b[39mkwargs):\n\u001b[1;32m-> 2652\u001b[0m     __ret \u001b[38;5;241m=\u001b[39m \u001b[43mgca\u001b[49m\u001b[43m(\u001b[49m\u001b[43m)\u001b[49m\u001b[38;5;241;43m.\u001b[39;49m\u001b[43mimshow\u001b[49m\u001b[43m(\u001b[49m\n\u001b[0;32m   2653\u001b[0m \u001b[43m        \u001b[49m\u001b[43mX\u001b[49m\u001b[43m,\u001b[49m\u001b[43m \u001b[49m\u001b[43mcmap\u001b[49m\u001b[38;5;241;43m=\u001b[39;49m\u001b[43mcmap\u001b[49m\u001b[43m,\u001b[49m\u001b[43m \u001b[49m\u001b[43mnorm\u001b[49m\u001b[38;5;241;43m=\u001b[39;49m\u001b[43mnorm\u001b[49m\u001b[43m,\u001b[49m\u001b[43m \u001b[49m\u001b[43maspect\u001b[49m\u001b[38;5;241;43m=\u001b[39;49m\u001b[43maspect\u001b[49m\u001b[43m,\u001b[49m\n\u001b[0;32m   2654\u001b[0m \u001b[43m        \u001b[49m\u001b[43minterpolation\u001b[49m\u001b[38;5;241;43m=\u001b[39;49m\u001b[43minterpolation\u001b[49m\u001b[43m,\u001b[49m\u001b[43m \u001b[49m\u001b[43malpha\u001b[49m\u001b[38;5;241;43m=\u001b[39;49m\u001b[43malpha\u001b[49m\u001b[43m,\u001b[49m\u001b[43m \u001b[49m\u001b[43mvmin\u001b[49m\u001b[38;5;241;43m=\u001b[39;49m\u001b[43mvmin\u001b[49m\u001b[43m,\u001b[49m\n\u001b[0;32m   2655\u001b[0m \u001b[43m        \u001b[49m\u001b[43mvmax\u001b[49m\u001b[38;5;241;43m=\u001b[39;49m\u001b[43mvmax\u001b[49m\u001b[43m,\u001b[49m\u001b[43m \u001b[49m\u001b[43morigin\u001b[49m\u001b[38;5;241;43m=\u001b[39;49m\u001b[43morigin\u001b[49m\u001b[43m,\u001b[49m\u001b[43m \u001b[49m\u001b[43mextent\u001b[49m\u001b[38;5;241;43m=\u001b[39;49m\u001b[43mextent\u001b[49m\u001b[43m,\u001b[49m\n\u001b[0;32m   2656\u001b[0m \u001b[43m        \u001b[49m\u001b[43minterpolation_stage\u001b[49m\u001b[38;5;241;43m=\u001b[39;49m\u001b[43minterpolation_stage\u001b[49m\u001b[43m,\u001b[49m\n\u001b[0;32m   2657\u001b[0m \u001b[43m        \u001b[49m\u001b[43mfilternorm\u001b[49m\u001b[38;5;241;43m=\u001b[39;49m\u001b[43mfilternorm\u001b[49m\u001b[43m,\u001b[49m\u001b[43m \u001b[49m\u001b[43mfilterrad\u001b[49m\u001b[38;5;241;43m=\u001b[39;49m\u001b[43mfilterrad\u001b[49m\u001b[43m,\u001b[49m\u001b[43m \u001b[49m\u001b[43mresample\u001b[49m\u001b[38;5;241;43m=\u001b[39;49m\u001b[43mresample\u001b[49m\u001b[43m,\u001b[49m\n\u001b[0;32m   2658\u001b[0m \u001b[43m        \u001b[49m\u001b[43murl\u001b[49m\u001b[38;5;241;43m=\u001b[39;49m\u001b[43murl\u001b[49m\u001b[43m,\u001b[49m\u001b[43m \u001b[49m\u001b[38;5;241;43m*\u001b[39;49m\u001b[38;5;241;43m*\u001b[39;49m\u001b[43m(\u001b[49m\u001b[43m{\u001b[49m\u001b[38;5;124;43m\"\u001b[39;49m\u001b[38;5;124;43mdata\u001b[39;49m\u001b[38;5;124;43m\"\u001b[39;49m\u001b[43m:\u001b[49m\u001b[43m \u001b[49m\u001b[43mdata\u001b[49m\u001b[43m}\u001b[49m\u001b[43m \u001b[49m\u001b[38;5;28;43;01mif\u001b[39;49;00m\u001b[43m \u001b[49m\u001b[43mdata\u001b[49m\u001b[43m \u001b[49m\u001b[38;5;129;43;01mis\u001b[39;49;00m\u001b[43m \u001b[49m\u001b[38;5;129;43;01mnot\u001b[39;49;00m\u001b[43m \u001b[49m\u001b[38;5;28;43;01mNone\u001b[39;49;00m\u001b[43m \u001b[49m\u001b[38;5;28;43;01melse\u001b[39;49;00m\u001b[43m \u001b[49m\u001b[43m{\u001b[49m\u001b[43m}\u001b[49m\u001b[43m)\u001b[49m\u001b[43m,\u001b[49m\n\u001b[0;32m   2659\u001b[0m \u001b[43m        \u001b[49m\u001b[38;5;241;43m*\u001b[39;49m\u001b[38;5;241;43m*\u001b[39;49m\u001b[43mkwargs\u001b[49m\u001b[43m)\u001b[49m\n\u001b[0;32m   2660\u001b[0m     sci(__ret)\n\u001b[0;32m   2661\u001b[0m     \u001b[38;5;28;01mreturn\u001b[39;00m __ret\n",
      "File \u001b[1;32m~\\.conda\\envs\\tf-gpu-cuda8\\lib\\site-packages\\matplotlib\\_api\\deprecation.py:459\u001b[0m, in \u001b[0;36mmake_keyword_only.<locals>.wrapper\u001b[1;34m(*args, **kwargs)\u001b[0m\n\u001b[0;32m    453\u001b[0m \u001b[38;5;28;01mif\u001b[39;00m \u001b[38;5;28mlen\u001b[39m(args) \u001b[38;5;241m>\u001b[39m name_idx:\n\u001b[0;32m    454\u001b[0m     warn_deprecated(\n\u001b[0;32m    455\u001b[0m         since, message\u001b[38;5;241m=\u001b[39m\u001b[38;5;124m\"\u001b[39m\u001b[38;5;124mPassing the \u001b[39m\u001b[38;5;132;01m%(name)s\u001b[39;00m\u001b[38;5;124m \u001b[39m\u001b[38;5;132;01m%(obj_type)s\u001b[39;00m\u001b[38;5;124m \u001b[39m\u001b[38;5;124m\"\u001b[39m\n\u001b[0;32m    456\u001b[0m         \u001b[38;5;124m\"\u001b[39m\u001b[38;5;124mpositionally is deprecated since Matplotlib \u001b[39m\u001b[38;5;132;01m%(since)s\u001b[39;00m\u001b[38;5;124m; the \u001b[39m\u001b[38;5;124m\"\u001b[39m\n\u001b[0;32m    457\u001b[0m         \u001b[38;5;124m\"\u001b[39m\u001b[38;5;124mparameter will become keyword-only \u001b[39m\u001b[38;5;132;01m%(removal)s\u001b[39;00m\u001b[38;5;124m.\u001b[39m\u001b[38;5;124m\"\u001b[39m,\n\u001b[0;32m    458\u001b[0m         name\u001b[38;5;241m=\u001b[39mname, obj_type\u001b[38;5;241m=\u001b[39m\u001b[38;5;124mf\u001b[39m\u001b[38;5;124m\"\u001b[39m\u001b[38;5;124mparameter of \u001b[39m\u001b[38;5;132;01m{\u001b[39;00mfunc\u001b[38;5;241m.\u001b[39m\u001b[38;5;18m__name__\u001b[39m\u001b[38;5;132;01m}\u001b[39;00m\u001b[38;5;124m()\u001b[39m\u001b[38;5;124m\"\u001b[39m)\n\u001b[1;32m--> 459\u001b[0m \u001b[38;5;28;01mreturn\u001b[39;00m \u001b[43mfunc\u001b[49m\u001b[43m(\u001b[49m\u001b[38;5;241;43m*\u001b[39;49m\u001b[43margs\u001b[49m\u001b[43m,\u001b[49m\u001b[43m \u001b[49m\u001b[38;5;241;43m*\u001b[39;49m\u001b[38;5;241;43m*\u001b[39;49m\u001b[43mkwargs\u001b[49m\u001b[43m)\u001b[49m\n",
      "File \u001b[1;32m~\\.conda\\envs\\tf-gpu-cuda8\\lib\\site-packages\\matplotlib\\__init__.py:1412\u001b[0m, in \u001b[0;36m_preprocess_data.<locals>.inner\u001b[1;34m(ax, data, *args, **kwargs)\u001b[0m\n\u001b[0;32m   1409\u001b[0m \u001b[38;5;129m@functools\u001b[39m\u001b[38;5;241m.\u001b[39mwraps(func)\n\u001b[0;32m   1410\u001b[0m \u001b[38;5;28;01mdef\u001b[39;00m \u001b[38;5;21minner\u001b[39m(ax, \u001b[38;5;241m*\u001b[39margs, data\u001b[38;5;241m=\u001b[39m\u001b[38;5;28;01mNone\u001b[39;00m, \u001b[38;5;241m*\u001b[39m\u001b[38;5;241m*\u001b[39mkwargs):\n\u001b[0;32m   1411\u001b[0m     \u001b[38;5;28;01mif\u001b[39;00m data \u001b[38;5;129;01mis\u001b[39;00m \u001b[38;5;28;01mNone\u001b[39;00m:\n\u001b[1;32m-> 1412\u001b[0m         \u001b[38;5;28;01mreturn\u001b[39;00m \u001b[43mfunc\u001b[49m\u001b[43m(\u001b[49m\u001b[43max\u001b[49m\u001b[43m,\u001b[49m\u001b[43m \u001b[49m\u001b[38;5;241;43m*\u001b[39;49m\u001b[38;5;28;43mmap\u001b[39;49m\u001b[43m(\u001b[49m\u001b[43msanitize_sequence\u001b[49m\u001b[43m,\u001b[49m\u001b[43m \u001b[49m\u001b[43margs\u001b[49m\u001b[43m)\u001b[49m\u001b[43m,\u001b[49m\u001b[43m \u001b[49m\u001b[38;5;241;43m*\u001b[39;49m\u001b[38;5;241;43m*\u001b[39;49m\u001b[43mkwargs\u001b[49m\u001b[43m)\u001b[49m\n\u001b[0;32m   1414\u001b[0m     bound \u001b[38;5;241m=\u001b[39m new_sig\u001b[38;5;241m.\u001b[39mbind(ax, \u001b[38;5;241m*\u001b[39margs, \u001b[38;5;241m*\u001b[39m\u001b[38;5;241m*\u001b[39mkwargs)\n\u001b[0;32m   1415\u001b[0m     auto_label \u001b[38;5;241m=\u001b[39m (bound\u001b[38;5;241m.\u001b[39marguments\u001b[38;5;241m.\u001b[39mget(label_namer)\n\u001b[0;32m   1416\u001b[0m                   \u001b[38;5;129;01mor\u001b[39;00m bound\u001b[38;5;241m.\u001b[39mkwargs\u001b[38;5;241m.\u001b[39mget(label_namer))\n",
      "File \u001b[1;32m~\\.conda\\envs\\tf-gpu-cuda8\\lib\\site-packages\\matplotlib\\axes\\_axes.py:5481\u001b[0m, in \u001b[0;36mAxes.imshow\u001b[1;34m(self, X, cmap, norm, aspect, interpolation, alpha, vmin, vmax, origin, extent, interpolation_stage, filternorm, filterrad, resample, url, **kwargs)\u001b[0m\n\u001b[0;32m   5474\u001b[0m \u001b[38;5;28mself\u001b[39m\u001b[38;5;241m.\u001b[39mset_aspect(aspect)\n\u001b[0;32m   5475\u001b[0m im \u001b[38;5;241m=\u001b[39m mimage\u001b[38;5;241m.\u001b[39mAxesImage(\u001b[38;5;28mself\u001b[39m, cmap, norm, interpolation,\n\u001b[0;32m   5476\u001b[0m                       origin, extent, filternorm\u001b[38;5;241m=\u001b[39mfilternorm,\n\u001b[0;32m   5477\u001b[0m                       filterrad\u001b[38;5;241m=\u001b[39mfilterrad, resample\u001b[38;5;241m=\u001b[39mresample,\n\u001b[0;32m   5478\u001b[0m                       interpolation_stage\u001b[38;5;241m=\u001b[39minterpolation_stage,\n\u001b[0;32m   5479\u001b[0m                       \u001b[38;5;241m*\u001b[39m\u001b[38;5;241m*\u001b[39mkwargs)\n\u001b[1;32m-> 5481\u001b[0m \u001b[43mim\u001b[49m\u001b[38;5;241;43m.\u001b[39;49m\u001b[43mset_data\u001b[49m\u001b[43m(\u001b[49m\u001b[43mX\u001b[49m\u001b[43m)\u001b[49m\n\u001b[0;32m   5482\u001b[0m im\u001b[38;5;241m.\u001b[39mset_alpha(alpha)\n\u001b[0;32m   5483\u001b[0m \u001b[38;5;28;01mif\u001b[39;00m im\u001b[38;5;241m.\u001b[39mget_clip_path() \u001b[38;5;129;01mis\u001b[39;00m \u001b[38;5;28;01mNone\u001b[39;00m:\n\u001b[0;32m   5484\u001b[0m     \u001b[38;5;66;03m# image does not already have clipping set, clip to axes patch\u001b[39;00m\n",
      "File \u001b[1;32m~\\.conda\\envs\\tf-gpu-cuda8\\lib\\site-packages\\matplotlib\\image.py:715\u001b[0m, in \u001b[0;36m_ImageBase.set_data\u001b[1;34m(self, A)\u001b[0m\n\u001b[0;32m    711\u001b[0m     \u001b[38;5;28mself\u001b[39m\u001b[38;5;241m.\u001b[39m_A \u001b[38;5;241m=\u001b[39m \u001b[38;5;28mself\u001b[39m\u001b[38;5;241m.\u001b[39m_A[:, :, \u001b[38;5;241m0\u001b[39m]\n\u001b[0;32m    713\u001b[0m \u001b[38;5;28;01mif\u001b[39;00m \u001b[38;5;129;01mnot\u001b[39;00m (\u001b[38;5;28mself\u001b[39m\u001b[38;5;241m.\u001b[39m_A\u001b[38;5;241m.\u001b[39mndim \u001b[38;5;241m==\u001b[39m \u001b[38;5;241m2\u001b[39m\n\u001b[0;32m    714\u001b[0m         \u001b[38;5;129;01mor\u001b[39;00m \u001b[38;5;28mself\u001b[39m\u001b[38;5;241m.\u001b[39m_A\u001b[38;5;241m.\u001b[39mndim \u001b[38;5;241m==\u001b[39m \u001b[38;5;241m3\u001b[39m \u001b[38;5;129;01mand\u001b[39;00m \u001b[38;5;28mself\u001b[39m\u001b[38;5;241m.\u001b[39m_A\u001b[38;5;241m.\u001b[39mshape[\u001b[38;5;241m-\u001b[39m\u001b[38;5;241m1\u001b[39m] \u001b[38;5;129;01min\u001b[39;00m [\u001b[38;5;241m3\u001b[39m, \u001b[38;5;241m4\u001b[39m]):\n\u001b[1;32m--> 715\u001b[0m     \u001b[38;5;28;01mraise\u001b[39;00m \u001b[38;5;167;01mTypeError\u001b[39;00m(\u001b[38;5;124m\"\u001b[39m\u001b[38;5;124mInvalid shape \u001b[39m\u001b[38;5;132;01m{}\u001b[39;00m\u001b[38;5;124m for image data\u001b[39m\u001b[38;5;124m\"\u001b[39m\n\u001b[0;32m    716\u001b[0m                     \u001b[38;5;241m.\u001b[39mformat(\u001b[38;5;28mself\u001b[39m\u001b[38;5;241m.\u001b[39m_A\u001b[38;5;241m.\u001b[39mshape))\n\u001b[0;32m    718\u001b[0m \u001b[38;5;28;01mif\u001b[39;00m \u001b[38;5;28mself\u001b[39m\u001b[38;5;241m.\u001b[39m_A\u001b[38;5;241m.\u001b[39mndim \u001b[38;5;241m==\u001b[39m \u001b[38;5;241m3\u001b[39m:\n\u001b[0;32m    719\u001b[0m     \u001b[38;5;66;03m# If the input data has values outside the valid range (after\u001b[39;00m\n\u001b[0;32m    720\u001b[0m     \u001b[38;5;66;03m# normalisation), we issue a warning and then clip X to the bounds\u001b[39;00m\n\u001b[0;32m    721\u001b[0m     \u001b[38;5;66;03m# - otherwise casting wraps extreme values, hiding outliers and\u001b[39;00m\n\u001b[0;32m    722\u001b[0m     \u001b[38;5;66;03m# making reliable interpretation impossible.\u001b[39;00m\n\u001b[0;32m    723\u001b[0m     high \u001b[38;5;241m=\u001b[39m \u001b[38;5;241m255\u001b[39m \u001b[38;5;28;01mif\u001b[39;00m np\u001b[38;5;241m.\u001b[39missubdtype(\u001b[38;5;28mself\u001b[39m\u001b[38;5;241m.\u001b[39m_A\u001b[38;5;241m.\u001b[39mdtype, np\u001b[38;5;241m.\u001b[39minteger) \u001b[38;5;28;01melse\u001b[39;00m \u001b[38;5;241m1\u001b[39m\n",
      "\u001b[1;31mTypeError\u001b[0m: Invalid shape (49,) for image data"
     ]
    },
    {
     "data": {
      "image/png": "[encoded data removed]",
      "text/plain": [
       "<Figure size 720x720 with 1 Axes>"
      ]
     },
     "metadata": {
      "needs_background": "light"
     },
     "output_type": "display_data"
    }
   ],
   "source": [
    "plt.rcParams['figure.figsize'] = (10,10) # Make the figures a bit bigger\n",
    "for i in range(len(tab)): \n",
    "    plt.subplot(5,5,i+1)\n",
    "    plt.rcParams['figure.figsize'] = (10,10) # Make the figures a bit bigger\n",
    "    plt.imshow(X_test[tab[i]], cmap='gray', interpolation='none')\n",
    "    plt.title(\"Class {}\".format(y_test[tab[i]]))\n",
    "    \n",
    "plt.tight_layout()"
   ]
  },
  {
   "cell_type": "code",
   "execution_count": 227,
   "id": "54572cc0",
   "metadata": {},
   "outputs": [
    {
     "data": {
      "text/plain": [
       "38"
      ]
     },
     "execution_count": 227,
     "metadata": {},
     "output_type": "execute_result"
    }
   ],
   "source": [
    "tab[1]"
   ]
  },
  {
   "cell_type": "code",
   "execution_count": 113,
   "id": "ef4330c8",
   "metadata": {},
   "outputs": [
    {
     "data": {
      "image/png": "[encoded data removed]",
      "text/plain": [
       "<Figure size 720x720 with 1 Axes>"
      ]
     },
     "metadata": {
      "needs_background": "light"
     },
     "output_type": "display_data"
    }
   ],
   "source": [
    "axe = plt.axes()\n",
    "plt.rcParams.update({'font.size':15})\n",
    "plt.style.use('seaborn-whitegrid')\n",
    "plt.scatter(y_test, y_pred)\n",
    "plt.title('Euler ' + str(i+1))\n",
    "axe.set(xlabel=\"Valeurs réelles\", ylabel=\"Valeurs prédites\")\n",
    "plt.show()"
   ]
  },
  {
   "cell_type": "code",
   "execution_count": null,
   "id": "12a1e363",
   "metadata": {},
   "outputs": [],
   "source": []
  }
 ],
 "metadata": {
  "kernelspec": {
   "display_name": "Python 3 (ipykernel)",
   "language": "python",
   "name": "python3"
  },
  "language_info": {
   "codemirror_mode": {
    "name": "ipython",
    "version": 3
   },
   "file_extension": ".py",
   "mimetype": "text/x-python",
   "name": "python",
   "nbconvert_exporter": "python",
   "pygments_lexer": "ipython3",
   "version": "3.8.13"
  }
 },
 "nbformat": 4,
 "nbformat_minor": 5
}
